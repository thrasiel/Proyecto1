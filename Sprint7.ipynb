{
 "cells": [
  {
   "cell_type": "markdown",
   "metadata": {},
   "source": [
    "# Proyecto - Análisis de videojuegos para Tienda Ice\n",
    "\n",
    "## Introducción <a class=\"anchor\" id=\"Introducción\"></a>\n"
   ]
  },
  {
   "cell_type": "markdown",
   "metadata": {},
   "source": [
    "Para este proyecto se estará realizando el análisis para la tienda Ice la cual vende videojuegos. En particular, lo que se busca determinar si un videojuego tiene éxito o no. Para aquella tarea tenemos una base de datos que contiene las ventas hasta el año 2016.\n",
    "\n",
    "Dentro de nuestra ejecución, se efectuará todo lo revisado y visto en los contenidos anteriores; manejo y preprocesamiento de datos (duplicados, ausentes, etc.) y posteriormente el proceso de ejecución del análisis (incluyendo formulación de hipótesis estadísticas)."
   ]
  },
  {
   "cell_type": "markdown",
   "metadata": {},
   "source": [
    "## Inicialización <a class=\"anchor\" id=\"Inicialización\"></a>\n",
    "\n",
    "En este apartado cargaremos todas las librerías requeridas para el proyecto."
   ]
  },
  {
   "cell_type": "code",
   "execution_count": 1,
   "metadata": {},
   "outputs": [],
   "source": [
    "import pandas as pd\n",
    "import numpy as np\n",
    "from scipy import stats as st\n",
    "from matplotlib import pyplot as plt\n",
    "import seaborn as sns"
   ]
  },
  {
   "cell_type": "markdown",
   "metadata": {},
   "source": [
    "## Carga de Datos <a class=\"anchor\" id=\"Carga-de-Datos\"></a>\n",
    "\n",
    "Acá realizaremos la carga del dataset necesario para iniciar nuestro trabajo."
   ]
  },
  {
   "cell_type": "code",
   "execution_count": 2,
   "metadata": {},
   "outputs": [],
   "source": [
    "df = pd.read_csv(\"/datasets/games.csv\")"
   ]
  },
  {
   "cell_type": "code",
   "execution_count": 3,
   "metadata": {
    "scrolled": false
   },
   "outputs": [
    {
     "name": "stdout",
     "output_type": "stream",
     "text": [
      "<class 'pandas.core.frame.DataFrame'>\n",
      "RangeIndex: 16715 entries, 0 to 16714\n",
      "Data columns (total 11 columns):\n",
      " #   Column           Non-Null Count  Dtype  \n",
      "---  ------           --------------  -----  \n",
      " 0   Name             16713 non-null  object \n",
      " 1   Platform         16715 non-null  object \n",
      " 2   Year_of_Release  16446 non-null  float64\n",
      " 3   Genre            16713 non-null  object \n",
      " 4   NA_sales         16715 non-null  float64\n",
      " 5   EU_sales         16715 non-null  float64\n",
      " 6   JP_sales         16715 non-null  float64\n",
      " 7   Other_sales      16715 non-null  float64\n",
      " 8   Critic_Score     8137 non-null   float64\n",
      " 9   User_Score       10014 non-null  object \n",
      " 10  Rating           9949 non-null   object \n",
      "dtypes: float64(6), object(5)\n",
      "memory usage: 1.4+ MB\n"
     ]
    },
    {
     "data": {
      "text/html": [
       "<div>\n",
       "<style scoped>\n",
       "    .dataframe tbody tr th:only-of-type {\n",
       "        vertical-align: middle;\n",
       "    }\n",
       "\n",
       "    .dataframe tbody tr th {\n",
       "        vertical-align: top;\n",
       "    }\n",
       "\n",
       "    .dataframe thead th {\n",
       "        text-align: right;\n",
       "    }\n",
       "</style>\n",
       "<table border=\"1\" class=\"dataframe\">\n",
       "  <thead>\n",
       "    <tr style=\"text-align: right;\">\n",
       "      <th></th>\n",
       "      <th>Name</th>\n",
       "      <th>Platform</th>\n",
       "      <th>Year_of_Release</th>\n",
       "      <th>Genre</th>\n",
       "      <th>NA_sales</th>\n",
       "      <th>EU_sales</th>\n",
       "      <th>JP_sales</th>\n",
       "      <th>Other_sales</th>\n",
       "      <th>Critic_Score</th>\n",
       "      <th>User_Score</th>\n",
       "      <th>Rating</th>\n",
       "    </tr>\n",
       "  </thead>\n",
       "  <tbody>\n",
       "    <tr>\n",
       "      <th>0</th>\n",
       "      <td>Wii Sports</td>\n",
       "      <td>Wii</td>\n",
       "      <td>2006.0</td>\n",
       "      <td>Sports</td>\n",
       "      <td>41.36</td>\n",
       "      <td>28.96</td>\n",
       "      <td>3.77</td>\n",
       "      <td>8.45</td>\n",
       "      <td>76.0</td>\n",
       "      <td>8</td>\n",
       "      <td>E</td>\n",
       "    </tr>\n",
       "    <tr>\n",
       "      <th>1</th>\n",
       "      <td>Super Mario Bros.</td>\n",
       "      <td>NES</td>\n",
       "      <td>1985.0</td>\n",
       "      <td>Platform</td>\n",
       "      <td>29.08</td>\n",
       "      <td>3.58</td>\n",
       "      <td>6.81</td>\n",
       "      <td>0.77</td>\n",
       "      <td>NaN</td>\n",
       "      <td>NaN</td>\n",
       "      <td>NaN</td>\n",
       "    </tr>\n",
       "    <tr>\n",
       "      <th>2</th>\n",
       "      <td>Mario Kart Wii</td>\n",
       "      <td>Wii</td>\n",
       "      <td>2008.0</td>\n",
       "      <td>Racing</td>\n",
       "      <td>15.68</td>\n",
       "      <td>12.76</td>\n",
       "      <td>3.79</td>\n",
       "      <td>3.29</td>\n",
       "      <td>82.0</td>\n",
       "      <td>8.3</td>\n",
       "      <td>E</td>\n",
       "    </tr>\n",
       "    <tr>\n",
       "      <th>3</th>\n",
       "      <td>Wii Sports Resort</td>\n",
       "      <td>Wii</td>\n",
       "      <td>2009.0</td>\n",
       "      <td>Sports</td>\n",
       "      <td>15.61</td>\n",
       "      <td>10.93</td>\n",
       "      <td>3.28</td>\n",
       "      <td>2.95</td>\n",
       "      <td>80.0</td>\n",
       "      <td>8</td>\n",
       "      <td>E</td>\n",
       "    </tr>\n",
       "    <tr>\n",
       "      <th>4</th>\n",
       "      <td>Pokemon Red/Pokemon Blue</td>\n",
       "      <td>GB</td>\n",
       "      <td>1996.0</td>\n",
       "      <td>Role-Playing</td>\n",
       "      <td>11.27</td>\n",
       "      <td>8.89</td>\n",
       "      <td>10.22</td>\n",
       "      <td>1.00</td>\n",
       "      <td>NaN</td>\n",
       "      <td>NaN</td>\n",
       "      <td>NaN</td>\n",
       "    </tr>\n",
       "  </tbody>\n",
       "</table>\n",
       "</div>"
      ],
      "text/plain": [
       "                       Name Platform  Year_of_Release         Genre  NA_sales  \\\n",
       "0                Wii Sports      Wii           2006.0        Sports     41.36   \n",
       "1         Super Mario Bros.      NES           1985.0      Platform     29.08   \n",
       "2            Mario Kart Wii      Wii           2008.0        Racing     15.68   \n",
       "3         Wii Sports Resort      Wii           2009.0        Sports     15.61   \n",
       "4  Pokemon Red/Pokemon Blue       GB           1996.0  Role-Playing     11.27   \n",
       "\n",
       "   EU_sales  JP_sales  Other_sales  Critic_Score User_Score Rating  \n",
       "0     28.96      3.77         8.45          76.0          8      E  \n",
       "1      3.58      6.81         0.77           NaN        NaN    NaN  \n",
       "2     12.76      3.79         3.29          82.0        8.3      E  \n",
       "3     10.93      3.28         2.95          80.0          8      E  \n",
       "4      8.89     10.22         1.00           NaN        NaN    NaN  "
      ]
     },
     "execution_count": 3,
     "metadata": {},
     "output_type": "execute_result"
    }
   ],
   "source": [
    "df.info()\n",
    "df.head()"
   ]
  },
  {
   "cell_type": "code",
   "execution_count": 4,
   "metadata": {
    "scrolled": false
   },
   "outputs": [
    {
     "data": {
      "text/html": [
       "<div>\n",
       "<style scoped>\n",
       "    .dataframe tbody tr th:only-of-type {\n",
       "        vertical-align: middle;\n",
       "    }\n",
       "\n",
       "    .dataframe tbody tr th {\n",
       "        vertical-align: top;\n",
       "    }\n",
       "\n",
       "    .dataframe thead th {\n",
       "        text-align: right;\n",
       "    }\n",
       "</style>\n",
       "<table border=\"1\" class=\"dataframe\">\n",
       "  <thead>\n",
       "    <tr style=\"text-align: right;\">\n",
       "      <th></th>\n",
       "      <th>Year_of_Release</th>\n",
       "      <th>NA_sales</th>\n",
       "      <th>EU_sales</th>\n",
       "      <th>JP_sales</th>\n",
       "      <th>Other_sales</th>\n",
       "      <th>Critic_Score</th>\n",
       "    </tr>\n",
       "  </thead>\n",
       "  <tbody>\n",
       "    <tr>\n",
       "      <th>count</th>\n",
       "      <td>16446.000000</td>\n",
       "      <td>16715.000000</td>\n",
       "      <td>16715.000000</td>\n",
       "      <td>16715.000000</td>\n",
       "      <td>16715.000000</td>\n",
       "      <td>8137.000000</td>\n",
       "    </tr>\n",
       "    <tr>\n",
       "      <th>mean</th>\n",
       "      <td>2006.484616</td>\n",
       "      <td>0.263377</td>\n",
       "      <td>0.145060</td>\n",
       "      <td>0.077617</td>\n",
       "      <td>0.047342</td>\n",
       "      <td>68.967679</td>\n",
       "    </tr>\n",
       "    <tr>\n",
       "      <th>std</th>\n",
       "      <td>5.877050</td>\n",
       "      <td>0.813604</td>\n",
       "      <td>0.503339</td>\n",
       "      <td>0.308853</td>\n",
       "      <td>0.186731</td>\n",
       "      <td>13.938165</td>\n",
       "    </tr>\n",
       "    <tr>\n",
       "      <th>min</th>\n",
       "      <td>1980.000000</td>\n",
       "      <td>0.000000</td>\n",
       "      <td>0.000000</td>\n",
       "      <td>0.000000</td>\n",
       "      <td>0.000000</td>\n",
       "      <td>13.000000</td>\n",
       "    </tr>\n",
       "    <tr>\n",
       "      <th>25%</th>\n",
       "      <td>2003.000000</td>\n",
       "      <td>0.000000</td>\n",
       "      <td>0.000000</td>\n",
       "      <td>0.000000</td>\n",
       "      <td>0.000000</td>\n",
       "      <td>60.000000</td>\n",
       "    </tr>\n",
       "    <tr>\n",
       "      <th>50%</th>\n",
       "      <td>2007.000000</td>\n",
       "      <td>0.080000</td>\n",
       "      <td>0.020000</td>\n",
       "      <td>0.000000</td>\n",
       "      <td>0.010000</td>\n",
       "      <td>71.000000</td>\n",
       "    </tr>\n",
       "    <tr>\n",
       "      <th>75%</th>\n",
       "      <td>2010.000000</td>\n",
       "      <td>0.240000</td>\n",
       "      <td>0.110000</td>\n",
       "      <td>0.040000</td>\n",
       "      <td>0.030000</td>\n",
       "      <td>79.000000</td>\n",
       "    </tr>\n",
       "    <tr>\n",
       "      <th>max</th>\n",
       "      <td>2016.000000</td>\n",
       "      <td>41.360000</td>\n",
       "      <td>28.960000</td>\n",
       "      <td>10.220000</td>\n",
       "      <td>10.570000</td>\n",
       "      <td>98.000000</td>\n",
       "    </tr>\n",
       "  </tbody>\n",
       "</table>\n",
       "</div>"
      ],
      "text/plain": [
       "       Year_of_Release      NA_sales      EU_sales      JP_sales  \\\n",
       "count     16446.000000  16715.000000  16715.000000  16715.000000   \n",
       "mean       2006.484616      0.263377      0.145060      0.077617   \n",
       "std           5.877050      0.813604      0.503339      0.308853   \n",
       "min        1980.000000      0.000000      0.000000      0.000000   \n",
       "25%        2003.000000      0.000000      0.000000      0.000000   \n",
       "50%        2007.000000      0.080000      0.020000      0.000000   \n",
       "75%        2010.000000      0.240000      0.110000      0.040000   \n",
       "max        2016.000000     41.360000     28.960000     10.220000   \n",
       "\n",
       "        Other_sales  Critic_Score  \n",
       "count  16715.000000   8137.000000  \n",
       "mean       0.047342     68.967679  \n",
       "std        0.186731     13.938165  \n",
       "min        0.000000     13.000000  \n",
       "25%        0.000000     60.000000  \n",
       "50%        0.010000     71.000000  \n",
       "75%        0.030000     79.000000  \n",
       "max       10.570000     98.000000  "
      ]
     },
     "execution_count": 4,
     "metadata": {},
     "output_type": "execute_result"
    }
   ],
   "source": [
    "df.describe()"
   ]
  },
  {
   "cell_type": "markdown",
   "metadata": {},
   "source": [
    "Una primera mirada a los datos nos indican que de forma predeterminada viene separado por comas. Adicionalmente, mediante el metodo info vemos las columnas que posee y sus tipos. También, mediante el metodo head() se visualizan ya algunos elementos NaN en algunas de las columnas, por lo que tendremos que hacernos cargo de ello (dependiendo del objetivo que necesitemos).\n",
    "\n",
    "Por otra parte, mediante el metodo describe obtenemos la visión general de los datos para sus respectivas estadísticas."
   ]
  },
  {
   "cell_type": "markdown",
   "metadata": {},
   "source": [
    "## Preparación de los Datos <a class=\"anchor\" id=\"Carga-de-Datos\"></a>\n"
   ]
  },
  {
   "cell_type": "markdown",
   "metadata": {},
   "source": [
    "### Cambio a minusculas\n",
    "Primero que todo pondremos los nombres de las columnas en minusculas. Esto, para que nos permita mejor manejo dentro de la utilización de las mismas dentro de nuestras operaciones en el análisis posterior."
   ]
  },
  {
   "cell_type": "code",
   "execution_count": 5,
   "metadata": {
    "scrolled": false
   },
   "outputs": [
    {
     "data": {
      "text/html": [
       "<div>\n",
       "<style scoped>\n",
       "    .dataframe tbody tr th:only-of-type {\n",
       "        vertical-align: middle;\n",
       "    }\n",
       "\n",
       "    .dataframe tbody tr th {\n",
       "        vertical-align: top;\n",
       "    }\n",
       "\n",
       "    .dataframe thead th {\n",
       "        text-align: right;\n",
       "    }\n",
       "</style>\n",
       "<table border=\"1\" class=\"dataframe\">\n",
       "  <thead>\n",
       "    <tr style=\"text-align: right;\">\n",
       "      <th></th>\n",
       "      <th>name</th>\n",
       "      <th>platform</th>\n",
       "      <th>year_of_release</th>\n",
       "      <th>genre</th>\n",
       "      <th>na_sales</th>\n",
       "      <th>eu_sales</th>\n",
       "      <th>jp_sales</th>\n",
       "      <th>other_sales</th>\n",
       "      <th>critic_score</th>\n",
       "      <th>user_score</th>\n",
       "      <th>rating</th>\n",
       "    </tr>\n",
       "  </thead>\n",
       "  <tbody>\n",
       "    <tr>\n",
       "      <th>11277</th>\n",
       "      <td>Aibou DS</td>\n",
       "      <td>DS</td>\n",
       "      <td>2009.0</td>\n",
       "      <td>Adventure</td>\n",
       "      <td>0.0</td>\n",
       "      <td>0.0</td>\n",
       "      <td>0.08</td>\n",
       "      <td>0.0</td>\n",
       "      <td>NaN</td>\n",
       "      <td>NaN</td>\n",
       "      <td>NaN</td>\n",
       "    </tr>\n",
       "  </tbody>\n",
       "</table>\n",
       "</div>"
      ],
      "text/plain": [
       "           name platform  year_of_release      genre  na_sales  eu_sales  \\\n",
       "11277  Aibou DS       DS           2009.0  Adventure       0.0       0.0   \n",
       "\n",
       "       jp_sales  other_sales  critic_score user_score rating  \n",
       "11277      0.08          0.0           NaN        NaN    NaN  "
      ]
     },
     "execution_count": 5,
     "metadata": {},
     "output_type": "execute_result"
    }
   ],
   "source": [
    "df.columns = df.columns.str.lower() #señalamos que transforme todas las columnas a minusculas\n",
    "df.sample()"
   ]
  },
  {
   "cell_type": "markdown",
   "metadata": {},
   "source": [
    "### Tratado de valores ausentes y duplicados\n",
    "\n",
    "Ahora, antes de realizar cualquier conversión de tipos en las columnas, debemos cerciorarnos que cada una de estas tenga coherencia en sus datos. Para ello, verificaremos sus duplicados y valores ausentes."
   ]
  },
  {
   "cell_type": "code",
   "execution_count": 6,
   "metadata": {},
   "outputs": [
    {
     "data": {
      "text/plain": [
       "name                  2\n",
       "platform              0\n",
       "year_of_release     269\n",
       "genre                 2\n",
       "na_sales              0\n",
       "eu_sales              0\n",
       "jp_sales              0\n",
       "other_sales           0\n",
       "critic_score       8578\n",
       "user_score         6701\n",
       "rating             6766\n",
       "dtype: int64"
      ]
     },
     "execution_count": 6,
     "metadata": {},
     "output_type": "execute_result"
    }
   ],
   "source": [
    "df.isna().sum()"
   ]
  },
  {
   "cell_type": "markdown",
   "metadata": {},
   "source": [
    "Con el análisis de ausentes, tenemos algunas columnas donde existen muchos elementos sin información."
   ]
  },
  {
   "cell_type": "code",
   "execution_count": 7,
   "metadata": {},
   "outputs": [
    {
     "data": {
      "text/html": [
       "<div>\n",
       "<style scoped>\n",
       "    .dataframe tbody tr th:only-of-type {\n",
       "        vertical-align: middle;\n",
       "    }\n",
       "\n",
       "    .dataframe tbody tr th {\n",
       "        vertical-align: top;\n",
       "    }\n",
       "\n",
       "    .dataframe thead th {\n",
       "        text-align: right;\n",
       "    }\n",
       "</style>\n",
       "<table border=\"1\" class=\"dataframe\">\n",
       "  <thead>\n",
       "    <tr style=\"text-align: right;\">\n",
       "      <th></th>\n",
       "      <th>name</th>\n",
       "      <th>platform</th>\n",
       "      <th>year_of_release</th>\n",
       "      <th>genre</th>\n",
       "      <th>na_sales</th>\n",
       "      <th>eu_sales</th>\n",
       "      <th>jp_sales</th>\n",
       "      <th>other_sales</th>\n",
       "      <th>critic_score</th>\n",
       "      <th>user_score</th>\n",
       "      <th>rating</th>\n",
       "    </tr>\n",
       "  </thead>\n",
       "  <tbody>\n",
       "    <tr>\n",
       "      <th>183</th>\n",
       "      <td>Madden NFL 2004</td>\n",
       "      <td>PS2</td>\n",
       "      <td>NaN</td>\n",
       "      <td>Sports</td>\n",
       "      <td>4.26</td>\n",
       "      <td>0.26</td>\n",
       "      <td>0.01</td>\n",
       "      <td>0.71</td>\n",
       "      <td>94.0</td>\n",
       "      <td>8.5</td>\n",
       "      <td>E</td>\n",
       "    </tr>\n",
       "    <tr>\n",
       "      <th>377</th>\n",
       "      <td>FIFA Soccer 2004</td>\n",
       "      <td>PS2</td>\n",
       "      <td>NaN</td>\n",
       "      <td>Sports</td>\n",
       "      <td>0.59</td>\n",
       "      <td>2.36</td>\n",
       "      <td>0.04</td>\n",
       "      <td>0.51</td>\n",
       "      <td>84.0</td>\n",
       "      <td>6.4</td>\n",
       "      <td>E</td>\n",
       "    </tr>\n",
       "    <tr>\n",
       "      <th>456</th>\n",
       "      <td>LEGO Batman: The Videogame</td>\n",
       "      <td>Wii</td>\n",
       "      <td>NaN</td>\n",
       "      <td>Action</td>\n",
       "      <td>1.80</td>\n",
       "      <td>0.97</td>\n",
       "      <td>0.00</td>\n",
       "      <td>0.29</td>\n",
       "      <td>74.0</td>\n",
       "      <td>7.9</td>\n",
       "      <td>E10+</td>\n",
       "    </tr>\n",
       "    <tr>\n",
       "      <th>475</th>\n",
       "      <td>wwe Smackdown vs. Raw 2006</td>\n",
       "      <td>PS2</td>\n",
       "      <td>NaN</td>\n",
       "      <td>Fighting</td>\n",
       "      <td>1.57</td>\n",
       "      <td>1.02</td>\n",
       "      <td>0.00</td>\n",
       "      <td>0.41</td>\n",
       "      <td>NaN</td>\n",
       "      <td>NaN</td>\n",
       "      <td>NaN</td>\n",
       "    </tr>\n",
       "    <tr>\n",
       "      <th>609</th>\n",
       "      <td>Space Invaders</td>\n",
       "      <td>2600</td>\n",
       "      <td>NaN</td>\n",
       "      <td>Shooter</td>\n",
       "      <td>2.36</td>\n",
       "      <td>0.14</td>\n",
       "      <td>0.00</td>\n",
       "      <td>0.03</td>\n",
       "      <td>NaN</td>\n",
       "      <td>NaN</td>\n",
       "      <td>NaN</td>\n",
       "    </tr>\n",
       "    <tr>\n",
       "      <th>...</th>\n",
       "      <td>...</td>\n",
       "      <td>...</td>\n",
       "      <td>...</td>\n",
       "      <td>...</td>\n",
       "      <td>...</td>\n",
       "      <td>...</td>\n",
       "      <td>...</td>\n",
       "      <td>...</td>\n",
       "      <td>...</td>\n",
       "      <td>...</td>\n",
       "      <td>...</td>\n",
       "    </tr>\n",
       "    <tr>\n",
       "      <th>16373</th>\n",
       "      <td>PDC World Championship Darts 2008</td>\n",
       "      <td>PSP</td>\n",
       "      <td>NaN</td>\n",
       "      <td>Sports</td>\n",
       "      <td>0.01</td>\n",
       "      <td>0.00</td>\n",
       "      <td>0.00</td>\n",
       "      <td>0.00</td>\n",
       "      <td>43.0</td>\n",
       "      <td>tbd</td>\n",
       "      <td>E10+</td>\n",
       "    </tr>\n",
       "    <tr>\n",
       "      <th>16405</th>\n",
       "      <td>Freaky Flyers</td>\n",
       "      <td>GC</td>\n",
       "      <td>NaN</td>\n",
       "      <td>Racing</td>\n",
       "      <td>0.01</td>\n",
       "      <td>0.00</td>\n",
       "      <td>0.00</td>\n",
       "      <td>0.00</td>\n",
       "      <td>69.0</td>\n",
       "      <td>6.5</td>\n",
       "      <td>T</td>\n",
       "    </tr>\n",
       "    <tr>\n",
       "      <th>16448</th>\n",
       "      <td>Inversion</td>\n",
       "      <td>PC</td>\n",
       "      <td>NaN</td>\n",
       "      <td>Shooter</td>\n",
       "      <td>0.01</td>\n",
       "      <td>0.00</td>\n",
       "      <td>0.00</td>\n",
       "      <td>0.00</td>\n",
       "      <td>59.0</td>\n",
       "      <td>6.7</td>\n",
       "      <td>M</td>\n",
       "    </tr>\n",
       "    <tr>\n",
       "      <th>16458</th>\n",
       "      <td>Hakuouki: Shinsengumi Kitan</td>\n",
       "      <td>PS3</td>\n",
       "      <td>NaN</td>\n",
       "      <td>Adventure</td>\n",
       "      <td>0.01</td>\n",
       "      <td>0.00</td>\n",
       "      <td>0.00</td>\n",
       "      <td>0.00</td>\n",
       "      <td>NaN</td>\n",
       "      <td>NaN</td>\n",
       "      <td>NaN</td>\n",
       "    </tr>\n",
       "    <tr>\n",
       "      <th>16522</th>\n",
       "      <td>Virtua Quest</td>\n",
       "      <td>GC</td>\n",
       "      <td>NaN</td>\n",
       "      <td>Role-Playing</td>\n",
       "      <td>0.01</td>\n",
       "      <td>0.00</td>\n",
       "      <td>0.00</td>\n",
       "      <td>0.00</td>\n",
       "      <td>55.0</td>\n",
       "      <td>5.5</td>\n",
       "      <td>T</td>\n",
       "    </tr>\n",
       "  </tbody>\n",
       "</table>\n",
       "<p>269 rows × 11 columns</p>\n",
       "</div>"
      ],
      "text/plain": [
       "                                    name platform  year_of_release  \\\n",
       "183                      Madden NFL 2004      PS2              NaN   \n",
       "377                     FIFA Soccer 2004      PS2              NaN   \n",
       "456           LEGO Batman: The Videogame      Wii              NaN   \n",
       "475           wwe Smackdown vs. Raw 2006      PS2              NaN   \n",
       "609                       Space Invaders     2600              NaN   \n",
       "...                                  ...      ...              ...   \n",
       "16373  PDC World Championship Darts 2008      PSP              NaN   \n",
       "16405                      Freaky Flyers       GC              NaN   \n",
       "16448                          Inversion       PC              NaN   \n",
       "16458        Hakuouki: Shinsengumi Kitan      PS3              NaN   \n",
       "16522                       Virtua Quest       GC              NaN   \n",
       "\n",
       "              genre  na_sales  eu_sales  jp_sales  other_sales  critic_score  \\\n",
       "183          Sports      4.26      0.26      0.01         0.71          94.0   \n",
       "377          Sports      0.59      2.36      0.04         0.51          84.0   \n",
       "456          Action      1.80      0.97      0.00         0.29          74.0   \n",
       "475        Fighting      1.57      1.02      0.00         0.41           NaN   \n",
       "609         Shooter      2.36      0.14      0.00         0.03           NaN   \n",
       "...             ...       ...       ...       ...          ...           ...   \n",
       "16373        Sports      0.01      0.00      0.00         0.00          43.0   \n",
       "16405        Racing      0.01      0.00      0.00         0.00          69.0   \n",
       "16448       Shooter      0.01      0.00      0.00         0.00          59.0   \n",
       "16458     Adventure      0.01      0.00      0.00         0.00           NaN   \n",
       "16522  Role-Playing      0.01      0.00      0.00         0.00          55.0   \n",
       "\n",
       "      user_score rating  \n",
       "183          8.5      E  \n",
       "377          6.4      E  \n",
       "456          7.9   E10+  \n",
       "475          NaN    NaN  \n",
       "609          NaN    NaN  \n",
       "...          ...    ...  \n",
       "16373        tbd   E10+  \n",
       "16405        6.5      T  \n",
       "16448        6.7      M  \n",
       "16458        NaN    NaN  \n",
       "16522        5.5      T  \n",
       "\n",
       "[269 rows x 11 columns]"
      ]
     },
     "execution_count": 7,
     "metadata": {},
     "output_type": "execute_result"
    }
   ],
   "source": [
    "df[df[\"year_of_release\"].isna()]"
   ]
  },
  {
   "cell_type": "markdown",
   "metadata": {},
   "source": [
    "Verificamos que hay 2 juegos sin nombre y 269 que no tienen su año de lanzamiento, pero también queremos cerciorarnos que no hayan juegos de nombre duplicados con los mismos datos, así que revisaremos aquello de igual manera."
   ]
  },
  {
   "cell_type": "code",
   "execution_count": 8,
   "metadata": {},
   "outputs": [
    {
     "data": {
      "text/plain": [
       "Need for Speed: Most Wanted                                   12\n",
       "FIFA 14                                                        9\n",
       "LEGO Marvel Super Heroes                                       9\n",
       "Ratatouille                                                    9\n",
       "Madden NFL 07                                                  9\n",
       "                                                              ..\n",
       "Ecco the Dolphin: Defender of the Future                       1\n",
       "Ski Region Simulator                                           1\n",
       "Mana Khemia: Student Alliance                                  1\n",
       "Wild Wild Racing                                               1\n",
       "Star Driver: Kagayaki no Takuto - Ginga Bishounen Densetsu     1\n",
       "Name: name, Length: 11559, dtype: int64"
      ]
     },
     "execution_count": 8,
     "metadata": {},
     "output_type": "execute_result"
    }
   ],
   "source": [
    "df[\"name\"].value_counts()"
   ]
  },
  {
   "cell_type": "code",
   "execution_count": 9,
   "metadata": {
    "scrolled": false
   },
   "outputs": [
    {
     "data": {
      "text/html": [
       "<div>\n",
       "<style scoped>\n",
       "    .dataframe tbody tr th:only-of-type {\n",
       "        vertical-align: middle;\n",
       "    }\n",
       "\n",
       "    .dataframe tbody tr th {\n",
       "        vertical-align: top;\n",
       "    }\n",
       "\n",
       "    .dataframe thead th {\n",
       "        text-align: right;\n",
       "    }\n",
       "</style>\n",
       "<table border=\"1\" class=\"dataframe\">\n",
       "  <thead>\n",
       "    <tr style=\"text-align: right;\">\n",
       "      <th></th>\n",
       "      <th>name</th>\n",
       "      <th>platform</th>\n",
       "      <th>year_of_release</th>\n",
       "      <th>genre</th>\n",
       "      <th>na_sales</th>\n",
       "      <th>eu_sales</th>\n",
       "      <th>jp_sales</th>\n",
       "      <th>other_sales</th>\n",
       "      <th>critic_score</th>\n",
       "      <th>user_score</th>\n",
       "      <th>rating</th>\n",
       "    </tr>\n",
       "  </thead>\n",
       "  <tbody>\n",
       "    <tr>\n",
       "      <th>253</th>\n",
       "      <td>Need for Speed: Most Wanted</td>\n",
       "      <td>PS2</td>\n",
       "      <td>2005.0</td>\n",
       "      <td>Racing</td>\n",
       "      <td>2.03</td>\n",
       "      <td>1.79</td>\n",
       "      <td>0.08</td>\n",
       "      <td>0.47</td>\n",
       "      <td>82.0</td>\n",
       "      <td>9.1</td>\n",
       "      <td>T</td>\n",
       "    </tr>\n",
       "    <tr>\n",
       "      <th>523</th>\n",
       "      <td>Need for Speed: Most Wanted</td>\n",
       "      <td>PS3</td>\n",
       "      <td>2012.0</td>\n",
       "      <td>Racing</td>\n",
       "      <td>0.71</td>\n",
       "      <td>1.46</td>\n",
       "      <td>0.06</td>\n",
       "      <td>0.58</td>\n",
       "      <td>NaN</td>\n",
       "      <td>NaN</td>\n",
       "      <td>NaN</td>\n",
       "    </tr>\n",
       "    <tr>\n",
       "      <th>1190</th>\n",
       "      <td>Need for Speed: Most Wanted</td>\n",
       "      <td>X360</td>\n",
       "      <td>2012.0</td>\n",
       "      <td>Racing</td>\n",
       "      <td>0.62</td>\n",
       "      <td>0.78</td>\n",
       "      <td>0.01</td>\n",
       "      <td>0.15</td>\n",
       "      <td>83.0</td>\n",
       "      <td>8.5</td>\n",
       "      <td>T</td>\n",
       "    </tr>\n",
       "    <tr>\n",
       "      <th>1591</th>\n",
       "      <td>Need for Speed: Most Wanted</td>\n",
       "      <td>X360</td>\n",
       "      <td>2005.0</td>\n",
       "      <td>Racing</td>\n",
       "      <td>1.00</td>\n",
       "      <td>0.13</td>\n",
       "      <td>0.02</td>\n",
       "      <td>0.10</td>\n",
       "      <td>83.0</td>\n",
       "      <td>8.5</td>\n",
       "      <td>T</td>\n",
       "    </tr>\n",
       "    <tr>\n",
       "      <th>1998</th>\n",
       "      <td>Need for Speed: Most Wanted</td>\n",
       "      <td>XB</td>\n",
       "      <td>2005.0</td>\n",
       "      <td>Racing</td>\n",
       "      <td>0.53</td>\n",
       "      <td>0.46</td>\n",
       "      <td>0.00</td>\n",
       "      <td>0.05</td>\n",
       "      <td>83.0</td>\n",
       "      <td>8.8</td>\n",
       "      <td>T</td>\n",
       "    </tr>\n",
       "    <tr>\n",
       "      <th>2048</th>\n",
       "      <td>Need for Speed: Most Wanted</td>\n",
       "      <td>PSV</td>\n",
       "      <td>2012.0</td>\n",
       "      <td>Racing</td>\n",
       "      <td>0.33</td>\n",
       "      <td>0.45</td>\n",
       "      <td>0.01</td>\n",
       "      <td>0.22</td>\n",
       "      <td>NaN</td>\n",
       "      <td>NaN</td>\n",
       "      <td>NaN</td>\n",
       "    </tr>\n",
       "    <tr>\n",
       "      <th>3581</th>\n",
       "      <td>Need for Speed: Most Wanted</td>\n",
       "      <td>GC</td>\n",
       "      <td>2005.0</td>\n",
       "      <td>Racing</td>\n",
       "      <td>0.43</td>\n",
       "      <td>0.11</td>\n",
       "      <td>0.00</td>\n",
       "      <td>0.02</td>\n",
       "      <td>80.0</td>\n",
       "      <td>9.1</td>\n",
       "      <td>T</td>\n",
       "    </tr>\n",
       "    <tr>\n",
       "      <th>5972</th>\n",
       "      <td>Need for Speed: Most Wanted</td>\n",
       "      <td>PC</td>\n",
       "      <td>2005.0</td>\n",
       "      <td>Racing</td>\n",
       "      <td>0.02</td>\n",
       "      <td>0.23</td>\n",
       "      <td>0.00</td>\n",
       "      <td>0.04</td>\n",
       "      <td>82.0</td>\n",
       "      <td>8.5</td>\n",
       "      <td>T</td>\n",
       "    </tr>\n",
       "    <tr>\n",
       "      <th>6273</th>\n",
       "      <td>Need for Speed: Most Wanted</td>\n",
       "      <td>WiiU</td>\n",
       "      <td>2013.0</td>\n",
       "      <td>Racing</td>\n",
       "      <td>0.13</td>\n",
       "      <td>0.12</td>\n",
       "      <td>0.00</td>\n",
       "      <td>0.02</td>\n",
       "      <td>NaN</td>\n",
       "      <td>NaN</td>\n",
       "      <td>NaN</td>\n",
       "    </tr>\n",
       "    <tr>\n",
       "      <th>6410</th>\n",
       "      <td>Need for Speed: Most Wanted</td>\n",
       "      <td>DS</td>\n",
       "      <td>2005.0</td>\n",
       "      <td>Racing</td>\n",
       "      <td>0.24</td>\n",
       "      <td>0.01</td>\n",
       "      <td>0.00</td>\n",
       "      <td>0.02</td>\n",
       "      <td>45.0</td>\n",
       "      <td>6.1</td>\n",
       "      <td>E</td>\n",
       "    </tr>\n",
       "    <tr>\n",
       "      <th>6473</th>\n",
       "      <td>Need for Speed: Most Wanted</td>\n",
       "      <td>GBA</td>\n",
       "      <td>2005.0</td>\n",
       "      <td>Racing</td>\n",
       "      <td>0.19</td>\n",
       "      <td>0.07</td>\n",
       "      <td>0.00</td>\n",
       "      <td>0.00</td>\n",
       "      <td>NaN</td>\n",
       "      <td>8.3</td>\n",
       "      <td>E</td>\n",
       "    </tr>\n",
       "    <tr>\n",
       "      <th>11715</th>\n",
       "      <td>Need for Speed: Most Wanted</td>\n",
       "      <td>PC</td>\n",
       "      <td>2012.0</td>\n",
       "      <td>Racing</td>\n",
       "      <td>0.00</td>\n",
       "      <td>0.06</td>\n",
       "      <td>0.00</td>\n",
       "      <td>0.02</td>\n",
       "      <td>82.0</td>\n",
       "      <td>8.5</td>\n",
       "      <td>T</td>\n",
       "    </tr>\n",
       "  </tbody>\n",
       "</table>\n",
       "</div>"
      ],
      "text/plain": [
       "                              name platform  year_of_release   genre  \\\n",
       "253    Need for Speed: Most Wanted      PS2           2005.0  Racing   \n",
       "523    Need for Speed: Most Wanted      PS3           2012.0  Racing   \n",
       "1190   Need for Speed: Most Wanted     X360           2012.0  Racing   \n",
       "1591   Need for Speed: Most Wanted     X360           2005.0  Racing   \n",
       "1998   Need for Speed: Most Wanted       XB           2005.0  Racing   \n",
       "2048   Need for Speed: Most Wanted      PSV           2012.0  Racing   \n",
       "3581   Need for Speed: Most Wanted       GC           2005.0  Racing   \n",
       "5972   Need for Speed: Most Wanted       PC           2005.0  Racing   \n",
       "6273   Need for Speed: Most Wanted     WiiU           2013.0  Racing   \n",
       "6410   Need for Speed: Most Wanted       DS           2005.0  Racing   \n",
       "6473   Need for Speed: Most Wanted      GBA           2005.0  Racing   \n",
       "11715  Need for Speed: Most Wanted       PC           2012.0  Racing   \n",
       "\n",
       "       na_sales  eu_sales  jp_sales  other_sales  critic_score user_score  \\\n",
       "253        2.03      1.79      0.08         0.47          82.0        9.1   \n",
       "523        0.71      1.46      0.06         0.58           NaN        NaN   \n",
       "1190       0.62      0.78      0.01         0.15          83.0        8.5   \n",
       "1591       1.00      0.13      0.02         0.10          83.0        8.5   \n",
       "1998       0.53      0.46      0.00         0.05          83.0        8.8   \n",
       "2048       0.33      0.45      0.01         0.22           NaN        NaN   \n",
       "3581       0.43      0.11      0.00         0.02          80.0        9.1   \n",
       "5972       0.02      0.23      0.00         0.04          82.0        8.5   \n",
       "6273       0.13      0.12      0.00         0.02           NaN        NaN   \n",
       "6410       0.24      0.01      0.00         0.02          45.0        6.1   \n",
       "6473       0.19      0.07      0.00         0.00           NaN        8.3   \n",
       "11715      0.00      0.06      0.00         0.02          82.0        8.5   \n",
       "\n",
       "      rating  \n",
       "253        T  \n",
       "523      NaN  \n",
       "1190       T  \n",
       "1591       T  \n",
       "1998       T  \n",
       "2048     NaN  \n",
       "3581       T  \n",
       "5972       T  \n",
       "6273     NaN  \n",
       "6410       E  \n",
       "6473       E  \n",
       "11715      T  "
      ]
     },
     "execution_count": 9,
     "metadata": {},
     "output_type": "execute_result"
    }
   ],
   "source": [
    "df[df[\"name\"] == \"Need for Speed: Most Wanted\"]"
   ]
  },
  {
   "cell_type": "code",
   "execution_count": 10,
   "metadata": {},
   "outputs": [
    {
     "data": {
      "text/html": [
       "<div>\n",
       "<style scoped>\n",
       "    .dataframe tbody tr th:only-of-type {\n",
       "        vertical-align: middle;\n",
       "    }\n",
       "\n",
       "    .dataframe tbody tr th {\n",
       "        vertical-align: top;\n",
       "    }\n",
       "\n",
       "    .dataframe thead th {\n",
       "        text-align: right;\n",
       "    }\n",
       "</style>\n",
       "<table border=\"1\" class=\"dataframe\">\n",
       "  <thead>\n",
       "    <tr style=\"text-align: right;\">\n",
       "      <th></th>\n",
       "      <th>name</th>\n",
       "      <th>platform</th>\n",
       "      <th>year_of_release</th>\n",
       "      <th>genre</th>\n",
       "      <th>na_sales</th>\n",
       "      <th>eu_sales</th>\n",
       "      <th>jp_sales</th>\n",
       "      <th>other_sales</th>\n",
       "      <th>critic_score</th>\n",
       "      <th>user_score</th>\n",
       "      <th>rating</th>\n",
       "    </tr>\n",
       "  </thead>\n",
       "  <tbody>\n",
       "    <tr>\n",
       "      <th>1598</th>\n",
       "      <td>Ratatouille</td>\n",
       "      <td>DS</td>\n",
       "      <td>2007.0</td>\n",
       "      <td>Action</td>\n",
       "      <td>0.49</td>\n",
       "      <td>0.62</td>\n",
       "      <td>0.0</td>\n",
       "      <td>0.14</td>\n",
       "      <td>NaN</td>\n",
       "      <td>NaN</td>\n",
       "      <td>NaN</td>\n",
       "    </tr>\n",
       "    <tr>\n",
       "      <th>2442</th>\n",
       "      <td>Ratatouille</td>\n",
       "      <td>PS2</td>\n",
       "      <td>2007.0</td>\n",
       "      <td>Action</td>\n",
       "      <td>0.31</td>\n",
       "      <td>0.00</td>\n",
       "      <td>0.0</td>\n",
       "      <td>0.53</td>\n",
       "      <td>65.0</td>\n",
       "      <td>8</td>\n",
       "      <td>E</td>\n",
       "    </tr>\n",
       "    <tr>\n",
       "      <th>3069</th>\n",
       "      <td>Ratatouille</td>\n",
       "      <td>PSP</td>\n",
       "      <td>2007.0</td>\n",
       "      <td>Action</td>\n",
       "      <td>0.22</td>\n",
       "      <td>0.27</td>\n",
       "      <td>0.0</td>\n",
       "      <td>0.16</td>\n",
       "      <td>64.0</td>\n",
       "      <td>7.1</td>\n",
       "      <td>E</td>\n",
       "    </tr>\n",
       "    <tr>\n",
       "      <th>3902</th>\n",
       "      <td>Ratatouille</td>\n",
       "      <td>PS3</td>\n",
       "      <td>2007.0</td>\n",
       "      <td>Action</td>\n",
       "      <td>0.09</td>\n",
       "      <td>0.32</td>\n",
       "      <td>0.0</td>\n",
       "      <td>0.10</td>\n",
       "      <td>55.0</td>\n",
       "      <td>4.8</td>\n",
       "      <td>E</td>\n",
       "    </tr>\n",
       "    <tr>\n",
       "      <th>3948</th>\n",
       "      <td>Ratatouille</td>\n",
       "      <td>Wii</td>\n",
       "      <td>2007.0</td>\n",
       "      <td>Action</td>\n",
       "      <td>0.43</td>\n",
       "      <td>0.03</td>\n",
       "      <td>0.0</td>\n",
       "      <td>0.04</td>\n",
       "      <td>62.0</td>\n",
       "      <td>6.7</td>\n",
       "      <td>E</td>\n",
       "    </tr>\n",
       "    <tr>\n",
       "      <th>6398</th>\n",
       "      <td>Ratatouille</td>\n",
       "      <td>X360</td>\n",
       "      <td>2007.0</td>\n",
       "      <td>Action</td>\n",
       "      <td>0.23</td>\n",
       "      <td>0.02</td>\n",
       "      <td>0.0</td>\n",
       "      <td>0.02</td>\n",
       "      <td>56.0</td>\n",
       "      <td>tbd</td>\n",
       "      <td>E</td>\n",
       "    </tr>\n",
       "    <tr>\n",
       "      <th>7681</th>\n",
       "      <td>Ratatouille</td>\n",
       "      <td>GBA</td>\n",
       "      <td>2007.0</td>\n",
       "      <td>Action</td>\n",
       "      <td>0.14</td>\n",
       "      <td>0.05</td>\n",
       "      <td>0.0</td>\n",
       "      <td>0.00</td>\n",
       "      <td>65.0</td>\n",
       "      <td>tbd</td>\n",
       "      <td>E</td>\n",
       "    </tr>\n",
       "    <tr>\n",
       "      <th>9015</th>\n",
       "      <td>Ratatouille</td>\n",
       "      <td>GC</td>\n",
       "      <td>2007.0</td>\n",
       "      <td>Action</td>\n",
       "      <td>0.11</td>\n",
       "      <td>0.03</td>\n",
       "      <td>0.0</td>\n",
       "      <td>0.00</td>\n",
       "      <td>60.0</td>\n",
       "      <td>5.6</td>\n",
       "      <td>E</td>\n",
       "    </tr>\n",
       "    <tr>\n",
       "      <th>14514</th>\n",
       "      <td>Ratatouille</td>\n",
       "      <td>PC</td>\n",
       "      <td>2007.0</td>\n",
       "      <td>Action</td>\n",
       "      <td>0.01</td>\n",
       "      <td>0.01</td>\n",
       "      <td>0.0</td>\n",
       "      <td>0.00</td>\n",
       "      <td>NaN</td>\n",
       "      <td>7.9</td>\n",
       "      <td>E</td>\n",
       "    </tr>\n",
       "  </tbody>\n",
       "</table>\n",
       "</div>"
      ],
      "text/plain": [
       "              name platform  year_of_release   genre  na_sales  eu_sales  \\\n",
       "1598   Ratatouille       DS           2007.0  Action      0.49      0.62   \n",
       "2442   Ratatouille      PS2           2007.0  Action      0.31      0.00   \n",
       "3069   Ratatouille      PSP           2007.0  Action      0.22      0.27   \n",
       "3902   Ratatouille      PS3           2007.0  Action      0.09      0.32   \n",
       "3948   Ratatouille      Wii           2007.0  Action      0.43      0.03   \n",
       "6398   Ratatouille     X360           2007.0  Action      0.23      0.02   \n",
       "7681   Ratatouille      GBA           2007.0  Action      0.14      0.05   \n",
       "9015   Ratatouille       GC           2007.0  Action      0.11      0.03   \n",
       "14514  Ratatouille       PC           2007.0  Action      0.01      0.01   \n",
       "\n",
       "       jp_sales  other_sales  critic_score user_score rating  \n",
       "1598        0.0         0.14           NaN        NaN    NaN  \n",
       "2442        0.0         0.53          65.0          8      E  \n",
       "3069        0.0         0.16          64.0        7.1      E  \n",
       "3902        0.0         0.10          55.0        4.8      E  \n",
       "3948        0.0         0.04          62.0        6.7      E  \n",
       "6398        0.0         0.02          56.0        tbd      E  \n",
       "7681        0.0         0.00          65.0        tbd      E  \n",
       "9015        0.0         0.00          60.0        5.6      E  \n",
       "14514       0.0         0.00           NaN        7.9      E  "
      ]
     },
     "execution_count": 10,
     "metadata": {},
     "output_type": "execute_result"
    }
   ],
   "source": [
    "df[df[\"name\"] == \"Ratatouille\"]"
   ]
  },
  {
   "cell_type": "code",
   "execution_count": 11,
   "metadata": {
    "scrolled": true
   },
   "outputs": [
    {
     "data": {
      "text/html": [
       "<div>\n",
       "<style scoped>\n",
       "    .dataframe tbody tr th:only-of-type {\n",
       "        vertical-align: middle;\n",
       "    }\n",
       "\n",
       "    .dataframe tbody tr th {\n",
       "        vertical-align: top;\n",
       "    }\n",
       "\n",
       "    .dataframe thead th {\n",
       "        text-align: right;\n",
       "    }\n",
       "</style>\n",
       "<table border=\"1\" class=\"dataframe\">\n",
       "  <thead>\n",
       "    <tr style=\"text-align: right;\">\n",
       "      <th></th>\n",
       "      <th>name</th>\n",
       "      <th>platform</th>\n",
       "      <th>year_of_release</th>\n",
       "      <th>genre</th>\n",
       "      <th>na_sales</th>\n",
       "      <th>eu_sales</th>\n",
       "      <th>jp_sales</th>\n",
       "      <th>other_sales</th>\n",
       "      <th>critic_score</th>\n",
       "      <th>user_score</th>\n",
       "      <th>rating</th>\n",
       "    </tr>\n",
       "  </thead>\n",
       "  <tbody>\n",
       "    <tr>\n",
       "      <th>126</th>\n",
       "      <td>FIFA 14</td>\n",
       "      <td>PS3</td>\n",
       "      <td>2013.0</td>\n",
       "      <td>Sports</td>\n",
       "      <td>0.78</td>\n",
       "      <td>4.24</td>\n",
       "      <td>0.07</td>\n",
       "      <td>1.37</td>\n",
       "      <td>86.0</td>\n",
       "      <td>4.3</td>\n",
       "      <td>E</td>\n",
       "    </tr>\n",
       "    <tr>\n",
       "      <th>271</th>\n",
       "      <td>FIFA 14</td>\n",
       "      <td>X360</td>\n",
       "      <td>2013.0</td>\n",
       "      <td>Sports</td>\n",
       "      <td>0.92</td>\n",
       "      <td>2.89</td>\n",
       "      <td>0.01</td>\n",
       "      <td>0.40</td>\n",
       "      <td>84.0</td>\n",
       "      <td>4.2</td>\n",
       "      <td>E</td>\n",
       "    </tr>\n",
       "    <tr>\n",
       "      <th>469</th>\n",
       "      <td>FIFA 14</td>\n",
       "      <td>PS4</td>\n",
       "      <td>2013.0</td>\n",
       "      <td>Sports</td>\n",
       "      <td>0.61</td>\n",
       "      <td>1.85</td>\n",
       "      <td>0.11</td>\n",
       "      <td>0.44</td>\n",
       "      <td>87.0</td>\n",
       "      <td>6.3</td>\n",
       "      <td>E</td>\n",
       "    </tr>\n",
       "    <tr>\n",
       "      <th>1753</th>\n",
       "      <td>FIFA 14</td>\n",
       "      <td>XOne</td>\n",
       "      <td>2013.0</td>\n",
       "      <td>Sports</td>\n",
       "      <td>0.41</td>\n",
       "      <td>0.66</td>\n",
       "      <td>0.00</td>\n",
       "      <td>0.09</td>\n",
       "      <td>88.0</td>\n",
       "      <td>5.8</td>\n",
       "      <td>E</td>\n",
       "    </tr>\n",
       "    <tr>\n",
       "      <th>4699</th>\n",
       "      <td>FIFA 14</td>\n",
       "      <td>PSV</td>\n",
       "      <td>2013.0</td>\n",
       "      <td>Sports</td>\n",
       "      <td>0.08</td>\n",
       "      <td>0.23</td>\n",
       "      <td>0.01</td>\n",
       "      <td>0.09</td>\n",
       "      <td>NaN</td>\n",
       "      <td>1.8</td>\n",
       "      <td>E</td>\n",
       "    </tr>\n",
       "    <tr>\n",
       "      <th>4809</th>\n",
       "      <td>FIFA 14</td>\n",
       "      <td>PC</td>\n",
       "      <td>2013.0</td>\n",
       "      <td>Sports</td>\n",
       "      <td>0.01</td>\n",
       "      <td>0.36</td>\n",
       "      <td>0.00</td>\n",
       "      <td>0.03</td>\n",
       "      <td>87.0</td>\n",
       "      <td>4.6</td>\n",
       "      <td>E</td>\n",
       "    </tr>\n",
       "    <tr>\n",
       "      <th>4985</th>\n",
       "      <td>FIFA 14</td>\n",
       "      <td>Wii</td>\n",
       "      <td>2013.0</td>\n",
       "      <td>Sports</td>\n",
       "      <td>0.00</td>\n",
       "      <td>0.36</td>\n",
       "      <td>0.00</td>\n",
       "      <td>0.02</td>\n",
       "      <td>NaN</td>\n",
       "      <td>4.3</td>\n",
       "      <td>E</td>\n",
       "    </tr>\n",
       "    <tr>\n",
       "      <th>6871</th>\n",
       "      <td>FIFA 14</td>\n",
       "      <td>3DS</td>\n",
       "      <td>2013.0</td>\n",
       "      <td>Sports</td>\n",
       "      <td>0.00</td>\n",
       "      <td>0.22</td>\n",
       "      <td>0.00</td>\n",
       "      <td>0.01</td>\n",
       "      <td>NaN</td>\n",
       "      <td>NaN</td>\n",
       "      <td>NaN</td>\n",
       "    </tr>\n",
       "    <tr>\n",
       "      <th>7875</th>\n",
       "      <td>FIFA 14</td>\n",
       "      <td>PSP</td>\n",
       "      <td>2013.0</td>\n",
       "      <td>Sports</td>\n",
       "      <td>0.00</td>\n",
       "      <td>0.15</td>\n",
       "      <td>0.00</td>\n",
       "      <td>0.04</td>\n",
       "      <td>NaN</td>\n",
       "      <td>3.4</td>\n",
       "      <td>E</td>\n",
       "    </tr>\n",
       "  </tbody>\n",
       "</table>\n",
       "</div>"
      ],
      "text/plain": [
       "         name platform  year_of_release   genre  na_sales  eu_sales  jp_sales  \\\n",
       "126   FIFA 14      PS3           2013.0  Sports      0.78      4.24      0.07   \n",
       "271   FIFA 14     X360           2013.0  Sports      0.92      2.89      0.01   \n",
       "469   FIFA 14      PS4           2013.0  Sports      0.61      1.85      0.11   \n",
       "1753  FIFA 14     XOne           2013.0  Sports      0.41      0.66      0.00   \n",
       "4699  FIFA 14      PSV           2013.0  Sports      0.08      0.23      0.01   \n",
       "4809  FIFA 14       PC           2013.0  Sports      0.01      0.36      0.00   \n",
       "4985  FIFA 14      Wii           2013.0  Sports      0.00      0.36      0.00   \n",
       "6871  FIFA 14      3DS           2013.0  Sports      0.00      0.22      0.00   \n",
       "7875  FIFA 14      PSP           2013.0  Sports      0.00      0.15      0.00   \n",
       "\n",
       "      other_sales  critic_score user_score rating  \n",
       "126          1.37          86.0        4.3      E  \n",
       "271          0.40          84.0        4.2      E  \n",
       "469          0.44          87.0        6.3      E  \n",
       "1753         0.09          88.0        5.8      E  \n",
       "4699         0.09           NaN        1.8      E  \n",
       "4809         0.03          87.0        4.6      E  \n",
       "4985         0.02           NaN        4.3      E  \n",
       "6871         0.01           NaN        NaN    NaN  \n",
       "7875         0.04           NaN        3.4      E  "
      ]
     },
     "execution_count": 11,
     "metadata": {},
     "output_type": "execute_result"
    }
   ],
   "source": [
    "df[df[\"name\"] == \"FIFA 14\"]"
   ]
  },
  {
   "cell_type": "markdown",
   "metadata": {},
   "source": [
    "En general, una mirada parcial nos indica que los nombres de juegos duplicados encontrados al momento se justifican ya que son lanzados en diferentes consolas y/o años."
   ]
  },
  {
   "cell_type": "code",
   "execution_count": 12,
   "metadata": {
    "scrolled": false
   },
   "outputs": [
    {
     "data": {
      "text/plain": [
       "0"
      ]
     },
     "execution_count": 12,
     "metadata": {},
     "output_type": "execute_result"
    }
   ],
   "source": [
    "df.duplicated().sum()"
   ]
  },
  {
   "cell_type": "markdown",
   "metadata": {},
   "source": [
    "Inicialmente no contaríamos con filas exactamente iguales."
   ]
  },
  {
   "cell_type": "markdown",
   "metadata": {},
   "source": [
    "Para el tratamiento de los valores ausentes, comenzaremos con los elementos que tienen ausente el año de lanzamiento. Para ello, buscaremos datos que nos aporten aquel valor, por ejemplo el mismo nombre del juego (FIFA 2014, quiere decir que se liberó el año anterior), por otro lado podemos filtrar el dataset por aquel nombre de juego y ver si en otra consola si se añadio aquel dato."
   ]
  },
  {
   "cell_type": "code",
   "execution_count": 13,
   "metadata": {
    "scrolled": false
   },
   "outputs": [
    {
     "data": {
      "text/html": [
       "<div>\n",
       "<style scoped>\n",
       "    .dataframe tbody tr th:only-of-type {\n",
       "        vertical-align: middle;\n",
       "    }\n",
       "\n",
       "    .dataframe tbody tr th {\n",
       "        vertical-align: top;\n",
       "    }\n",
       "\n",
       "    .dataframe thead th {\n",
       "        text-align: right;\n",
       "    }\n",
       "</style>\n",
       "<table border=\"1\" class=\"dataframe\">\n",
       "  <thead>\n",
       "    <tr style=\"text-align: right;\">\n",
       "      <th></th>\n",
       "      <th>name</th>\n",
       "      <th>platform</th>\n",
       "      <th>year_of_release</th>\n",
       "      <th>genre</th>\n",
       "      <th>na_sales</th>\n",
       "      <th>eu_sales</th>\n",
       "      <th>jp_sales</th>\n",
       "      <th>other_sales</th>\n",
       "      <th>critic_score</th>\n",
       "      <th>user_score</th>\n",
       "      <th>rating</th>\n",
       "    </tr>\n",
       "  </thead>\n",
       "  <tbody>\n",
       "    <tr>\n",
       "      <th>183</th>\n",
       "      <td>Madden NFL 2004</td>\n",
       "      <td>PS2</td>\n",
       "      <td>NaN</td>\n",
       "      <td>Sports</td>\n",
       "      <td>4.26</td>\n",
       "      <td>0.26</td>\n",
       "      <td>0.01</td>\n",
       "      <td>0.71</td>\n",
       "      <td>94.0</td>\n",
       "      <td>8.5</td>\n",
       "      <td>E</td>\n",
       "    </tr>\n",
       "    <tr>\n",
       "      <th>1881</th>\n",
       "      <td>Madden NFL 2004</td>\n",
       "      <td>XB</td>\n",
       "      <td>2003.0</td>\n",
       "      <td>Sports</td>\n",
       "      <td>1.02</td>\n",
       "      <td>0.02</td>\n",
       "      <td>0.00</td>\n",
       "      <td>0.05</td>\n",
       "      <td>92.0</td>\n",
       "      <td>8.3</td>\n",
       "      <td>E</td>\n",
       "    </tr>\n",
       "    <tr>\n",
       "      <th>3889</th>\n",
       "      <td>Madden NFL 2004</td>\n",
       "      <td>GC</td>\n",
       "      <td>2003.0</td>\n",
       "      <td>Sports</td>\n",
       "      <td>0.40</td>\n",
       "      <td>0.10</td>\n",
       "      <td>0.00</td>\n",
       "      <td>0.01</td>\n",
       "      <td>94.0</td>\n",
       "      <td>7.7</td>\n",
       "      <td>E</td>\n",
       "    </tr>\n",
       "    <tr>\n",
       "      <th>5708</th>\n",
       "      <td>Madden NFL 2004</td>\n",
       "      <td>GBA</td>\n",
       "      <td>2003.0</td>\n",
       "      <td>Sports</td>\n",
       "      <td>0.22</td>\n",
       "      <td>0.08</td>\n",
       "      <td>0.00</td>\n",
       "      <td>0.01</td>\n",
       "      <td>70.0</td>\n",
       "      <td>6.6</td>\n",
       "      <td>E</td>\n",
       "    </tr>\n",
       "  </tbody>\n",
       "</table>\n",
       "</div>"
      ],
      "text/plain": [
       "                 name platform  year_of_release   genre  na_sales  eu_sales  \\\n",
       "183   Madden NFL 2004      PS2              NaN  Sports      4.26      0.26   \n",
       "1881  Madden NFL 2004       XB           2003.0  Sports      1.02      0.02   \n",
       "3889  Madden NFL 2004       GC           2003.0  Sports      0.40      0.10   \n",
       "5708  Madden NFL 2004      GBA           2003.0  Sports      0.22      0.08   \n",
       "\n",
       "      jp_sales  other_sales  critic_score user_score rating  \n",
       "183       0.01         0.71          94.0        8.5      E  \n",
       "1881      0.00         0.05          92.0        8.3      E  \n",
       "3889      0.00         0.01          94.0        7.7      E  \n",
       "5708      0.00         0.01          70.0        6.6      E  "
      ]
     },
     "execution_count": 13,
     "metadata": {},
     "output_type": "execute_result"
    }
   ],
   "source": [
    "df[df[\"name\"] == \"Madden NFL 2004\"] "
   ]
  },
  {
   "cell_type": "markdown",
   "metadata": {},
   "source": [
    "En el primer caso encontramos que el juego Madden NFL 2004 para PS2 no tiene su año de lanzamiento, pero en otras consolas sí, por lo que se cambiará aquel valor al mismo. El mismo análisis será análogo a los otros juegos, por lo que se hará de la misma manera.\n",
    "\n",
    "Para los juegos que no se encontró la fecha de lanzamiento ya que son únicos en su categoría, se busco la fecha de lanzamiento en internet y se agregó como dato adicional."
   ]
  },
  {
   "cell_type": "code",
   "execution_count": 14,
   "metadata": {
    "scrolled": false
   },
   "outputs": [
    {
     "data": {
      "text/html": [
       "<div>\n",
       "<style scoped>\n",
       "    .dataframe tbody tr th:only-of-type {\n",
       "        vertical-align: middle;\n",
       "    }\n",
       "\n",
       "    .dataframe tbody tr th {\n",
       "        vertical-align: top;\n",
       "    }\n",
       "\n",
       "    .dataframe thead th {\n",
       "        text-align: right;\n",
       "    }\n",
       "</style>\n",
       "<table border=\"1\" class=\"dataframe\">\n",
       "  <thead>\n",
       "    <tr style=\"text-align: right;\">\n",
       "      <th></th>\n",
       "      <th>name</th>\n",
       "      <th>platform</th>\n",
       "      <th>year_of_release</th>\n",
       "      <th>genre</th>\n",
       "      <th>na_sales</th>\n",
       "      <th>eu_sales</th>\n",
       "      <th>jp_sales</th>\n",
       "      <th>other_sales</th>\n",
       "      <th>critic_score</th>\n",
       "      <th>user_score</th>\n",
       "      <th>rating</th>\n",
       "    </tr>\n",
       "  </thead>\n",
       "  <tbody>\n",
       "    <tr>\n",
       "      <th>213</th>\n",
       "      <td>Madden NFL 06</td>\n",
       "      <td>PS2</td>\n",
       "      <td>2005.0</td>\n",
       "      <td>Sports</td>\n",
       "      <td>3.98</td>\n",
       "      <td>0.26</td>\n",
       "      <td>0.01</td>\n",
       "      <td>0.66</td>\n",
       "      <td>88.0</td>\n",
       "      <td>8</td>\n",
       "      <td>E</td>\n",
       "    </tr>\n",
       "    <tr>\n",
       "      <th>931</th>\n",
       "      <td>Madden NFL 06</td>\n",
       "      <td>XB</td>\n",
       "      <td>2005.0</td>\n",
       "      <td>Sports</td>\n",
       "      <td>1.75</td>\n",
       "      <td>0.03</td>\n",
       "      <td>0.00</td>\n",
       "      <td>0.08</td>\n",
       "      <td>86.0</td>\n",
       "      <td>6.7</td>\n",
       "      <td>E</td>\n",
       "    </tr>\n",
       "    <tr>\n",
       "      <th>2736</th>\n",
       "      <td>Madden NFL 06</td>\n",
       "      <td>PSP</td>\n",
       "      <td>2005.0</td>\n",
       "      <td>Sports</td>\n",
       "      <td>0.69</td>\n",
       "      <td>0.00</td>\n",
       "      <td>0.00</td>\n",
       "      <td>0.06</td>\n",
       "      <td>75.0</td>\n",
       "      <td>7.9</td>\n",
       "      <td>E</td>\n",
       "    </tr>\n",
       "    <tr>\n",
       "      <th>3413</th>\n",
       "      <td>Madden NFL 06</td>\n",
       "      <td>X360</td>\n",
       "      <td>2005.0</td>\n",
       "      <td>Sports</td>\n",
       "      <td>0.54</td>\n",
       "      <td>0.00</td>\n",
       "      <td>0.01</td>\n",
       "      <td>0.03</td>\n",
       "      <td>74.0</td>\n",
       "      <td>4.9</td>\n",
       "      <td>E</td>\n",
       "    </tr>\n",
       "    <tr>\n",
       "      <th>3506</th>\n",
       "      <td>Madden NFL 06</td>\n",
       "      <td>GC</td>\n",
       "      <td>2005.0</td>\n",
       "      <td>Sports</td>\n",
       "      <td>0.44</td>\n",
       "      <td>0.11</td>\n",
       "      <td>0.00</td>\n",
       "      <td>0.02</td>\n",
       "      <td>86.0</td>\n",
       "      <td>8.5</td>\n",
       "      <td>E</td>\n",
       "    </tr>\n",
       "    <tr>\n",
       "      <th>7015</th>\n",
       "      <td>Madden NFL 06</td>\n",
       "      <td>GBA</td>\n",
       "      <td>2005.0</td>\n",
       "      <td>Sports</td>\n",
       "      <td>0.17</td>\n",
       "      <td>0.06</td>\n",
       "      <td>0.00</td>\n",
       "      <td>0.00</td>\n",
       "      <td>71.0</td>\n",
       "      <td>tbd</td>\n",
       "      <td>E</td>\n",
       "    </tr>\n",
       "    <tr>\n",
       "      <th>9735</th>\n",
       "      <td>Madden NFL 06</td>\n",
       "      <td>DS</td>\n",
       "      <td>2005.0</td>\n",
       "      <td>Sports</td>\n",
       "      <td>0.11</td>\n",
       "      <td>0.00</td>\n",
       "      <td>0.00</td>\n",
       "      <td>0.01</td>\n",
       "      <td>66.0</td>\n",
       "      <td>6.3</td>\n",
       "      <td>E</td>\n",
       "    </tr>\n",
       "  </tbody>\n",
       "</table>\n",
       "</div>"
      ],
      "text/plain": [
       "               name platform  year_of_release   genre  na_sales  eu_sales  \\\n",
       "213   Madden NFL 06      PS2           2005.0  Sports      3.98      0.26   \n",
       "931   Madden NFL 06       XB           2005.0  Sports      1.75      0.03   \n",
       "2736  Madden NFL 06      PSP           2005.0  Sports      0.69      0.00   \n",
       "3413  Madden NFL 06     X360           2005.0  Sports      0.54      0.00   \n",
       "3506  Madden NFL 06       GC           2005.0  Sports      0.44      0.11   \n",
       "7015  Madden NFL 06      GBA           2005.0  Sports      0.17      0.06   \n",
       "9735  Madden NFL 06       DS           2005.0  Sports      0.11      0.00   \n",
       "\n",
       "      jp_sales  other_sales  critic_score user_score rating  \n",
       "213       0.01         0.66          88.0          8      E  \n",
       "931       0.00         0.08          86.0        6.7      E  \n",
       "2736      0.00         0.06          75.0        7.9      E  \n",
       "3413      0.01         0.03          74.0        4.9      E  \n",
       "3506      0.00         0.02          86.0        8.5      E  \n",
       "7015      0.00         0.00          71.0        tbd      E  \n",
       "9735      0.00         0.01          66.0        6.3      E  "
      ]
     },
     "execution_count": 14,
     "metadata": {},
     "output_type": "execute_result"
    }
   ],
   "source": [
    "df.loc[183, \"year_of_release\"] = 2003\n",
    "df.loc[377, \"year_of_release\"] = 2003\n",
    "df.loc[456, \"year_of_release\"] = 2008\n",
    "df.loc[1538, \"year_of_release\"] = 2008\n",
    "df.loc[475, \"year_of_release\"] = 2005\n",
    "df.loc[609, \"year_of_release\"] = 1978\n",
    "df.loc[15953, \"year_of_release\"] = 2008\n",
    "df.loc[16373, \"year_of_release\"] = 2008\n",
    "df.loc[16405, \"year_of_release\"] = 2003\n",
    "df.loc[16448, \"year_of_release\"] = 2012\n",
    "df.loc[16458, \"year_of_release\"] = 2008\n",
    "df.loc[15754, \"year_of_release\"] = 2004\n",
    "df.loc[16522, \"year_of_release\"] = 2004\n",
    "df.loc[627, \"year_of_release\"] = 2007\n",
    "df.loc[805, \"year_of_release\"] = 2007\n",
    "df.loc[1142, \"year_of_release\"] = 2007\n",
    "df.loc[1840, \"year_of_release\"] = 2007\n",
    "df.loc[657, \"year_of_release\"] = 2001\n",
    "df.loc[df[\"name\"] == \"LEGO Harry Potter: Years 5-7\", \"year_of_release\"] = 2012\n",
    "df.loc[df[\"name\"] == \"Happy Feet Two\", \"year_of_release\"] = 2011\n",
    "df.loc[df[\"name\"] == \"Test Drive Unlimited 2\", \"year_of_release\"] = 2011\n",
    "df.loc[df[\"name\"] == \"WRC: FIA World Rally Championship\", \"year_of_release\"] = 2005\n",
    "df.loc[df[\"name\"] == \"Bejeweled 3\", \"year_of_release\"] = 2010\n",
    "df.loc[df[\"name\"] == \"NBA Live 2003\", \"year_of_release\"] = 2002\n",
    "df.loc[df[\"name\"] == \"Rock Revolution\", \"year_of_release\"] = 2008\n",
    "df.loc[df[\"name\"] == \"The Lord of the Rings: War in the North\", \"year_of_release\"] = 2011\n",
    "df.loc[df[\"name\"] == \"Singularity\", \"year_of_release\"] = 2010\n",
    "df.loc[df[\"name\"] == \"Backbreaker\", \"year_of_release\"] = 2009\n",
    "df.loc[df[\"name\"] == \"Port Royale 2\", \"year_of_release\"] = 2012\n",
    "df.loc[df[\"name\"] == \"Combat Elite: WWII Paratroopers\", \"year_of_release\"] = 2005\n",
    "df.loc[df[\"name\"] == \"The Daring Game for Girls\", \"year_of_release\"] = 2009\n",
    "df.loc[df[\"name\"] == \"GRID\", \"year_of_release\"] = 2008\n",
    "df.loc[df[\"name\"] == \"Battle vs. Chess\", \"year_of_release\"] = 2011\n",
    "df.loc[df[\"name\"] == \"Metal Gear Solid 2: Substance\", \"year_of_release\"] = 2002\n",
    "df.loc[df[\"name\"] == \"Silent Hill: Homecoming\", \"year_of_release\"] = 2008\n",
    "df.loc[df[\"name\"] == \"Captain America: Super Soldier\", \"year_of_release\"] = 2011\n",
    "df.loc[df[\"name\"] == \"Robert Ludlum's The Bourne Conspiracy\", \"year_of_release\"] = 2008\n",
    "df.loc[df[\"name\"] == \"Port Royale 3\", \"year_of_release\"] = 2012\n",
    "df.loc[df[\"name\"] == \"The Chronicles of Narnia: The Lion, The Witch and The Wardrobe\", \"year_of_release\"] = 2005\n",
    "df.loc[df[\"name\"] == \"The Chronicles of Narnia: The Lion, The Witch and The Wardrobe\", \"year_of_release\"] = 2005\n",
    "df.loc[11832, \"year_of_release\"] = 2000\n",
    "df.loc[df[\"name\"] == \"All-Star Baseball 2005\", \"year_of_release\"] = 2004\n",
    "df.loc[df[\"name\"] == \"The Golden Compass\", \"year_of_release\"] = 2007\n",
    "df.loc[df[\"name\"] == \"RollerCoaster Tycoon\", \"year_of_release\"] = 2003\n",
    "df.loc[df[\"name\"] == \"World of Tanks\", \"year_of_release\"] = 2011\n",
    "df.loc[df[\"name\"] == \"Tony Hawk's Downhill Jam\", \"year_of_release\"] = 2006\n",
    "df.loc[df[\"name\"] == \"Tropico 4\", \"year_of_release\"] = 2011\n",
    "df.loc[df[\"name\"] == \"Nintendo Puzzle Collection\", \"year_of_release\"] = 2003\n",
    "df.loc[df[\"name\"] == \"National Geographic Challenge!\", \"year_of_release\"] = 2011\n",
    "df.loc[df[\"name\"] == \"Aquaman: Battle for Atlantis\", \"year_of_release\"] = 2003\n",
    "df.loc[12217, \"year_of_release\"] = 2001\n",
    "df.loc[14449, \"year_of_release\"] = 2010\n",
    "df.loc[7848, \"year_of_release\"] = 2011\n",
    "df.loc[16348, \"year_of_release\"] = 2010\n",
    "df.loc[14769, \"year_of_release\"] = 2003\n",
    "df.loc[1585, \"year_of_release\"] = 1977\n",
    "df.loc[7406, \"year_of_release\"] = 2011\n",
    "df.loc[df[\"name\"] == \"Def Jam: Fight for NY\", \"year_of_release\"] = 2004\n",
    "df.loc[15081, \"year_of_release\"] = 2002\n",
    "df.loc[11790, \"year_of_release\"] = 2009\n",
    "df.loc[10764, \"year_of_release\"] = 2008\n",
    "df.loc[6266, \"year_of_release\"] = 1977\n",
    "df.loc[df[\"name\"] == \"Shrek the Third\", \"year_of_release\"] = 2007\n",
    "df.loc[15022, \"year_of_release\"] = 2011\n",
    "df.loc[8884, \"year_of_release\"] = 2002\n",
    "df.loc[1506, \"year_of_release\"] = 1980\n",
    "df.loc[9293, \"year_of_release\"] = 2005\n",
    "df.loc[10486, \"year_of_release\"] = 2006\n",
    "df.loc[8547, \"year_of_release\"] = 2001\n",
    "df.loc[14950, \"year_of_release\"] = 2012\n",
    "df.loc[df[\"name\"] == \"Dead Island: Riptide\", \"year_of_release\"] = 2013\n",
    "df.loc[df[\"name\"] == \"Luxor: Pharaoh's Challenge\", \"year_of_release\"] = 2007\n",
    "df.loc[13195, \"year_of_release\"] = 2011\n",
    "df.loc[8632, \"year_of_release\"] = 2009\n",
    "df.loc[df[\"name\"] == \"Madden NFL 2002\", \"year_of_release\"] = 2001\n",
    "df.loc[df[\"name\"] == \"Without Warning\", \"year_of_release\"] = 2005\n",
    "df.loc[2010, \"year_of_release\"] = 1997\n",
    "df.loc[15998, \"year_of_release\"] = 2007\n",
    "df.loc[15119, \"year_of_release\"] = 2009\n",
    "df.loc[12003, \"year_of_release\"] = 2008\n",
    "df.loc[df[\"name\"] == \"Star Trek: Conquest\", \"year_of_release\"] = 2007\n",
    "df.loc[df[\"name\"] == \"NHL Hitz Pro\", \"year_of_release\"] = 2003\n",
    "df.loc[df[\"name\"] == \"James Cameron's Dark Angel\", \"year_of_release\"] = 2002\n",
    "df.loc[15795, \"year_of_release\"] = 2007\n",
    "df.loc[2106, \"year_of_release\"] = 1977\n",
    "df.loc[4437, \"year_of_release\"] = 1978\n",
    "df.loc[16288, \"year_of_release\"] = 2009\n",
    "df.loc[6624, \"year_of_release\"] = 2005\n",
    "df.loc[4648, \"year_of_release\"] = 2011\n",
    "df.loc[12784, \"year_of_release\"] = 2006\n",
    "df.loc[df[\"name\"] == \"Runaway: A Twist of Fate\", \"year_of_release\"] = 2009\n",
    "df.loc[11455, \"year_of_release\"] = 2011\n",
    "df.loc[7354, \"year_of_release\"] = 1978\n",
    "df.loc[15292, \"year_of_release\"] = 2008\n",
    "df.loc[4775, \"year_of_release\"] = 2002\n",
    "df.loc[2157, \"year_of_release\"] = 2003\n",
    "df.loc[df[\"name\"] == \"Teen Titans\", \"year_of_release\"] = 2006\n",
    "df.loc[df[\"name\"] == \"Record of Agarest War Zero\", \"year_of_release\"] = 2010\n",
    "df.loc[8680, \"year_of_release\"] = 2011\n",
    "df.loc[df[\"name\"] == \"Star Trek: Legacy\", \"year_of_release\"] = 2006\n",
    "df.loc[df[\"name\"] == \"Pac-Man Fever\", \"year_of_release\"] = 2001\n",
    "df.loc[1984, \"year_of_release\"] = 1999\n",
    "df.loc[9119, \"year_of_release\"] = 2009\n",
    "df.loc[df[\"name\"] == \"Transworld Surf\", \"year_of_release\"] = 2002\n",
    "df.loc[9761, \"year_of_release\"] = 2006\n",
    "df.loc[7387, \"year_of_release\"] = 2013\n",
    "df.loc[16277, \"year_of_release\"] = 2015\n",
    "df.loc[14105, \"year_of_release\"] = 2011\n",
    "df.loc[12880, \"year_of_release\"] = 2012\n",
    "df.loc[12568, \"year_of_release\"] = 2008\n",
    "df.loc[8364, \"year_of_release\"] = 2002\n",
    "df.loc[df[\"name\"] == \"Samurai Shodown Anthology\", \"year_of_release\"] = 2008\n",
    "df.loc[11957, \"year_of_release\"] = 2011\n",
    "df.loc[6255, \"year_of_release\"] = 2004\n",
    "df.loc[6133, \"year_of_release\"] = 2005\n",
    "df.loc[10837, \"year_of_release\"] = 2005\n",
    "df.loc[10612, \"year_of_release\"] = 2009\n",
    "df.loc[2169, \"year_of_release\"] = 2010\n",
    "df.loc[11338, \"year_of_release\"] = 2009\n",
    "df.loc[2108, \"year_of_release\"] = 2002\n",
    "df.loc[df[\"name\"] == \"BioShock 2\", \"year_of_release\"] = 2010\n",
    "df.loc[14350, \"year_of_release\"] = 2007\n",
    "df.loc[16080, \"year_of_release\"] = 2010\n",
    "df.loc[13929, \"year_of_release\"] = 2006\n",
    "df.loc[2281, \"year_of_release\"] = 2001\n",
    "df.loc[9664, \"year_of_release\"] = 2009\n",
    "df.loc[df[\"name\"] == \"MLB SlugFest 20-03\", \"year_of_release\"] = 2002\n",
    "df.loc[df[\"name\"] == \"NASCAR: Dirt to Daytona\", \"year_of_release\"] = 2002\n",
    "df.loc[1301, \"year_of_release\"] = 1998\n",
    "df.loc[12970, \"year_of_release\"] = 2005\n",
    "df.loc[11943, \"year_of_release\"] = 2011\n",
    "df.loc[df[\"name\"] == \"NASCAR Thunder 2003\", \"year_of_release\"] = 2002\n",
    "df.loc[15557, \"year_of_release\"] = 2009\n",
    "df.loc[14210, \"year_of_release\"] = 2004\n",
    "df.loc[df[\"name\"] == \"NBA Starting Five\", \"year_of_release\"] = 2002\n",
    "df.loc[df[\"name\"] == \"Final Fantasy XI\", \"year_of_release\"] = 2006\n",
    "df.loc[4635, \"year_of_release\"] = 2010\n",
    "df.loc[4220, \"year_of_release\"] = 1980\n",
    "df.loc[df[\"name\"] == \"AKB1/48: Idol to Guam de Koishitara...\", \"year_of_release\"] = 2011\n",
    "df.loc[5041, \"year_of_release\"] = 1978\n",
    "df.loc[14931, \"year_of_release\"] = 2004\n",
    "df.loc[14597, \"year_of_release\"] = 2005\n",
    "df.loc[df[\"name\"] == \"Street Hoops\", \"year_of_release\"] = 2002\n",
    "df.loc[13289, \"year_of_release\"] = 2010\n",
    "df.loc[df[\"name\"] == \"Dance! It's Your Stage\", \"year_of_release\"] = 2011\n",
    "df.loc[4848, \"year_of_release\"] = 2001\n",
    "df.loc[14325, \"year_of_release\"] = 2012\n",
    "df.loc[5857, \"year_of_release\"] = 2000\n",
    "df.loc[8151, \"year_of_release\"] = 2011\n",
    "df.loc[3289, \"year_of_release\"] = 2008\n",
    "df.loc[7108, \"year_of_release\"] = 2010\n",
    "df.loc[15006, \"year_of_release\"] = 2006\n",
    "df.loc[3187, \"year_of_release\"] = 2006\n",
    "df.loc[df[\"name\"] == \"Major League Baseball 2K6\", \"year_of_release\"] = 2006\n",
    "df.loc[df[\"name\"] == \"Disney's Chicken Little: Ace In Action\", \"year_of_release\"] = 2006\n",
    "df.loc[df[\"name\"] == \"Cabela's Alaskan Adventure\", \"year_of_release\"] = 2006\n",
    "df.loc[5492, \"year_of_release\"] = 1999\n",
    "df.loc[df[\"name\"] == \"Splatterhouse\", \"year_of_release\"] = 2010\n",
    "df.loc[16017, \"year_of_release\"] = 2009\n",
    "df.loc[15079, \"year_of_release\"] = 2006\n",
    "df.loc[16079, \"year_of_release\"] = 2006\n",
    "df.loc[df[\"name\"] == \"Majesty 2: The Fantasy Kingdom Sim\", \"year_of_release\"] = 2009\n",
    "df.loc[df[\"name\"] == \"Robotech: Battlecry\", \"year_of_release\"] = 2002\n",
    "df.loc[2773, \"year_of_release\"] = 2004\n",
    "df.loc[8150, \"year_of_release\"] = 2001\n",
    "df.loc[df[\"name\"] == \"Wet\", \"year_of_release\"] = 2009\n",
    "df.loc[df[\"name\"] == \"Street Fighter IV\", \"year_of_release\"] = 2009\n",
    "df.loc[12046, \"year_of_release\"] = 2003\n",
    "df.loc[df[\"name\"] == \"Major League Baseball 2K8\", \"year_of_release\"] = 2008\n",
    "df.loc[14252, \"year_of_release\"] = 2007\n",
    "df.loc[df[\"name\"] == \"NBA Street Vol. 2\", \"year_of_release\"] = 2003\n",
    "df.loc[6293, \"year_of_release\"] = 2008\n",
    "df.loc[df[\"name\"] == \"Shaun White Snowboarding\", \"year_of_release\"] = 2008\n",
    "df.loc[df[\"name\"] == \"Jonah Lomu Rugby Challenge\", \"year_of_release\"] = 2011\n",
    "df.loc[7391, \"year_of_release\"] = 2011\n",
    "df.loc[4337, \"year_of_release\"] = 1978\n",
    "df.loc[df[\"name\"] == \"Gun\", \"year_of_release\"] = 2005\n",
    "df.loc[11377, \"year_of_release\"] = 2011\n",
    "df.loc[10258, \"year_of_release\"] = 2008\n",
    "df.loc[df[\"name\"] == \"Call of Duty: Black Ops\", \"year_of_release\"] = 2010\n",
    "df.loc[7332, \"year_of_release\"] = 2004\n",
    "df.loc[7605, \"year_of_release\"] = 1997\n",
    "df.loc[8250, \"year_of_release\"] = 2010\n",
    "df.loc[7353, \"year_of_release\"] = 1989\n",
    "df.loc[6899, \"year_of_release\"] = 2010\n",
    "df.loc[11119, \"year_of_release\"] = 2003\n",
    "df.loc[df[\"name\"] == \"Madden NFL 11\", \"year_of_release\"] = 2010\n",
    "df.loc[df[\"name\"] == \"Monster Hunter Frontier Online\", \"year_of_release\"] = 2010\n",
    "df.loc[df[\"name\"] == \"Mega Man X Collection\", \"year_of_release\"] = 2006\n",
    "df.loc[6954, \"year_of_release\"] = 2002\n",
    "df.loc[8740, \"year_of_release\"] = 1978\n",
    "df.loc[df[\"name\"] == \"Star Wars Jedi Knight II: Jedi Outcast\", \"year_of_release\"] = 2002\n",
    "df.loc[11000, \"year_of_release\"] = 2005\n",
    "df.loc[4132, \"year_of_release\"] = 1982\n",
    "df.loc[12209, \"year_of_release\"] = 2010\n",
    "df.loc[df[\"name\"] == \"Madden NFL 07\", \"year_of_release\"] = 2006\n",
    "df.loc[5874, \"year_of_release\"] = 2011\n",
    "df.loc[df[\"name\"] == \"Rocksmith\", \"year_of_release\"] = 2011\n",
    "df.loc[13672, \"year_of_release\"] = 2014\n",
    "df.loc[12959, \"year_of_release\"] = 2007\n",
    "df.loc[df[\"name\"] == \"Get Fit with Mel B\", \"year_of_release\"] = 2010\n",
    "df.loc[6101, \"year_of_release\"] = 2002\n",
    "df.loc[15338, \"year_of_release\"] = 2012\n",
    "df.loc[11433, \"year_of_release\"] = 2008\n",
    "df.loc[4127, \"year_of_release\"] = 2006\n",
    "df.loc[2572, \"year_of_release\"] = 2008\n",
    "df.loc[7008, \"year_of_release\"] = 2002\n",
    "df.loc[5800, \"year_of_release\"] = 1979\n",
    "df.loc[1699, \"year_of_release\"] = 2002\n",
    "df.loc[14126, \"year_of_release\"] = 2006\n",
    "df.loc[df[\"name\"] == \"Brothers in Arms: Furious 4\", \"year_of_release\"] = 2012\n",
    "df.loc[df[\"name\"] == \"LEGO Indiana Jones: The Original Adventures\", \"year_of_release\"] = 2008\n",
    "df.loc[5642, \"year_of_release\"] = 1980\n",
    "df.loc[9830, \"year_of_release\"] = 2003\n",
    "df.loc[df[\"name\"] == \"Call of Duty 3\", \"year_of_release\"] = 2006\n",
    "df.loc[5194, \"year_of_release\"] = 2002\n",
    "df.loc[df[\"name\"] == \"The History Channel: Great Battles - Medieval\", \"year_of_release\"] = 2010\n",
    "df.loc[15704, \"year_of_release\"] = 2007\n",
    "df.loc[9151, \"year_of_release\"] = 2000\n",
    "df.loc[df[\"name\"] == \"Tiger Woods PGA Tour 07\", \"year_of_release\"] = 2006\n",
    "df.loc[14749, \"year_of_release\"] = 2002\n",
    "df.loc[6299, \"year_of_release\"] = 1978\n",
    "df.loc[df[\"name\"] == \"Dinotopia: The Sunstone Odyssey\", \"year_of_release\"] = 2003\n",
    "df.loc[9738, \"year_of_release\"] = 2012\n",
    "df.loc[5294, \"year_of_release\"] = 2006\n",
    "df.loc[11092, \"year_of_release\"] = 2000\n",
    "df.loc[12011, \"year_of_release\"] = 2004\n",
    "df.loc[12718, \"year_of_release\"] = 2010\n",
    "df.loc[13711, \"year_of_release\"] = 1998\n",
    "df.loc[12524, \"year_of_release\"] = 2006\n",
    "df.loc[4294, \"year_of_release\"] = 2004\n",
    "df.loc[df[\"name\"] == \"Nicktoons: Battle for Volcano Island\", \"year_of_release\"] = 2006\n",
    "df.loc[df[\"name\"] == \"Madden NFL 06\", \"year_of_release\"] = 2005\n",
    "df.loc[12241, \"year_of_release\"] = 2006\n",
    "df.loc[df[\"name\"] == \"Rhythm Heaven\", \"year_of_release\"] = 2008\n",
    "df.loc[3883, \"year_of_release\"] = 1980\n",
    "df.loc[5336, \"year_of_release\"] = 2013\n",
    "df.loc[df[\"name\"] == \"Dead Space 3\", \"year_of_release\"] = 2013\n",
    "df.loc[df[\"name\"] == \"Strongest Tokyo University Shogi DS\", \"year_of_release\"] = 2007\n",
    "df.loc[15267, \"year_of_release\"] = 2009\n",
    "df.loc[12734, \"year_of_release\"] = 2008\n",
    "\n",
    "df[df[\"name\"] == \"Madden NFL 06\"]"
   ]
  },
  {
   "cell_type": "code",
   "execution_count": 15,
   "metadata": {
    "scrolled": true
   },
   "outputs": [
    {
     "data": {
      "text/html": [
       "<div>\n",
       "<style scoped>\n",
       "    .dataframe tbody tr th:only-of-type {\n",
       "        vertical-align: middle;\n",
       "    }\n",
       "\n",
       "    .dataframe tbody tr th {\n",
       "        vertical-align: top;\n",
       "    }\n",
       "\n",
       "    .dataframe thead th {\n",
       "        text-align: right;\n",
       "    }\n",
       "</style>\n",
       "<table border=\"1\" class=\"dataframe\">\n",
       "  <thead>\n",
       "    <tr style=\"text-align: right;\">\n",
       "      <th></th>\n",
       "      <th>name</th>\n",
       "      <th>platform</th>\n",
       "      <th>year_of_release</th>\n",
       "      <th>genre</th>\n",
       "      <th>na_sales</th>\n",
       "      <th>eu_sales</th>\n",
       "      <th>jp_sales</th>\n",
       "      <th>other_sales</th>\n",
       "      <th>critic_score</th>\n",
       "      <th>user_score</th>\n",
       "      <th>rating</th>\n",
       "    </tr>\n",
       "  </thead>\n",
       "  <tbody>\n",
       "  </tbody>\n",
       "</table>\n",
       "</div>"
      ],
      "text/plain": [
       "Empty DataFrame\n",
       "Columns: [name, platform, year_of_release, genre, na_sales, eu_sales, jp_sales, other_sales, critic_score, user_score, rating]\n",
       "Index: []"
      ]
     },
     "execution_count": 15,
     "metadata": {},
     "output_type": "execute_result"
    }
   ],
   "source": [
    "df[df[\"year_of_release\"].isna()]"
   ]
  },
  {
   "cell_type": "markdown",
   "metadata": {},
   "source": [
    "Habiendo concluido la primera parte del tratamiento de valores ausentes, tenemos que el año de salida de cada videojuego ha sido llenado con su respectivo valor. Quizás esto no es algo requerido para nuestro posterior análisis, pero si quise hacerlo porque se que dentro del trabajo a futuro en el preprocesamiento de datos pueden haber situaciones similares donde haya que aplicar algunos metodos para dejar los datos listos para su posterior trabajo."
   ]
  },
  {
   "cell_type": "markdown",
   "metadata": {},
   "source": [
    "Con los datos ya limpios en lo que respecta a año, transformamos aquella columna a entero y logramos observar que el año de mayor venta de juegos fue el 2008. Esta columna podría perfectamente ser transformada a una del tipo datetime, pero ya que no es una fecha, el tratamiento en sí para trabajarlo no dificulta mantenerla como entero."
   ]
  },
  {
   "cell_type": "code",
   "execution_count": 16,
   "metadata": {},
   "outputs": [
    {
     "data": {
      "text/plain": [
       "2008    1455\n",
       "2009    1445\n",
       "2010    1279\n",
       "2007    1213\n",
       "2011    1170\n",
       "2006    1031\n",
       "2005     957\n",
       "2002     852\n",
       "2003     789\n",
       "2004     773\n",
       "2012     670\n",
       "2015     607\n",
       "2014     582\n",
       "2013     548\n",
       "2016     502\n",
       "2001     490\n",
       "1998     381\n",
       "2000     354\n",
       "1999     340\n",
       "1997     291\n",
       "1996     263\n",
       "1995     219\n",
       "1994     121\n",
       "1993      62\n",
       "1981      46\n",
       "1992      43\n",
       "1991      41\n",
       "1982      37\n",
       "1986      21\n",
       "1989      18\n",
       "1983      17\n",
       "1990      16\n",
       "1987      16\n",
       "1988      15\n",
       "1984      14\n",
       "1980      13\n",
       "1985      13\n",
       "1978       7\n",
       "1977       3\n",
       "1979       1\n",
       "Name: year_of_release, dtype: int64"
      ]
     },
     "execution_count": 16,
     "metadata": {},
     "output_type": "execute_result"
    }
   ],
   "source": [
    "df[\"year_of_release\"] = df[\"year_of_release\"].astype(\"int64\")\n",
    "df[\"year_of_release\"].value_counts()"
   ]
  },
  {
   "cell_type": "code",
   "execution_count": 17,
   "metadata": {
    "scrolled": false
   },
   "outputs": [
    {
     "data": {
      "text/html": [
       "<div>\n",
       "<style scoped>\n",
       "    .dataframe tbody tr th:only-of-type {\n",
       "        vertical-align: middle;\n",
       "    }\n",
       "\n",
       "    .dataframe tbody tr th {\n",
       "        vertical-align: top;\n",
       "    }\n",
       "\n",
       "    .dataframe thead th {\n",
       "        text-align: right;\n",
       "    }\n",
       "</style>\n",
       "<table border=\"1\" class=\"dataframe\">\n",
       "  <thead>\n",
       "    <tr style=\"text-align: right;\">\n",
       "      <th></th>\n",
       "      <th>name</th>\n",
       "      <th>platform</th>\n",
       "      <th>year_of_release</th>\n",
       "      <th>genre</th>\n",
       "      <th>na_sales</th>\n",
       "      <th>eu_sales</th>\n",
       "      <th>jp_sales</th>\n",
       "      <th>other_sales</th>\n",
       "      <th>critic_score</th>\n",
       "      <th>user_score</th>\n",
       "      <th>rating</th>\n",
       "    </tr>\n",
       "  </thead>\n",
       "  <tbody>\n",
       "    <tr>\n",
       "      <th>659</th>\n",
       "      <td>NaN</td>\n",
       "      <td>GEN</td>\n",
       "      <td>1993</td>\n",
       "      <td>NaN</td>\n",
       "      <td>1.78</td>\n",
       "      <td>0.53</td>\n",
       "      <td>0.00</td>\n",
       "      <td>0.08</td>\n",
       "      <td>NaN</td>\n",
       "      <td>NaN</td>\n",
       "      <td>NaN</td>\n",
       "    </tr>\n",
       "    <tr>\n",
       "      <th>14244</th>\n",
       "      <td>NaN</td>\n",
       "      <td>GEN</td>\n",
       "      <td>1993</td>\n",
       "      <td>NaN</td>\n",
       "      <td>0.00</td>\n",
       "      <td>0.00</td>\n",
       "      <td>0.03</td>\n",
       "      <td>0.00</td>\n",
       "      <td>NaN</td>\n",
       "      <td>NaN</td>\n",
       "      <td>NaN</td>\n",
       "    </tr>\n",
       "  </tbody>\n",
       "</table>\n",
       "</div>"
      ],
      "text/plain": [
       "      name platform  year_of_release genre  na_sales  eu_sales  jp_sales  \\\n",
       "659    NaN      GEN             1993   NaN      1.78      0.53      0.00   \n",
       "14244  NaN      GEN             1993   NaN      0.00      0.00      0.03   \n",
       "\n",
       "       other_sales  critic_score user_score rating  \n",
       "659           0.08           NaN        NaN    NaN  \n",
       "14244         0.00           NaN        NaN    NaN  "
      ]
     },
     "execution_count": 17,
     "metadata": {},
     "output_type": "execute_result"
    }
   ],
   "source": [
    "df.query(\"genre.isna()\")"
   ]
  },
  {
   "cell_type": "markdown",
   "metadata": {},
   "source": [
    "Para los siguientes valores ausentes, vemos que las dos filas que poseen genero sin datos son las mismas que tienen valores ausentes en el nombre. Estas columnas se dejarán como están, ya que lo que nos interesa para el análisis son las ventas (na_sales, eu_sales, jp_sales). Eliminarlas del registro eliminaría sus ventas de por sí y ello podría influir en el resultado esperado."
   ]
  },
  {
   "cell_type": "markdown",
   "metadata": {},
   "source": [
    "Continuando con la preparación de los datos, tenemos tres columnas que se relacionan entre sí, que son: critic_score, user_score y rating. Las primeras dos son básicamente calificaciones de la critica y usuarios especificamente, y la última es el rating que establece la ESRB. La primera que trataremos será el critic_score."
   ]
  },
  {
   "cell_type": "code",
   "execution_count": 18,
   "metadata": {},
   "outputs": [
    {
     "name": "stdout",
     "output_type": "stream",
     "text": [
      "71.0\n"
     ]
    }
   ],
   "source": [
    "df[\"critic_score\"].fillna(71, inplace = True)\n",
    "print(df[\"critic_score\"].median())"
   ]
  },
  {
   "cell_type": "markdown",
   "metadata": {},
   "source": [
    "Rellenamos los valores ausentes por la mediana, considerando que es una distribución sesgada, con tal de que mantenga aquel valor estadístico."
   ]
  },
  {
   "cell_type": "markdown",
   "metadata": {},
   "source": [
    "Ahora, para el user_score, lo haremos de forma similar a lo previo. Primero, reemplazamos los valores tbd que significan \"to be determined\" por NaN y luego pasamos a float. Afortunadamente, pandas nos permite realizar operaciones con valores NaN, por ejemplo obtener la mediana y otros valores estadísticos."
   ]
  },
  {
   "cell_type": "code",
   "execution_count": 19,
   "metadata": {},
   "outputs": [
    {
     "data": {
      "text/plain": [
       "7.5"
      ]
     },
     "execution_count": 19,
     "metadata": {},
     "output_type": "execute_result"
    }
   ],
   "source": [
    "df[\"user_score\"].replace(\"tbd\", np.nan, inplace = True)\n",
    "df[\"user_score\"] = df[\"user_score\"].astype(\"float64\")\n",
    "df[\"user_score\"].median()"
   ]
  },
  {
   "cell_type": "code",
   "execution_count": 20,
   "metadata": {
    "scrolled": true
   },
   "outputs": [
    {
     "data": {
      "text/plain": [
       "9982     7.5\n",
       "7104     8.2\n",
       "8428     7.5\n",
       "1515     6.1\n",
       "7993     7.5\n",
       "2038     8.7\n",
       "1465     8.6\n",
       "9035     8.4\n",
       "15769    7.5\n",
       "406      7.5\n",
       "Name: user_score, dtype: float64"
      ]
     },
     "execution_count": 20,
     "metadata": {},
     "output_type": "execute_result"
    }
   ],
   "source": [
    "df[\"user_score\"].fillna(7.5, inplace = True)\n",
    "df[\"user_score\"].sample(10)"
   ]
  },
  {
   "cell_type": "code",
   "execution_count": 21,
   "metadata": {},
   "outputs": [
    {
     "data": {
      "text/plain": [
       "count    16715.00000\n",
       "mean         7.32974\n",
       "std          1.02785\n",
       "min          0.00000\n",
       "25%          7.50000\n",
       "50%          7.50000\n",
       "75%          7.50000\n",
       "max          9.70000\n",
       "Name: user_score, dtype: float64"
      ]
     },
     "execution_count": 21,
     "metadata": {},
     "output_type": "execute_result"
    }
   ],
   "source": [
    "df[\"user_score\"].describe()"
   ]
  },
  {
   "cell_type": "markdown",
   "metadata": {},
   "source": [
    "Ahora, usando el metodo describe( ), tenemos estadísticas para nuestras columnas user_score, lo cual nos será de utilidad para más adelante.\n",
    "\n",
    "Finalmente, para el rating, tenemos muchos valores ausentes y ya que es algo mas complejo de tratar que un valor que se puede asociar a una media de una población, los dejaremos como están. Eso sí, lo cambiaremos por Sin Calificacion."
   ]
  },
  {
   "cell_type": "code",
   "execution_count": 22,
   "metadata": {},
   "outputs": [
    {
     "data": {
      "text/plain": [
       "NaN     6766\n",
       "E       3990\n",
       "T       2961\n",
       "M       1563\n",
       "E10+    1420\n",
       "EC         8\n",
       "RP         3\n",
       "K-A        3\n",
       "AO         1\n",
       "Name: rating, dtype: int64"
      ]
     },
     "execution_count": 22,
     "metadata": {},
     "output_type": "execute_result"
    }
   ],
   "source": [
    "df[\"rating\"].value_counts(dropna = False)"
   ]
  },
  {
   "cell_type": "code",
   "execution_count": 23,
   "metadata": {},
   "outputs": [
    {
     "data": {
      "text/plain": [
       "sin_calificacion    6766\n",
       "E                   3990\n",
       "T                   2961\n",
       "M                   1563\n",
       "E10+                1420\n",
       "EC                     8\n",
       "RP                     3\n",
       "K-A                    3\n",
       "AO                     1\n",
       "Name: rating, dtype: int64"
      ]
     },
     "execution_count": 23,
     "metadata": {},
     "output_type": "execute_result"
    }
   ],
   "source": [
    "df[\"rating\"].fillna(\"sin_calificacion\", inplace = True)\n",
    "df[\"rating\"].value_counts(dropna = False)"
   ]
  },
  {
   "cell_type": "markdown",
   "metadata": {},
   "source": [
    "Para culminar los preparativos de nuestros datos, calcularemos las ventas totales de cada juego, añadiendo estas en una columna adicional."
   ]
  },
  {
   "cell_type": "code",
   "execution_count": 24,
   "metadata": {},
   "outputs": [
    {
     "data": {
      "text/html": [
       "<div>\n",
       "<style scoped>\n",
       "    .dataframe tbody tr th:only-of-type {\n",
       "        vertical-align: middle;\n",
       "    }\n",
       "\n",
       "    .dataframe tbody tr th {\n",
       "        vertical-align: top;\n",
       "    }\n",
       "\n",
       "    .dataframe thead th {\n",
       "        text-align: right;\n",
       "    }\n",
       "</style>\n",
       "<table border=\"1\" class=\"dataframe\">\n",
       "  <thead>\n",
       "    <tr style=\"text-align: right;\">\n",
       "      <th></th>\n",
       "      <th>name</th>\n",
       "      <th>platform</th>\n",
       "      <th>year_of_release</th>\n",
       "      <th>genre</th>\n",
       "      <th>na_sales</th>\n",
       "      <th>eu_sales</th>\n",
       "      <th>jp_sales</th>\n",
       "      <th>other_sales</th>\n",
       "      <th>critic_score</th>\n",
       "      <th>user_score</th>\n",
       "      <th>rating</th>\n",
       "      <th>total_sales</th>\n",
       "    </tr>\n",
       "  </thead>\n",
       "  <tbody>\n",
       "    <tr>\n",
       "      <th>12752</th>\n",
       "      <td>Winx Club: Quest for the Codex</td>\n",
       "      <td>DS</td>\n",
       "      <td>2006</td>\n",
       "      <td>Action</td>\n",
       "      <td>0.03</td>\n",
       "      <td>0.02</td>\n",
       "      <td>0.0</td>\n",
       "      <td>0.00</td>\n",
       "      <td>71.0</td>\n",
       "      <td>6.8</td>\n",
       "      <td>E</td>\n",
       "      <td>0.05</td>\n",
       "    </tr>\n",
       "    <tr>\n",
       "      <th>4756</th>\n",
       "      <td>Disney's Hercules / Disney's The Jungle Book: ...</td>\n",
       "      <td>PS</td>\n",
       "      <td>2003</td>\n",
       "      <td>Misc</td>\n",
       "      <td>0.23</td>\n",
       "      <td>0.15</td>\n",
       "      <td>0.0</td>\n",
       "      <td>0.03</td>\n",
       "      <td>71.0</td>\n",
       "      <td>7.5</td>\n",
       "      <td>sin_calificacion</td>\n",
       "      <td>0.41</td>\n",
       "    </tr>\n",
       "    <tr>\n",
       "      <th>5694</th>\n",
       "      <td>F1 Race Stars</td>\n",
       "      <td>PS3</td>\n",
       "      <td>2012</td>\n",
       "      <td>Racing</td>\n",
       "      <td>0.06</td>\n",
       "      <td>0.19</td>\n",
       "      <td>0.0</td>\n",
       "      <td>0.06</td>\n",
       "      <td>61.0</td>\n",
       "      <td>5.6</td>\n",
       "      <td>E</td>\n",
       "      <td>0.31</td>\n",
       "    </tr>\n",
       "  </tbody>\n",
       "</table>\n",
       "</div>"
      ],
      "text/plain": [
       "                                                    name platform  \\\n",
       "12752                     Winx Club: Quest for the Codex       DS   \n",
       "4756   Disney's Hercules / Disney's The Jungle Book: ...       PS   \n",
       "5694                                       F1 Race Stars      PS3   \n",
       "\n",
       "       year_of_release   genre  na_sales  eu_sales  jp_sales  other_sales  \\\n",
       "12752             2006  Action      0.03      0.02       0.0         0.00   \n",
       "4756              2003    Misc      0.23      0.15       0.0         0.03   \n",
       "5694              2012  Racing      0.06      0.19       0.0         0.06   \n",
       "\n",
       "       critic_score  user_score            rating  total_sales  \n",
       "12752          71.0         6.8                 E         0.05  \n",
       "4756           71.0         7.5  sin_calificacion         0.41  \n",
       "5694           61.0         5.6                 E         0.31  "
      ]
     },
     "execution_count": 24,
     "metadata": {},
     "output_type": "execute_result"
    }
   ],
   "source": [
    "df[\"total_sales\"] = df[\"na_sales\"] + df[\"eu_sales\"] + df[\"jp_sales\"] + df[\"other_sales\"]\n",
    "df.sample(3)"
   ]
  },
  {
   "cell_type": "markdown",
   "metadata": {},
   "source": [
    "## Análisis de los Datos\n",
    "\n",
    "Con los datos procesados para trabajar, comenzaremos nuestro análisis. Para ello, veremos un dato relevante correspondiente al año de liberación de videojuegos."
   ]
  },
  {
   "cell_type": "markdown",
   "metadata": {},
   "source": [
    "### Cantidad de lanzamiento de juegos por año\n",
    "\n",
    "Revisando el lanzamiento de juegos por años, vemos que la \"época dorada\" estuvo entre 2006 - 2011 donde todos superan los 1000 lanzamientos. Hay que considerar, eso sí, que estos datos son solamente respecto en lo que tenemos en nuestro dataset y no un general. Por ende, bajo nuestro contexto de datos limitados al dataset respectivo, se puede argumentar lo anterior."
   ]
  },
  {
   "cell_type": "code",
   "execution_count": 25,
   "metadata": {},
   "outputs": [
    {
     "data": {
      "text/plain": [
       "2008    1455\n",
       "2009    1445\n",
       "2010    1279\n",
       "2007    1213\n",
       "2011    1170\n",
       "2006    1031\n",
       "2005     957\n",
       "2002     852\n",
       "2003     789\n",
       "2004     773\n",
       "2012     670\n",
       "2015     607\n",
       "2014     582\n",
       "2013     548\n",
       "2016     502\n",
       "2001     490\n",
       "1998     381\n",
       "2000     354\n",
       "1999     340\n",
       "1997     291\n",
       "1996     263\n",
       "1995     219\n",
       "1994     121\n",
       "1993      62\n",
       "1981      46\n",
       "1992      43\n",
       "1991      41\n",
       "1982      37\n",
       "1986      21\n",
       "1989      18\n",
       "1983      17\n",
       "1990      16\n",
       "1987      16\n",
       "1988      15\n",
       "1984      14\n",
       "1980      13\n",
       "1985      13\n",
       "1978       7\n",
       "1977       3\n",
       "1979       1\n",
       "Name: year_of_release, dtype: int64"
      ]
     },
     "execution_count": 25,
     "metadata": {},
     "output_type": "execute_result"
    }
   ],
   "source": [
    "df[\"year_of_release\"].value_counts()"
   ]
  },
  {
   "cell_type": "markdown",
   "metadata": {},
   "source": [
    "### Selección de las mejores plataformas respecto de sus ventas\n",
    "\n",
    "Respecto de las plataformas, agruparemos los datos de aquellas para ver cuál es la que posee mayores ventas."
   ]
  },
  {
   "cell_type": "code",
   "execution_count": 26,
   "metadata": {
    "scrolled": false
   },
   "outputs": [
    {
     "data": {
      "text/plain": [
       "platform\n",
       "PS2     1255.77\n",
       "X360     971.42\n",
       "PS3      939.65\n",
       "Wii      907.51\n",
       "DS       806.12\n",
       "PS       730.86\n",
       "GBA      317.85\n",
       "PS4      314.14\n",
       "PSP      294.05\n",
       "PC       259.52\n",
       "3DS      259.00\n",
       "XB       257.74\n",
       "GB       255.46\n",
       "NES      251.05\n",
       "N64      218.68\n",
       "SNES     200.04\n",
       "GC       198.93\n",
       "XOne     159.32\n",
       "2600      96.98\n",
       "WiiU      82.19\n",
       "PSV       54.07\n",
       "SAT       33.59\n",
       "GEN       30.77\n",
       "DC        15.95\n",
       "SCD        1.86\n",
       "NG         1.44\n",
       "WS         1.42\n",
       "TG16       0.16\n",
       "3DO        0.10\n",
       "GG         0.04\n",
       "PCFX       0.03\n",
       "Name: total_sales, dtype: float64"
      ]
     },
     "execution_count": 26,
     "metadata": {},
     "output_type": "execute_result"
    }
   ],
   "source": [
    "df.groupby(\"platform\")[\"total_sales\"].sum().sort_values(ascending = False)\n"
   ]
  },
  {
   "cell_type": "markdown",
   "metadata": {},
   "source": [
    "Ahora seleccionaremos las primeras 5 plataformas con mayores cantidades de ventas:\n",
    "\n",
    "* PS2\n",
    "* X360\n",
    "* PS3\n",
    "* Wii\n",
    "* DS"
   ]
  },
  {
   "cell_type": "code",
   "execution_count": 27,
   "metadata": {
    "scrolled": false
   },
   "outputs": [
    {
     "name": "stdout",
     "output_type": "stream",
     "text": [
      "<class 'pandas.core.frame.DataFrame'>\n",
      "Int64Index: 8225 entries, 0 to 16711\n",
      "Data columns (total 12 columns):\n",
      " #   Column           Non-Null Count  Dtype  \n",
      "---  ------           --------------  -----  \n",
      " 0   name             8225 non-null   object \n",
      " 1   platform         8225 non-null   object \n",
      " 2   year_of_release  8225 non-null   int64  \n",
      " 3   genre            8225 non-null   object \n",
      " 4   na_sales         8225 non-null   float64\n",
      " 5   eu_sales         8225 non-null   float64\n",
      " 6   jp_sales         8225 non-null   float64\n",
      " 7   other_sales      8225 non-null   float64\n",
      " 8   critic_score     8225 non-null   float64\n",
      " 9   user_score       8225 non-null   float64\n",
      " 10  rating           8225 non-null   object \n",
      " 11  total_sales      8225 non-null   float64\n",
      "dtypes: float64(7), int64(1), object(4)\n",
      "memory usage: 835.4+ KB\n"
     ]
    }
   ],
   "source": [
    "best_platforms = [\"PS2\", \"X360\", \"PS3\", \"Wii\", \"DS\"]\n",
    "df2 = df[df[\"platform\"].isin(best_platforms)] #creamos un nuevo dataframe con el filtro de nuestras 5 plataformas\n",
    "df2.info() "
   ]
  },
  {
   "cell_type": "code",
   "execution_count": 28,
   "metadata": {
    "scrolled": false
   },
   "outputs": [
    {
     "data": {
      "text/html": [
       "<div>\n",
       "<style scoped>\n",
       "    .dataframe tbody tr th:only-of-type {\n",
       "        vertical-align: middle;\n",
       "    }\n",
       "\n",
       "    .dataframe tbody tr th {\n",
       "        vertical-align: top;\n",
       "    }\n",
       "\n",
       "    .dataframe thead th {\n",
       "        text-align: right;\n",
       "    }\n",
       "</style>\n",
       "<table border=\"1\" class=\"dataframe\">\n",
       "  <thead>\n",
       "    <tr style=\"text-align: right;\">\n",
       "      <th></th>\n",
       "      <th>year_of_release</th>\n",
       "      <th>na_sales</th>\n",
       "      <th>eu_sales</th>\n",
       "      <th>jp_sales</th>\n",
       "      <th>other_sales</th>\n",
       "      <th>critic_score</th>\n",
       "      <th>user_score</th>\n",
       "      <th>total_sales</th>\n",
       "    </tr>\n",
       "  </thead>\n",
       "  <tbody>\n",
       "    <tr>\n",
       "      <th>count</th>\n",
       "      <td>8225.000000</td>\n",
       "      <td>8225.000000</td>\n",
       "      <td>8225.000000</td>\n",
       "      <td>8225.000000</td>\n",
       "      <td>8225.000000</td>\n",
       "      <td>8225.000000</td>\n",
       "      <td>8225.000000</td>\n",
       "      <td>8225.000000</td>\n",
       "    </tr>\n",
       "    <tr>\n",
       "      <th>mean</th>\n",
       "      <td>2008.047538</td>\n",
       "      <td>0.298979</td>\n",
       "      <td>0.169172</td>\n",
       "      <td>0.057960</td>\n",
       "      <td>0.067260</td>\n",
       "      <td>69.101884</td>\n",
       "      <td>7.259429</td>\n",
       "      <td>0.593370</td>\n",
       "    </tr>\n",
       "    <tr>\n",
       "      <th>std</th>\n",
       "      <td>3.135719</td>\n",
       "      <td>0.874709</td>\n",
       "      <td>0.614441</td>\n",
       "      <td>0.261807</td>\n",
       "      <td>0.248277</td>\n",
       "      <td>10.519406</td>\n",
       "      <td>1.103445</td>\n",
       "      <td>1.781629</td>\n",
       "    </tr>\n",
       "    <tr>\n",
       "      <th>min</th>\n",
       "      <td>2000.000000</td>\n",
       "      <td>0.000000</td>\n",
       "      <td>0.000000</td>\n",
       "      <td>0.000000</td>\n",
       "      <td>0.000000</td>\n",
       "      <td>13.000000</td>\n",
       "      <td>0.000000</td>\n",
       "      <td>0.000000</td>\n",
       "    </tr>\n",
       "    <tr>\n",
       "      <th>25%</th>\n",
       "      <td>2006.000000</td>\n",
       "      <td>0.020000</td>\n",
       "      <td>0.000000</td>\n",
       "      <td>0.000000</td>\n",
       "      <td>0.000000</td>\n",
       "      <td>68.000000</td>\n",
       "      <td>7.400000</td>\n",
       "      <td>0.080000</td>\n",
       "    </tr>\n",
       "    <tr>\n",
       "      <th>50%</th>\n",
       "      <td>2008.000000</td>\n",
       "      <td>0.100000</td>\n",
       "      <td>0.020000</td>\n",
       "      <td>0.000000</td>\n",
       "      <td>0.020000</td>\n",
       "      <td>71.000000</td>\n",
       "      <td>7.500000</td>\n",
       "      <td>0.190000</td>\n",
       "    </tr>\n",
       "    <tr>\n",
       "      <th>75%</th>\n",
       "      <td>2010.000000</td>\n",
       "      <td>0.280000</td>\n",
       "      <td>0.130000</td>\n",
       "      <td>0.030000</td>\n",
       "      <td>0.050000</td>\n",
       "      <td>71.000000</td>\n",
       "      <td>7.500000</td>\n",
       "      <td>0.530000</td>\n",
       "    </tr>\n",
       "    <tr>\n",
       "      <th>max</th>\n",
       "      <td>2016.000000</td>\n",
       "      <td>41.360000</td>\n",
       "      <td>28.960000</td>\n",
       "      <td>6.500000</td>\n",
       "      <td>10.570000</td>\n",
       "      <td>98.000000</td>\n",
       "      <td>9.500000</td>\n",
       "      <td>82.540000</td>\n",
       "    </tr>\n",
       "  </tbody>\n",
       "</table>\n",
       "</div>"
      ],
      "text/plain": [
       "       year_of_release     na_sales     eu_sales     jp_sales  other_sales  \\\n",
       "count      8225.000000  8225.000000  8225.000000  8225.000000  8225.000000   \n",
       "mean       2008.047538     0.298979     0.169172     0.057960     0.067260   \n",
       "std           3.135719     0.874709     0.614441     0.261807     0.248277   \n",
       "min        2000.000000     0.000000     0.000000     0.000000     0.000000   \n",
       "25%        2006.000000     0.020000     0.000000     0.000000     0.000000   \n",
       "50%        2008.000000     0.100000     0.020000     0.000000     0.020000   \n",
       "75%        2010.000000     0.280000     0.130000     0.030000     0.050000   \n",
       "max        2016.000000    41.360000    28.960000     6.500000    10.570000   \n",
       "\n",
       "       critic_score   user_score  total_sales  \n",
       "count   8225.000000  8225.000000  8225.000000  \n",
       "mean      69.101884     7.259429     0.593370  \n",
       "std       10.519406     1.103445     1.781629  \n",
       "min       13.000000     0.000000     0.000000  \n",
       "25%       68.000000     7.400000     0.080000  \n",
       "50%       71.000000     7.500000     0.190000  \n",
       "75%       71.000000     7.500000     0.530000  \n",
       "max       98.000000     9.500000    82.540000  "
      ]
     },
     "execution_count": 28,
     "metadata": {},
     "output_type": "execute_result"
    }
   ],
   "source": [
    "df2.describe()"
   ]
  },
  {
   "cell_type": "code",
   "execution_count": 29,
   "metadata": {
    "scrolled": false
   },
   "outputs": [
    {
     "data": {
      "text/plain": [
       "2008    1268\n",
       "2009    1176\n",
       "2007    1003\n",
       "2010     997\n",
       "2011     747\n",
       "2006     642\n",
       "2005     406\n",
       "2012     317\n",
       "2002     293\n",
       "2004     286\n",
       "2003     259\n",
       "2013     222\n",
       "2001     186\n",
       "2014     177\n",
       "2015     112\n",
       "2000      82\n",
       "2016      52\n",
       "Name: year_of_release, dtype: int64"
      ]
     },
     "execution_count": 29,
     "metadata": {},
     "output_type": "execute_result"
    }
   ],
   "source": [
    "df2[\"year_of_release\"].value_counts()"
   ]
  },
  {
   "cell_type": "markdown",
   "metadata": {},
   "source": [
    "Para nuestras 5 mejores plataformas seleccionadas, se mantiene el año con mayor cantidad de lanzamientos, que fue el 2008. \n",
    "\n",
    "Ahora, procederemos a visualizar la frecuencia de distribución de aquello por consolas."
   ]
  },
  {
   "cell_type": "code",
   "execution_count": 30,
   "metadata": {},
   "outputs": [
    {
     "data": {
      "image/png": "[encoded data removed]",
      "text/plain": [
       "<Figure size 640x480 with 1 Axes>"
      ]
     },
     "metadata": {},
     "output_type": "display_data"
    }
   ],
   "source": [
    "df_ps2 = df2[df2[\"platform\"] == \"PS2\"]\n",
    "df_x360 = df2[df2[\"platform\"] == \"X360\"]\n",
    "df_ps3 = df2[df2[\"platform\"] == \"PS3\"]\n",
    "df_wii = df2[df2[\"platform\"] == \"Wii\"]\n",
    "df_ds = df2[df2[\"platform\"] == \"DS\"]\n",
    "\n",
    "df_ps2[\"year_of_release\"].plot(kind = \"hist\", alpha = 0.6, label = \"PS2\")\n",
    "df_x360[\"year_of_release\"].plot(kind = \"hist\", color = \"red\", alpha = 0.8, label = \"X360\")\n",
    "df_ps3[\"year_of_release\"].plot(kind = \"hist\", color = \"green\", alpha = 0.6, label = \"PS3\")\n",
    "df_wii[\"year_of_release\"].plot(kind = \"hist\", color = \"pink\", alpha = 0.6, label = \"Wii\")\n",
    "df_ds[\"year_of_release\"].plot(kind = \"hist\", color = \"orange\", alpha = 0.6, label = \"DS\")\n",
    "\n",
    "plt.title(\"Distribución de lanzamiento de juegos por año en las 5 mejores consolas\")\n",
    "plt.legend()\n",
    "plt.show()\n"
   ]
  },
  {
   "cell_type": "markdown",
   "metadata": {},
   "source": [
    "Como se puede apreciar, la PS2 estuvo \"reinando\" un par de años sola hasta que vinieron a complementarse las otras 4 plataformas. El peak de lanzamientos lo tuvo la consola Wii entre 2009 - 2010."
   ]
  },
  {
   "cell_type": "markdown",
   "metadata": {},
   "source": [
    "De forma similar, un gráfico de caja de bigotes de las 5 plataformas nos muestra el \"lifespan\" de cada una de ellas. La PS2 es la que tiene mayor rango intercuartílico de ellas."
   ]
  },
  {
   "cell_type": "code",
   "execution_count": 31,
   "metadata": {
    "scrolled": false
   },
   "outputs": [
    {
     "data": {
      "image/png": "[encoded data removed]",
      "text/plain": [
       "<Figure size 640x480 with 1 Axes>"
      ]
     },
     "metadata": {},
     "output_type": "display_data"
    }
   ],
   "source": [
    "ax = sns.boxplot( x= \"platform\", y = \"year_of_release\", data = df2, width= 0.3)\n",
    "ax.set_title(\"Lanzamiento de juegos por consola\")\n",
    "ax.yaxis.grid(True)"
   ]
  },
  {
   "cell_type": "markdown",
   "metadata": {},
   "source": [
    "Ahora, si volvemos a la tabla general y vemos los lanzamientos de juegos por consola a través de los años tenemos el siguiente gráfico de caja de bigotes:\n",
    "\n",
    "En ella, podemos apreciar como desde una solitaria Atari 2600 comenzó la era de los videojuegos por consola."
   ]
  },
  {
   "cell_type": "code",
   "execution_count": 32,
   "metadata": {
    "scrolled": false
   },
   "outputs": [
    {
     "data": {
      "image/png": "[encoded data removed]",
      "text/plain": [
       "<Figure size 1000x2000 with 1 Axes>"
      ]
     },
     "metadata": {},
     "output_type": "display_data"
    }
   ],
   "source": [
    "fig, ax2 = plt.subplots(figsize=(10, 20))\n",
    "ax2 = sns.boxplot(x= \"year_of_release\", y = \"platform\", data = df, width= 0.3, orient = \"h\", showfliers=False)\n",
    "ax2.set_title(\"Lanzamiento de juegos por consola\")\n",
    "ax2.yaxis.grid(True)"
   ]
  },
  {
   "cell_type": "markdown",
   "metadata": {},
   "source": [
    "Volviendo a nuestro análisis principal, para revisar cuánto tardan las antiguas consolas en desaparecer, en pos de las nuevas, haremos un análisis de su \"vida útil\". Para ello, calcularemos la diferencia de su rango intercuartílico y así omitimos valores que nos obstaculicen y nos centramos donde se concentra el 50% medio de la muestra de cada una."
   ]
  },
  {
   "cell_type": "code",
   "execution_count": 33,
   "metadata": {},
   "outputs": [
    {
     "data": {
      "text/plain": [
       "3.2"
      ]
     },
     "execution_count": 33,
     "metadata": {},
     "output_type": "execute_result"
    }
   ],
   "source": [
    "ps2_lifespan = df[df[\"platform\"] == \"PS2\"][\"year_of_release\"]\n",
    "ps2_lifespan = ps2_lifespan.quantile(.75) - ps2_lifespan.quantile(.25)\n",
    "x360_lifespan = df[df[\"platform\"] == \"X360\"][\"year_of_release\"]\n",
    "x360_lifespan = x360_lifespan.quantile(.75) - x360_lifespan.quantile(.25)\n",
    "ps3_lifespan = df[df[\"platform\"] == \"PS3\"][\"year_of_release\"]\n",
    "ps3_lifespan = ps3_lifespan.quantile(.75) - ps3_lifespan.quantile(.25)\n",
    "wii_lifespan = df[df[\"platform\"] == \"Wii\"][\"year_of_release\"]\n",
    "wii_lifespan = wii_lifespan.quantile(.75) - wii_lifespan.quantile(.25)\n",
    "ds_lifespan = df[df[\"platform\"] == \"DS\"][\"year_of_release\"]\n",
    "ds_lifespan = ds_lifespan.quantile(.75) - ds_lifespan.quantile(.25)\n",
    "\n",
    "best_consoles_lifespan = [ps2_lifespan, x360_lifespan, ps3_lifespan, wii_lifespan, ds_lifespan]\n",
    "np.mean(best_consoles_lifespan)"
   ]
  },
  {
   "cell_type": "markdown",
   "metadata": {},
   "source": [
    "Con lo obtenido, para nuestras 5 mejores consolas (a nivel de ventas), su lifespan promedio es de 3.2 años y luego se van diluyendo las ventas entre las otras consolas nuevas."
   ]
  },
  {
   "cell_type": "markdown",
   "metadata": {},
   "source": [
    "### Selección de periodo de datos\n",
    "\n",
    "Para seleccionar el periodo relevante con el cual trabajar, utilizaremos desde el año 2006 en adelante, ya que desde aquel año los lanzamientos fueron mayores a 1000 (entre 2006 - 2011)."
   ]
  },
  {
   "cell_type": "markdown",
   "metadata": {},
   "source": [
    "Con lo anterior presente, efectuaremos el análisis nuevamente para visualizar que consolas tienen la mayor cantidad de ventas:"
   ]
  },
  {
   "cell_type": "code",
   "execution_count": 34,
   "metadata": {
    "scrolled": true
   },
   "outputs": [
    {
     "data": {
      "text/plain": [
       "platform\n",
       "X360    962.20\n",
       "PS3     939.46\n",
       "Wii     907.49\n",
       "DS      658.62\n",
       "PS4     314.14\n",
       "PS2     268.45\n",
       "3DS     259.00\n",
       "PSP     243.15\n",
       "PC      167.16\n",
       "XOne    159.32\n",
       "WiiU     82.19\n",
       "PSV      54.07\n",
       "GC       11.95\n",
       "XB       10.82\n",
       "GBA       8.86\n",
       "DC        0.06\n",
       "Name: total_sales, dtype: float64"
      ]
     },
     "execution_count": 34,
     "metadata": {},
     "output_type": "execute_result"
    }
   ],
   "source": [
    "df3 = df.query(\"year_of_release > 2005\") #generamos un nuevo DF filtrado con el año de 2006 en adelante.\n",
    "df3.groupby(\"platform\")[\"total_sales\"].sum().sort_values(ascending = False)"
   ]
  },
  {
   "cell_type": "markdown",
   "metadata": {},
   "source": [
    "La mayor cantidad de ventas desde el año 2005 en adelante las tiene la consola Xbox 360 seguida muy de cerca por la PS3 y la Wii. Por otra parte, las de menores ventas en este rango de años son la Dreamcast, seguida por la GameBoy Advance y la Xbox. Parte de ello es debido a que la Dreamcast no tuvo mucho auge en occidente y la GameBoy Advance ya estaba quedando relegada a las nuevas generaciones de consolas. lo mismo para la Xbox, que ya había sido reemplazada por la Xbox 360.\n",
    "\n",
    "Algo que llama la atención sobremanera es que para el periodo considerado, tenemos más ventas en juegos de Xbox360 y PS3, que para las consolas de mayor generación que serían XOne y PS4 respectivamente."
   ]
  },
  {
   "cell_type": "markdown",
   "metadata": {},
   "source": [
    "De nuestros datos podemos señalar que las 3 consolas más rentables son la X360, la PS3 y la Wii."
   ]
  },
  {
   "cell_type": "code",
   "execution_count": 35,
   "metadata": {},
   "outputs": [
    {
     "data": {
      "text/plain": [
       "5046.9400000000005"
      ]
     },
     "execution_count": 35,
     "metadata": {},
     "output_type": "execute_result"
    }
   ],
   "source": [
    "df3[\"total_sales\"].sum()"
   ]
  },
  {
   "cell_type": "markdown",
   "metadata": {},
   "source": [
    "El total de ventas de todas los juegos desde el 2006 en adelante es de 5046.9 millones de dólares"
   ]
  },
  {
   "cell_type": "markdown",
   "metadata": {},
   "source": [
    "### Ventas globales de juegos en periodo seleccionado\n",
    "\n",
    "Inicialmente, verificaremos cuál de los 3 mercados es más rentable, solamente verificando sus ventas totales."
   ]
  },
  {
   "cell_type": "code",
   "execution_count": 36,
   "metadata": {},
   "outputs": [
    {
     "name": "stdout",
     "output_type": "stream",
     "text": [
      "La venta de juegos por region es:\n",
      " NA: 2413.54, EU: 1509.43, JP: 565.78, Otros: 558.19\n"
     ]
    }
   ],
   "source": [
    "sales_na = df3[\"na_sales\"].sum()\n",
    "sales_eu = df3[\"eu_sales\"].sum()\n",
    "sales_jp = round(df3[\"jp_sales\"].sum(),2)\n",
    "sales_other = df3[\"other_sales\"].sum()\n",
    "\n",
    "print(\"La venta de juegos por region es:\")\n",
    "print(f\" NA: {sales_na}, EU: {sales_eu}, JP: {sales_jp}, Otros: {sales_other}\")"
   ]
  },
  {
   "cell_type": "markdown",
   "metadata": {},
   "source": [
    "Con esto, observamos que el mercado norteaméricano domina en gran manera la venta de videojuegos, seguido en segundo lugar por Europa. Hay que destacar que en Japón y otras regiones juntan poseen casi el mismo valor. Sin embargo, no podemos descartar el mercado japonés, ya que sus gustos, como veremos más adelante, son variados respecto a las consolas y videojuegos vendidos. Esto, hace que su mercado sea más versátil en comparación al resto."
   ]
  },
  {
   "cell_type": "markdown",
   "metadata": {},
   "source": [
    "Para las ventas globales por consola, generamos un diagrama de caja sin los outliers ya que el gráfico quedaba muy distorsionado."
   ]
  },
  {
   "cell_type": "code",
   "execution_count": 37,
   "metadata": {
    "scrolled": false
   },
   "outputs": [
    {
     "data": {
      "image/png": "[encoded data removed]",
      "text/plain": [
       "<Figure size 1000x2000 with 1 Axes>"
      ]
     },
     "metadata": {},
     "output_type": "display_data"
    }
   ],
   "source": [
    "fig, ax3 = plt.subplots(figsize=(10, 20))\n",
    "ax3 = sns.boxplot(x= \"total_sales\", y = \"platform\", data = df3, width= 0.3, orient = \"h\", showfliers=False)\n",
    "ax3.set_title(\"Lanzamiento de juegos por consola\")\n",
    "ax3.yaxis.grid(True)"
   ]
  },
  {
   "cell_type": "markdown",
   "metadata": {},
   "source": [
    "Como dato general, se aprecia  que la mayoría tiene su mediana dentro de 0.25 millones de dólares en ventas. Las únicas consolas que se escapan serían la XBOX360 y la PS3.\n",
    "\n",
    "Las diferencias son considerablemente significativas entre una consola y otra (a excepción del top 3 ya mencionado anteriormente). Por ejemplo la diferencia entre la consola de menor ventas (DreamCast) y la de mayor (XBOX360) es de un 1603333.33%"
   ]
  },
  {
   "cell_type": "code",
   "execution_count": 38,
   "metadata": {
    "scrolled": false
   },
   "outputs": [
    {
     "data": {
      "text/html": [
       "<div>\n",
       "<style scoped>\n",
       "    .dataframe tbody tr th:only-of-type {\n",
       "        vertical-align: middle;\n",
       "    }\n",
       "\n",
       "    .dataframe tbody tr th {\n",
       "        vertical-align: top;\n",
       "    }\n",
       "\n",
       "    .dataframe thead th {\n",
       "        text-align: right;\n",
       "    }\n",
       "</style>\n",
       "<table border=\"1\" class=\"dataframe\">\n",
       "  <thead>\n",
       "    <tr style=\"text-align: right;\">\n",
       "      <th></th>\n",
       "      <th>year_of_release</th>\n",
       "      <th>na_sales</th>\n",
       "      <th>eu_sales</th>\n",
       "      <th>jp_sales</th>\n",
       "      <th>other_sales</th>\n",
       "      <th>critic_score</th>\n",
       "      <th>user_score</th>\n",
       "      <th>total_sales</th>\n",
       "    </tr>\n",
       "  </thead>\n",
       "  <tbody>\n",
       "    <tr>\n",
       "      <th>count</th>\n",
       "      <td>10502.000000</td>\n",
       "      <td>10502.000000</td>\n",
       "      <td>10502.000000</td>\n",
       "      <td>10502.000000</td>\n",
       "      <td>10502.000000</td>\n",
       "      <td>10502.000000</td>\n",
       "      <td>10502.000000</td>\n",
       "      <td>10502.000000</td>\n",
       "    </tr>\n",
       "    <tr>\n",
       "      <th>mean</th>\n",
       "      <td>2010.039135</td>\n",
       "      <td>0.229817</td>\n",
       "      <td>0.143728</td>\n",
       "      <td>0.053874</td>\n",
       "      <td>0.053151</td>\n",
       "      <td>69.750905</td>\n",
       "      <td>7.186631</td>\n",
       "      <td>0.480569</td>\n",
       "    </tr>\n",
       "    <tr>\n",
       "      <th>std</th>\n",
       "      <td>2.861813</td>\n",
       "      <td>0.758069</td>\n",
       "      <td>0.542683</td>\n",
       "      <td>0.241352</td>\n",
       "      <td>0.181110</td>\n",
       "      <td>9.791729</td>\n",
       "      <td>1.088176</td>\n",
       "      <td>1.541584</td>\n",
       "    </tr>\n",
       "    <tr>\n",
       "      <th>min</th>\n",
       "      <td>2006.000000</td>\n",
       "      <td>0.000000</td>\n",
       "      <td>0.000000</td>\n",
       "      <td>0.000000</td>\n",
       "      <td>0.000000</td>\n",
       "      <td>13.000000</td>\n",
       "      <td>0.000000</td>\n",
       "      <td>0.000000</td>\n",
       "    </tr>\n",
       "    <tr>\n",
       "      <th>25%</th>\n",
       "      <td>2008.000000</td>\n",
       "      <td>0.000000</td>\n",
       "      <td>0.000000</td>\n",
       "      <td>0.000000</td>\n",
       "      <td>0.000000</td>\n",
       "      <td>71.000000</td>\n",
       "      <td>7.300000</td>\n",
       "      <td>0.050000</td>\n",
       "    </tr>\n",
       "    <tr>\n",
       "      <th>50%</th>\n",
       "      <td>2010.000000</td>\n",
       "      <td>0.070000</td>\n",
       "      <td>0.010000</td>\n",
       "      <td>0.000000</td>\n",
       "      <td>0.010000</td>\n",
       "      <td>71.000000</td>\n",
       "      <td>7.500000</td>\n",
       "      <td>0.140000</td>\n",
       "    </tr>\n",
       "    <tr>\n",
       "      <th>75%</th>\n",
       "      <td>2012.000000</td>\n",
       "      <td>0.200000</td>\n",
       "      <td>0.100000</td>\n",
       "      <td>0.030000</td>\n",
       "      <td>0.040000</td>\n",
       "      <td>71.000000</td>\n",
       "      <td>7.500000</td>\n",
       "      <td>0.410000</td>\n",
       "    </tr>\n",
       "    <tr>\n",
       "      <th>max</th>\n",
       "      <td>2016.000000</td>\n",
       "      <td>41.360000</td>\n",
       "      <td>28.960000</td>\n",
       "      <td>6.500000</td>\n",
       "      <td>8.450000</td>\n",
       "      <td>98.000000</td>\n",
       "      <td>9.500000</td>\n",
       "      <td>82.540000</td>\n",
       "    </tr>\n",
       "  </tbody>\n",
       "</table>\n",
       "</div>"
      ],
      "text/plain": [
       "       year_of_release      na_sales      eu_sales      jp_sales  \\\n",
       "count     10502.000000  10502.000000  10502.000000  10502.000000   \n",
       "mean       2010.039135      0.229817      0.143728      0.053874   \n",
       "std           2.861813      0.758069      0.542683      0.241352   \n",
       "min        2006.000000      0.000000      0.000000      0.000000   \n",
       "25%        2008.000000      0.000000      0.000000      0.000000   \n",
       "50%        2010.000000      0.070000      0.010000      0.000000   \n",
       "75%        2012.000000      0.200000      0.100000      0.030000   \n",
       "max        2016.000000     41.360000     28.960000      6.500000   \n",
       "\n",
       "        other_sales  critic_score    user_score   total_sales  \n",
       "count  10502.000000  10502.000000  10502.000000  10502.000000  \n",
       "mean       0.053151     69.750905      7.186631      0.480569  \n",
       "std        0.181110      9.791729      1.088176      1.541584  \n",
       "min        0.000000     13.000000      0.000000      0.000000  \n",
       "25%        0.000000     71.000000      7.300000      0.050000  \n",
       "50%        0.010000     71.000000      7.500000      0.140000  \n",
       "75%        0.040000     71.000000      7.500000      0.410000  \n",
       "max        8.450000     98.000000      9.500000     82.540000  "
      ]
     },
     "execution_count": 38,
     "metadata": {},
     "output_type": "execute_result"
    }
   ],
   "source": [
    "df3.describe()"
   ]
  },
  {
   "cell_type": "markdown",
   "metadata": {},
   "source": [
    "Por otra parte, para la venta de juegos por año de lanzamiento, tenemos que el peak está en el 2008 y posterior a ello va decayendo hasta el 2016."
   ]
  },
  {
   "cell_type": "code",
   "execution_count": 39,
   "metadata": {},
   "outputs": [
    {
     "data": {
      "image/png": "[encoded data removed]",
      "text/plain": [
       "<Figure size 640x480 with 1 Axes>"
      ]
     },
     "metadata": {},
     "output_type": "display_data"
    }
   ],
   "source": [
    "df3.groupby(\"year_of_release\")[\"total_sales\"].sum().plot(grid = True)\n",
    "plt.title(\"Ventas de juegos por año de lanzamiento\")\n",
    "plt.show()"
   ]
  },
  {
   "cell_type": "markdown",
   "metadata": {},
   "source": [
    "Para el promedio de ventas globales por plataforma, tenemos que sorpresivamente la media no la tiene ninguna de las primeras 3 consolas de mayor cantidad de ventas totales, sino que la posee la PS4. Hay que tener presente que los valores extremos influyen mucho dentro de la obtención de la media."
   ]
  },
  {
   "cell_type": "code",
   "execution_count": 40,
   "metadata": {
    "scrolled": false
   },
   "outputs": [
    {
     "data": {
      "text/plain": [
       "platform\n",
       "PS4     0.801378\n",
       "X360    0.775342\n",
       "PS3     0.706361\n",
       "Wii     0.688014\n",
       "XOne    0.645020\n",
       "WiiU    0.559116\n",
       "3DS     0.498077\n",
       "PS2     0.329791\n",
       "DS      0.327835\n",
       "GC      0.254255\n",
       "PSP     0.221247\n",
       "PC      0.211061\n",
       "GBA     0.192609\n",
       "XB      0.161493\n",
       "PSV     0.125744\n",
       "DC      0.030000\n",
       "Name: total_sales, dtype: float64"
      ]
     },
     "execution_count": 40,
     "metadata": {},
     "output_type": "execute_result"
    }
   ],
   "source": [
    "df3.groupby(\"platform\")[\"total_sales\"].mean().sort_values(ascending = False)"
   ]
  },
  {
   "cell_type": "markdown",
   "metadata": {},
   "source": [
    "### Reseñas de usuarios\n",
    "\n",
    "Para este apartado, eligiré la plataforma PS4 netamente por gustos personales. Teniendo en cuenta la PS4, obtendremos las estadisticas de aquel dataframe donde solo esté filtrado por aquella consola."
   ]
  },
  {
   "cell_type": "code",
   "execution_count": 41,
   "metadata": {},
   "outputs": [
    {
     "data": {
      "text/html": [
       "<div>\n",
       "<style scoped>\n",
       "    .dataframe tbody tr th:only-of-type {\n",
       "        vertical-align: middle;\n",
       "    }\n",
       "\n",
       "    .dataframe tbody tr th {\n",
       "        vertical-align: top;\n",
       "    }\n",
       "\n",
       "    .dataframe thead th {\n",
       "        text-align: right;\n",
       "    }\n",
       "</style>\n",
       "<table border=\"1\" class=\"dataframe\">\n",
       "  <thead>\n",
       "    <tr style=\"text-align: right;\">\n",
       "      <th></th>\n",
       "      <th>year_of_release</th>\n",
       "      <th>na_sales</th>\n",
       "      <th>eu_sales</th>\n",
       "      <th>jp_sales</th>\n",
       "      <th>other_sales</th>\n",
       "      <th>critic_score</th>\n",
       "      <th>user_score</th>\n",
       "      <th>total_sales</th>\n",
       "    </tr>\n",
       "  </thead>\n",
       "  <tbody>\n",
       "    <tr>\n",
       "      <th>count</th>\n",
       "      <td>392.000000</td>\n",
       "      <td>392.000000</td>\n",
       "      <td>392.000000</td>\n",
       "      <td>392.000000</td>\n",
       "      <td>392.000000</td>\n",
       "      <td>392.000000</td>\n",
       "      <td>392.000000</td>\n",
       "      <td>392.000000</td>\n",
       "    </tr>\n",
       "    <tr>\n",
       "      <th>mean</th>\n",
       "      <td>2015.145408</td>\n",
       "      <td>0.277398</td>\n",
       "      <td>0.359923</td>\n",
       "      <td>0.040714</td>\n",
       "      <td>0.123342</td>\n",
       "      <td>71.701531</td>\n",
       "      <td>7.007143</td>\n",
       "      <td>0.801378</td>\n",
       "    </tr>\n",
       "    <tr>\n",
       "      <th>std</th>\n",
       "      <td>0.868181</td>\n",
       "      <td>0.583723</td>\n",
       "      <td>0.810843</td>\n",
       "      <td>0.069101</td>\n",
       "      <td>0.254825</td>\n",
       "      <td>10.017642</td>\n",
       "      <td>1.233920</td>\n",
       "      <td>1.609456</td>\n",
       "    </tr>\n",
       "    <tr>\n",
       "      <th>min</th>\n",
       "      <td>2013.000000</td>\n",
       "      <td>0.000000</td>\n",
       "      <td>0.000000</td>\n",
       "      <td>0.000000</td>\n",
       "      <td>0.000000</td>\n",
       "      <td>19.000000</td>\n",
       "      <td>1.500000</td>\n",
       "      <td>0.010000</td>\n",
       "    </tr>\n",
       "    <tr>\n",
       "      <th>25%</th>\n",
       "      <td>2015.000000</td>\n",
       "      <td>0.007500</td>\n",
       "      <td>0.000000</td>\n",
       "      <td>0.000000</td>\n",
       "      <td>0.010000</td>\n",
       "      <td>71.000000</td>\n",
       "      <td>6.600000</td>\n",
       "      <td>0.060000</td>\n",
       "    </tr>\n",
       "    <tr>\n",
       "      <th>50%</th>\n",
       "      <td>2015.000000</td>\n",
       "      <td>0.060000</td>\n",
       "      <td>0.080000</td>\n",
       "      <td>0.010000</td>\n",
       "      <td>0.030000</td>\n",
       "      <td>71.000000</td>\n",
       "      <td>7.500000</td>\n",
       "      <td>0.200000</td>\n",
       "    </tr>\n",
       "    <tr>\n",
       "      <th>75%</th>\n",
       "      <td>2016.000000</td>\n",
       "      <td>0.260000</td>\n",
       "      <td>0.300000</td>\n",
       "      <td>0.050000</td>\n",
       "      <td>0.110000</td>\n",
       "      <td>77.000000</td>\n",
       "      <td>7.500000</td>\n",
       "      <td>0.730000</td>\n",
       "    </tr>\n",
       "    <tr>\n",
       "      <th>max</th>\n",
       "      <td>2016.000000</td>\n",
       "      <td>6.030000</td>\n",
       "      <td>6.310000</td>\n",
       "      <td>0.490000</td>\n",
       "      <td>2.380000</td>\n",
       "      <td>97.000000</td>\n",
       "      <td>9.200000</td>\n",
       "      <td>14.630000</td>\n",
       "    </tr>\n",
       "  </tbody>\n",
       "</table>\n",
       "</div>"
      ],
      "text/plain": [
       "       year_of_release    na_sales    eu_sales    jp_sales  other_sales  \\\n",
       "count       392.000000  392.000000  392.000000  392.000000   392.000000   \n",
       "mean       2015.145408    0.277398    0.359923    0.040714     0.123342   \n",
       "std           0.868181    0.583723    0.810843    0.069101     0.254825   \n",
       "min        2013.000000    0.000000    0.000000    0.000000     0.000000   \n",
       "25%        2015.000000    0.007500    0.000000    0.000000     0.010000   \n",
       "50%        2015.000000    0.060000    0.080000    0.010000     0.030000   \n",
       "75%        2016.000000    0.260000    0.300000    0.050000     0.110000   \n",
       "max        2016.000000    6.030000    6.310000    0.490000     2.380000   \n",
       "\n",
       "       critic_score  user_score  total_sales  \n",
       "count    392.000000  392.000000   392.000000  \n",
       "mean      71.701531    7.007143     0.801378  \n",
       "std       10.017642    1.233920     1.609456  \n",
       "min       19.000000    1.500000     0.010000  \n",
       "25%       71.000000    6.600000     0.060000  \n",
       "50%       71.000000    7.500000     0.200000  \n",
       "75%       77.000000    7.500000     0.730000  \n",
       "max       97.000000    9.200000    14.630000  "
      ]
     },
     "execution_count": 41,
     "metadata": {},
     "output_type": "execute_result"
    }
   ],
   "source": [
    "df4 = df3[df3[\"platform\"] == \"PS4\"]\n",
    "df4.describe()"
   ]
  },
  {
   "cell_type": "markdown",
   "metadata": {},
   "source": [
    "Observando sus estadísticas generales, vemos que su media en critic_score es de 70.9 y por el lado user_score es de 6.8. Ambos, muy buenos números para la totalidad de sus juegos."
   ]
  },
  {
   "cell_type": "markdown",
   "metadata": {},
   "source": [
    "Para la relación entre el puntaje dado por la crítica y las ventas totales, se efectuan dos gráficos de dispersión donde se aprecia que a medida que el juego tiene mejores calificaciones, posee una mayor concentración en ventas."
   ]
  },
  {
   "cell_type": "code",
   "execution_count": 42,
   "metadata": {},
   "outputs": [
    {
     "data": {
      "image/png": "[encoded data removed]",
      "text/plain": [
       "<Figure size 640x480 with 1 Axes>"
      ]
     },
     "metadata": {},
     "output_type": "display_data"
    },
    {
     "data": {
      "image/png": "[encoded data removed]",
      "text/plain": [
       "<Figure size 640x480 with 1 Axes>"
      ]
     },
     "metadata": {},
     "output_type": "display_data"
    }
   ],
   "source": [
    "df4.plot(x= \"critic_score\", y= \"total_sales\", kind = \"scatter\", title= \"Critic Score vs Total Sales\")\n",
    "df4.plot(x= \"user_score\", y= \"total_sales\", kind = \"scatter\", color = \"red\", title = \"User Score vs Total Sales\")\n",
    "plt.show()"
   ]
  },
  {
   "cell_type": "markdown",
   "metadata": {},
   "source": [
    "Ahora, para verificar si existe una relación entre las variables critic_score y user_score respecto de total_sales. Se calculará su correlación."
   ]
  },
  {
   "cell_type": "markdown",
   "metadata": {},
   "source": [
    "Obteniendo la matriz de correlación completa de nuestro dataframe, tenemos que la correlación de critic_score contra total_sales es de 0.34. Por otra parte, la correlación de user_score contra total_sales da -0.045."
   ]
  },
  {
   "cell_type": "code",
   "execution_count": 43,
   "metadata": {},
   "outputs": [
    {
     "data": {
      "text/html": [
       "<div>\n",
       "<style scoped>\n",
       "    .dataframe tbody tr th:only-of-type {\n",
       "        vertical-align: middle;\n",
       "    }\n",
       "\n",
       "    .dataframe tbody tr th {\n",
       "        vertical-align: top;\n",
       "    }\n",
       "\n",
       "    .dataframe thead th {\n",
       "        text-align: right;\n",
       "    }\n",
       "</style>\n",
       "<table border=\"1\" class=\"dataframe\">\n",
       "  <thead>\n",
       "    <tr style=\"text-align: right;\">\n",
       "      <th></th>\n",
       "      <th>year_of_release</th>\n",
       "      <th>na_sales</th>\n",
       "      <th>eu_sales</th>\n",
       "      <th>jp_sales</th>\n",
       "      <th>other_sales</th>\n",
       "      <th>critic_score</th>\n",
       "      <th>user_score</th>\n",
       "      <th>total_sales</th>\n",
       "    </tr>\n",
       "  </thead>\n",
       "  <tbody>\n",
       "    <tr>\n",
       "      <th>year_of_release</th>\n",
       "      <td>1.000000</td>\n",
       "      <td>-0.248961</td>\n",
       "      <td>-0.208306</td>\n",
       "      <td>-0.060993</td>\n",
       "      <td>-0.234796</td>\n",
       "      <td>-0.024404</td>\n",
       "      <td>0.156597</td>\n",
       "      <td>-0.235032</td>\n",
       "    </tr>\n",
       "    <tr>\n",
       "      <th>na_sales</th>\n",
       "      <td>-0.248961</td>\n",
       "      <td>1.000000</td>\n",
       "      <td>0.785362</td>\n",
       "      <td>0.472981</td>\n",
       "      <td>0.944259</td>\n",
       "      <td>0.328053</td>\n",
       "      <td>-0.051252</td>\n",
       "      <td>0.928160</td>\n",
       "    </tr>\n",
       "    <tr>\n",
       "      <th>eu_sales</th>\n",
       "      <td>-0.208306</td>\n",
       "      <td>0.785362</td>\n",
       "      <td>1.000000</td>\n",
       "      <td>0.464563</td>\n",
       "      <td>0.944698</td>\n",
       "      <td>0.309054</td>\n",
       "      <td>-0.079833</td>\n",
       "      <td>0.958157</td>\n",
       "    </tr>\n",
       "    <tr>\n",
       "      <th>jp_sales</th>\n",
       "      <td>-0.060993</td>\n",
       "      <td>0.472981</td>\n",
       "      <td>0.464563</td>\n",
       "      <td>1.000000</td>\n",
       "      <td>0.496467</td>\n",
       "      <td>0.250289</td>\n",
       "      <td>0.152376</td>\n",
       "      <td>0.527129</td>\n",
       "    </tr>\n",
       "    <tr>\n",
       "      <th>other_sales</th>\n",
       "      <td>-0.234796</td>\n",
       "      <td>0.944259</td>\n",
       "      <td>0.944698</td>\n",
       "      <td>0.496467</td>\n",
       "      <td>1.000000</td>\n",
       "      <td>0.336512</td>\n",
       "      <td>-0.066253</td>\n",
       "      <td>0.998051</td>\n",
       "    </tr>\n",
       "    <tr>\n",
       "      <th>critic_score</th>\n",
       "      <td>-0.024404</td>\n",
       "      <td>0.328053</td>\n",
       "      <td>0.309054</td>\n",
       "      <td>0.250289</td>\n",
       "      <td>0.336512</td>\n",
       "      <td>1.000000</td>\n",
       "      <td>0.507069</td>\n",
       "      <td>0.338706</td>\n",
       "    </tr>\n",
       "    <tr>\n",
       "      <th>user_score</th>\n",
       "      <td>0.156597</td>\n",
       "      <td>-0.051252</td>\n",
       "      <td>-0.079833</td>\n",
       "      <td>0.152376</td>\n",
       "      <td>-0.066253</td>\n",
       "      <td>0.507069</td>\n",
       "      <td>1.000000</td>\n",
       "      <td>-0.062756</td>\n",
       "    </tr>\n",
       "    <tr>\n",
       "      <th>total_sales</th>\n",
       "      <td>-0.235032</td>\n",
       "      <td>0.928160</td>\n",
       "      <td>0.958157</td>\n",
       "      <td>0.527129</td>\n",
       "      <td>0.998051</td>\n",
       "      <td>0.338706</td>\n",
       "      <td>-0.062756</td>\n",
       "      <td>1.000000</td>\n",
       "    </tr>\n",
       "  </tbody>\n",
       "</table>\n",
       "</div>"
      ],
      "text/plain": [
       "                 year_of_release  na_sales  eu_sales  jp_sales  other_sales  \\\n",
       "year_of_release         1.000000 -0.248961 -0.208306 -0.060993    -0.234796   \n",
       "na_sales               -0.248961  1.000000  0.785362  0.472981     0.944259   \n",
       "eu_sales               -0.208306  0.785362  1.000000  0.464563     0.944698   \n",
       "jp_sales               -0.060993  0.472981  0.464563  1.000000     0.496467   \n",
       "other_sales            -0.234796  0.944259  0.944698  0.496467     1.000000   \n",
       "critic_score           -0.024404  0.328053  0.309054  0.250289     0.336512   \n",
       "user_score              0.156597 -0.051252 -0.079833  0.152376    -0.066253   \n",
       "total_sales            -0.235032  0.928160  0.958157  0.527129     0.998051   \n",
       "\n",
       "                 critic_score  user_score  total_sales  \n",
       "year_of_release     -0.024404    0.156597    -0.235032  \n",
       "na_sales             0.328053   -0.051252     0.928160  \n",
       "eu_sales             0.309054   -0.079833     0.958157  \n",
       "jp_sales             0.250289    0.152376     0.527129  \n",
       "other_sales          0.336512   -0.066253     0.998051  \n",
       "critic_score         1.000000    0.507069     0.338706  \n",
       "user_score           0.507069    1.000000    -0.062756  \n",
       "total_sales          0.338706   -0.062756     1.000000  "
      ]
     },
     "execution_count": 43,
     "metadata": {},
     "output_type": "execute_result"
    }
   ],
   "source": [
    "df4.corr()"
   ]
  },
  {
   "cell_type": "code",
   "execution_count": 44,
   "metadata": {
    "scrolled": true
   },
   "outputs": [
    {
     "name": "stdout",
     "output_type": "stream",
     "text": [
      "La correlación de user_score es de: -0.06275557891282788, y la de critic_score: 0.3387064530024634 respecto a las ventas totales\n"
     ]
    }
   ],
   "source": [
    "user_score_corr = df4[\"user_score\"].corr(df4[\"total_sales\"])\n",
    "critic_score_corr = df4[\"critic_score\"].corr(df4[\"total_sales\"])\n",
    "print(f\"La correlación de user_score es de: {user_score_corr}, y la de critic_score: {critic_score_corr} respecto a las ventas totales\")"
   ]
  },
  {
   "cell_type": "markdown",
   "metadata": {},
   "source": [
    "Con lo anterior, se concluye que para el user_score, la correlación es negativa, pero muy cercana a cero. Ello nos da pie a señalar que casi no existe una relación entre una variable y otra, o, por otra parte, que existe una conexión no lineal más compleja que el coeficiente no logra relacionar.\n",
    "\n",
    "Por el lado de critic_score, tenemos que existe una correlación lineal positiva, pero no tan fuerte como se hubiese esperado.\n",
    "\n",
    "Revisando los gráficos de dispersión de ambas variables, tenemos que efectivamente sus ventas se concentran a medida que aumenta el puntaje, pero no así aumenta las ventas de igual proporción."
   ]
  },
  {
   "cell_type": "markdown",
   "metadata": {},
   "source": [
    "Respecto de la correlación para la PS4, haré lo mismo para X360 y PS3. Para ello, generaremos dos nuevos datasets que tengan filtrada por las consolas mencionadas."
   ]
  },
  {
   "cell_type": "markdown",
   "metadata": {},
   "source": [
    "- Para PS3"
   ]
  },
  {
   "cell_type": "code",
   "execution_count": 45,
   "metadata": {},
   "outputs": [
    {
     "data": {
      "text/html": [
       "<div>\n",
       "<style scoped>\n",
       "    .dataframe tbody tr th:only-of-type {\n",
       "        vertical-align: middle;\n",
       "    }\n",
       "\n",
       "    .dataframe tbody tr th {\n",
       "        vertical-align: top;\n",
       "    }\n",
       "\n",
       "    .dataframe thead th {\n",
       "        text-align: right;\n",
       "    }\n",
       "</style>\n",
       "<table border=\"1\" class=\"dataframe\">\n",
       "  <thead>\n",
       "    <tr style=\"text-align: right;\">\n",
       "      <th></th>\n",
       "      <th>year_of_release</th>\n",
       "      <th>na_sales</th>\n",
       "      <th>eu_sales</th>\n",
       "      <th>jp_sales</th>\n",
       "      <th>other_sales</th>\n",
       "      <th>critic_score</th>\n",
       "      <th>user_score</th>\n",
       "      <th>total_sales</th>\n",
       "    </tr>\n",
       "  </thead>\n",
       "  <tbody>\n",
       "    <tr>\n",
       "      <th>count</th>\n",
       "      <td>1330.000000</td>\n",
       "      <td>1330.000000</td>\n",
       "      <td>1330.000000</td>\n",
       "      <td>1330.000000</td>\n",
       "      <td>1330.000000</td>\n",
       "      <td>1330.000000</td>\n",
       "      <td>1330.000000</td>\n",
       "      <td>1330.000000</td>\n",
       "    </tr>\n",
       "    <tr>\n",
       "      <th>mean</th>\n",
       "      <td>2010.823308</td>\n",
       "      <td>0.295857</td>\n",
       "      <td>0.248233</td>\n",
       "      <td>0.060286</td>\n",
       "      <td>0.101985</td>\n",
       "      <td>70.621805</td>\n",
       "      <td>6.992256</td>\n",
       "      <td>0.706361</td>\n",
       "    </tr>\n",
       "    <tr>\n",
       "      <th>std</th>\n",
       "      <td>2.450638</td>\n",
       "      <td>0.578750</td>\n",
       "      <td>0.589238</td>\n",
       "      <td>0.131328</td>\n",
       "      <td>0.231204</td>\n",
       "      <td>11.027934</td>\n",
       "      <td>1.239903</td>\n",
       "      <td>1.392201</td>\n",
       "    </tr>\n",
       "    <tr>\n",
       "      <th>min</th>\n",
       "      <td>2006.000000</td>\n",
       "      <td>0.000000</td>\n",
       "      <td>0.000000</td>\n",
       "      <td>0.000000</td>\n",
       "      <td>0.000000</td>\n",
       "      <td>13.000000</td>\n",
       "      <td>0.200000</td>\n",
       "      <td>0.000000</td>\n",
       "    </tr>\n",
       "    <tr>\n",
       "      <th>25%</th>\n",
       "      <td>2009.000000</td>\n",
       "      <td>0.010000</td>\n",
       "      <td>0.000000</td>\n",
       "      <td>0.000000</td>\n",
       "      <td>0.010000</td>\n",
       "      <td>70.000000</td>\n",
       "      <td>6.700000</td>\n",
       "      <td>0.110000</td>\n",
       "    </tr>\n",
       "    <tr>\n",
       "      <th>50%</th>\n",
       "      <td>2011.000000</td>\n",
       "      <td>0.120000</td>\n",
       "      <td>0.060000</td>\n",
       "      <td>0.010000</td>\n",
       "      <td>0.030000</td>\n",
       "      <td>71.000000</td>\n",
       "      <td>7.500000</td>\n",
       "      <td>0.270000</td>\n",
       "    </tr>\n",
       "    <tr>\n",
       "      <th>75%</th>\n",
       "      <td>2013.000000</td>\n",
       "      <td>0.320000</td>\n",
       "      <td>0.260000</td>\n",
       "      <td>0.060000</td>\n",
       "      <td>0.110000</td>\n",
       "      <td>76.000000</td>\n",
       "      <td>7.500000</td>\n",
       "      <td>0.750000</td>\n",
       "    </tr>\n",
       "    <tr>\n",
       "      <th>max</th>\n",
       "      <td>2016.000000</td>\n",
       "      <td>7.020000</td>\n",
       "      <td>9.090000</td>\n",
       "      <td>1.870000</td>\n",
       "      <td>3.960000</td>\n",
       "      <td>98.000000</td>\n",
       "      <td>9.100000</td>\n",
       "      <td>21.050000</td>\n",
       "    </tr>\n",
       "  </tbody>\n",
       "</table>\n",
       "</div>"
      ],
      "text/plain": [
       "       year_of_release     na_sales     eu_sales     jp_sales  other_sales  \\\n",
       "count      1330.000000  1330.000000  1330.000000  1330.000000  1330.000000   \n",
       "mean       2010.823308     0.295857     0.248233     0.060286     0.101985   \n",
       "std           2.450638     0.578750     0.589238     0.131328     0.231204   \n",
       "min        2006.000000     0.000000     0.000000     0.000000     0.000000   \n",
       "25%        2009.000000     0.010000     0.000000     0.000000     0.010000   \n",
       "50%        2011.000000     0.120000     0.060000     0.010000     0.030000   \n",
       "75%        2013.000000     0.320000     0.260000     0.060000     0.110000   \n",
       "max        2016.000000     7.020000     9.090000     1.870000     3.960000   \n",
       "\n",
       "       critic_score   user_score  total_sales  \n",
       "count   1330.000000  1330.000000  1330.000000  \n",
       "mean      70.621805     6.992256     0.706361  \n",
       "std       11.027934     1.239903     1.392201  \n",
       "min       13.000000     0.200000     0.000000  \n",
       "25%       70.000000     6.700000     0.110000  \n",
       "50%       71.000000     7.500000     0.270000  \n",
       "75%       76.000000     7.500000     0.750000  \n",
       "max       98.000000     9.100000    21.050000  "
      ]
     },
     "execution_count": 45,
     "metadata": {},
     "output_type": "execute_result"
    }
   ],
   "source": [
    "df5 = df3[df3[\"platform\"] == \"PS3\"]\n",
    "df5.describe()"
   ]
  },
  {
   "cell_type": "code",
   "execution_count": 46,
   "metadata": {},
   "outputs": [
    {
     "data": {
      "text/html": [
       "<div>\n",
       "<style scoped>\n",
       "    .dataframe tbody tr th:only-of-type {\n",
       "        vertical-align: middle;\n",
       "    }\n",
       "\n",
       "    .dataframe tbody tr th {\n",
       "        vertical-align: top;\n",
       "    }\n",
       "\n",
       "    .dataframe thead th {\n",
       "        text-align: right;\n",
       "    }\n",
       "</style>\n",
       "<table border=\"1\" class=\"dataframe\">\n",
       "  <thead>\n",
       "    <tr style=\"text-align: right;\">\n",
       "      <th></th>\n",
       "      <th>year_of_release</th>\n",
       "      <th>na_sales</th>\n",
       "      <th>eu_sales</th>\n",
       "      <th>jp_sales</th>\n",
       "      <th>other_sales</th>\n",
       "      <th>critic_score</th>\n",
       "      <th>user_score</th>\n",
       "      <th>total_sales</th>\n",
       "    </tr>\n",
       "  </thead>\n",
       "  <tbody>\n",
       "    <tr>\n",
       "      <th>year_of_release</th>\n",
       "      <td>1.000000</td>\n",
       "      <td>-0.144527</td>\n",
       "      <td>-0.066727</td>\n",
       "      <td>0.051195</td>\n",
       "      <td>-0.083457</td>\n",
       "      <td>0.013006</td>\n",
       "      <td>-0.023802</td>\n",
       "      <td>-0.097353</td>\n",
       "    </tr>\n",
       "    <tr>\n",
       "      <th>na_sales</th>\n",
       "      <td>-0.144527</td>\n",
       "      <td>1.000000</td>\n",
       "      <td>0.812608</td>\n",
       "      <td>0.341746</td>\n",
       "      <td>0.872152</td>\n",
       "      <td>0.417286</td>\n",
       "      <td>0.039955</td>\n",
       "      <td>0.936715</td>\n",
       "    </tr>\n",
       "    <tr>\n",
       "      <th>eu_sales</th>\n",
       "      <td>-0.066727</td>\n",
       "      <td>0.812608</td>\n",
       "      <td>1.000000</td>\n",
       "      <td>0.371445</td>\n",
       "      <td>0.974317</td>\n",
       "      <td>0.345132</td>\n",
       "      <td>0.015444</td>\n",
       "      <td>0.957895</td>\n",
       "    </tr>\n",
       "    <tr>\n",
       "      <th>jp_sales</th>\n",
       "      <td>0.051195</td>\n",
       "      <td>0.341746</td>\n",
       "      <td>0.371445</td>\n",
       "      <td>1.000000</td>\n",
       "      <td>0.375838</td>\n",
       "      <td>0.185589</td>\n",
       "      <td>0.127344</td>\n",
       "      <td>0.456025</td>\n",
       "    </tr>\n",
       "    <tr>\n",
       "      <th>other_sales</th>\n",
       "      <td>-0.083457</td>\n",
       "      <td>0.872152</td>\n",
       "      <td>0.974317</td>\n",
       "      <td>0.375838</td>\n",
       "      <td>1.000000</td>\n",
       "      <td>0.363249</td>\n",
       "      <td>0.032210</td>\n",
       "      <td>0.976457</td>\n",
       "    </tr>\n",
       "    <tr>\n",
       "      <th>critic_score</th>\n",
       "      <td>0.013006</td>\n",
       "      <td>0.417286</td>\n",
       "      <td>0.345132</td>\n",
       "      <td>0.185589</td>\n",
       "      <td>0.363249</td>\n",
       "      <td>1.000000</td>\n",
       "      <td>0.521699</td>\n",
       "      <td>0.397376</td>\n",
       "    </tr>\n",
       "    <tr>\n",
       "      <th>user_score</th>\n",
       "      <td>-0.023802</td>\n",
       "      <td>0.039955</td>\n",
       "      <td>0.015444</td>\n",
       "      <td>0.127344</td>\n",
       "      <td>0.032210</td>\n",
       "      <td>0.521699</td>\n",
       "      <td>1.000000</td>\n",
       "      <td>0.040508</td>\n",
       "    </tr>\n",
       "    <tr>\n",
       "      <th>total_sales</th>\n",
       "      <td>-0.097353</td>\n",
       "      <td>0.936715</td>\n",
       "      <td>0.957895</td>\n",
       "      <td>0.456025</td>\n",
       "      <td>0.976457</td>\n",
       "      <td>0.397376</td>\n",
       "      <td>0.040508</td>\n",
       "      <td>1.000000</td>\n",
       "    </tr>\n",
       "  </tbody>\n",
       "</table>\n",
       "</div>"
      ],
      "text/plain": [
       "                 year_of_release  na_sales  eu_sales  jp_sales  other_sales  \\\n",
       "year_of_release         1.000000 -0.144527 -0.066727  0.051195    -0.083457   \n",
       "na_sales               -0.144527  1.000000  0.812608  0.341746     0.872152   \n",
       "eu_sales               -0.066727  0.812608  1.000000  0.371445     0.974317   \n",
       "jp_sales                0.051195  0.341746  0.371445  1.000000     0.375838   \n",
       "other_sales            -0.083457  0.872152  0.974317  0.375838     1.000000   \n",
       "critic_score            0.013006  0.417286  0.345132  0.185589     0.363249   \n",
       "user_score             -0.023802  0.039955  0.015444  0.127344     0.032210   \n",
       "total_sales            -0.097353  0.936715  0.957895  0.456025     0.976457   \n",
       "\n",
       "                 critic_score  user_score  total_sales  \n",
       "year_of_release      0.013006   -0.023802    -0.097353  \n",
       "na_sales             0.417286    0.039955     0.936715  \n",
       "eu_sales             0.345132    0.015444     0.957895  \n",
       "jp_sales             0.185589    0.127344     0.456025  \n",
       "other_sales          0.363249    0.032210     0.976457  \n",
       "critic_score         1.000000    0.521699     0.397376  \n",
       "user_score           0.521699    1.000000     0.040508  \n",
       "total_sales          0.397376    0.040508     1.000000  "
      ]
     },
     "execution_count": 46,
     "metadata": {},
     "output_type": "execute_result"
    }
   ],
   "source": [
    "df5.corr()"
   ]
  },
  {
   "cell_type": "markdown",
   "metadata": {},
   "source": [
    "Para la PS3, tenemos que las correlaciones de total_sales con critic_score y user_score son similares. La diferencia radica que en user_score se obtiene una correlación positiva, a diferencia que con PS4. Sin embargo, ambas son casi nulas, por lo que no se puede establecer una relación. Y para el caso de critic_score se obtiene una correlación ligeramente mayor (0.41)"
   ]
  },
  {
   "cell_type": "markdown",
   "metadata": {},
   "source": [
    "- Para PS4"
   ]
  },
  {
   "cell_type": "code",
   "execution_count": 47,
   "metadata": {},
   "outputs": [
    {
     "data": {
      "text/html": [
       "<div>\n",
       "<style scoped>\n",
       "    .dataframe tbody tr th:only-of-type {\n",
       "        vertical-align: middle;\n",
       "    }\n",
       "\n",
       "    .dataframe tbody tr th {\n",
       "        vertical-align: top;\n",
       "    }\n",
       "\n",
       "    .dataframe thead th {\n",
       "        text-align: right;\n",
       "    }\n",
       "</style>\n",
       "<table border=\"1\" class=\"dataframe\">\n",
       "  <thead>\n",
       "    <tr style=\"text-align: right;\">\n",
       "      <th></th>\n",
       "      <th>year_of_release</th>\n",
       "      <th>na_sales</th>\n",
       "      <th>eu_sales</th>\n",
       "      <th>jp_sales</th>\n",
       "      <th>other_sales</th>\n",
       "      <th>critic_score</th>\n",
       "      <th>user_score</th>\n",
       "      <th>total_sales</th>\n",
       "    </tr>\n",
       "  </thead>\n",
       "  <tbody>\n",
       "    <tr>\n",
       "      <th>count</th>\n",
       "      <td>1241.000000</td>\n",
       "      <td>1241.000000</td>\n",
       "      <td>1241.000000</td>\n",
       "      <td>1241.000000</td>\n",
       "      <td>1241.000000</td>\n",
       "      <td>1241.000000</td>\n",
       "      <td>1241.000000</td>\n",
       "      <td>1241.000000</td>\n",
       "    </tr>\n",
       "    <tr>\n",
       "      <th>mean</th>\n",
       "      <td>2009.950040</td>\n",
       "      <td>0.479283</td>\n",
       "      <td>0.217744</td>\n",
       "      <td>0.009782</td>\n",
       "      <td>0.068533</td>\n",
       "      <td>69.165995</td>\n",
       "      <td>6.869621</td>\n",
       "      <td>0.775342</td>\n",
       "    </tr>\n",
       "    <tr>\n",
       "      <th>std</th>\n",
       "      <td>2.390658</td>\n",
       "      <td>1.041631</td>\n",
       "      <td>0.478984</td>\n",
       "      <td>0.024601</td>\n",
       "      <td>0.143895</td>\n",
       "      <td>12.889474</td>\n",
       "      <td>1.311760</td>\n",
       "      <td>1.627695</td>\n",
       "    </tr>\n",
       "    <tr>\n",
       "      <th>min</th>\n",
       "      <td>2006.000000</td>\n",
       "      <td>0.000000</td>\n",
       "      <td>0.000000</td>\n",
       "      <td>0.000000</td>\n",
       "      <td>0.000000</td>\n",
       "      <td>19.000000</td>\n",
       "      <td>0.700000</td>\n",
       "      <td>0.010000</td>\n",
       "    </tr>\n",
       "    <tr>\n",
       "      <th>25%</th>\n",
       "      <td>2008.000000</td>\n",
       "      <td>0.080000</td>\n",
       "      <td>0.010000</td>\n",
       "      <td>0.000000</td>\n",
       "      <td>0.010000</td>\n",
       "      <td>64.000000</td>\n",
       "      <td>6.300000</td>\n",
       "      <td>0.110000</td>\n",
       "    </tr>\n",
       "    <tr>\n",
       "      <th>50%</th>\n",
       "      <td>2010.000000</td>\n",
       "      <td>0.170000</td>\n",
       "      <td>0.050000</td>\n",
       "      <td>0.000000</td>\n",
       "      <td>0.020000</td>\n",
       "      <td>71.000000</td>\n",
       "      <td>7.500000</td>\n",
       "      <td>0.270000</td>\n",
       "    </tr>\n",
       "    <tr>\n",
       "      <th>75%</th>\n",
       "      <td>2011.000000</td>\n",
       "      <td>0.450000</td>\n",
       "      <td>0.220000</td>\n",
       "      <td>0.010000</td>\n",
       "      <td>0.070000</td>\n",
       "      <td>77.000000</td>\n",
       "      <td>7.500000</td>\n",
       "      <td>0.770000</td>\n",
       "    </tr>\n",
       "    <tr>\n",
       "      <th>max</th>\n",
       "      <td>2016.000000</td>\n",
       "      <td>15.000000</td>\n",
       "      <td>5.140000</td>\n",
       "      <td>0.240000</td>\n",
       "      <td>1.690000</td>\n",
       "      <td>98.000000</td>\n",
       "      <td>9.000000</td>\n",
       "      <td>21.820000</td>\n",
       "    </tr>\n",
       "  </tbody>\n",
       "</table>\n",
       "</div>"
      ],
      "text/plain": [
       "       year_of_release     na_sales     eu_sales     jp_sales  other_sales  \\\n",
       "count      1241.000000  1241.000000  1241.000000  1241.000000  1241.000000   \n",
       "mean       2009.950040     0.479283     0.217744     0.009782     0.068533   \n",
       "std           2.390658     1.041631     0.478984     0.024601     0.143895   \n",
       "min        2006.000000     0.000000     0.000000     0.000000     0.000000   \n",
       "25%        2008.000000     0.080000     0.010000     0.000000     0.010000   \n",
       "50%        2010.000000     0.170000     0.050000     0.000000     0.020000   \n",
       "75%        2011.000000     0.450000     0.220000     0.010000     0.070000   \n",
       "max        2016.000000    15.000000     5.140000     0.240000     1.690000   \n",
       "\n",
       "       critic_score   user_score  total_sales  \n",
       "count   1241.000000  1241.000000  1241.000000  \n",
       "mean      69.165995     6.869621     0.775342  \n",
       "std       12.889474     1.311760     1.627695  \n",
       "min       19.000000     0.700000     0.010000  \n",
       "25%       64.000000     6.300000     0.110000  \n",
       "50%       71.000000     7.500000     0.270000  \n",
       "75%       77.000000     7.500000     0.770000  \n",
       "max       98.000000     9.000000    21.820000  "
      ]
     },
     "execution_count": 47,
     "metadata": {},
     "output_type": "execute_result"
    }
   ],
   "source": [
    "df6 = df3[df3[\"platform\"] == \"X360\"]\n",
    "df6.describe()"
   ]
  },
  {
   "cell_type": "code",
   "execution_count": 48,
   "metadata": {
    "scrolled": true
   },
   "outputs": [
    {
     "data": {
      "text/html": [
       "<div>\n",
       "<style scoped>\n",
       "    .dataframe tbody tr th:only-of-type {\n",
       "        vertical-align: middle;\n",
       "    }\n",
       "\n",
       "    .dataframe tbody tr th {\n",
       "        vertical-align: top;\n",
       "    }\n",
       "\n",
       "    .dataframe thead th {\n",
       "        text-align: right;\n",
       "    }\n",
       "</style>\n",
       "<table border=\"1\" class=\"dataframe\">\n",
       "  <thead>\n",
       "    <tr style=\"text-align: right;\">\n",
       "      <th></th>\n",
       "      <th>year_of_release</th>\n",
       "      <th>na_sales</th>\n",
       "      <th>eu_sales</th>\n",
       "      <th>jp_sales</th>\n",
       "      <th>other_sales</th>\n",
       "      <th>critic_score</th>\n",
       "      <th>user_score</th>\n",
       "      <th>total_sales</th>\n",
       "    </tr>\n",
       "  </thead>\n",
       "  <tbody>\n",
       "    <tr>\n",
       "      <th>year_of_release</th>\n",
       "      <td>1.000000</td>\n",
       "      <td>-0.019254</td>\n",
       "      <td>0.033566</td>\n",
       "      <td>-0.124145</td>\n",
       "      <td>-0.012521</td>\n",
       "      <td>0.035208</td>\n",
       "      <td>-0.177643</td>\n",
       "      <td>-0.005428</td>\n",
       "    </tr>\n",
       "    <tr>\n",
       "      <th>na_sales</th>\n",
       "      <td>-0.019254</td>\n",
       "      <td>1.000000</td>\n",
       "      <td>0.855970</td>\n",
       "      <td>0.489104</td>\n",
       "      <td>0.964710</td>\n",
       "      <td>0.347813</td>\n",
       "      <td>0.051876</td>\n",
       "      <td>0.984507</td>\n",
       "    </tr>\n",
       "    <tr>\n",
       "      <th>eu_sales</th>\n",
       "      <td>0.033566</td>\n",
       "      <td>0.855970</td>\n",
       "      <td>1.000000</td>\n",
       "      <td>0.465904</td>\n",
       "      <td>0.948261</td>\n",
       "      <td>0.352689</td>\n",
       "      <td>0.059822</td>\n",
       "      <td>0.932915</td>\n",
       "    </tr>\n",
       "    <tr>\n",
       "      <th>jp_sales</th>\n",
       "      <td>-0.124145</td>\n",
       "      <td>0.489104</td>\n",
       "      <td>0.465904</td>\n",
       "      <td>1.000000</td>\n",
       "      <td>0.505002</td>\n",
       "      <td>0.256757</td>\n",
       "      <td>0.151263</td>\n",
       "      <td>0.509859</td>\n",
       "    </tr>\n",
       "    <tr>\n",
       "      <th>other_sales</th>\n",
       "      <td>-0.012521</td>\n",
       "      <td>0.964710</td>\n",
       "      <td>0.948261</td>\n",
       "      <td>0.505002</td>\n",
       "      <td>1.000000</td>\n",
       "      <td>0.369875</td>\n",
       "      <td>0.066115</td>\n",
       "      <td>0.992442</td>\n",
       "    </tr>\n",
       "    <tr>\n",
       "      <th>critic_score</th>\n",
       "      <td>0.035208</td>\n",
       "      <td>0.347813</td>\n",
       "      <td>0.352689</td>\n",
       "      <td>0.256757</td>\n",
       "      <td>0.369875</td>\n",
       "      <td>1.000000</td>\n",
       "      <td>0.521624</td>\n",
       "      <td>0.362946</td>\n",
       "    </tr>\n",
       "    <tr>\n",
       "      <th>user_score</th>\n",
       "      <td>-0.177643</td>\n",
       "      <td>0.051876</td>\n",
       "      <td>0.059822</td>\n",
       "      <td>0.151263</td>\n",
       "      <td>0.066115</td>\n",
       "      <td>0.521624</td>\n",
       "      <td>1.000000</td>\n",
       "      <td>0.058933</td>\n",
       "    </tr>\n",
       "    <tr>\n",
       "      <th>total_sales</th>\n",
       "      <td>-0.005428</td>\n",
       "      <td>0.984507</td>\n",
       "      <td>0.932915</td>\n",
       "      <td>0.509859</td>\n",
       "      <td>0.992442</td>\n",
       "      <td>0.362946</td>\n",
       "      <td>0.058933</td>\n",
       "      <td>1.000000</td>\n",
       "    </tr>\n",
       "  </tbody>\n",
       "</table>\n",
       "</div>"
      ],
      "text/plain": [
       "                 year_of_release  na_sales  eu_sales  jp_sales  other_sales  \\\n",
       "year_of_release         1.000000 -0.019254  0.033566 -0.124145    -0.012521   \n",
       "na_sales               -0.019254  1.000000  0.855970  0.489104     0.964710   \n",
       "eu_sales                0.033566  0.855970  1.000000  0.465904     0.948261   \n",
       "jp_sales               -0.124145  0.489104  0.465904  1.000000     0.505002   \n",
       "other_sales            -0.012521  0.964710  0.948261  0.505002     1.000000   \n",
       "critic_score            0.035208  0.347813  0.352689  0.256757     0.369875   \n",
       "user_score             -0.177643  0.051876  0.059822  0.151263     0.066115   \n",
       "total_sales            -0.005428  0.984507  0.932915  0.509859     0.992442   \n",
       "\n",
       "                 critic_score  user_score  total_sales  \n",
       "year_of_release      0.035208   -0.177643    -0.005428  \n",
       "na_sales             0.347813    0.051876     0.984507  \n",
       "eu_sales             0.352689    0.059822     0.932915  \n",
       "jp_sales             0.256757    0.151263     0.509859  \n",
       "other_sales          0.369875    0.066115     0.992442  \n",
       "critic_score         1.000000    0.521624     0.362946  \n",
       "user_score           0.521624    1.000000     0.058933  \n",
       "total_sales          0.362946    0.058933     1.000000  "
      ]
     },
     "execution_count": 48,
     "metadata": {},
     "output_type": "execute_result"
    }
   ],
   "source": [
    "df6.corr()"
   ]
  },
  {
   "cell_type": "markdown",
   "metadata": {},
   "source": [
    "Para la XBOX 360, tenemos que las correlaciones de total_sales con critic_score y user_score son similares a las anteriores obtenidas. Aca igual obtenemos una correlación positiva en user_score, a diferencia que con PS4. Sin embargo, ambas son casi nulas, por lo que no se puede establecer una relación. Y para el caso de critic_score se obtiene una correlación ligeramente mayor (0.37)"
   ]
  },
  {
   "cell_type": "markdown",
   "metadata": {},
   "source": [
    "En conclusión, las correlaciones de las 3 consolas son muy similares entre sí, lo que implica que no era un sesgo inicial de la consola seleccionada. Al parecer, sería de forma genérica."
   ]
  },
  {
   "cell_type": "markdown",
   "metadata": {},
   "source": [
    "### Distribución general de juegos por género\n",
    "\n",
    "Continuando con el análisis, veremos ahora la distribución de juegos por genero y analizaremos sus ventas."
   ]
  },
  {
   "cell_type": "code",
   "execution_count": 49,
   "metadata": {
    "scrolled": true
   },
   "outputs": [
    {
     "data": {
      "text/plain": [
       "genre\n",
       "Action          1136.11\n",
       "Sports           799.61\n",
       "Shooter          722.68\n",
       "Misc             564.78\n",
       "Role-Playing     524.45\n",
       "Racing           300.81\n",
       "Platform         280.42\n",
       "Simulation       222.27\n",
       "Fighting         188.68\n",
       "Adventure        141.71\n",
       "Puzzle            90.63\n",
       "Strategy          74.79\n",
       "Name: total_sales, dtype: float64"
      ]
     },
     "execution_count": 49,
     "metadata": {},
     "output_type": "execute_result"
    }
   ],
   "source": [
    "df3.groupby(\"genre\")[\"total_sales\"].sum().sort_values(ascending = False)"
   ]
  },
  {
   "cell_type": "code",
   "execution_count": 50,
   "metadata": {
    "scrolled": false
   },
   "outputs": [
    {
     "data": {
      "text/plain": [
       "genre     year_of_release\n",
       "Action    2008               143.47\n",
       "Sports    2009               137.72\n",
       "Action    2009               137.69\n",
       "Sports    2006               137.57\n",
       "Action    2012               123.91\n",
       "                              ...  \n",
       "Strategy  2016                 1.13\n",
       "          2014                 1.02\n",
       "Puzzle    2013                 0.96\n",
       "          2015                 0.71\n",
       "          2016                 0.01\n",
       "Name: total_sales, Length: 132, dtype: float64"
      ]
     },
     "execution_count": 50,
     "metadata": {},
     "output_type": "execute_result"
    }
   ],
   "source": [
    "df3.groupby([\"genre\", \"year_of_release\"])[\"total_sales\"].sum().sort_values(ascending = False)"
   ]
  },
  {
   "cell_type": "markdown",
   "metadata": {},
   "source": [
    "Mirando las ventas por género tenemos que las 3 de mayores ganancias son los juegos de Acción, Deporte y los \"Shooter\" o juegos de disparos. Respecto a los de más bajas ventas están los de estrategia y puzzles.\n",
    "\n",
    "De hecho, efectuando un muestreo por la suma de ventas por año respecto del genero, en los primeros 5 lugares se mantienen los juegos de Acción y Deportes, dominando de forma absoluta el mercado."
   ]
  },
  {
   "cell_type": "code",
   "execution_count": 51,
   "metadata": {
    "scrolled": false
   },
   "outputs": [
    {
     "data": {
      "image/png": "[encoded data removed]",
      "text/plain": [
       "<Figure size 640x480 with 1 Axes>"
      ]
     },
     "metadata": {},
     "output_type": "display_data"
    }
   ],
   "source": [
    "df3.groupby(\"genre\")[\"total_sales\"].sum().sort_values().plot(rot = 60, kind = \"bar\")\n",
    "plt.title(\"ventas de juegos por género\")\n",
    "plt.ylabel(\"millones de dolares\")\n",
    "plt.xlabel(\"categoría del juego\")\n",
    "plt.show()"
   ]
  },
  {
   "cell_type": "code",
   "execution_count": 52,
   "metadata": {},
   "outputs": [
    {
     "data": {
      "image/png": "[encoded data removed]",
      "text/plain": [
       "<Figure size 640x480 with 1 Axes>"
      ]
     },
     "metadata": {},
     "output_type": "display_data"
    }
   ],
   "source": [
    "df.groupby(\"genre\")[\"na_sales\"].sum().plot()\n",
    "df.groupby(\"genre\")[\"eu_sales\"].sum().plot()\n",
    "df.groupby(\"genre\")[\"jp_sales\"].sum().plot()\n",
    "df.groupby(\"genre\")[\"other_sales\"].sum().plot()\n",
    "\n",
    "plt.legend()\n",
    "plt.show()"
   ]
  },
  {
   "cell_type": "markdown",
   "metadata": {},
   "source": [
    "Respecto de las ventas por región, se observa que todas tienen su peak en los juegos de acción, a excepción de las ventas en japón. Sin embargo, a nivel general las mayores ventas las tendrá, como bien se vió en los resultados anteriores, los juegos de acción, seguido por los de deportes."
   ]
  },
  {
   "cell_type": "markdown",
   "metadata": {},
   "source": [
    "## Perfiles de Usuario por Región\n",
    "\n",
    "Para esto, en vez de utilizar el total sales, se utilizará el total de ventas por región. Es decir, para norteamérica se ocupará na_sales, para europa eu_sales y para japón jp_sales."
   ]
  },
  {
   "cell_type": "markdown",
   "metadata": {},
   "source": [
    "#### Norteamérica\n",
    "\n",
    "Para las ventas en aquella región, tenemos que las primeras 5 plataformas son:\n",
    "\n",
    "- X360\n",
    "- Wii\n",
    "- PS3\n",
    "- DS\n",
    "- PS2"
   ]
  },
  {
   "cell_type": "code",
   "execution_count": 53,
   "metadata": {
    "scrolled": true
   },
   "outputs": [
    {
     "data": {
      "text/plain": [
       "platform\n",
       "X360    594.79\n",
       "Wii     496.90\n",
       "PS3     393.49\n",
       "DS      326.08\n",
       "PS2     115.90\n",
       "PS4     108.74\n",
       "XOne     93.12\n",
       "3DS      83.49\n",
       "PSP      82.44\n",
       "PC       45.62\n",
       "WiiU     38.10\n",
       "PSV      12.58\n",
       "GC        8.96\n",
       "XB        8.05\n",
       "GBA       5.28\n",
       "DC        0.00\n",
       "Name: na_sales, dtype: float64"
      ]
     },
     "execution_count": 53,
     "metadata": {},
     "output_type": "execute_result"
    }
   ],
   "source": [
    "df3.groupby(\"platform\")[\"na_sales\"].sum().sort_values(ascending = False)"
   ]
  },
  {
   "cell_type": "markdown",
   "metadata": {},
   "source": [
    "Respecto de sus géneros principales, son:\n",
    "\n",
    "- Action \n",
    "- Sports\n",
    "- Shooter\n",
    "- Misc\n",
    "- Role-Playing\n",
    "\n",
    "Cabe destacar que estos eran los mismos que teníamos seleccionados en los primeros lugares para la distribución general de juegos por género. Esto se debe a que norteamérica tiene el mayor porcentaje de ventas de juegos."
   ]
  },
  {
   "cell_type": "code",
   "execution_count": 54,
   "metadata": {},
   "outputs": [
    {
     "data": {
      "text/plain": [
       "genre\n",
       "Action          540.43\n",
       "Sports          400.26\n",
       "Shooter         375.88\n",
       "Misc            291.24\n",
       "Role-Playing    200.09\n",
       "Platform        134.33\n",
       "Racing          133.58\n",
       "Simulation      109.12\n",
       "Fighting         94.49\n",
       "Adventure        61.81\n",
       "Puzzle           43.05\n",
       "Strategy         29.26\n",
       "Name: na_sales, dtype: float64"
      ]
     },
     "execution_count": 54,
     "metadata": {},
     "output_type": "execute_result"
    }
   ],
   "source": [
    "df3.groupby(\"genre\")[\"na_sales\"].sum().sort_values(ascending = False)"
   ]
  },
  {
   "cell_type": "markdown",
   "metadata": {},
   "source": [
    "En cuanto a si sus calificaciones ESRB afectan a las ventas, tenemos que gran parte del mercado lo tiene el rating E, que significa Everyone."
   ]
  },
  {
   "cell_type": "code",
   "execution_count": 55,
   "metadata": {},
   "outputs": [
    {
     "data": {
      "text/plain": [
       "rating\n",
       "E                   802.04\n",
       "E10+                323.22\n",
       "EC                    1.32\n",
       "M                   577.44\n",
       "RP                    0.00\n",
       "T                   433.79\n",
       "sin_calificacion    275.73\n",
       "Name: na_sales, dtype: float64"
      ]
     },
     "execution_count": 55,
     "metadata": {},
     "output_type": "execute_result"
    }
   ],
   "source": [
    "df3.groupby(\"rating\")[\"na_sales\"].sum()"
   ]
  },
  {
   "cell_type": "markdown",
   "metadata": {},
   "source": [
    "#### Europa\n",
    "\n",
    "Para las ventas en aquella región, tenemos que las primeras 5 plataformas son:\n",
    "\n",
    "- PS3\n",
    "- X360\n",
    "- Wii\n",
    "- DS\n",
    "- PS4"
   ]
  },
  {
   "cell_type": "code",
   "execution_count": 56,
   "metadata": {},
   "outputs": [
    {
     "data": {
      "text/plain": [
       "platform\n",
       "PS3     330.15\n",
       "X360    270.22\n",
       "Wii     262.21\n",
       "DS      143.47\n",
       "PS4     141.09\n",
       "PC      102.39\n",
       "3DS      61.48\n",
       "PSP      55.27\n",
       "XOne     51.59\n",
       "PS2      46.56\n",
       "WiiU     25.13\n",
       "PSV      13.12\n",
       "XB        2.42\n",
       "GC        2.40\n",
       "GBA       1.93\n",
       "DC        0.00\n",
       "Name: eu_sales, dtype: float64"
      ]
     },
     "execution_count": 56,
     "metadata": {},
     "output_type": "execute_result"
    }
   ],
   "source": [
    "df3.groupby(\"platform\")[\"eu_sales\"].sum().sort_values(ascending = False)"
   ]
  },
  {
   "cell_type": "markdown",
   "metadata": {},
   "source": [
    "Respecto de sus géneros principales, son:\n",
    "\n",
    "- Action \n",
    "- Sports\n",
    "- Shooter\n",
    "- Misc\n",
    "- Racing"
   ]
  },
  {
   "cell_type": "code",
   "execution_count": 57,
   "metadata": {},
   "outputs": [
    {
     "data": {
      "text/plain": [
       "genre\n",
       "Action          357.09\n",
       "Sports          252.72\n",
       "Shooter         241.09\n",
       "Misc            148.43\n",
       "Racing          114.23\n",
       "Role-Playing    110.85\n",
       "Platform         82.10\n",
       "Simulation       69.76\n",
       "Fighting         42.68\n",
       "Adventure        37.92\n",
       "Puzzle           27.86\n",
       "Strategy         24.70\n",
       "Name: eu_sales, dtype: float64"
      ]
     },
     "execution_count": 57,
     "metadata": {},
     "output_type": "execute_result"
    }
   ],
   "source": [
    "df3.groupby(\"genre\")[\"eu_sales\"].sum().sort_values(ascending = False)"
   ]
  },
  {
   "cell_type": "markdown",
   "metadata": {},
   "source": [
    "En cuanto a si sus calificaciones ESRB afectan a las ventas, tenemos que parte del mercado lo tiene el rating E seguido del rating M, que significa Mature (usualmente mayor de 16 años)."
   ]
  },
  {
   "cell_type": "code",
   "execution_count": 58,
   "metadata": {},
   "outputs": [
    {
     "data": {
      "text/plain": [
       "rating\n",
       "E                   461.81\n",
       "E10+                178.42\n",
       "EC                    0.00\n",
       "M                   401.91\n",
       "RP                    0.07\n",
       "T                   239.34\n",
       "sin_calificacion    227.88\n",
       "Name: eu_sales, dtype: float64"
      ]
     },
     "execution_count": 58,
     "metadata": {},
     "output_type": "execute_result"
    }
   ],
   "source": [
    "df3.groupby(\"rating\")[\"eu_sales\"].sum()"
   ]
  },
  {
   "cell_type": "markdown",
   "metadata": {},
   "source": [
    "#### Japón\n",
    "\n",
    "Para las ventas en aquella región, tenemos que las primeras 5 plataformas son:\n",
    "\n",
    "- DS\n",
    "- 3DS\n",
    "- PS3\n",
    "- PSP\n",
    "- Wii\n",
    "\n",
    "Llama la atención que de las 5 mayores plataformas con ventas de juegos, 3 de ellas sean de consolas portátiles."
   ]
  },
  {
   "cell_type": "code",
   "execution_count": 59,
   "metadata": {},
   "outputs": [
    {
     "data": {
      "text/plain": [
       "platform\n",
       "DS      141.97\n",
       "3DS     100.67\n",
       "PS3      80.18\n",
       "PSP      71.53\n",
       "Wii      69.31\n",
       "PS2      36.87\n",
       "PSV      21.91\n",
       "PS4      15.96\n",
       "WiiU     13.01\n",
       "X360     12.14\n",
       "GBA       1.51\n",
       "XOne      0.34\n",
       "GC        0.32\n",
       "DC        0.06\n",
       "PC        0.00\n",
       "XB        0.00\n",
       "Name: jp_sales, dtype: float64"
      ]
     },
     "execution_count": 59,
     "metadata": {},
     "output_type": "execute_result"
    }
   ],
   "source": [
    "df3.groupby(\"platform\")[\"jp_sales\"].sum().sort_values(ascending = False)"
   ]
  },
  {
   "cell_type": "markdown",
   "metadata": {},
   "source": [
    "Respecto de sus géneros principales, son:\n",
    "\n",
    "- Role-Playing\n",
    "- Action\n",
    "- Misc\n",
    "- Sports\n",
    "- Platform"
   ]
  },
  {
   "cell_type": "code",
   "execution_count": 60,
   "metadata": {},
   "outputs": [
    {
     "data": {
      "text/plain": [
       "genre\n",
       "Role-Playing    171.64\n",
       "Action          103.02\n",
       "Misc             65.62\n",
       "Sports           49.35\n",
       "Platform         35.32\n",
       "Adventure        29.55\n",
       "Fighting         28.61\n",
       "Simulation       23.47\n",
       "Shooter          19.41\n",
       "Strategy         14.09\n",
       "Racing           13.27\n",
       "Puzzle           12.43\n",
       "Name: jp_sales, dtype: float64"
      ]
     },
     "execution_count": 60,
     "metadata": {},
     "output_type": "execute_result"
    }
   ],
   "source": [
    "df3.groupby(\"genre\")[\"jp_sales\"].sum().sort_values(ascending = False)"
   ]
  },
  {
   "cell_type": "markdown",
   "metadata": {},
   "source": [
    "En cuanto a si sus calificaciones ESRB afectan a las ventas, tenemos que la mayor parte del mercado está constituida por juegos que no poseen calificación, seguido del rating Everyone (E)."
   ]
  },
  {
   "cell_type": "code",
   "execution_count": 61,
   "metadata": {},
   "outputs": [
    {
     "data": {
      "text/plain": [
       "rating\n",
       "E                   120.36\n",
       "E10+                 36.57\n",
       "EC                    0.00\n",
       "M                    44.45\n",
       "RP                    0.00\n",
       "T                    84.22\n",
       "sin_calificacion    280.18\n",
       "Name: jp_sales, dtype: float64"
      ]
     },
     "execution_count": 61,
     "metadata": {},
     "output_type": "execute_result"
    }
   ],
   "source": [
    "df3.groupby(\"rating\")[\"jp_sales\"].sum()"
   ]
  },
  {
   "cell_type": "markdown",
   "metadata": {},
   "source": [
    "### Conclusiones\n",
    "\n",
    "Habiendo revisado los datos de las tres regiones a nivel de ventas, notamos que las plataformas principales de juego si difieren de una región a otra. Por ejemplo en norteamérica y europa se tiene que de las 5 plataformas, 4 de ellas no son portátiles, pero en Japón ocurre lo opuesto habiendo mayoría en las consolas portátiles (3 de 5).\n",
    "\n",
    "En cuanto a sus géneros principales, norteamérica y europa nuevamente se comportan de forma similar, teniendo ambos en 4 de 5, coincidencias exactas. Para Japón es diferente, su mercado (como vimos en el parrafo anterior) está dominado por las consolas portátiles y por elo, es que su juego principal es el Role-Playing. Aun así, el resto de categorías comparten generos con las otras dos regiones, teniendo un match en 3 de 5.\n",
    "\n",
    "Finalmente, respecto de las clasificaciones ESRB, tenemos una dominación en la categoría Everyone, donde se lleva el primer lugar en norteamérica y europa. Para Japón la situación es algo diferente ya que ahí tenemos la mayoría de juegos sin una categoría específica. Sin embargo, acorde a las situaciones verificadas previamente, podemos suponer que el mercado japonés se rige a si mismo por los gustos de su cultura y por ende las calificaciones que tenga no inferirán en las ventas. \n",
    "\n",
    "Para norteamérica y europa si se ve claramente una tendencia a tener mayores ventas para los juegos de categoría everyone (E) por lo que aquello puede ser una tendencia de éxito a la hora de publicar juegos que califiquen dentro de ella."
   ]
  },
  {
   "cell_type": "markdown",
   "metadata": {},
   "source": [
    "## Pruebas de Hipótesis\n",
    "\n",
    "Para las pruebas de hipótesis lo primero que haremos será filtrar nuestro dataset por los requerimientos que nos solicitan, posteriormente haremos un pequeño análisis con la función levene (que compara si sus varianzas son efectivamente son iguales) para finalmente culminar con la prueba en sí."
   ]
  },
  {
   "cell_type": "markdown",
   "metadata": {},
   "source": [
    "### Usuarios Xbox One y PC\n",
    "\n",
    "Prueba para verificar si las calificaciones promedio de los usuarios de Xbox One y PC son iguales."
   ]
  },
  {
   "cell_type": "markdown",
   "metadata": {},
   "source": [
    "Comenzaremos filtrando nuestros dataset por aquellas plataformas."
   ]
  },
  {
   "cell_type": "code",
   "execution_count": 62,
   "metadata": {},
   "outputs": [],
   "source": [
    "xbox_one = df3[df3[\"platform\"] == \"XOne\"]\n",
    "\n",
    "pc = df3[df3[\"platform\"] == \"PC\"]"
   ]
  },
  {
   "cell_type": "markdown",
   "metadata": {},
   "source": [
    "Ahora, con nuestros dataset filtrados, haremos las siguientes hipótesis:\n",
    "\n",
    "- Ho: Las calificaciones promedio de usuarios de Xbox One y PC son iguales\n",
    "- H1: Las calificaciones promedio de usuarios de Xbox One y PC son diferentes\n",
    "\n",
    "Seguido de esto, utilizaremos la función levene, con tal de poder establecer el valor de equal_var en nuestra prueba. Para este test, utilizaremos un valor alpha de 0.05."
   ]
  },
  {
   "cell_type": "code",
   "execution_count": 63,
   "metadata": {},
   "outputs": [
    {
     "name": "stdout",
     "output_type": "stream",
     "text": [
      "0.6762974626816225\n",
      "No podemos rechazar la hipótesis nula de la funcion levene\n"
     ]
    }
   ],
   "source": [
    "result_var = st.levene(xbox_one[\"user_score\"], pc[\"user_score\"])\n",
    "print(result_var.pvalue)\n",
    "\n",
    "alpha = 0.05\n",
    "\n",
    "if result_var.pvalue < alpha: # comparar el valor p con el umbral seleccionado de 0.05\n",
    "    print(\"Rechazamos la hipótesis nula de la funcion levene\")\n",
    "else:\n",
    "    print(\"No podemos rechazar la hipótesis nula de la funcion levene\")"
   ]
  },
  {
   "cell_type": "markdown",
   "metadata": {},
   "source": [
    "Con el valor obtenido, no podemos rechazar la hipotesis nula de la función levene, por ende dejaremos el parámetro equal_var en true para nuestra prueba."
   ]
  },
  {
   "cell_type": "markdown",
   "metadata": {},
   "source": [
    "Efectuando una pequeña prueba previa a nuestro test, veremos cómo son las varianzas de ambos datos:"
   ]
  },
  {
   "cell_type": "code",
   "execution_count": 64,
   "metadata": {},
   "outputs": [
    {
     "name": "stdout",
     "output_type": "stream",
     "text": [
      "la varianza de los usuarios de Xbox es: 1.5895549850235344\n",
      "la varianza de los usuarios de PC es: 1.9061072801338288\n"
     ]
    }
   ],
   "source": [
    "var_xbox = xbox_one[\"user_score\"].var()\n",
    "var_pc = pc[\"user_score\"].var()\n",
    "print(f\"la varianza de los usuarios de Xbox es: {var_xbox}\")\n",
    "print(f\"la varianza de los usuarios de PC es: {var_pc}\")"
   ]
  },
  {
   "cell_type": "code",
   "execution_count": 65,
   "metadata": {},
   "outputs": [
    {
     "name": "stdout",
     "output_type": "stream",
     "text": [
      "valor p:  0.054944523775005964\n",
      "No podemos rechazar la hipótesis nula\n"
     ]
    }
   ],
   "source": [
    "#escogemos el ttest para dos muestras\n",
    "results = st.ttest_ind(xbox_one[\"user_score\"], pc[\"user_score\"], equal_var = \"True\")\n",
    "\n",
    "print(\"valor p: \", results.pvalue) # extraemos el valor p\n",
    "\n",
    "#utilizamos el valor de alpha ya seleccionado previamente.\n",
    "\n",
    "if results.pvalue < alpha: # comparar el valor p con el umbral seleccionado de 0.05\n",
    "    print(\"Rechazamos la hipótesis nula\")\n",
    "else:\n",
    "    print(\"No podemos rechazar la hipótesis nula\")\n"
   ]
  },
  {
   "cell_type": "markdown",
   "metadata": {},
   "source": [
    "El valor p nos indica que aunque las cantidades promedio para los dos ingresos son bastante cercanas entre sí, existe un porcentaje bajo de probabilidad de obtener una diferencia de ese tamaño o mayor, con lo que se puede rechazar la hipótesis nula. Existe una diferencia significativa entre los medias de cada usuario de plataforma."
   ]
  },
  {
   "cell_type": "markdown",
   "metadata": {},
   "source": [
    "### Calificaciones promedio géneros Acción y Deportes\n",
    "\n",
    "Tal como se efectuó en el apartado anterior, se realizará una prueba nuevamente para estas dos nuevas categorías en nuestro dataset.\n",
    "\n",
    "Primeramente, seleccionamos el dataset para aquellos géneros:"
   ]
  },
  {
   "cell_type": "code",
   "execution_count": 66,
   "metadata": {},
   "outputs": [],
   "source": [
    "action = df3[df3[\"genre\"] == \"Action\"]\n",
    "sports = df3[df3[\"genre\"] == \"Sports\"]"
   ]
  },
  {
   "cell_type": "markdown",
   "metadata": {},
   "source": [
    "Con ello, haremos una prueba inicial revisando sus varianzas:"
   ]
  },
  {
   "cell_type": "code",
   "execution_count": 67,
   "metadata": {
    "scrolled": true
   },
   "outputs": [
    {
     "name": "stdout",
     "output_type": "stream",
     "text": [
      "la varianza del género de acción es: 1.1252731478846576\n",
      "la varianza del género de deporte es: 1.732491331648225\n"
     ]
    }
   ],
   "source": [
    "action_var = action[\"user_score\"].var()\n",
    "sports_var = sports[\"user_score\"].var()\n",
    "print(f\"la varianza del género de acción es: {action_var}\")\n",
    "print(f\"la varianza del género de deporte es: {sports_var}\")"
   ]
  },
  {
   "cell_type": "markdown",
   "metadata": {},
   "source": [
    "Ahora, con nuestros dataset filtrados, haremos las siguientes hipótesis:\n",
    "\n",
    "- Ho: Las calificaciones promedio del género acción y deporte son iguales\n",
    "- H1: Las calificaciones promedio del género acción y deporte son diferentes\n",
    "\n",
    "Seguido de esto, utilizaremos la función levene, con tal de poder establecer el valor de equal_var en nuestra prueba. Para este test, utilizaremos un valor alpha de 0.01."
   ]
  },
  {
   "cell_type": "code",
   "execution_count": 68,
   "metadata": {},
   "outputs": [
    {
     "name": "stdout",
     "output_type": "stream",
     "text": [
      "1.2115239185697207e-05\n",
      "Rechazamos la hipótesis nula de la funcion levene\n"
     ]
    }
   ],
   "source": [
    "result_var2 = st.levene(action[\"user_score\"], sports[\"user_score\"])\n",
    "print(result_var2.pvalue)\n",
    "\n",
    "alpha2 = 0.01\n",
    "\n",
    "if result_var2.pvalue < alpha2: # comparar el valor p con el umbral seleccionado de 0.01\n",
    "    print(\"Rechazamos la hipótesis nula de la funcion levene\")\n",
    "else:\n",
    "    print(\"No podemos rechazar la hipótesis nula de la funcion levene\")"
   ]
  },
  {
   "cell_type": "markdown",
   "metadata": {},
   "source": [
    "Con la hipótesis rechazada, no podemos sostener que ambas varianzas son iguales, por lo que estableceremos el parámetro equal_var como False en nuestra prueba."
   ]
  },
  {
   "cell_type": "code",
   "execution_count": 69,
   "metadata": {},
   "outputs": [
    {
     "name": "stdout",
     "output_type": "stream",
     "text": [
      "valor p:  1.1099369438783001e-08\n",
      "Rechazamos la hipótesis nula\n"
     ]
    }
   ],
   "source": [
    "#escogemos el ttest para dos muestras nuevamente\n",
    "\n",
    "results2 = st.ttest_ind(action[\"user_score\"], sports[\"user_score\"], equal_var = \"False\")\n",
    "\n",
    "print(\"valor p: \", results2.pvalue) # extraemos el valor p\n",
    "\n",
    "#utilizamos el valor de alpha ya seleccionado previamente.\n",
    "\n",
    "if results2.pvalue < alpha2: # comparar el valor p con el umbral seleccionado de 0.01\n",
    "    print(\"Rechazamos la hipótesis nula\")\n",
    "else:\n",
    "    print(\"No podemos rechazar la hipótesis nula\")"
   ]
  },
  {
   "cell_type": "markdown",
   "metadata": {},
   "source": [
    "El valor p nos indica que existe un porcentaje extremadamente pequeño de probabilidad de obtener una diferencia de ese tamaño o mayor, con lo que se puede rechazar la hipótesis nula. Por lo tanto, existe una diferencia significativa entre las medias de cada género seleccionado respecto a la calificación de los usuarios."
   ]
  },
  {
   "cell_type": "markdown",
   "metadata": {},
   "source": [
    "Para ambas pruebas se ha utilizado la funcion ttest, que está basada en la distribución t-student. Esta nos permite comparar dos poblaciones respecto de sus medias, por lo que es ideal para este tipo de muestreos.\n",
    "\n",
    "La función levene nos ayuda a revisar aquellas varianzas de ambas muestras, ya que la función ttest requiere aquel parámetro, siempre es mejor comprobar que lo que se añade esté verificado para no tener errores."
   ]
  },
  {
   "cell_type": "markdown",
   "metadata": {},
   "source": [
    "## Conclusiones Generales\n",
    "\n",
    "Habiendo revisado en la totalidad los datos del dataset de juegos vendidos en todas las regiones, indudablemente debemos señalar que el mercado que más vende es el norteamericano. Este, como ya vimos previamente, tiene sus géneros de juegos ya consolidados (como los juegos de acción y deportes) y con ello, por ejemplo, si quisieramos dedicarnos a obtener mayores ganancias de ventas de videojuegos, deberíamos conseguir juegos de esas categorías y distribuir, mayoritariamente en aquel mercado.\n",
    "\n",
    "El mercado europeo se comporta de manera similar por lo que de igual manera es una muy buena opción viendo sus ventas. \n",
    "\n",
    "Respecto al mercado Japonés, la particularidad que tiene, es que sus consolas y videojuegos difieren de las de las otras regiones (que como ya comprobamos tienden a tener cierta semejanza). En Japón la gente suele utilizar consolas portátiles y jugar juegos de otro género en comparación a las otras regiones. Esto, hace que a nivel general el mercado tenga sus nichos de clientes por lo que dependiendo de la categoría de videojuegos a vender, sea necesario establecer aquella estrategia.\n",
    "\n",
    "En cuanto a la venta de juegos por consola, es necesario saber que el mercado constantemente está mejorando la cálidad gráfica y la inmersión, por lo que las consolas van quedando obsoletas respecto a sus características técnicas. Esto, sumado al desarrollo normal de los videojuegos, dan que la vida útil de cada consola esté determinado (con nuestro análisis en promedio cada 3 años aproximadamente).\n",
    "\n",
    "Nuestro análisis determino que el mercado no se deja llevar necesariamente por las calificaciones dadas a los videojuegos, sino que por sus categorías y plataformas. No logramos encontrar una relación fuerte en la calificación del juego y sus ventas, aunque la mayoría de los juegos vendidos estén bien calificados. Con esto, finalmente podemos señalar que los compradores quieren jugar a los juegos por lo que son y no por su calificación. \n",
    "\n",
    "\n",
    "Finalmente, las medias de las poblaciones observadas nos dieron que usualmente serían diferentes, por lo que cada plataforma se comportaría de forma \"única\" respecto a lo mismo."
   ]
  }
 ],
 "metadata": {
  "ExecuteTimeLog": [
   {
    "duration": 5,
    "start_time": "2024-08-19T20:46:15.836Z"
   },
   {
    "duration": 4730,
    "start_time": "2024-08-19T21:21:37.130Z"
   },
   {
    "duration": 4,
    "start_time": "2024-08-19T21:21:57.999Z"
   },
   {
    "duration": 70,
    "start_time": "2024-08-19T22:52:25.754Z"
   },
   {
    "duration": 18,
    "start_time": "2024-08-19T22:52:40.573Z"
   },
   {
    "duration": 34,
    "start_time": "2024-08-19T22:52:54.054Z"
   },
   {
    "duration": 36,
    "start_time": "2024-08-19T22:56:09.870Z"
   },
   {
    "duration": 3,
    "start_time": "2024-08-19T22:57:08.517Z"
   },
   {
    "duration": 4976,
    "start_time": "2024-08-20T18:39:04.023Z"
   },
   {
    "duration": 67,
    "start_time": "2024-08-20T18:39:09.003Z"
   },
   {
    "duration": 40,
    "start_time": "2024-08-20T18:39:09.075Z"
   },
   {
    "duration": 432,
    "start_time": "2024-08-20T18:40:40.262Z"
   },
   {
    "duration": 29,
    "start_time": "2024-08-20T18:40:50.499Z"
   },
   {
    "duration": 5,
    "start_time": "2024-08-20T18:41:23.874Z"
   },
   {
    "duration": 18,
    "start_time": "2024-08-20T18:41:34.786Z"
   },
   {
    "duration": 20,
    "start_time": "2024-08-20T18:41:58.081Z"
   },
   {
    "duration": 26,
    "start_time": "2024-08-20T18:46:07.048Z"
   },
   {
    "duration": 1178,
    "start_time": "2024-08-20T18:46:28.661Z"
   },
   {
    "duration": 18,
    "start_time": "2024-08-20T18:47:42.125Z"
   },
   {
    "duration": 28,
    "start_time": "2024-08-20T18:49:10.662Z"
   },
   {
    "duration": 20,
    "start_time": "2024-08-20T18:49:16.676Z"
   },
   {
    "duration": 38,
    "start_time": "2024-08-20T18:50:06.169Z"
   },
   {
    "duration": 41,
    "start_time": "2024-08-20T18:50:24.455Z"
   },
   {
    "duration": 37,
    "start_time": "2024-08-20T18:50:42.900Z"
   },
   {
    "duration": 37,
    "start_time": "2024-08-20T18:51:03.900Z"
   },
   {
    "duration": 15,
    "start_time": "2024-08-20T18:53:57.516Z"
   },
   {
    "duration": 25,
    "start_time": "2024-08-20T18:56:13.412Z"
   },
   {
    "duration": 23,
    "start_time": "2024-08-20T18:57:36.096Z"
   },
   {
    "duration": 51,
    "start_time": "2024-08-20T18:57:49.043Z"
   },
   {
    "duration": 51,
    "start_time": "2024-08-20T18:58:14.415Z"
   },
   {
    "duration": 22,
    "start_time": "2024-08-20T18:59:06.013Z"
   },
   {
    "duration": 20,
    "start_time": "2024-08-20T19:00:26.895Z"
   },
   {
    "duration": 7,
    "start_time": "2024-08-20T19:01:07.812Z"
   },
   {
    "duration": 9,
    "start_time": "2024-08-20T19:03:43.373Z"
   },
   {
    "duration": 19,
    "start_time": "2024-08-20T19:03:54.254Z"
   },
   {
    "duration": 10,
    "start_time": "2024-08-20T19:07:49.532Z"
   },
   {
    "duration": 11,
    "start_time": "2024-08-20T19:08:05.906Z"
   },
   {
    "duration": 29,
    "start_time": "2024-08-20T19:08:30.238Z"
   },
   {
    "duration": 30,
    "start_time": "2024-08-20T19:12:10.158Z"
   },
   {
    "duration": 7,
    "start_time": "2024-08-20T19:12:39.007Z"
   },
   {
    "duration": 40,
    "start_time": "2024-08-20T19:12:44.522Z"
   },
   {
    "duration": 732,
    "start_time": "2024-08-20T19:13:09.864Z"
   },
   {
    "duration": 35,
    "start_time": "2024-08-20T19:13:18.674Z"
   },
   {
    "duration": 38,
    "start_time": "2024-08-20T19:13:43.121Z"
   },
   {
    "duration": 109,
    "start_time": "2024-08-20T19:13:59.566Z"
   },
   {
    "duration": 71,
    "start_time": "2024-08-20T19:14:13.694Z"
   },
   {
    "duration": 75,
    "start_time": "2024-08-20T19:14:31.509Z"
   },
   {
    "duration": 80,
    "start_time": "2024-08-20T19:14:40.640Z"
   },
   {
    "duration": 28,
    "start_time": "2024-08-20T19:14:44.594Z"
   },
   {
    "duration": 17,
    "start_time": "2024-08-20T19:15:53.268Z"
   },
   {
    "duration": 26,
    "start_time": "2024-08-20T19:16:33.430Z"
   },
   {
    "duration": 32,
    "start_time": "2024-08-20T19:17:25.841Z"
   },
   {
    "duration": 27,
    "start_time": "2024-08-20T19:19:53.068Z"
   },
   {
    "duration": 23,
    "start_time": "2024-08-20T19:21:14.311Z"
   },
   {
    "duration": 28,
    "start_time": "2024-08-20T19:22:07.467Z"
   },
   {
    "duration": 32,
    "start_time": "2024-08-20T19:28:13.028Z"
   },
   {
    "duration": 6,
    "start_time": "2024-08-20T19:33:11.974Z"
   },
   {
    "duration": 5,
    "start_time": "2024-08-20T19:33:35.603Z"
   },
   {
    "duration": 25,
    "start_time": "2024-08-20T19:33:50.645Z"
   },
   {
    "duration": 22,
    "start_time": "2024-08-20T19:36:09.468Z"
   },
   {
    "duration": 31,
    "start_time": "2024-08-20T19:36:47.908Z"
   },
   {
    "duration": 24,
    "start_time": "2024-08-20T19:36:56.536Z"
   },
   {
    "duration": 21,
    "start_time": "2024-08-20T19:36:58.920Z"
   },
   {
    "duration": 25,
    "start_time": "2024-08-20T19:39:03.547Z"
   },
   {
    "duration": 31,
    "start_time": "2024-08-20T19:40:20.923Z"
   },
   {
    "duration": 23,
    "start_time": "2024-08-20T19:40:43.788Z"
   },
   {
    "duration": 22,
    "start_time": "2024-08-20T19:41:46.528Z"
   },
   {
    "duration": 24,
    "start_time": "2024-08-20T19:42:05.519Z"
   },
   {
    "duration": 27,
    "start_time": "2024-08-20T19:44:10.340Z"
   },
   {
    "duration": 20,
    "start_time": "2024-08-20T19:45:20.734Z"
   },
   {
    "duration": 25,
    "start_time": "2024-08-20T19:45:23.925Z"
   },
   {
    "duration": 27,
    "start_time": "2024-08-20T19:46:15.926Z"
   },
   {
    "duration": 29,
    "start_time": "2024-08-20T19:46:39.711Z"
   },
   {
    "duration": 32,
    "start_time": "2024-08-20T19:47:07.210Z"
   },
   {
    "duration": 32,
    "start_time": "2024-08-20T19:49:39.203Z"
   },
   {
    "duration": 30,
    "start_time": "2024-08-20T19:50:00.816Z"
   },
   {
    "duration": 22,
    "start_time": "2024-08-20T19:50:15.309Z"
   },
   {
    "duration": 28,
    "start_time": "2024-08-20T19:50:18.204Z"
   },
   {
    "duration": 36,
    "start_time": "2024-08-20T19:50:50.814Z"
   },
   {
    "duration": 32,
    "start_time": "2024-08-20T19:51:19.860Z"
   },
   {
    "duration": 32,
    "start_time": "2024-08-20T19:52:47.860Z"
   },
   {
    "duration": 41,
    "start_time": "2024-08-20T19:53:07.732Z"
   },
   {
    "duration": 36,
    "start_time": "2024-08-20T19:53:17.031Z"
   },
   {
    "duration": 34,
    "start_time": "2024-08-20T19:53:27.547Z"
   },
   {
    "duration": 122,
    "start_time": "2024-08-20T19:55:00.654Z"
   },
   {
    "duration": 12,
    "start_time": "2024-08-20T19:56:13.418Z"
   },
   {
    "duration": 40,
    "start_time": "2024-08-20T19:58:33.404Z"
   },
   {
    "duration": 39,
    "start_time": "2024-08-20T19:58:56.237Z"
   },
   {
    "duration": 35,
    "start_time": "2024-08-20T19:59:09.488Z"
   },
   {
    "duration": 31,
    "start_time": "2024-08-20T19:59:23.538Z"
   },
   {
    "duration": 1281,
    "start_time": "2024-08-20T19:59:42.697Z"
   },
   {
    "duration": 53,
    "start_time": "2024-08-20T19:59:43.981Z"
   },
   {
    "duration": 42,
    "start_time": "2024-08-20T19:59:44.037Z"
   },
   {
    "duration": 60,
    "start_time": "2024-08-20T19:59:44.086Z"
   },
   {
    "duration": 21,
    "start_time": "2024-08-20T19:59:44.150Z"
   },
   {
    "duration": 41,
    "start_time": "2024-08-20T19:59:44.174Z"
   },
   {
    "duration": 36,
    "start_time": "2024-08-20T19:59:44.218Z"
   },
   {
    "duration": 30,
    "start_time": "2024-08-20T19:59:44.258Z"
   },
   {
    "duration": 51,
    "start_time": "2024-08-20T19:59:44.291Z"
   },
   {
    "duration": 28,
    "start_time": "2024-08-20T19:59:44.348Z"
   },
   {
    "duration": 45,
    "start_time": "2024-08-20T19:59:44.378Z"
   },
   {
    "duration": 19,
    "start_time": "2024-08-20T19:59:44.427Z"
   },
   {
    "duration": 24,
    "start_time": "2024-08-20T19:59:44.450Z"
   },
   {
    "duration": 65,
    "start_time": "2024-08-20T19:59:44.478Z"
   },
   {
    "duration": 30,
    "start_time": "2024-08-20T19:59:44.546Z"
   },
   {
    "duration": 36,
    "start_time": "2024-08-20T19:59:56.613Z"
   },
   {
    "duration": 29,
    "start_time": "2024-08-20T20:00:10.185Z"
   },
   {
    "duration": 32,
    "start_time": "2024-08-20T20:00:13.385Z"
   },
   {
    "duration": 1032,
    "start_time": "2024-08-20T20:00:19.591Z"
   },
   {
    "duration": 36,
    "start_time": "2024-08-20T20:00:29.264Z"
   },
   {
    "duration": 5,
    "start_time": "2024-08-20T20:00:39.812Z"
   },
   {
    "duration": 11,
    "start_time": "2024-08-20T20:00:53.537Z"
   },
   {
    "duration": 39,
    "start_time": "2024-08-20T20:01:51.877Z"
   },
   {
    "duration": 36,
    "start_time": "2024-08-20T20:02:02.160Z"
   },
   {
    "duration": 39,
    "start_time": "2024-08-20T20:03:27.342Z"
   },
   {
    "duration": 40,
    "start_time": "2024-08-20T20:05:41.998Z"
   },
   {
    "duration": 41,
    "start_time": "2024-08-20T20:09:08.252Z"
   },
   {
    "duration": 45,
    "start_time": "2024-08-20T20:09:32.375Z"
   },
   {
    "duration": 38,
    "start_time": "2024-08-20T20:09:49.548Z"
   },
   {
    "duration": 54,
    "start_time": "2024-08-20T20:10:35.093Z"
   },
   {
    "duration": 51,
    "start_time": "2024-08-20T20:11:20.834Z"
   },
   {
    "duration": 57,
    "start_time": "2024-08-20T20:11:26.517Z"
   },
   {
    "duration": 34,
    "start_time": "2024-08-20T20:11:48.413Z"
   },
   {
    "duration": 1178,
    "start_time": "2024-08-20T20:11:55.472Z"
   },
   {
    "duration": 40,
    "start_time": "2024-08-20T20:11:56.654Z"
   },
   {
    "duration": 60,
    "start_time": "2024-08-20T20:11:56.698Z"
   },
   {
    "duration": 52,
    "start_time": "2024-08-20T20:11:56.767Z"
   },
   {
    "duration": 19,
    "start_time": "2024-08-20T20:11:56.824Z"
   },
   {
    "duration": 15,
    "start_time": "2024-08-20T20:11:56.846Z"
   },
   {
    "duration": 60,
    "start_time": "2024-08-20T20:11:56.867Z"
   },
   {
    "duration": 19,
    "start_time": "2024-08-20T20:11:56.932Z"
   },
   {
    "duration": 29,
    "start_time": "2024-08-20T20:11:56.954Z"
   },
   {
    "duration": 27,
    "start_time": "2024-08-20T20:11:57.016Z"
   },
   {
    "duration": 26,
    "start_time": "2024-08-20T20:11:57.046Z"
   },
   {
    "duration": 53,
    "start_time": "2024-08-20T20:11:57.075Z"
   },
   {
    "duration": 21,
    "start_time": "2024-08-20T20:11:57.132Z"
   },
   {
    "duration": 77,
    "start_time": "2024-08-20T20:11:57.156Z"
   },
   {
    "duration": 14,
    "start_time": "2024-08-20T20:11:57.237Z"
   },
   {
    "duration": 50,
    "start_time": "2024-08-20T20:12:19.678Z"
   },
   {
    "duration": 56,
    "start_time": "2024-08-20T20:12:32.848Z"
   },
   {
    "duration": 56,
    "start_time": "2024-08-20T20:12:51.481Z"
   },
   {
    "duration": 47,
    "start_time": "2024-08-20T20:13:01.646Z"
   },
   {
    "duration": 55,
    "start_time": "2024-08-20T20:13:23.867Z"
   },
   {
    "duration": 51,
    "start_time": "2024-08-20T20:13:35.322Z"
   },
   {
    "duration": 1205,
    "start_time": "2024-08-20T20:13:41.866Z"
   },
   {
    "duration": 54,
    "start_time": "2024-08-20T20:13:43.075Z"
   },
   {
    "duration": 37,
    "start_time": "2024-08-20T20:13:43.132Z"
   },
   {
    "duration": 71,
    "start_time": "2024-08-20T20:13:43.174Z"
   },
   {
    "duration": 20,
    "start_time": "2024-08-20T20:13:43.248Z"
   },
   {
    "duration": 45,
    "start_time": "2024-08-20T20:13:43.273Z"
   },
   {
    "duration": 38,
    "start_time": "2024-08-20T20:13:43.321Z"
   },
   {
    "duration": 19,
    "start_time": "2024-08-20T20:13:43.363Z"
   },
   {
    "duration": 47,
    "start_time": "2024-08-20T20:13:43.386Z"
   },
   {
    "duration": 26,
    "start_time": "2024-08-20T20:13:43.439Z"
   },
   {
    "duration": 64,
    "start_time": "2024-08-20T20:13:43.468Z"
   },
   {
    "duration": 20,
    "start_time": "2024-08-20T20:13:43.535Z"
   },
   {
    "duration": 21,
    "start_time": "2024-08-20T20:13:43.558Z"
   },
   {
    "duration": 61,
    "start_time": "2024-08-20T20:13:43.612Z"
   },
   {
    "duration": 18,
    "start_time": "2024-08-20T20:13:43.676Z"
   },
   {
    "duration": 8,
    "start_time": "2024-08-20T20:13:56.037Z"
   },
   {
    "duration": 11,
    "start_time": "2024-08-20T20:14:05.726Z"
   },
   {
    "duration": 61,
    "start_time": "2024-08-20T20:14:33.373Z"
   },
   {
    "duration": 52,
    "start_time": "2024-08-20T20:14:51.108Z"
   },
   {
    "duration": 50,
    "start_time": "2024-08-20T20:15:01.550Z"
   },
   {
    "duration": 52,
    "start_time": "2024-08-20T20:15:28.217Z"
   },
   {
    "duration": 55,
    "start_time": "2024-08-20T20:18:34.133Z"
   },
   {
    "duration": 71,
    "start_time": "2024-08-20T20:18:48.387Z"
   },
   {
    "duration": 69,
    "start_time": "2024-08-20T20:18:55.231Z"
   },
   {
    "duration": 70,
    "start_time": "2024-08-20T20:19:26.428Z"
   },
   {
    "duration": 70,
    "start_time": "2024-08-20T20:19:36.888Z"
   },
   {
    "duration": 64,
    "start_time": "2024-08-20T20:20:01.102Z"
   },
   {
    "duration": 13,
    "start_time": "2024-08-20T20:20:05.861Z"
   },
   {
    "duration": 68,
    "start_time": "2024-08-20T20:20:21.047Z"
   },
   {
    "duration": 86,
    "start_time": "2024-08-20T20:20:57.079Z"
   },
   {
    "duration": 63,
    "start_time": "2024-08-20T20:21:01.234Z"
   },
   {
    "duration": 79,
    "start_time": "2024-08-20T20:21:43.545Z"
   },
   {
    "duration": 70,
    "start_time": "2024-08-20T20:21:52.691Z"
   },
   {
    "duration": 66,
    "start_time": "2024-08-20T20:22:04.930Z"
   },
   {
    "duration": 68,
    "start_time": "2024-08-20T20:22:16.495Z"
   },
   {
    "duration": 82,
    "start_time": "2024-08-20T20:22:38.995Z"
   },
   {
    "duration": 67,
    "start_time": "2024-08-20T20:22:56.469Z"
   },
   {
    "duration": 86,
    "start_time": "2024-08-20T20:23:06.867Z"
   },
   {
    "duration": 69,
    "start_time": "2024-08-20T20:23:18.568Z"
   },
   {
    "duration": 72,
    "start_time": "2024-08-20T20:23:38.270Z"
   },
   {
    "duration": 75,
    "start_time": "2024-08-20T20:23:56.980Z"
   },
   {
    "duration": 1264,
    "start_time": "2024-08-20T20:24:09.902Z"
   },
   {
    "duration": 48,
    "start_time": "2024-08-20T20:24:11.169Z"
   },
   {
    "duration": 49,
    "start_time": "2024-08-20T20:24:11.220Z"
   },
   {
    "duration": 66,
    "start_time": "2024-08-20T20:24:11.276Z"
   },
   {
    "duration": 20,
    "start_time": "2024-08-20T20:24:11.348Z"
   },
   {
    "duration": 12,
    "start_time": "2024-08-20T20:24:11.371Z"
   },
   {
    "duration": 60,
    "start_time": "2024-08-20T20:24:11.386Z"
   },
   {
    "duration": 19,
    "start_time": "2024-08-20T20:24:11.450Z"
   },
   {
    "duration": 69,
    "start_time": "2024-08-20T20:24:11.473Z"
   },
   {
    "duration": 27,
    "start_time": "2024-08-20T20:24:11.547Z"
   },
   {
    "duration": 50,
    "start_time": "2024-08-20T20:24:11.577Z"
   },
   {
    "duration": 24,
    "start_time": "2024-08-20T20:24:11.630Z"
   },
   {
    "duration": 21,
    "start_time": "2024-08-20T20:24:11.658Z"
   },
   {
    "duration": 78,
    "start_time": "2024-08-20T20:24:11.714Z"
   },
   {
    "duration": 12,
    "start_time": "2024-08-20T20:24:11.812Z"
   },
   {
    "duration": 77,
    "start_time": "2024-08-20T20:24:24.948Z"
   },
   {
    "duration": 74,
    "start_time": "2024-08-20T20:25:15.841Z"
   },
   {
    "duration": 85,
    "start_time": "2024-08-20T20:25:24.779Z"
   },
   {
    "duration": 84,
    "start_time": "2024-08-20T20:25:42.576Z"
   },
   {
    "duration": 83,
    "start_time": "2024-08-20T20:25:53.215Z"
   },
   {
    "duration": 184,
    "start_time": "2024-08-20T20:26:31.743Z"
   },
   {
    "duration": 114,
    "start_time": "2024-08-20T20:27:27.361Z"
   },
   {
    "duration": 90,
    "start_time": "2024-08-20T20:27:50.293Z"
   },
   {
    "duration": 94,
    "start_time": "2024-08-20T20:28:01.104Z"
   },
   {
    "duration": 94,
    "start_time": "2024-08-20T20:28:19.960Z"
   },
   {
    "duration": 88,
    "start_time": "2024-08-20T20:28:42.877Z"
   },
   {
    "duration": 116,
    "start_time": "2024-08-20T20:29:43.005Z"
   },
   {
    "duration": 13,
    "start_time": "2024-08-20T20:29:50.381Z"
   },
   {
    "duration": 114,
    "start_time": "2024-08-20T20:43:42.914Z"
   },
   {
    "duration": 109,
    "start_time": "2024-08-20T20:44:37.617Z"
   },
   {
    "duration": 88,
    "start_time": "2024-08-20T20:44:46.196Z"
   },
   {
    "duration": 91,
    "start_time": "2024-08-20T20:45:07.790Z"
   },
   {
    "duration": 98,
    "start_time": "2024-08-20T20:45:18.878Z"
   },
   {
    "duration": 92,
    "start_time": "2024-08-20T20:45:45.734Z"
   },
   {
    "duration": 100,
    "start_time": "2024-08-20T20:45:55.371Z"
   },
   {
    "duration": 92,
    "start_time": "2024-08-20T20:46:10.411Z"
   },
   {
    "duration": 112,
    "start_time": "2024-08-20T20:46:19.343Z"
   },
   {
    "duration": 105,
    "start_time": "2024-08-20T20:46:39.407Z"
   },
   {
    "duration": 99,
    "start_time": "2024-08-20T20:46:50.464Z"
   },
   {
    "duration": 106,
    "start_time": "2024-08-20T20:47:04.917Z"
   },
   {
    "duration": 106,
    "start_time": "2024-08-20T20:47:13.546Z"
   },
   {
    "duration": 116,
    "start_time": "2024-08-20T20:47:49.103Z"
   },
   {
    "duration": 108,
    "start_time": "2024-08-20T20:47:57.667Z"
   },
   {
    "duration": 108,
    "start_time": "2024-08-20T20:48:14.142Z"
   },
   {
    "duration": 115,
    "start_time": "2024-08-20T20:48:24.830Z"
   },
   {
    "duration": 125,
    "start_time": "2024-08-20T20:48:39.879Z"
   },
   {
    "duration": 123,
    "start_time": "2024-08-20T20:48:50.645Z"
   },
   {
    "duration": 130,
    "start_time": "2024-08-20T20:49:38.241Z"
   },
   {
    "duration": 11,
    "start_time": "2024-08-20T20:49:55.561Z"
   },
   {
    "duration": 196,
    "start_time": "2024-08-20T20:51:28.518Z"
   },
   {
    "duration": 7,
    "start_time": "2024-08-20T20:51:53.231Z"
   },
   {
    "duration": 13,
    "start_time": "2024-08-20T20:51:58.536Z"
   },
   {
    "duration": 31,
    "start_time": "2024-08-20T20:52:02.346Z"
   },
   {
    "duration": 7,
    "start_time": "2024-08-20T20:52:25.728Z"
   },
   {
    "duration": 12,
    "start_time": "2024-08-20T20:52:30.747Z"
   },
   {
    "duration": 14,
    "start_time": "2024-08-20T20:52:53.235Z"
   },
   {
    "duration": 110,
    "start_time": "2024-08-20T20:53:17.822Z"
   },
   {
    "duration": 106,
    "start_time": "2024-08-20T20:54:30.326Z"
   },
   {
    "duration": 133,
    "start_time": "2024-08-20T20:54:41.544Z"
   },
   {
    "duration": 123,
    "start_time": "2024-08-20T20:55:11.233Z"
   },
   {
    "duration": 130,
    "start_time": "2024-08-20T20:55:21.624Z"
   },
   {
    "duration": 109,
    "start_time": "2024-08-20T20:56:24.625Z"
   },
   {
    "duration": 116,
    "start_time": "2024-08-20T20:56:37.452Z"
   },
   {
    "duration": 113,
    "start_time": "2024-08-20T20:57:20.645Z"
   },
   {
    "duration": 141,
    "start_time": "2024-08-20T20:57:28.211Z"
   },
   {
    "duration": 113,
    "start_time": "2024-08-20T21:05:37.141Z"
   },
   {
    "duration": 120,
    "start_time": "2024-08-20T21:05:52.060Z"
   },
   {
    "duration": 112,
    "start_time": "2024-08-20T21:06:33.745Z"
   },
   {
    "duration": 111,
    "start_time": "2024-08-20T21:06:46.927Z"
   },
   {
    "duration": 118,
    "start_time": "2024-08-20T21:07:08.602Z"
   },
   {
    "duration": 114,
    "start_time": "2024-08-20T21:08:47.538Z"
   },
   {
    "duration": 113,
    "start_time": "2024-08-20T21:09:35.226Z"
   },
   {
    "duration": 114,
    "start_time": "2024-08-20T21:09:45.887Z"
   },
   {
    "duration": 114,
    "start_time": "2024-08-20T21:10:10.017Z"
   },
   {
    "duration": 216,
    "start_time": "2024-08-20T21:10:20.615Z"
   },
   {
    "duration": 126,
    "start_time": "2024-08-20T21:11:10.206Z"
   },
   {
    "duration": 113,
    "start_time": "2024-08-20T21:11:18.489Z"
   },
   {
    "duration": 113,
    "start_time": "2024-08-20T21:11:58.043Z"
   },
   {
    "duration": 124,
    "start_time": "2024-08-20T21:12:08.501Z"
   },
   {
    "duration": 134,
    "start_time": "2024-08-20T21:12:25.535Z"
   },
   {
    "duration": 119,
    "start_time": "2024-08-20T21:12:34.544Z"
   },
   {
    "duration": 119,
    "start_time": "2024-08-20T21:13:01.715Z"
   },
   {
    "duration": 126,
    "start_time": "2024-08-20T21:13:15.213Z"
   },
   {
    "duration": 128,
    "start_time": "2024-08-20T21:13:49.426Z"
   },
   {
    "duration": 134,
    "start_time": "2024-08-20T21:14:02.734Z"
   },
   {
    "duration": 117,
    "start_time": "2024-08-20T21:14:26.959Z"
   },
   {
    "duration": 121,
    "start_time": "2024-08-20T21:14:39.376Z"
   },
   {
    "duration": 118,
    "start_time": "2024-08-20T21:15:00.421Z"
   },
   {
    "duration": 133,
    "start_time": "2024-08-20T21:15:29.652Z"
   },
   {
    "duration": 124,
    "start_time": "2024-08-20T21:15:51.157Z"
   },
   {
    "duration": 130,
    "start_time": "2024-08-20T21:16:58.835Z"
   },
   {
    "duration": 144,
    "start_time": "2024-08-20T21:17:22.931Z"
   },
   {
    "duration": 143,
    "start_time": "2024-08-20T21:17:38.663Z"
   },
   {
    "duration": 150,
    "start_time": "2024-08-20T21:18:04.127Z"
   },
   {
    "duration": 127,
    "start_time": "2024-08-20T21:18:18.935Z"
   },
   {
    "duration": 162,
    "start_time": "2024-08-20T21:18:37.222Z"
   },
   {
    "duration": 130,
    "start_time": "2024-08-20T21:18:48.451Z"
   },
   {
    "duration": 134,
    "start_time": "2024-08-20T21:19:08.014Z"
   },
   {
    "duration": 138,
    "start_time": "2024-08-20T21:19:21.101Z"
   },
   {
    "duration": 136,
    "start_time": "2024-08-20T21:20:47.624Z"
   },
   {
    "duration": 142,
    "start_time": "2024-08-20T21:20:57.917Z"
   },
   {
    "duration": 145,
    "start_time": "2024-08-20T21:22:01.799Z"
   },
   {
    "duration": 140,
    "start_time": "2024-08-20T21:22:12.100Z"
   },
   {
    "duration": 133,
    "start_time": "2024-08-20T21:22:34.962Z"
   },
   {
    "duration": 147,
    "start_time": "2024-08-20T21:22:44.498Z"
   },
   {
    "duration": 1231,
    "start_time": "2024-08-20T21:22:53.312Z"
   },
   {
    "duration": 49,
    "start_time": "2024-08-20T21:22:54.549Z"
   },
   {
    "duration": 55,
    "start_time": "2024-08-20T21:22:54.601Z"
   },
   {
    "duration": 52,
    "start_time": "2024-08-20T21:22:54.662Z"
   },
   {
    "duration": 19,
    "start_time": "2024-08-20T21:22:54.717Z"
   },
   {
    "duration": 13,
    "start_time": "2024-08-20T21:22:54.739Z"
   },
   {
    "duration": 71,
    "start_time": "2024-08-20T21:22:54.755Z"
   },
   {
    "duration": 19,
    "start_time": "2024-08-20T21:22:54.829Z"
   },
   {
    "duration": 26,
    "start_time": "2024-08-20T21:22:54.851Z"
   },
   {
    "duration": 56,
    "start_time": "2024-08-20T21:22:54.882Z"
   },
   {
    "duration": 23,
    "start_time": "2024-08-20T21:22:54.943Z"
   },
   {
    "duration": 44,
    "start_time": "2024-08-20T21:22:54.970Z"
   },
   {
    "duration": 23,
    "start_time": "2024-08-20T21:22:55.017Z"
   },
   {
    "duration": 179,
    "start_time": "2024-08-20T21:22:55.043Z"
   },
   {
    "duration": 9,
    "start_time": "2024-08-20T21:22:55.226Z"
   },
   {
    "duration": 9,
    "start_time": "2024-08-20T21:23:04.328Z"
   },
   {
    "duration": 10,
    "start_time": "2024-08-20T21:23:10.596Z"
   },
   {
    "duration": 13,
    "start_time": "2024-08-20T21:23:25.737Z"
   },
   {
    "duration": 23,
    "start_time": "2024-08-20T21:23:31.525Z"
   },
   {
    "duration": 11,
    "start_time": "2024-08-20T21:23:47.906Z"
   },
   {
    "duration": 133,
    "start_time": "2024-08-20T21:24:05.652Z"
   },
   {
    "duration": 140,
    "start_time": "2024-08-20T21:24:24.116Z"
   },
   {
    "duration": 180,
    "start_time": "2024-08-20T21:28:33.495Z"
   },
   {
    "duration": 148,
    "start_time": "2024-08-20T21:29:07.045Z"
   },
   {
    "duration": 156,
    "start_time": "2024-08-20T21:29:14.503Z"
   },
   {
    "duration": 149,
    "start_time": "2024-08-20T21:29:17.421Z"
   },
   {
    "duration": 158,
    "start_time": "2024-08-20T21:29:41.366Z"
   },
   {
    "duration": 158,
    "start_time": "2024-08-20T21:29:58.306Z"
   },
   {
    "duration": 131,
    "start_time": "2024-08-20T21:30:26.050Z"
   },
   {
    "duration": 137,
    "start_time": "2024-08-20T21:30:36.590Z"
   },
   {
    "duration": 207,
    "start_time": "2024-08-20T21:30:59.252Z"
   },
   {
    "duration": 176,
    "start_time": "2024-08-20T21:34:52.947Z"
   },
   {
    "duration": 145,
    "start_time": "2024-08-20T21:35:12.827Z"
   },
   {
    "duration": 137,
    "start_time": "2024-08-20T21:35:25.041Z"
   },
   {
    "duration": 150,
    "start_time": "2024-08-20T21:35:39.832Z"
   },
   {
    "duration": 143,
    "start_time": "2024-08-20T21:35:49.356Z"
   },
   {
    "duration": 163,
    "start_time": "2024-08-20T21:36:06.319Z"
   },
   {
    "duration": 141,
    "start_time": "2024-08-20T21:36:15.601Z"
   },
   {
    "duration": 143,
    "start_time": "2024-08-20T21:36:19.671Z"
   },
   {
    "duration": 142,
    "start_time": "2024-08-20T21:36:45.383Z"
   },
   {
    "duration": 151,
    "start_time": "2024-08-20T21:36:56.039Z"
   },
   {
    "duration": 153,
    "start_time": "2024-08-20T21:37:22.422Z"
   },
   {
    "duration": 9,
    "start_time": "2024-08-20T21:37:28.415Z"
   },
   {
    "duration": 7,
    "start_time": "2024-08-20T21:37:39.624Z"
   },
   {
    "duration": 8,
    "start_time": "2024-08-20T21:37:45.208Z"
   },
   {
    "duration": 12,
    "start_time": "2024-08-20T21:38:00.860Z"
   },
   {
    "duration": 9,
    "start_time": "2024-08-20T21:38:13.422Z"
   },
   {
    "duration": 11,
    "start_time": "2024-08-20T21:38:38.631Z"
   },
   {
    "duration": 16,
    "start_time": "2024-08-20T21:38:43.932Z"
   },
   {
    "duration": 14,
    "start_time": "2024-08-20T21:38:49.872Z"
   },
   {
    "duration": 17,
    "start_time": "2024-08-20T21:38:53.584Z"
   },
   {
    "duration": 193,
    "start_time": "2024-08-20T21:39:10.386Z"
   },
   {
    "duration": 160,
    "start_time": "2024-08-20T21:39:31.959Z"
   },
   {
    "duration": 163,
    "start_time": "2024-08-20T21:39:39.452Z"
   },
   {
    "duration": 154,
    "start_time": "2024-08-20T21:40:06.465Z"
   },
   {
    "duration": 141,
    "start_time": "2024-08-20T21:40:16.610Z"
   },
   {
    "duration": 164,
    "start_time": "2024-08-20T21:40:42.841Z"
   },
   {
    "duration": 167,
    "start_time": "2024-08-20T21:40:50.351Z"
   },
   {
    "duration": 141,
    "start_time": "2024-08-20T21:41:10.535Z"
   },
   {
    "duration": 145,
    "start_time": "2024-08-20T21:41:18.466Z"
   },
   {
    "duration": 147,
    "start_time": "2024-08-20T21:41:47.214Z"
   },
   {
    "duration": 153,
    "start_time": "2024-08-20T21:41:57.509Z"
   },
   {
    "duration": 152,
    "start_time": "2024-08-20T21:42:22.403Z"
   },
   {
    "duration": 150,
    "start_time": "2024-08-20T21:42:31.928Z"
   },
   {
    "duration": 150,
    "start_time": "2024-08-20T21:42:58.668Z"
   },
   {
    "duration": 146,
    "start_time": "2024-08-20T21:43:26.571Z"
   },
   {
    "duration": 209,
    "start_time": "2024-08-20T21:43:53.938Z"
   },
   {
    "duration": 161,
    "start_time": "2024-08-20T21:44:02.496Z"
   },
   {
    "duration": 196,
    "start_time": "2024-08-20T21:44:27.393Z"
   },
   {
    "duration": 164,
    "start_time": "2024-08-20T21:44:40.009Z"
   },
   {
    "duration": 158,
    "start_time": "2024-08-20T21:45:53.155Z"
   },
   {
    "duration": 161,
    "start_time": "2024-08-20T21:46:02.664Z"
   },
   {
    "duration": 175,
    "start_time": "2024-08-20T21:46:27.869Z"
   },
   {
    "duration": 163,
    "start_time": "2024-08-20T21:47:38.106Z"
   },
   {
    "duration": 160,
    "start_time": "2024-08-20T21:47:54.014Z"
   },
   {
    "duration": 185,
    "start_time": "2024-08-20T21:48:08.914Z"
   },
   {
    "duration": 227,
    "start_time": "2024-08-20T21:48:24.248Z"
   },
   {
    "duration": 196,
    "start_time": "2024-08-20T21:48:36.679Z"
   },
   {
    "duration": 166,
    "start_time": "2024-08-20T21:49:13.028Z"
   },
   {
    "duration": 151,
    "start_time": "2024-08-20T21:49:20.638Z"
   },
   {
    "duration": 167,
    "start_time": "2024-08-20T21:49:43.429Z"
   },
   {
    "duration": 163,
    "start_time": "2024-08-20T21:53:28.023Z"
   },
   {
    "duration": 167,
    "start_time": "2024-08-20T21:53:48.017Z"
   },
   {
    "duration": 188,
    "start_time": "2024-08-20T21:53:58.964Z"
   },
   {
    "duration": 162,
    "start_time": "2024-08-20T21:54:32.257Z"
   },
   {
    "duration": 168,
    "start_time": "2024-08-20T21:54:41.786Z"
   },
   {
    "duration": 1191,
    "start_time": "2024-08-20T21:54:50.836Z"
   },
   {
    "duration": 39,
    "start_time": "2024-08-20T21:54:52.031Z"
   },
   {
    "duration": 60,
    "start_time": "2024-08-20T21:54:52.073Z"
   },
   {
    "duration": 41,
    "start_time": "2024-08-20T21:54:52.137Z"
   },
   {
    "duration": 41,
    "start_time": "2024-08-20T21:54:52.183Z"
   },
   {
    "duration": 14,
    "start_time": "2024-08-20T21:54:52.228Z"
   },
   {
    "duration": 36,
    "start_time": "2024-08-20T21:54:52.246Z"
   },
   {
    "duration": 19,
    "start_time": "2024-08-20T21:54:52.314Z"
   },
   {
    "duration": 29,
    "start_time": "2024-08-20T21:54:52.337Z"
   },
   {
    "duration": 48,
    "start_time": "2024-08-20T21:54:52.374Z"
   },
   {
    "duration": 27,
    "start_time": "2024-08-20T21:54:52.425Z"
   },
   {
    "duration": 21,
    "start_time": "2024-08-20T21:54:52.455Z"
   },
   {
    "duration": 58,
    "start_time": "2024-08-20T21:54:52.478Z"
   },
   {
    "duration": 187,
    "start_time": "2024-08-20T21:54:52.539Z"
   },
   {
    "duration": 10,
    "start_time": "2024-08-20T21:54:52.729Z"
   },
   {
    "duration": 168,
    "start_time": "2024-08-20T21:55:07.635Z"
   },
   {
    "duration": 172,
    "start_time": "2024-08-20T21:55:39.386Z"
   },
   {
    "duration": 183,
    "start_time": "2024-08-20T21:57:00.464Z"
   },
   {
    "duration": 174,
    "start_time": "2024-08-20T21:57:15.695Z"
   },
   {
    "duration": 184,
    "start_time": "2024-08-20T21:57:24.154Z"
   },
   {
    "duration": 174,
    "start_time": "2024-08-20T21:57:53.606Z"
   },
   {
    "duration": 181,
    "start_time": "2024-08-20T21:58:02.620Z"
   },
   {
    "duration": 168,
    "start_time": "2024-08-20T21:58:42.282Z"
   },
   {
    "duration": 229,
    "start_time": "2024-08-20T21:58:45.523Z"
   },
   {
    "duration": 197,
    "start_time": "2024-08-20T21:58:48.916Z"
   },
   {
    "duration": 167,
    "start_time": "2024-08-20T21:59:14.795Z"
   },
   {
    "duration": 163,
    "start_time": "2024-08-20T21:59:25.209Z"
   },
   {
    "duration": 190,
    "start_time": "2024-08-20T22:00:10.240Z"
   },
   {
    "duration": 190,
    "start_time": "2024-08-20T22:00:24.196Z"
   },
   {
    "duration": 162,
    "start_time": "2024-08-20T22:00:34.443Z"
   },
   {
    "duration": 178,
    "start_time": "2024-08-20T22:00:55.348Z"
   },
   {
    "duration": 173,
    "start_time": "2024-08-20T22:01:05.368Z"
   },
   {
    "duration": 166,
    "start_time": "2024-08-20T22:01:34.922Z"
   },
   {
    "duration": 177,
    "start_time": "2024-08-20T22:01:47.437Z"
   },
   {
    "duration": 190,
    "start_time": "2024-08-20T22:02:28.806Z"
   },
   {
    "duration": 193,
    "start_time": "2024-08-20T22:11:15.033Z"
   },
   {
    "duration": 178,
    "start_time": "2024-08-20T22:11:36.699Z"
   },
   {
    "duration": 193,
    "start_time": "2024-08-20T22:11:46.730Z"
   },
   {
    "duration": 171,
    "start_time": "2024-08-20T22:12:15.841Z"
   },
   {
    "duration": 171,
    "start_time": "2024-08-20T22:12:26.211Z"
   },
   {
    "duration": 179,
    "start_time": "2024-08-20T22:12:50.697Z"
   },
   {
    "duration": 209,
    "start_time": "2024-08-20T22:13:01.575Z"
   },
   {
    "duration": 40,
    "start_time": "2024-08-20T22:13:21.466Z"
   },
   {
    "duration": 40,
    "start_time": "2024-08-20T22:13:26.287Z"
   },
   {
    "duration": 193,
    "start_time": "2024-08-20T22:13:31.441Z"
   },
   {
    "duration": 192,
    "start_time": "2024-08-20T22:13:42.248Z"
   },
   {
    "duration": 210,
    "start_time": "2024-08-20T22:14:10.114Z"
   },
   {
    "duration": 168,
    "start_time": "2024-08-20T22:14:21.593Z"
   },
   {
    "duration": 185,
    "start_time": "2024-08-20T22:14:52.016Z"
   },
   {
    "duration": 222,
    "start_time": "2024-08-20T22:15:23.176Z"
   },
   {
    "duration": 249,
    "start_time": "2024-08-20T22:15:47.215Z"
   },
   {
    "duration": 195,
    "start_time": "2024-08-20T22:16:00.229Z"
   },
   {
    "duration": 199,
    "start_time": "2024-08-20T22:16:21.998Z"
   },
   {
    "duration": 178,
    "start_time": "2024-08-20T22:16:30.291Z"
   },
   {
    "duration": 183,
    "start_time": "2024-08-20T22:16:49.376Z"
   },
   {
    "duration": 187,
    "start_time": "2024-08-20T22:18:46.453Z"
   },
   {
    "duration": 184,
    "start_time": "2024-08-20T22:19:06.764Z"
   },
   {
    "duration": 202,
    "start_time": "2024-08-20T22:19:16.946Z"
   },
   {
    "duration": 350,
    "start_time": "2024-08-20T22:19:38.280Z"
   },
   {
    "duration": 189,
    "start_time": "2024-08-20T22:19:49.348Z"
   },
   {
    "duration": 184,
    "start_time": "2024-08-20T22:20:01.674Z"
   },
   {
    "duration": 189,
    "start_time": "2024-08-20T22:20:28.872Z"
   },
   {
    "duration": 486,
    "start_time": "2024-08-21T12:29:59.090Z"
   },
   {
    "duration": 4713,
    "start_time": "2024-08-21T12:30:11.181Z"
   },
   {
    "duration": 57,
    "start_time": "2024-08-21T12:30:15.898Z"
   },
   {
    "duration": 38,
    "start_time": "2024-08-21T12:30:15.958Z"
   },
   {
    "duration": 52,
    "start_time": "2024-08-21T12:30:16.000Z"
   },
   {
    "duration": 18,
    "start_time": "2024-08-21T12:30:16.055Z"
   },
   {
    "duration": 12,
    "start_time": "2024-08-21T12:30:16.076Z"
   },
   {
    "duration": 29,
    "start_time": "2024-08-21T12:30:16.123Z"
   },
   {
    "duration": 16,
    "start_time": "2024-08-21T12:30:16.156Z"
   },
   {
    "duration": 53,
    "start_time": "2024-08-21T12:30:16.175Z"
   },
   {
    "duration": 23,
    "start_time": "2024-08-21T12:30:16.234Z"
   },
   {
    "duration": 23,
    "start_time": "2024-08-21T12:30:16.261Z"
   },
   {
    "duration": 55,
    "start_time": "2024-08-21T12:30:16.286Z"
   },
   {
    "duration": 20,
    "start_time": "2024-08-21T12:30:16.344Z"
   },
   {
    "duration": 202,
    "start_time": "2024-08-21T12:30:16.368Z"
   },
   {
    "duration": 10,
    "start_time": "2024-08-21T12:30:16.573Z"
   },
   {
    "duration": 171,
    "start_time": "2024-08-21T12:31:08.460Z"
   },
   {
    "duration": 180,
    "start_time": "2024-08-21T12:31:17.105Z"
   },
   {
    "duration": 177,
    "start_time": "2024-08-21T12:32:25.743Z"
   },
   {
    "duration": 1138,
    "start_time": "2024-08-21T12:32:51.200Z"
   },
   {
    "duration": 38,
    "start_time": "2024-08-21T12:32:52.341Z"
   },
   {
    "duration": 52,
    "start_time": "2024-08-21T12:32:52.382Z"
   },
   {
    "duration": 35,
    "start_time": "2024-08-21T12:32:52.438Z"
   },
   {
    "duration": 46,
    "start_time": "2024-08-21T12:32:52.476Z"
   },
   {
    "duration": 12,
    "start_time": "2024-08-21T12:32:52.525Z"
   },
   {
    "duration": 31,
    "start_time": "2024-08-21T12:32:52.540Z"
   },
   {
    "duration": 48,
    "start_time": "2024-08-21T12:32:52.574Z"
   },
   {
    "duration": 24,
    "start_time": "2024-08-21T12:32:52.626Z"
   },
   {
    "duration": 25,
    "start_time": "2024-08-21T12:32:52.656Z"
   },
   {
    "duration": 55,
    "start_time": "2024-08-21T12:32:52.683Z"
   },
   {
    "duration": 19,
    "start_time": "2024-08-21T12:32:52.741Z"
   },
   {
    "duration": 19,
    "start_time": "2024-08-21T12:32:52.763Z"
   },
   {
    "duration": 216,
    "start_time": "2024-08-21T12:32:52.785Z"
   },
   {
    "duration": 19,
    "start_time": "2024-08-21T12:32:53.004Z"
   },
   {
    "duration": 201,
    "start_time": "2024-08-21T12:33:18.626Z"
   },
   {
    "duration": 176,
    "start_time": "2024-08-21T12:33:28.241Z"
   },
   {
    "duration": 192,
    "start_time": "2024-08-21T12:33:59.658Z"
   },
   {
    "duration": 181,
    "start_time": "2024-08-21T12:34:07.700Z"
   },
   {
    "duration": 178,
    "start_time": "2024-08-21T12:34:25.858Z"
   },
   {
    "duration": 205,
    "start_time": "2024-08-21T12:34:39.686Z"
   },
   {
    "duration": 246,
    "start_time": "2024-08-21T12:34:57.146Z"
   },
   {
    "duration": 190,
    "start_time": "2024-08-21T12:35:05.177Z"
   },
   {
    "duration": 176,
    "start_time": "2024-08-21T12:35:34.478Z"
   },
   {
    "duration": 179,
    "start_time": "2024-08-21T12:35:44.367Z"
   },
   {
    "duration": 185,
    "start_time": "2024-08-21T12:36:25.906Z"
   },
   {
    "duration": 181,
    "start_time": "2024-08-21T12:36:37.185Z"
   },
   {
    "duration": 180,
    "start_time": "2024-08-21T12:37:01.241Z"
   },
   {
    "duration": 198,
    "start_time": "2024-08-21T12:37:10.327Z"
   },
   {
    "duration": 185,
    "start_time": "2024-08-21T12:37:36.415Z"
   },
   {
    "duration": 192,
    "start_time": "2024-08-21T12:37:48.974Z"
   },
   {
    "duration": 182,
    "start_time": "2024-08-21T12:38:44.352Z"
   },
   {
    "duration": 193,
    "start_time": "2024-08-21T12:39:00.080Z"
   },
   {
    "duration": 182,
    "start_time": "2024-08-21T12:39:37.438Z"
   },
   {
    "duration": 182,
    "start_time": "2024-08-21T12:39:47.967Z"
   },
   {
    "duration": 199,
    "start_time": "2024-08-21T12:40:08.140Z"
   },
   {
    "duration": 189,
    "start_time": "2024-08-21T12:40:23.289Z"
   },
   {
    "duration": 240,
    "start_time": "2024-08-21T12:40:46.332Z"
   },
   {
    "duration": 186,
    "start_time": "2024-08-21T12:40:57.444Z"
   },
   {
    "duration": 207,
    "start_time": "2024-08-21T12:41:29.327Z"
   },
   {
    "duration": 216,
    "start_time": "2024-08-21T12:41:40.219Z"
   },
   {
    "duration": 195,
    "start_time": "2024-08-21T12:42:06.316Z"
   },
   {
    "duration": 187,
    "start_time": "2024-08-21T12:42:17.481Z"
   },
   {
    "duration": 191,
    "start_time": "2024-08-21T12:42:38.104Z"
   },
   {
    "duration": 197,
    "start_time": "2024-08-21T12:42:51.419Z"
   },
   {
    "duration": 189,
    "start_time": "2024-08-21T12:43:22.902Z"
   },
   {
    "duration": 199,
    "start_time": "2024-08-21T12:43:40.562Z"
   },
   {
    "duration": 195,
    "start_time": "2024-08-21T12:44:25.416Z"
   },
   {
    "duration": 253,
    "start_time": "2024-08-21T12:44:35.845Z"
   },
   {
    "duration": 197,
    "start_time": "2024-08-21T12:45:10.176Z"
   },
   {
    "duration": 223,
    "start_time": "2024-08-21T12:45:52.900Z"
   },
   {
    "duration": 199,
    "start_time": "2024-08-21T12:46:11.656Z"
   },
   {
    "duration": 191,
    "start_time": "2024-08-21T12:46:22.670Z"
   },
   {
    "duration": 1174,
    "start_time": "2024-08-21T12:46:30.509Z"
   },
   {
    "duration": 43,
    "start_time": "2024-08-21T12:46:31.687Z"
   },
   {
    "duration": 38,
    "start_time": "2024-08-21T12:46:31.733Z"
   },
   {
    "duration": 60,
    "start_time": "2024-08-21T12:46:31.775Z"
   },
   {
    "duration": 18,
    "start_time": "2024-08-21T12:46:31.838Z"
   },
   {
    "duration": 13,
    "start_time": "2024-08-21T12:46:31.859Z"
   },
   {
    "duration": 61,
    "start_time": "2024-08-21T12:46:31.875Z"
   },
   {
    "duration": 15,
    "start_time": "2024-08-21T12:46:31.939Z"
   },
   {
    "duration": 25,
    "start_time": "2024-08-21T12:46:31.958Z"
   },
   {
    "duration": 23,
    "start_time": "2024-08-21T12:46:32.022Z"
   },
   {
    "duration": 23,
    "start_time": "2024-08-21T12:46:32.049Z"
   },
   {
    "duration": 53,
    "start_time": "2024-08-21T12:46:32.075Z"
   },
   {
    "duration": 19,
    "start_time": "2024-08-21T12:46:32.131Z"
   },
   {
    "duration": 236,
    "start_time": "2024-08-21T12:46:32.153Z"
   },
   {
    "duration": 29,
    "start_time": "2024-08-21T12:46:32.393Z"
   },
   {
    "duration": 203,
    "start_time": "2024-08-21T12:46:49.940Z"
   },
   {
    "duration": 197,
    "start_time": "2024-08-21T12:48:02.033Z"
   },
   {
    "duration": 199,
    "start_time": "2024-08-21T12:48:14.268Z"
   },
   {
    "duration": 251,
    "start_time": "2024-08-21T12:48:31.950Z"
   },
   {
    "duration": 203,
    "start_time": "2024-08-21T12:48:42.450Z"
   },
   {
    "duration": 198,
    "start_time": "2024-08-21T12:49:40.786Z"
   },
   {
    "duration": 219,
    "start_time": "2024-08-21T12:49:50.525Z"
   },
   {
    "duration": 208,
    "start_time": "2024-08-21T12:50:14.033Z"
   },
   {
    "duration": 198,
    "start_time": "2024-08-21T12:50:24.318Z"
   },
   {
    "duration": 212,
    "start_time": "2024-08-21T12:50:49.723Z"
   },
   {
    "duration": 242,
    "start_time": "2024-08-21T12:51:02.717Z"
   },
   {
    "duration": 201,
    "start_time": "2024-08-21T12:51:22.145Z"
   },
   {
    "duration": 203,
    "start_time": "2024-08-21T12:52:13.114Z"
   },
   {
    "duration": 202,
    "start_time": "2024-08-21T12:52:25.127Z"
   },
   {
    "duration": 255,
    "start_time": "2024-08-21T12:52:36.524Z"
   },
   {
    "duration": 209,
    "start_time": "2024-08-21T12:52:39.905Z"
   },
   {
    "duration": 203,
    "start_time": "2024-08-21T12:53:01.939Z"
   },
   {
    "duration": 208,
    "start_time": "2024-08-21T12:53:10.361Z"
   },
   {
    "duration": 49,
    "start_time": "2024-08-21T12:53:32.092Z"
   },
   {
    "duration": 220,
    "start_time": "2024-08-21T12:54:29.562Z"
   },
   {
    "duration": 241,
    "start_time": "2024-08-21T12:54:48.197Z"
   },
   {
    "duration": 215,
    "start_time": "2024-08-21T12:55:14.285Z"
   },
   {
    "duration": 212,
    "start_time": "2024-08-21T12:55:29.356Z"
   },
   {
    "duration": 235,
    "start_time": "2024-08-21T12:55:45.362Z"
   },
   {
    "duration": 267,
    "start_time": "2024-08-21T12:56:29.901Z"
   },
   {
    "duration": 303,
    "start_time": "2024-08-21T12:56:47.148Z"
   },
   {
    "duration": 241,
    "start_time": "2024-08-21T12:56:58.863Z"
   },
   {
    "duration": 237,
    "start_time": "2024-08-21T12:57:12.023Z"
   },
   {
    "duration": 228,
    "start_time": "2024-08-21T12:57:22.796Z"
   },
   {
    "duration": 210,
    "start_time": "2024-08-21T12:58:00.845Z"
   },
   {
    "duration": 4917,
    "start_time": "2024-08-21T18:49:45.646Z"
   },
   {
    "duration": 59,
    "start_time": "2024-08-21T18:49:50.566Z"
   },
   {
    "duration": 37,
    "start_time": "2024-08-21T18:49:50.628Z"
   },
   {
    "duration": 66,
    "start_time": "2024-08-21T18:49:50.669Z"
   },
   {
    "duration": 22,
    "start_time": "2024-08-21T18:49:50.739Z"
   },
   {
    "duration": 42,
    "start_time": "2024-08-21T18:49:50.764Z"
   },
   {
    "duration": 30,
    "start_time": "2024-08-21T18:49:50.809Z"
   },
   {
    "duration": 17,
    "start_time": "2024-08-21T18:49:50.842Z"
   },
   {
    "duration": 58,
    "start_time": "2024-08-21T18:49:50.862Z"
   },
   {
    "duration": 26,
    "start_time": "2024-08-21T18:49:50.924Z"
   },
   {
    "duration": 54,
    "start_time": "2024-08-21T18:49:50.953Z"
   },
   {
    "duration": 20,
    "start_time": "2024-08-21T18:49:51.010Z"
   },
   {
    "duration": 21,
    "start_time": "2024-08-21T18:49:51.033Z"
   },
   {
    "duration": 256,
    "start_time": "2024-08-21T18:49:51.057Z"
   },
   {
    "duration": 11,
    "start_time": "2024-08-21T18:49:51.316Z"
   },
   {
    "duration": 242,
    "start_time": "2024-08-21T18:50:45.872Z"
   },
   {
    "duration": 228,
    "start_time": "2024-08-21T18:51:07.772Z"
   },
   {
    "duration": 229,
    "start_time": "2024-08-21T18:51:15.483Z"
   },
   {
    "duration": 218,
    "start_time": "2024-08-21T18:51:45.233Z"
   },
   {
    "duration": 219,
    "start_time": "2024-08-21T18:51:51.740Z"
   },
   {
    "duration": 215,
    "start_time": "2024-08-21T18:52:03.077Z"
   },
   {
    "duration": 272,
    "start_time": "2024-08-21T18:53:01.145Z"
   },
   {
    "duration": 230,
    "start_time": "2024-08-21T18:53:12.202Z"
   },
   {
    "duration": 221,
    "start_time": "2024-08-21T18:53:36.234Z"
   },
   {
    "duration": 234,
    "start_time": "2024-08-21T18:53:48.048Z"
   },
   {
    "duration": 219,
    "start_time": "2024-08-21T18:54:13.945Z"
   },
   {
    "duration": 221,
    "start_time": "2024-08-21T18:54:23.251Z"
   },
   {
    "duration": 231,
    "start_time": "2024-08-21T18:54:57.614Z"
   },
   {
    "duration": 277,
    "start_time": "2024-08-21T18:55:06.225Z"
   },
   {
    "duration": 238,
    "start_time": "2024-08-21T18:55:37.690Z"
   },
   {
    "duration": 221,
    "start_time": "2024-08-21T18:55:47.181Z"
   },
   {
    "duration": 257,
    "start_time": "2024-08-21T18:56:08.054Z"
   },
   {
    "duration": 238,
    "start_time": "2024-08-21T18:57:51.910Z"
   },
   {
    "duration": 224,
    "start_time": "2024-08-21T18:58:12.957Z"
   },
   {
    "duration": 227,
    "start_time": "2024-08-21T18:58:21.734Z"
   },
   {
    "duration": 242,
    "start_time": "2024-08-21T18:58:35.519Z"
   },
   {
    "duration": 233,
    "start_time": "2024-08-21T18:58:50.961Z"
   },
   {
    "duration": 295,
    "start_time": "2024-08-21T18:59:26.113Z"
   },
   {
    "duration": 4875,
    "start_time": "2024-08-21T19:26:06.900Z"
   },
   {
    "duration": 56,
    "start_time": "2024-08-21T19:26:11.778Z"
   },
   {
    "duration": 38,
    "start_time": "2024-08-21T19:26:11.837Z"
   },
   {
    "duration": 59,
    "start_time": "2024-08-21T19:26:11.880Z"
   },
   {
    "duration": 19,
    "start_time": "2024-08-21T19:26:11.942Z"
   },
   {
    "duration": 12,
    "start_time": "2024-08-21T19:26:11.964Z"
   },
   {
    "duration": 58,
    "start_time": "2024-08-21T19:26:11.979Z"
   },
   {
    "duration": 16,
    "start_time": "2024-08-21T19:26:12.040Z"
   },
   {
    "duration": 25,
    "start_time": "2024-08-21T19:26:12.060Z"
   },
   {
    "duration": 52,
    "start_time": "2024-08-21T19:26:12.090Z"
   },
   {
    "duration": 24,
    "start_time": "2024-08-21T19:26:12.145Z"
   },
   {
    "duration": 52,
    "start_time": "2024-08-21T19:26:12.172Z"
   },
   {
    "duration": 20,
    "start_time": "2024-08-21T19:26:12.227Z"
   },
   {
    "duration": 257,
    "start_time": "2024-08-21T19:26:12.250Z"
   },
   {
    "duration": 14,
    "start_time": "2024-08-21T19:26:12.511Z"
   },
   {
    "duration": 243,
    "start_time": "2024-08-21T19:26:30.935Z"
   },
   {
    "duration": 234,
    "start_time": "2024-08-21T19:26:46.118Z"
   },
   {
    "duration": 249,
    "start_time": "2024-08-21T19:27:00.017Z"
   },
   {
    "duration": 237,
    "start_time": "2024-08-21T19:27:32.235Z"
   },
   {
    "duration": 232,
    "start_time": "2024-08-21T19:27:41.848Z"
   },
   {
    "duration": 303,
    "start_time": "2024-08-21T19:27:57.822Z"
   },
   {
    "duration": 253,
    "start_time": "2024-08-21T19:28:07.857Z"
   },
   {
    "duration": 285,
    "start_time": "2024-08-21T19:29:04.569Z"
   },
   {
    "duration": 249,
    "start_time": "2024-08-21T19:29:18.466Z"
   },
   {
    "duration": 256,
    "start_time": "2024-08-21T19:29:33.436Z"
   },
   {
    "duration": 341,
    "start_time": "2024-08-21T19:29:44.435Z"
   },
   {
    "duration": 355,
    "start_time": "2024-08-21T19:30:00.917Z"
   },
   {
    "duration": 246,
    "start_time": "2024-08-21T19:30:11.377Z"
   },
   {
    "duration": 313,
    "start_time": "2024-08-21T19:31:29.659Z"
   },
   {
    "duration": 289,
    "start_time": "2024-08-21T19:31:41.099Z"
   },
   {
    "duration": 267,
    "start_time": "2024-08-21T19:32:05.702Z"
   },
   {
    "duration": 255,
    "start_time": "2024-08-21T19:32:16.202Z"
   },
   {
    "duration": 266,
    "start_time": "2024-08-21T19:32:28.737Z"
   },
   {
    "duration": 260,
    "start_time": "2024-08-21T19:32:39.262Z"
   },
   {
    "duration": 331,
    "start_time": "2024-08-21T19:33:08.814Z"
   },
   {
    "duration": 278,
    "start_time": "2024-08-21T19:33:19.833Z"
   },
   {
    "duration": 254,
    "start_time": "2024-08-21T19:33:44.079Z"
   },
   {
    "duration": 258,
    "start_time": "2024-08-21T19:33:53.564Z"
   },
   {
    "duration": 252,
    "start_time": "2024-08-21T19:34:12.472Z"
   },
   {
    "duration": 258,
    "start_time": "2024-08-21T19:35:12.400Z"
   },
   {
    "duration": 324,
    "start_time": "2024-08-21T19:36:08.253Z"
   },
   {
    "duration": 262,
    "start_time": "2024-08-21T19:36:21.063Z"
   },
   {
    "duration": 253,
    "start_time": "2024-08-21T19:36:58.585Z"
   },
   {
    "duration": 290,
    "start_time": "2024-08-21T19:37:17.784Z"
   },
   {
    "duration": 260,
    "start_time": "2024-08-21T19:40:48.495Z"
   },
   {
    "duration": 292,
    "start_time": "2024-08-21T19:40:58.019Z"
   },
   {
    "duration": 270,
    "start_time": "2024-08-21T19:41:23.384Z"
   },
   {
    "duration": 284,
    "start_time": "2024-08-21T19:41:41.296Z"
   },
   {
    "duration": 324,
    "start_time": "2024-08-21T19:42:27.783Z"
   },
   {
    "duration": 254,
    "start_time": "2024-08-21T19:42:38.951Z"
   },
   {
    "duration": 267,
    "start_time": "2024-08-21T19:42:49.035Z"
   },
   {
    "duration": 267,
    "start_time": "2024-08-21T19:43:21.364Z"
   },
   {
    "duration": 268,
    "start_time": "2024-08-21T19:43:33.011Z"
   },
   {
    "duration": 284,
    "start_time": "2024-08-21T19:43:51.345Z"
   },
   {
    "duration": 317,
    "start_time": "2024-08-21T19:44:03.275Z"
   },
   {
    "duration": 268,
    "start_time": "2024-08-21T19:44:21.346Z"
   },
   {
    "duration": 283,
    "start_time": "2024-08-21T19:44:33.024Z"
   },
   {
    "duration": 293,
    "start_time": "2024-08-21T19:45:01.107Z"
   },
   {
    "duration": 335,
    "start_time": "2024-08-21T19:45:30.301Z"
   },
   {
    "duration": 255,
    "start_time": "2024-08-21T19:46:06.708Z"
   },
   {
    "duration": 260,
    "start_time": "2024-08-21T19:46:15.482Z"
   },
   {
    "duration": 314,
    "start_time": "2024-08-21T19:46:39.004Z"
   },
   {
    "duration": 257,
    "start_time": "2024-08-21T19:46:53.825Z"
   },
   {
    "duration": 280,
    "start_time": "2024-08-21T19:47:09.117Z"
   },
   {
    "duration": 270,
    "start_time": "2024-08-21T19:47:19.735Z"
   },
   {
    "duration": 279,
    "start_time": "2024-08-21T19:50:58.717Z"
   },
   {
    "duration": 324,
    "start_time": "2024-08-21T19:51:10.026Z"
   },
   {
    "duration": 367,
    "start_time": "2024-08-21T19:51:33.952Z"
   },
   {
    "duration": 331,
    "start_time": "2024-08-21T19:55:27.624Z"
   },
   {
    "duration": 280,
    "start_time": "2024-08-21T19:55:50.980Z"
   },
   {
    "duration": 290,
    "start_time": "2024-08-21T19:56:00.455Z"
   },
   {
    "duration": 282,
    "start_time": "2024-08-21T19:56:17.677Z"
   },
   {
    "duration": 353,
    "start_time": "2024-08-21T19:56:32.365Z"
   },
   {
    "duration": 351,
    "start_time": "2024-08-21T19:57:29.795Z"
   },
   {
    "duration": 279,
    "start_time": "2024-08-21T19:57:41.420Z"
   },
   {
    "duration": 280,
    "start_time": "2024-08-21T19:57:56.315Z"
   },
   {
    "duration": 278,
    "start_time": "2024-08-21T19:58:06.010Z"
   },
   {
    "duration": 416,
    "start_time": "2024-08-21T19:58:29.658Z"
   },
   {
    "duration": 343,
    "start_time": "2024-08-21T19:58:45.515Z"
   },
   {
    "duration": 297,
    "start_time": "2024-08-21T19:59:08.038Z"
   },
   {
    "duration": 328,
    "start_time": "2024-08-21T19:59:19.377Z"
   },
   {
    "duration": 289,
    "start_time": "2024-08-21T19:59:35.967Z"
   },
   {
    "duration": 279,
    "start_time": "2024-08-21T19:59:48.884Z"
   },
   {
    "duration": 346,
    "start_time": "2024-08-21T20:00:08.145Z"
   },
   {
    "duration": 289,
    "start_time": "2024-08-21T20:00:23.425Z"
   },
   {
    "duration": 281,
    "start_time": "2024-08-21T20:00:24.450Z"
   },
   {
    "duration": 315,
    "start_time": "2024-08-21T20:00:32.881Z"
   },
   {
    "duration": 288,
    "start_time": "2024-08-21T20:00:53.066Z"
   },
   {
    "duration": 330,
    "start_time": "2024-08-21T20:01:36.964Z"
   },
   {
    "duration": 1168,
    "start_time": "2024-08-21T20:01:44.496Z"
   },
   {
    "duration": 57,
    "start_time": "2024-08-21T20:01:45.668Z"
   },
   {
    "duration": 51,
    "start_time": "2024-08-21T20:01:45.727Z"
   },
   {
    "duration": 64,
    "start_time": "2024-08-21T20:01:45.784Z"
   },
   {
    "duration": 22,
    "start_time": "2024-08-21T20:01:45.851Z"
   },
   {
    "duration": 14,
    "start_time": "2024-08-21T20:01:45.878Z"
   },
   {
    "duration": 60,
    "start_time": "2024-08-21T20:01:45.895Z"
   },
   {
    "duration": 19,
    "start_time": "2024-08-21T20:01:45.958Z"
   },
   {
    "duration": 53,
    "start_time": "2024-08-21T20:01:45.981Z"
   },
   {
    "duration": 26,
    "start_time": "2024-08-21T20:01:46.040Z"
   },
   {
    "duration": 57,
    "start_time": "2024-08-21T20:01:46.070Z"
   },
   {
    "duration": 22,
    "start_time": "2024-08-21T20:01:46.129Z"
   },
   {
    "duration": 21,
    "start_time": "2024-08-21T20:01:46.154Z"
   },
   {
    "duration": 329,
    "start_time": "2024-08-21T20:01:46.178Z"
   },
   {
    "duration": 1015,
    "start_time": "2024-08-21T20:01:46.511Z"
   },
   {
    "duration": 75,
    "start_time": "2024-08-21T20:05:17.352Z"
   },
   {
    "duration": 10,
    "start_time": "2024-08-21T20:05:26.750Z"
   },
   {
    "duration": 11,
    "start_time": "2024-08-21T20:05:29.566Z"
   },
   {
    "duration": 383,
    "start_time": "2024-08-21T20:05:41.155Z"
   },
   {
    "duration": 314,
    "start_time": "2024-08-21T20:06:02.120Z"
   },
   {
    "duration": 313,
    "start_time": "2024-08-21T20:06:12.849Z"
   },
   {
    "duration": 291,
    "start_time": "2024-08-21T20:07:16.324Z"
   },
   {
    "duration": 282,
    "start_time": "2024-08-21T20:07:31.321Z"
   },
   {
    "duration": 311,
    "start_time": "2024-08-21T20:08:03.738Z"
   },
   {
    "duration": 354,
    "start_time": "2024-08-21T20:08:13.129Z"
   },
   {
    "duration": 327,
    "start_time": "2024-08-21T20:08:36.981Z"
   },
   {
    "duration": 386,
    "start_time": "2024-08-21T20:08:46.877Z"
   },
   {
    "duration": 354,
    "start_time": "2024-08-21T20:09:20.730Z"
   },
   {
    "duration": 275,
    "start_time": "2024-08-21T20:09:32.682Z"
   },
   {
    "duration": 283,
    "start_time": "2024-08-21T20:10:03.178Z"
   },
   {
    "duration": 270,
    "start_time": "2024-08-21T20:10:12.075Z"
   },
   {
    "duration": 346,
    "start_time": "2024-08-21T20:13:21.221Z"
   },
   {
    "duration": 326,
    "start_time": "2024-08-21T20:13:38.179Z"
   },
   {
    "duration": 348,
    "start_time": "2024-08-21T20:13:53.626Z"
   },
   {
    "duration": 370,
    "start_time": "2024-08-21T20:14:12.894Z"
   },
   {
    "duration": 396,
    "start_time": "2024-08-21T20:14:42.598Z"
   },
   {
    "duration": 291,
    "start_time": "2024-08-21T20:14:52.779Z"
   },
   {
    "duration": 320,
    "start_time": "2024-08-21T20:15:14.665Z"
   },
   {
    "duration": 352,
    "start_time": "2024-08-21T20:15:23.515Z"
   },
   {
    "duration": 348,
    "start_time": "2024-08-21T20:15:47.473Z"
   },
   {
    "duration": 347,
    "start_time": "2024-08-21T20:15:58.331Z"
   },
   {
    "duration": 395,
    "start_time": "2024-08-21T20:18:55.408Z"
   },
   {
    "duration": 379,
    "start_time": "2024-08-21T20:19:04.778Z"
   },
   {
    "duration": 358,
    "start_time": "2024-08-21T20:19:37.520Z"
   },
   {
    "duration": 323,
    "start_time": "2024-08-21T20:19:47.288Z"
   },
   {
    "duration": 362,
    "start_time": "2024-08-21T20:20:07.515Z"
   },
   {
    "duration": 343,
    "start_time": "2024-08-21T20:20:16.841Z"
   },
   {
    "duration": 329,
    "start_time": "2024-08-21T20:20:35.258Z"
   },
   {
    "duration": 421,
    "start_time": "2024-08-21T20:20:44.137Z"
   },
   {
    "duration": 343,
    "start_time": "2024-08-21T20:21:13.727Z"
   },
   {
    "duration": 330,
    "start_time": "2024-08-21T20:21:29.148Z"
   },
   {
    "duration": 359,
    "start_time": "2024-08-21T20:21:48.681Z"
   },
   {
    "duration": 320,
    "start_time": "2024-08-21T20:21:57.850Z"
   },
   {
    "duration": 374,
    "start_time": "2024-08-21T20:22:25.117Z"
   },
   {
    "duration": 401,
    "start_time": "2024-08-21T20:22:35.204Z"
   },
   {
    "duration": 318,
    "start_time": "2024-08-21T20:23:06.295Z"
   },
   {
    "duration": 479,
    "start_time": "2024-08-21T20:23:13.815Z"
   },
   {
    "duration": 358,
    "start_time": "2024-08-21T20:23:38.651Z"
   },
   {
    "duration": 63,
    "start_time": "2024-08-21T20:23:43.864Z"
   },
   {
    "duration": 10,
    "start_time": "2024-08-21T20:23:46.766Z"
   },
   {
    "duration": 10,
    "start_time": "2024-08-21T20:23:57.500Z"
   },
   {
    "duration": 483,
    "start_time": "2024-08-21T20:24:36.951Z"
   },
   {
    "duration": 368,
    "start_time": "2024-08-21T20:25:08.223Z"
   },
   {
    "duration": 92,
    "start_time": "2024-08-21T20:25:23.170Z"
   },
   {
    "duration": 431,
    "start_time": "2024-08-21T20:25:30.875Z"
   },
   {
    "duration": 387,
    "start_time": "2024-08-21T20:25:58.438Z"
   },
   {
    "duration": 316,
    "start_time": "2024-08-21T20:26:07.023Z"
   },
   {
    "duration": 361,
    "start_time": "2024-08-21T20:26:29.303Z"
   },
   {
    "duration": 369,
    "start_time": "2024-08-21T20:26:40.170Z"
   },
   {
    "duration": 347,
    "start_time": "2024-08-21T20:27:00.493Z"
   },
   {
    "duration": 370,
    "start_time": "2024-08-21T20:27:07.907Z"
   },
   {
    "duration": 348,
    "start_time": "2024-08-21T20:27:37.802Z"
   },
   {
    "duration": 456,
    "start_time": "2024-08-21T20:27:45.377Z"
   },
   {
    "duration": 330,
    "start_time": "2024-08-21T20:28:10.279Z"
   },
   {
    "duration": 358,
    "start_time": "2024-08-21T20:28:18.756Z"
   },
   {
    "duration": 355,
    "start_time": "2024-08-21T20:35:31.047Z"
   },
   {
    "duration": 388,
    "start_time": "2024-08-21T20:35:42.578Z"
   },
   {
    "duration": 338,
    "start_time": "2024-08-21T20:36:14.906Z"
   },
   {
    "duration": 324,
    "start_time": "2024-08-21T20:36:27.604Z"
   },
   {
    "duration": 482,
    "start_time": "2024-08-21T20:37:14.004Z"
   },
   {
    "duration": 374,
    "start_time": "2024-08-21T20:37:25.303Z"
   },
   {
    "duration": 362,
    "start_time": "2024-08-21T20:37:43.563Z"
   },
   {
    "duration": 352,
    "start_time": "2024-08-21T20:37:53.538Z"
   },
   {
    "duration": 349,
    "start_time": "2024-08-21T20:38:33.965Z"
   },
   {
    "duration": 344,
    "start_time": "2024-08-21T20:38:41.862Z"
   },
   {
    "duration": 512,
    "start_time": "2024-08-21T20:39:09.929Z"
   },
   {
    "duration": 355,
    "start_time": "2024-08-21T20:39:21.679Z"
   },
   {
    "duration": 327,
    "start_time": "2024-08-21T20:39:51.174Z"
   },
   {
    "duration": 334,
    "start_time": "2024-08-21T20:40:01.340Z"
   },
   {
    "duration": 398,
    "start_time": "2024-08-21T20:40:46.407Z"
   },
   {
    "duration": 349,
    "start_time": "2024-08-21T20:40:57.722Z"
   },
   {
    "duration": 382,
    "start_time": "2024-08-21T20:41:17.578Z"
   },
   {
    "duration": 417,
    "start_time": "2024-08-21T20:41:25.616Z"
   },
   {
    "duration": 411,
    "start_time": "2024-08-21T20:42:26.407Z"
   },
   {
    "duration": 313,
    "start_time": "2024-08-21T20:42:36.711Z"
   },
   {
    "duration": 364,
    "start_time": "2024-08-21T20:42:58.666Z"
   },
   {
    "duration": 8,
    "start_time": "2024-08-21T20:43:01.300Z"
   },
   {
    "duration": 13,
    "start_time": "2024-08-21T20:43:11.867Z"
   },
   {
    "duration": 957,
    "start_time": "2024-08-21T20:43:20.572Z"
   },
   {
    "duration": 11,
    "start_time": "2024-08-21T20:43:32.176Z"
   },
   {
    "duration": 12,
    "start_time": "2024-08-21T20:43:42.916Z"
   },
   {
    "duration": 10,
    "start_time": "2024-08-21T20:52:11.940Z"
   },
   {
    "duration": 10,
    "start_time": "2024-08-21T20:52:47.584Z"
   },
   {
    "duration": 332,
    "start_time": "2024-08-21T20:53:30.862Z"
   },
   {
    "duration": 21,
    "start_time": "2024-08-21T20:53:40.032Z"
   },
   {
    "duration": 37,
    "start_time": "2024-08-21T20:54:35.549Z"
   },
   {
    "duration": 1145,
    "start_time": "2024-08-21T20:54:52.900Z"
   },
   {
    "duration": 38,
    "start_time": "2024-08-21T20:54:54.049Z"
   },
   {
    "duration": 52,
    "start_time": "2024-08-21T20:54:54.090Z"
   },
   {
    "duration": 1473,
    "start_time": "2024-08-21T20:54:54.146Z"
   },
   {
    "duration": 0,
    "start_time": "2024-08-21T20:54:55.623Z"
   },
   {
    "duration": 0,
    "start_time": "2024-08-21T20:54:55.625Z"
   },
   {
    "duration": 0,
    "start_time": "2024-08-21T20:54:55.627Z"
   },
   {
    "duration": 0,
    "start_time": "2024-08-21T20:54:55.629Z"
   },
   {
    "duration": 0,
    "start_time": "2024-08-21T20:54:55.632Z"
   },
   {
    "duration": 0,
    "start_time": "2024-08-21T20:54:55.635Z"
   },
   {
    "duration": 0,
    "start_time": "2024-08-21T20:54:55.639Z"
   },
   {
    "duration": 0,
    "start_time": "2024-08-21T20:54:55.641Z"
   },
   {
    "duration": 0,
    "start_time": "2024-08-21T20:54:55.643Z"
   },
   {
    "duration": 0,
    "start_time": "2024-08-21T20:54:55.645Z"
   },
   {
    "duration": 0,
    "start_time": "2024-08-21T20:54:55.647Z"
   },
   {
    "duration": 0,
    "start_time": "2024-08-21T20:54:55.649Z"
   },
   {
    "duration": 36,
    "start_time": "2024-08-21T20:55:16.327Z"
   },
   {
    "duration": 34,
    "start_time": "2024-08-21T20:55:32.814Z"
   },
   {
    "duration": 36,
    "start_time": "2024-08-21T20:55:39.199Z"
   },
   {
    "duration": 520,
    "start_time": "2024-08-21T20:55:44.467Z"
   },
   {
    "duration": 1160,
    "start_time": "2024-08-21T20:55:50.904Z"
   },
   {
    "duration": 38,
    "start_time": "2024-08-21T20:55:52.069Z"
   },
   {
    "duration": 49,
    "start_time": "2024-08-21T20:55:52.109Z"
   },
   {
    "duration": 36,
    "start_time": "2024-08-21T20:55:52.161Z"
   },
   {
    "duration": 20,
    "start_time": "2024-08-21T20:55:52.225Z"
   },
   {
    "duration": 15,
    "start_time": "2024-08-21T20:55:52.248Z"
   },
   {
    "duration": 56,
    "start_time": "2024-08-21T20:55:52.266Z"
   },
   {
    "duration": 15,
    "start_time": "2024-08-21T20:55:52.324Z"
   },
   {
    "duration": 26,
    "start_time": "2024-08-21T20:55:52.342Z"
   },
   {
    "duration": 52,
    "start_time": "2024-08-21T20:55:52.371Z"
   },
   {
    "duration": 23,
    "start_time": "2024-08-21T20:55:52.426Z"
   },
   {
    "duration": 21,
    "start_time": "2024-08-21T20:55:52.452Z"
   },
   {
    "duration": 52,
    "start_time": "2024-08-21T20:55:52.476Z"
   },
   {
    "duration": 354,
    "start_time": "2024-08-21T20:55:52.533Z"
   },
   {
    "duration": 12,
    "start_time": "2024-08-21T20:55:52.890Z"
   },
   {
    "duration": 22,
    "start_time": "2024-08-21T20:55:52.923Z"
   },
   {
    "duration": 13,
    "start_time": "2024-08-21T20:56:35.058Z"
   },
   {
    "duration": 10,
    "start_time": "2024-08-21T20:56:52.504Z"
   },
   {
    "duration": 21,
    "start_time": "2024-08-21T20:57:32.846Z"
   },
   {
    "duration": 1144,
    "start_time": "2024-08-21T20:57:43.988Z"
   },
   {
    "duration": 38,
    "start_time": "2024-08-21T20:57:45.135Z"
   },
   {
    "duration": 53,
    "start_time": "2024-08-21T20:57:45.176Z"
   },
   {
    "duration": 35,
    "start_time": "2024-08-21T20:57:45.233Z"
   },
   {
    "duration": 19,
    "start_time": "2024-08-21T20:57:45.273Z"
   },
   {
    "duration": 12,
    "start_time": "2024-08-21T20:57:45.322Z"
   },
   {
    "duration": 30,
    "start_time": "2024-08-21T20:57:45.337Z"
   },
   {
    "duration": 15,
    "start_time": "2024-08-21T20:57:45.371Z"
   },
   {
    "duration": 57,
    "start_time": "2024-08-21T20:57:45.388Z"
   },
   {
    "duration": 25,
    "start_time": "2024-08-21T20:57:45.448Z"
   },
   {
    "duration": 58,
    "start_time": "2024-08-21T20:57:45.477Z"
   },
   {
    "duration": 20,
    "start_time": "2024-08-21T20:57:45.538Z"
   },
   {
    "duration": 20,
    "start_time": "2024-08-21T20:57:45.560Z"
   },
   {
    "duration": 366,
    "start_time": "2024-08-21T20:57:45.586Z"
   },
   {
    "duration": 12,
    "start_time": "2024-08-21T20:57:45.955Z"
   },
   {
    "duration": 21,
    "start_time": "2024-08-21T20:57:45.971Z"
   },
   {
    "duration": 367,
    "start_time": "2024-08-21T20:58:58.340Z"
   },
   {
    "duration": 10,
    "start_time": "2024-08-21T20:59:06.885Z"
   },
   {
    "duration": 18,
    "start_time": "2024-08-21T20:59:32.956Z"
   },
   {
    "duration": 1155,
    "start_time": "2024-08-21T20:59:45.981Z"
   },
   {
    "duration": 38,
    "start_time": "2024-08-21T20:59:47.139Z"
   },
   {
    "duration": 52,
    "start_time": "2024-08-21T20:59:47.181Z"
   },
   {
    "duration": 37,
    "start_time": "2024-08-21T20:59:47.237Z"
   },
   {
    "duration": 46,
    "start_time": "2024-08-21T20:59:47.277Z"
   },
   {
    "duration": 15,
    "start_time": "2024-08-21T20:59:47.326Z"
   },
   {
    "duration": 32,
    "start_time": "2024-08-21T20:59:47.345Z"
   },
   {
    "duration": 51,
    "start_time": "2024-08-21T20:59:47.380Z"
   },
   {
    "duration": 25,
    "start_time": "2024-08-21T20:59:47.434Z"
   },
   {
    "duration": 23,
    "start_time": "2024-08-21T20:59:47.464Z"
   },
   {
    "duration": 22,
    "start_time": "2024-08-21T20:59:47.522Z"
   },
   {
    "duration": 20,
    "start_time": "2024-08-21T20:59:47.548Z"
   },
   {
    "duration": 21,
    "start_time": "2024-08-21T20:59:47.574Z"
   },
   {
    "duration": 339,
    "start_time": "2024-08-21T20:59:47.625Z"
   },
   {
    "duration": 11,
    "start_time": "2024-08-21T20:59:47.967Z"
   },
   {
    "duration": 10,
    "start_time": "2024-08-21T20:59:47.981Z"
   },
   {
    "duration": 403,
    "start_time": "2024-08-21T21:05:29.723Z"
   },
   {
    "duration": 1699,
    "start_time": "2024-08-21T21:11:58.863Z"
   },
   {
    "duration": 8,
    "start_time": "2024-08-21T21:12:27.232Z"
   },
   {
    "duration": 7,
    "start_time": "2024-08-21T21:12:39.454Z"
   },
   {
    "duration": 6,
    "start_time": "2024-08-21T21:13:22.143Z"
   },
   {
    "duration": 21,
    "start_time": "2024-08-21T21:13:33.677Z"
   },
   {
    "duration": 10,
    "start_time": "2024-08-21T21:57:13.198Z"
   },
   {
    "duration": 21,
    "start_time": "2024-08-21T21:57:23.729Z"
   },
   {
    "duration": 20,
    "start_time": "2024-08-21T21:57:48.803Z"
   },
   {
    "duration": 10,
    "start_time": "2024-08-21T22:02:27.803Z"
   },
   {
    "duration": 7,
    "start_time": "2024-08-21T22:13:14.686Z"
   },
   {
    "duration": 26,
    "start_time": "2024-08-21T22:14:13.300Z"
   },
   {
    "duration": 8,
    "start_time": "2024-08-21T22:14:19.016Z"
   },
   {
    "duration": 34,
    "start_time": "2024-08-21T22:14:37.660Z"
   },
   {
    "duration": 9,
    "start_time": "2024-08-21T22:14:57.077Z"
   },
   {
    "duration": 6,
    "start_time": "2024-08-21T22:15:13.006Z"
   },
   {
    "duration": 8,
    "start_time": "2024-08-21T22:15:22.668Z"
   },
   {
    "duration": 14,
    "start_time": "2024-08-21T22:31:24.820Z"
   },
   {
    "duration": 441,
    "start_time": "2024-08-21T22:31:38.393Z"
   },
   {
    "duration": 8,
    "start_time": "2024-08-21T22:31:49.361Z"
   },
   {
    "duration": 8,
    "start_time": "2024-08-21T22:32:06.936Z"
   },
   {
    "duration": 10,
    "start_time": "2024-08-21T22:32:19.774Z"
   },
   {
    "duration": 9,
    "start_time": "2024-08-21T22:32:25.477Z"
   },
   {
    "duration": 8,
    "start_time": "2024-08-21T22:32:53.920Z"
   },
   {
    "duration": 7,
    "start_time": "2024-08-21T22:34:28.251Z"
   },
   {
    "duration": 5,
    "start_time": "2024-08-21T22:34:37.196Z"
   },
   {
    "duration": 3,
    "start_time": "2024-08-21T22:34:45.836Z"
   },
   {
    "duration": 4,
    "start_time": "2024-08-21T22:34:51.388Z"
   },
   {
    "duration": 14,
    "start_time": "2024-08-21T22:35:06.939Z"
   },
   {
    "duration": 13,
    "start_time": "2024-08-21T22:35:22.542Z"
   },
   {
    "duration": 11,
    "start_time": "2024-08-21T22:36:15.223Z"
   },
   {
    "duration": 11,
    "start_time": "2024-08-21T22:36:22.509Z"
   },
   {
    "duration": 6,
    "start_time": "2024-08-21T22:45:49.528Z"
   },
   {
    "duration": 484,
    "start_time": "2024-08-21T22:48:01.125Z"
   },
   {
    "duration": 319,
    "start_time": "2024-08-21T22:48:53.496Z"
   },
   {
    "duration": 7,
    "start_time": "2024-08-21T22:49:18.049Z"
   },
   {
    "duration": 9,
    "start_time": "2024-08-21T22:53:43.135Z"
   },
   {
    "duration": 7,
    "start_time": "2024-08-21T22:53:59.082Z"
   },
   {
    "duration": 9,
    "start_time": "2024-08-21T22:54:27.905Z"
   },
   {
    "duration": 281,
    "start_time": "2024-08-21T22:54:51.052Z"
   },
   {
    "duration": 7,
    "start_time": "2024-08-21T22:55:09.778Z"
   },
   {
    "duration": 424,
    "start_time": "2024-08-21T22:56:56.317Z"
   },
   {
    "duration": 142,
    "start_time": "2024-08-21T22:57:13.290Z"
   },
   {
    "duration": 141,
    "start_time": "2024-08-21T22:57:26.687Z"
   },
   {
    "duration": 21,
    "start_time": "2024-08-21T22:58:01.260Z"
   },
   {
    "duration": 30,
    "start_time": "2024-08-21T22:58:24.459Z"
   },
   {
    "duration": 20,
    "start_time": "2024-08-21T22:58:32.101Z"
   },
   {
    "duration": 7,
    "start_time": "2024-08-21T23:00:53.604Z"
   },
   {
    "duration": 51,
    "start_time": "2024-08-21T23:01:02.057Z"
   },
   {
    "duration": 19,
    "start_time": "2024-08-21T23:01:13.728Z"
   },
   {
    "duration": 21,
    "start_time": "2024-08-21T23:05:15.751Z"
   },
   {
    "duration": 35,
    "start_time": "2024-08-21T23:09:03.598Z"
   },
   {
    "duration": 6,
    "start_time": "2024-08-21T23:14:05.503Z"
   },
   {
    "duration": 13,
    "start_time": "2024-08-21T23:14:48.394Z"
   },
   {
    "duration": 38,
    "start_time": "2024-08-21T23:17:12.276Z"
   },
   {
    "duration": 246,
    "start_time": "2024-08-21T23:17:33.003Z"
   },
   {
    "duration": 229,
    "start_time": "2024-08-21T23:17:53.308Z"
   },
   {
    "duration": 5633,
    "start_time": "2024-08-21T23:19:47.758Z"
   },
   {
    "duration": 187,
    "start_time": "2024-08-21T23:19:57.096Z"
   },
   {
    "duration": 17,
    "start_time": "2024-08-21T23:24:54.324Z"
   },
   {
    "duration": 193,
    "start_time": "2024-08-21T23:25:28.000Z"
   },
   {
    "duration": 5112,
    "start_time": "2024-08-21T23:55:35.006Z"
   },
   {
    "duration": 89,
    "start_time": "2024-08-21T23:55:40.124Z"
   },
   {
    "duration": 43,
    "start_time": "2024-08-21T23:55:40.216Z"
   },
   {
    "duration": 37,
    "start_time": "2024-08-21T23:55:40.264Z"
   },
   {
    "duration": 38,
    "start_time": "2024-08-21T23:55:40.304Z"
   },
   {
    "duration": 14,
    "start_time": "2024-08-21T23:55:40.345Z"
   },
   {
    "duration": 32,
    "start_time": "2024-08-21T23:55:40.362Z"
   },
   {
    "duration": 47,
    "start_time": "2024-08-21T23:55:40.398Z"
   },
   {
    "duration": 30,
    "start_time": "2024-08-21T23:55:40.451Z"
   },
   {
    "duration": 46,
    "start_time": "2024-08-21T23:55:40.487Z"
   },
   {
    "duration": 25,
    "start_time": "2024-08-21T23:55:40.536Z"
   },
   {
    "duration": 21,
    "start_time": "2024-08-21T23:55:40.565Z"
   },
   {
    "duration": 52,
    "start_time": "2024-08-21T23:55:40.589Z"
   },
   {
    "duration": 338,
    "start_time": "2024-08-21T23:55:40.647Z"
   },
   {
    "duration": 11,
    "start_time": "2024-08-21T23:55:40.988Z"
   },
   {
    "duration": 34,
    "start_time": "2024-08-21T23:55:41.002Z"
   },
   {
    "duration": 26,
    "start_time": "2024-08-21T23:55:41.038Z"
   },
   {
    "duration": 27,
    "start_time": "2024-08-21T23:55:41.068Z"
   },
   {
    "duration": 36,
    "start_time": "2024-08-21T23:55:41.099Z"
   },
   {
    "duration": 14,
    "start_time": "2024-08-21T23:55:41.138Z"
   },
   {
    "duration": 26,
    "start_time": "2024-08-21T23:55:41.154Z"
   },
   {
    "duration": 78,
    "start_time": "2024-08-21T23:55:41.183Z"
   },
   {
    "duration": 243,
    "start_time": "2024-08-21T23:55:41.265Z"
   },
   {
    "duration": 227,
    "start_time": "2024-08-21T23:56:10.544Z"
   },
   {
    "duration": 751,
    "start_time": "2024-08-21T23:56:41.979Z"
   },
   {
    "duration": 365,
    "start_time": "2024-08-21T23:57:42.084Z"
   },
   {
    "duration": 8,
    "start_time": "2024-08-21T23:59:07.287Z"
   },
   {
    "duration": 24,
    "start_time": "2024-08-21T23:59:55.882Z"
   },
   {
    "duration": 19,
    "start_time": "2024-08-22T00:02:06.099Z"
   },
   {
    "duration": 1233,
    "start_time": "2024-08-22T00:02:16.175Z"
   },
   {
    "duration": 48,
    "start_time": "2024-08-22T00:02:17.412Z"
   },
   {
    "duration": 40,
    "start_time": "2024-08-22T00:02:17.463Z"
   },
   {
    "duration": 59,
    "start_time": "2024-08-22T00:02:17.506Z"
   },
   {
    "duration": 24,
    "start_time": "2024-08-22T00:02:17.570Z"
   },
   {
    "duration": 12,
    "start_time": "2024-08-22T00:02:17.597Z"
   },
   {
    "duration": 33,
    "start_time": "2024-08-22T00:02:17.632Z"
   },
   {
    "duration": 19,
    "start_time": "2024-08-22T00:02:17.668Z"
   },
   {
    "duration": 56,
    "start_time": "2024-08-22T00:02:17.690Z"
   },
   {
    "duration": 28,
    "start_time": "2024-08-22T00:02:17.752Z"
   },
   {
    "duration": 52,
    "start_time": "2024-08-22T00:02:17.783Z"
   },
   {
    "duration": 24,
    "start_time": "2024-08-22T00:02:17.838Z"
   },
   {
    "duration": 22,
    "start_time": "2024-08-22T00:02:17.865Z"
   },
   {
    "duration": 410,
    "start_time": "2024-08-22T00:02:17.891Z"
   },
   {
    "duration": 12,
    "start_time": "2024-08-22T00:02:18.304Z"
   },
   {
    "duration": 9,
    "start_time": "2024-08-22T00:02:18.332Z"
   },
   {
    "duration": 26,
    "start_time": "2024-08-22T00:02:18.344Z"
   },
   {
    "duration": 59,
    "start_time": "2024-08-22T00:02:18.373Z"
   },
   {
    "duration": 8,
    "start_time": "2024-08-22T00:02:18.436Z"
   },
   {
    "duration": 13,
    "start_time": "2024-08-22T00:02:18.450Z"
   },
   {
    "duration": 27,
    "start_time": "2024-08-22T00:02:18.467Z"
   },
   {
    "duration": 82,
    "start_time": "2024-08-22T00:02:18.497Z"
   },
   {
    "duration": 25,
    "start_time": "2024-08-22T00:02:18.582Z"
   },
   {
    "duration": 444,
    "start_time": "2024-08-22T00:02:18.610Z"
   },
   {
    "duration": 4896,
    "start_time": "2024-08-22T00:39:58.768Z"
   },
   {
    "duration": 53,
    "start_time": "2024-08-22T00:40:03.668Z"
   },
   {
    "duration": 37,
    "start_time": "2024-08-22T00:40:03.725Z"
   },
   {
    "duration": 68,
    "start_time": "2024-08-22T00:40:03.767Z"
   },
   {
    "duration": 20,
    "start_time": "2024-08-22T00:40:03.838Z"
   },
   {
    "duration": 12,
    "start_time": "2024-08-22T00:40:03.861Z"
   },
   {
    "duration": 59,
    "start_time": "2024-08-22T00:40:03.876Z"
   },
   {
    "duration": 15,
    "start_time": "2024-08-22T00:40:03.939Z"
   },
   {
    "duration": 54,
    "start_time": "2024-08-22T00:40:03.957Z"
   },
   {
    "duration": 24,
    "start_time": "2024-08-22T00:40:04.018Z"
   },
   {
    "duration": 23,
    "start_time": "2024-08-22T00:40:04.045Z"
   },
   {
    "duration": 50,
    "start_time": "2024-08-22T00:40:04.071Z"
   },
   {
    "duration": 21,
    "start_time": "2024-08-22T00:40:04.124Z"
   },
   {
    "duration": 348,
    "start_time": "2024-08-22T00:40:04.148Z"
   },
   {
    "duration": 16,
    "start_time": "2024-08-22T00:40:04.499Z"
   },
   {
    "duration": 11,
    "start_time": "2024-08-22T00:40:04.517Z"
   },
   {
    "duration": 23,
    "start_time": "2024-08-22T00:40:04.531Z"
   },
   {
    "duration": 64,
    "start_time": "2024-08-22T00:40:04.557Z"
   },
   {
    "duration": 15,
    "start_time": "2024-08-22T00:40:04.625Z"
   },
   {
    "duration": 13,
    "start_time": "2024-08-22T00:40:04.644Z"
   },
   {
    "duration": 49,
    "start_time": "2024-08-22T00:40:04.662Z"
   },
   {
    "duration": 38,
    "start_time": "2024-08-22T00:40:04.715Z"
   },
   {
    "duration": 17,
    "start_time": "2024-08-22T00:40:04.755Z"
   },
   {
    "duration": 382,
    "start_time": "2024-08-22T00:40:04.775Z"
   },
   {
    "duration": 376,
    "start_time": "2024-08-22T00:42:07.745Z"
   },
   {
    "duration": 17,
    "start_time": "2024-08-22T00:42:14.061Z"
   },
   {
    "duration": 323,
    "start_time": "2024-08-22T00:42:51.926Z"
   },
   {
    "duration": 8,
    "start_time": "2024-08-22T00:43:37.735Z"
   },
   {
    "duration": 18,
    "start_time": "2024-08-22T00:44:03.188Z"
   },
   {
    "duration": 1208,
    "start_time": "2024-08-22T00:44:44.917Z"
   },
   {
    "duration": 39,
    "start_time": "2024-08-22T00:44:46.130Z"
   },
   {
    "duration": 55,
    "start_time": "2024-08-22T00:44:46.172Z"
   },
   {
    "duration": 37,
    "start_time": "2024-08-22T00:44:46.229Z"
   },
   {
    "duration": 35,
    "start_time": "2024-08-22T00:44:46.275Z"
   },
   {
    "duration": 14,
    "start_time": "2024-08-22T00:44:46.314Z"
   },
   {
    "duration": 29,
    "start_time": "2024-08-22T00:44:46.332Z"
   },
   {
    "duration": 52,
    "start_time": "2024-08-22T00:44:46.365Z"
   },
   {
    "duration": 27,
    "start_time": "2024-08-22T00:44:46.420Z"
   },
   {
    "duration": 24,
    "start_time": "2024-08-22T00:44:46.449Z"
   },
   {
    "duration": 51,
    "start_time": "2024-08-22T00:44:46.476Z"
   },
   {
    "duration": 20,
    "start_time": "2024-08-22T00:44:46.531Z"
   },
   {
    "duration": 55,
    "start_time": "2024-08-22T00:44:46.554Z"
   },
   {
    "duration": 335,
    "start_time": "2024-08-22T00:44:46.616Z"
   },
   {
    "duration": 12,
    "start_time": "2024-08-22T00:44:46.954Z"
   },
   {
    "duration": 9,
    "start_time": "2024-08-22T00:44:46.969Z"
   },
   {
    "duration": 20,
    "start_time": "2024-08-22T00:44:47.009Z"
   },
   {
    "duration": 21,
    "start_time": "2024-08-22T00:44:47.032Z"
   },
   {
    "duration": 8,
    "start_time": "2024-08-22T00:44:47.057Z"
   },
   {
    "duration": 47,
    "start_time": "2024-08-22T00:44:47.069Z"
   },
   {
    "duration": 19,
    "start_time": "2024-08-22T00:44:47.119Z"
   },
   {
    "duration": 36,
    "start_time": "2024-08-22T00:44:47.141Z"
   },
   {
    "duration": 12,
    "start_time": "2024-08-22T00:44:47.210Z"
   },
   {
    "duration": 442,
    "start_time": "2024-08-22T00:44:47.225Z"
   },
   {
    "duration": 342,
    "start_time": "2024-08-22T00:45:09.449Z"
   },
   {
    "duration": 324,
    "start_time": "2024-08-22T00:45:30.086Z"
   },
   {
    "duration": 329,
    "start_time": "2024-08-22T00:45:41.813Z"
   },
   {
    "duration": 327,
    "start_time": "2024-08-22T00:46:17.820Z"
   },
   {
    "duration": 344,
    "start_time": "2024-08-22T00:46:27.970Z"
   },
   {
    "duration": 472,
    "start_time": "2024-08-22T00:48:35.920Z"
   },
   {
    "duration": 160,
    "start_time": "2024-08-22T00:49:03.847Z"
   },
   {
    "duration": 264,
    "start_time": "2024-08-22T00:49:11.596Z"
   },
   {
    "duration": 227,
    "start_time": "2024-08-22T00:49:49.861Z"
   },
   {
    "duration": 289,
    "start_time": "2024-08-22T00:50:01.695Z"
   },
   {
    "duration": 335,
    "start_time": "2024-08-22T00:51:18.214Z"
   },
   {
    "duration": 452,
    "start_time": "2024-08-22T00:51:29.403Z"
   },
   {
    "duration": 395,
    "start_time": "2024-08-22T00:51:41.832Z"
   },
   {
    "duration": 396,
    "start_time": "2024-08-22T00:52:27.563Z"
   },
   {
    "duration": 409,
    "start_time": "2024-08-22T00:52:39.912Z"
   },
   {
    "duration": 401,
    "start_time": "2024-08-22T00:52:51.635Z"
   },
   {
    "duration": 569,
    "start_time": "2024-08-22T00:53:21.646Z"
   },
   {
    "duration": 508,
    "start_time": "2024-08-22T00:53:35.955Z"
   },
   {
    "duration": 408,
    "start_time": "2024-08-22T00:53:50.516Z"
   },
   {
    "duration": 889,
    "start_time": "2024-08-22T00:56:10.739Z"
   },
   {
    "duration": 243,
    "start_time": "2024-08-22T00:56:27.647Z"
   },
   {
    "duration": 350,
    "start_time": "2024-08-22T00:57:36.002Z"
   },
   {
    "duration": 711,
    "start_time": "2024-08-22T01:06:30.434Z"
   },
   {
    "duration": 235,
    "start_time": "2024-08-22T01:07:11.087Z"
   },
   {
    "duration": 705,
    "start_time": "2024-08-22T01:07:22.591Z"
   },
   {
    "duration": 8,
    "start_time": "2024-08-22T01:08:31.000Z"
   },
   {
    "duration": 871,
    "start_time": "2024-08-22T01:09:06.311Z"
   },
   {
    "duration": 926,
    "start_time": "2024-08-22T01:11:21.651Z"
   },
   {
    "duration": 1114,
    "start_time": "2024-08-22T01:11:37.977Z"
   },
   {
    "duration": 1559,
    "start_time": "2024-08-22T01:11:53.433Z"
   },
   {
    "duration": 1062,
    "start_time": "2024-08-22T01:13:49.284Z"
   },
   {
    "duration": 1399,
    "start_time": "2024-08-22T01:14:15.543Z"
   },
   {
    "duration": 1048,
    "start_time": "2024-08-22T01:14:29.683Z"
   },
   {
    "duration": 926,
    "start_time": "2024-08-22T01:14:50.349Z"
   },
   {
    "duration": 854,
    "start_time": "2024-08-22T01:15:52.308Z"
   },
   {
    "duration": 878,
    "start_time": "2024-08-22T01:16:09.099Z"
   },
   {
    "duration": 4936,
    "start_time": "2024-08-22T12:27:26.643Z"
   },
   {
    "duration": 58,
    "start_time": "2024-08-22T12:27:31.582Z"
   },
   {
    "duration": 37,
    "start_time": "2024-08-22T12:27:31.643Z"
   },
   {
    "duration": 56,
    "start_time": "2024-08-22T12:27:31.684Z"
   },
   {
    "duration": 18,
    "start_time": "2024-08-22T12:27:31.744Z"
   },
   {
    "duration": 12,
    "start_time": "2024-08-22T12:27:31.765Z"
   },
   {
    "duration": 65,
    "start_time": "2024-08-22T12:27:31.779Z"
   },
   {
    "duration": 18,
    "start_time": "2024-08-22T12:27:31.847Z"
   },
   {
    "duration": 26,
    "start_time": "2024-08-22T12:27:31.868Z"
   },
   {
    "duration": 23,
    "start_time": "2024-08-22T12:27:31.928Z"
   },
   {
    "duration": 23,
    "start_time": "2024-08-22T12:27:31.954Z"
   },
   {
    "duration": 54,
    "start_time": "2024-08-22T12:27:31.980Z"
   },
   {
    "duration": 19,
    "start_time": "2024-08-22T12:27:32.037Z"
   },
   {
    "duration": 345,
    "start_time": "2024-08-22T12:27:32.059Z"
   },
   {
    "duration": 21,
    "start_time": "2024-08-22T12:27:32.407Z"
   },
   {
    "duration": 11,
    "start_time": "2024-08-22T12:27:32.431Z"
   },
   {
    "duration": 20,
    "start_time": "2024-08-22T12:27:32.445Z"
   },
   {
    "duration": 63,
    "start_time": "2024-08-22T12:27:32.468Z"
   },
   {
    "duration": 9,
    "start_time": "2024-08-22T12:27:32.534Z"
   },
   {
    "duration": 11,
    "start_time": "2024-08-22T12:27:32.546Z"
   },
   {
    "duration": 19,
    "start_time": "2024-08-22T12:27:32.559Z"
   },
   {
    "duration": 75,
    "start_time": "2024-08-22T12:27:32.584Z"
   },
   {
    "duration": 12,
    "start_time": "2024-08-22T12:27:32.662Z"
   },
   {
    "duration": 535,
    "start_time": "2024-08-22T12:27:32.678Z"
   },
   {
    "duration": 277,
    "start_time": "2024-08-22T12:27:33.217Z"
   },
   {
    "duration": 925,
    "start_time": "2024-08-22T12:27:33.497Z"
   },
   {
    "duration": 1316,
    "start_time": "2024-08-22T12:37:23.037Z"
   },
   {
    "duration": 41,
    "start_time": "2024-08-22T12:37:24.357Z"
   },
   {
    "duration": 52,
    "start_time": "2024-08-22T12:37:24.401Z"
   },
   {
    "duration": 36,
    "start_time": "2024-08-22T12:37:24.458Z"
   },
   {
    "duration": 40,
    "start_time": "2024-08-22T12:37:24.498Z"
   },
   {
    "duration": 12,
    "start_time": "2024-08-22T12:37:24.541Z"
   },
   {
    "duration": 29,
    "start_time": "2024-08-22T12:37:24.556Z"
   },
   {
    "duration": 53,
    "start_time": "2024-08-22T12:37:24.588Z"
   },
   {
    "duration": 27,
    "start_time": "2024-08-22T12:37:24.643Z"
   },
   {
    "duration": 53,
    "start_time": "2024-08-22T12:37:24.675Z"
   },
   {
    "duration": 24,
    "start_time": "2024-08-22T12:37:24.730Z"
   },
   {
    "duration": 20,
    "start_time": "2024-08-22T12:37:24.757Z"
   },
   {
    "duration": 57,
    "start_time": "2024-08-22T12:37:24.781Z"
   },
   {
    "duration": 420,
    "start_time": "2024-08-22T12:37:24.842Z"
   },
   {
    "duration": 14,
    "start_time": "2024-08-22T12:37:25.265Z"
   },
   {
    "duration": 10,
    "start_time": "2024-08-22T12:37:25.283Z"
   },
   {
    "duration": 49,
    "start_time": "2024-08-22T12:37:25.296Z"
   },
   {
    "duration": 22,
    "start_time": "2024-08-22T12:37:25.348Z"
   },
   {
    "duration": 8,
    "start_time": "2024-08-22T12:37:25.373Z"
   },
   {
    "duration": 48,
    "start_time": "2024-08-22T12:37:25.385Z"
   },
   {
    "duration": 21,
    "start_time": "2024-08-22T12:37:25.436Z"
   },
   {
    "duration": 66,
    "start_time": "2024-08-22T12:37:25.460Z"
   },
   {
    "duration": 13,
    "start_time": "2024-08-22T12:37:25.529Z"
   },
   {
    "duration": 456,
    "start_time": "2024-08-22T12:37:25.545Z"
   },
   {
    "duration": 275,
    "start_time": "2024-08-22T12:37:26.005Z"
   },
   {
    "duration": 931,
    "start_time": "2024-08-22T12:37:26.283Z"
   },
   {
    "duration": 8,
    "start_time": "2024-08-22T12:43:55.061Z"
   },
   {
    "duration": 7,
    "start_time": "2024-08-22T12:44:06.434Z"
   },
   {
    "duration": 230,
    "start_time": "2024-08-22T12:55:06.983Z"
   },
   {
    "duration": 233,
    "start_time": "2024-08-22T12:55:44.631Z"
   },
   {
    "duration": 422,
    "start_time": "2024-08-22T12:56:34.306Z"
   },
   {
    "duration": 510,
    "start_time": "2024-08-22T12:56:42.363Z"
   },
   {
    "duration": 470,
    "start_time": "2024-08-22T12:56:50.590Z"
   },
   {
    "duration": 708,
    "start_time": "2024-08-22T12:57:20.850Z"
   },
   {
    "duration": 4864,
    "start_time": "2024-08-22T19:18:39.903Z"
   },
   {
    "duration": 54,
    "start_time": "2024-08-22T19:18:44.771Z"
   },
   {
    "duration": 41,
    "start_time": "2024-08-22T19:18:44.830Z"
   },
   {
    "duration": 61,
    "start_time": "2024-08-22T19:18:44.875Z"
   },
   {
    "duration": 18,
    "start_time": "2024-08-22T19:18:44.938Z"
   },
   {
    "duration": 12,
    "start_time": "2024-08-22T19:18:44.959Z"
   },
   {
    "duration": 62,
    "start_time": "2024-08-22T19:18:44.974Z"
   },
   {
    "duration": 16,
    "start_time": "2024-08-22T19:18:45.039Z"
   },
   {
    "duration": 25,
    "start_time": "2024-08-22T19:18:45.060Z"
   },
   {
    "duration": 57,
    "start_time": "2024-08-22T19:18:45.094Z"
   },
   {
    "duration": 22,
    "start_time": "2024-08-22T19:18:45.155Z"
   },
   {
    "duration": 18,
    "start_time": "2024-08-22T19:18:45.181Z"
   },
   {
    "duration": 48,
    "start_time": "2024-08-22T19:18:45.202Z"
   },
   {
    "duration": 345,
    "start_time": "2024-08-22T19:18:45.253Z"
   },
   {
    "duration": 12,
    "start_time": "2024-08-22T19:18:45.601Z"
   },
   {
    "duration": 25,
    "start_time": "2024-08-22T19:18:45.616Z"
   },
   {
    "duration": 24,
    "start_time": "2024-08-22T19:18:45.645Z"
   },
   {
    "duration": 22,
    "start_time": "2024-08-22T19:18:45.672Z"
   },
   {
    "duration": 8,
    "start_time": "2024-08-22T19:18:45.734Z"
   },
   {
    "duration": 12,
    "start_time": "2024-08-22T19:18:45.746Z"
   },
   {
    "duration": 20,
    "start_time": "2024-08-22T19:18:45.760Z"
   },
   {
    "duration": 77,
    "start_time": "2024-08-22T19:18:45.783Z"
   },
   {
    "duration": 8,
    "start_time": "2024-08-22T19:18:45.863Z"
   },
   {
    "duration": 513,
    "start_time": "2024-08-22T19:18:45.874Z"
   },
   {
    "duration": 279,
    "start_time": "2024-08-22T19:18:46.391Z"
   },
   {
    "duration": 821,
    "start_time": "2024-08-22T19:18:46.674Z"
   },
   {
    "duration": 891,
    "start_time": "2024-08-22T19:18:47.499Z"
   },
   {
    "duration": 422,
    "start_time": "2024-08-22T19:20:41.012Z"
   },
   {
    "duration": 11,
    "start_time": "2024-08-22T19:33:47.350Z"
   },
   {
    "duration": 11,
    "start_time": "2024-08-22T19:33:57.049Z"
   },
   {
    "duration": 11,
    "start_time": "2024-08-22T19:34:46.930Z"
   },
   {
    "duration": 701,
    "start_time": "2024-08-22T19:35:03.210Z"
   },
   {
    "duration": 10,
    "start_time": "2024-08-22T19:36:53.032Z"
   },
   {
    "duration": 11,
    "start_time": "2024-08-22T19:41:56.760Z"
   },
   {
    "duration": 11,
    "start_time": "2024-08-22T19:42:13.727Z"
   },
   {
    "duration": 11,
    "start_time": "2024-08-22T19:42:20.833Z"
   },
   {
    "duration": 12,
    "start_time": "2024-08-22T19:42:25.389Z"
   },
   {
    "duration": 11,
    "start_time": "2024-08-22T19:42:45.512Z"
   },
   {
    "duration": 10,
    "start_time": "2024-08-22T19:43:16.910Z"
   },
   {
    "duration": 11,
    "start_time": "2024-08-22T19:43:20.053Z"
   },
   {
    "duration": 18,
    "start_time": "2024-08-22T19:43:31.138Z"
   },
   {
    "duration": 5,
    "start_time": "2024-08-22T19:51:45.763Z"
   },
   {
    "duration": 37,
    "start_time": "2024-08-22T19:52:00.333Z"
   },
   {
    "duration": 7,
    "start_time": "2024-08-22T19:54:22.330Z"
   },
   {
    "duration": 12,
    "start_time": "2024-08-22T19:54:30.369Z"
   },
   {
    "duration": 11,
    "start_time": "2024-08-22T19:55:22.548Z"
   },
   {
    "duration": 13,
    "start_time": "2024-08-22T19:55:28.148Z"
   },
   {
    "duration": 280,
    "start_time": "2024-08-22T19:56:58.575Z"
   },
   {
    "duration": 15,
    "start_time": "2024-08-22T20:07:40.214Z"
   },
   {
    "duration": 19,
    "start_time": "2024-08-22T20:16:43.800Z"
   },
   {
    "duration": 23,
    "start_time": "2024-08-22T20:21:13.129Z"
   },
   {
    "duration": 33,
    "start_time": "2024-08-22T20:21:49.546Z"
   },
   {
    "duration": 28,
    "start_time": "2024-08-22T20:23:53.340Z"
   },
   {
    "duration": 31,
    "start_time": "2024-08-22T20:24:00.889Z"
   },
   {
    "duration": 52,
    "start_time": "2024-08-22T20:25:22.849Z"
   },
   {
    "duration": 61,
    "start_time": "2024-08-22T20:27:15.943Z"
   },
   {
    "duration": 56,
    "start_time": "2024-08-22T20:27:34.702Z"
   },
   {
    "duration": 30,
    "start_time": "2024-08-22T20:27:54.743Z"
   },
   {
    "duration": 32,
    "start_time": "2024-08-22T20:28:52.889Z"
   },
   {
    "duration": 33,
    "start_time": "2024-08-22T20:28:57.694Z"
   },
   {
    "duration": 32,
    "start_time": "2024-08-22T20:29:02.388Z"
   },
   {
    "duration": 33,
    "start_time": "2024-08-22T20:29:12.538Z"
   },
   {
    "duration": 31,
    "start_time": "2024-08-22T20:29:22.640Z"
   },
   {
    "duration": 33,
    "start_time": "2024-08-22T20:29:46.158Z"
   },
   {
    "duration": 8,
    "start_time": "2024-08-22T20:49:05.575Z"
   },
   {
    "duration": 11,
    "start_time": "2024-08-22T20:49:21.760Z"
   },
   {
    "duration": 17,
    "start_time": "2024-08-22T20:49:40.096Z"
   },
   {
    "duration": 18,
    "start_time": "2024-08-22T20:50:31.791Z"
   },
   {
    "duration": 16,
    "start_time": "2024-08-22T20:50:44.117Z"
   },
   {
    "duration": 14,
    "start_time": "2024-08-22T20:50:53.349Z"
   },
   {
    "duration": 22,
    "start_time": "2024-08-22T20:50:58.980Z"
   },
   {
    "duration": 11,
    "start_time": "2024-08-22T20:51:32.642Z"
   },
   {
    "duration": 13,
    "start_time": "2024-08-22T20:51:47.364Z"
   },
   {
    "duration": 17,
    "start_time": "2024-08-22T20:51:57.757Z"
   },
   {
    "duration": 14,
    "start_time": "2024-08-22T20:52:05.267Z"
   },
   {
    "duration": 15,
    "start_time": "2024-08-22T20:52:14.519Z"
   },
   {
    "duration": 15,
    "start_time": "2024-08-22T20:52:47.897Z"
   },
   {
    "duration": 15,
    "start_time": "2024-08-22T20:53:20.466Z"
   },
   {
    "duration": 16,
    "start_time": "2024-08-22T20:53:25.175Z"
   },
   {
    "duration": 14,
    "start_time": "2024-08-22T20:53:58.854Z"
   },
   {
    "duration": 596,
    "start_time": "2024-08-22T22:00:48.847Z"
   },
   {
    "duration": 590,
    "start_time": "2024-08-22T22:07:40.422Z"
   },
   {
    "duration": 35,
    "start_time": "2024-08-22T22:29:51.511Z"
   },
   {
    "duration": 9,
    "start_time": "2024-08-22T22:30:18.186Z"
   },
   {
    "duration": 11,
    "start_time": "2024-08-22T22:30:29.785Z"
   },
   {
    "duration": 34,
    "start_time": "2024-08-22T22:43:27.518Z"
   },
   {
    "duration": 647,
    "start_time": "2024-08-22T22:48:00.416Z"
   },
   {
    "duration": 783,
    "start_time": "2024-08-22T22:48:29.979Z"
   },
   {
    "duration": 23,
    "start_time": "2024-08-22T22:54:17.657Z"
   },
   {
    "duration": 16,
    "start_time": "2024-08-22T22:54:45.364Z"
   },
   {
    "duration": 11,
    "start_time": "2024-08-22T22:55:32.837Z"
   },
   {
    "duration": 563,
    "start_time": "2024-08-22T22:56:34.539Z"
   },
   {
    "duration": 13,
    "start_time": "2024-08-22T22:56:50.575Z"
   },
   {
    "duration": 245,
    "start_time": "2024-08-22T22:56:58.659Z"
   },
   {
    "duration": 13,
    "start_time": "2024-08-22T22:57:18.689Z"
   },
   {
    "duration": 25,
    "start_time": "2024-08-22T23:02:02.264Z"
   },
   {
    "duration": 18,
    "start_time": "2024-08-22T23:03:08.639Z"
   },
   {
    "duration": 9,
    "start_time": "2024-08-22T23:03:28.547Z"
   },
   {
    "duration": 15,
    "start_time": "2024-08-22T23:03:38.729Z"
   },
   {
    "duration": 16,
    "start_time": "2024-08-22T23:03:53.551Z"
   },
   {
    "duration": 13,
    "start_time": "2024-08-22T23:04:09.879Z"
   },
   {
    "duration": 7,
    "start_time": "2024-08-22T23:04:15.646Z"
   },
   {
    "duration": 12,
    "start_time": "2024-08-22T23:04:27.163Z"
   },
   {
    "duration": 8,
    "start_time": "2024-08-22T23:05:34.791Z"
   },
   {
    "duration": 8,
    "start_time": "2024-08-22T23:22:49.290Z"
   },
   {
    "duration": 8,
    "start_time": "2024-08-22T23:22:58.241Z"
   },
   {
    "duration": 29,
    "start_time": "2024-08-22T23:24:33.492Z"
   },
   {
    "duration": 8,
    "start_time": "2024-08-22T23:28:03.732Z"
   },
   {
    "duration": 9,
    "start_time": "2024-08-22T23:28:19.569Z"
   },
   {
    "duration": 8,
    "start_time": "2024-08-22T23:28:35.074Z"
   },
   {
    "duration": 20,
    "start_time": "2024-08-22T23:52:19.846Z"
   },
   {
    "duration": 7,
    "start_time": "2024-08-23T00:09:19.602Z"
   },
   {
    "duration": 10,
    "start_time": "2024-08-23T00:11:18.751Z"
   },
   {
    "duration": 5,
    "start_time": "2024-08-23T00:21:00.766Z"
   },
   {
    "duration": 10,
    "start_time": "2024-08-23T00:21:21.401Z"
   },
   {
    "duration": 1185,
    "start_time": "2024-08-23T00:22:16.905Z"
   },
   {
    "duration": 99,
    "start_time": "2024-08-23T00:23:34.890Z"
   },
   {
    "duration": 4,
    "start_time": "2024-08-23T00:23:53.235Z"
   },
   {
    "duration": 23,
    "start_time": "2024-08-23T00:24:05.453Z"
   },
   {
    "duration": 11,
    "start_time": "2024-08-23T00:24:11.557Z"
   },
   {
    "duration": 7,
    "start_time": "2024-08-23T00:24:19.795Z"
   },
   {
    "duration": 7,
    "start_time": "2024-08-23T00:24:27.766Z"
   },
   {
    "duration": 7,
    "start_time": "2024-08-23T00:24:38.810Z"
   },
   {
    "duration": 23,
    "start_time": "2024-08-23T00:24:45.269Z"
   },
   {
    "duration": 9,
    "start_time": "2024-08-23T00:25:00.125Z"
   },
   {
    "duration": 1313,
    "start_time": "2024-08-23T00:25:18.635Z"
   },
   {
    "duration": 39,
    "start_time": "2024-08-23T00:25:19.951Z"
   },
   {
    "duration": 48,
    "start_time": "2024-08-23T00:25:19.992Z"
   },
   {
    "duration": 37,
    "start_time": "2024-08-23T00:25:20.044Z"
   },
   {
    "duration": 19,
    "start_time": "2024-08-23T00:25:20.084Z"
   },
   {
    "duration": 13,
    "start_time": "2024-08-23T00:25:20.136Z"
   },
   {
    "duration": 31,
    "start_time": "2024-08-23T00:25:20.151Z"
   },
   {
    "duration": 53,
    "start_time": "2024-08-23T00:25:20.185Z"
   },
   {
    "duration": 27,
    "start_time": "2024-08-23T00:25:20.241Z"
   },
   {
    "duration": 22,
    "start_time": "2024-08-23T00:25:20.274Z"
   },
   {
    "duration": 54,
    "start_time": "2024-08-23T00:25:20.299Z"
   },
   {
    "duration": 21,
    "start_time": "2024-08-23T00:25:20.356Z"
   },
   {
    "duration": 21,
    "start_time": "2024-08-23T00:25:20.381Z"
   },
   {
    "duration": 390,
    "start_time": "2024-08-23T00:25:20.436Z"
   },
   {
    "duration": 16,
    "start_time": "2024-08-23T00:25:20.828Z"
   },
   {
    "duration": 10,
    "start_time": "2024-08-23T00:25:20.848Z"
   },
   {
    "duration": 21,
    "start_time": "2024-08-23T00:25:20.862Z"
   },
   {
    "duration": 48,
    "start_time": "2024-08-23T00:25:20.886Z"
   },
   {
    "duration": 10,
    "start_time": "2024-08-23T00:25:20.937Z"
   },
   {
    "duration": 21,
    "start_time": "2024-08-23T00:25:20.950Z"
   },
   {
    "duration": 9,
    "start_time": "2024-08-23T00:25:20.974Z"
   },
   {
    "duration": 52,
    "start_time": "2024-08-23T00:25:20.985Z"
   },
   {
    "duration": 21,
    "start_time": "2024-08-23T00:25:21.040Z"
   },
   {
    "duration": 38,
    "start_time": "2024-08-23T00:25:21.063Z"
   },
   {
    "duration": 10,
    "start_time": "2024-08-23T00:25:21.135Z"
   },
   {
    "duration": 465,
    "start_time": "2024-08-23T00:25:21.149Z"
   },
   {
    "duration": 267,
    "start_time": "2024-08-23T00:25:21.617Z"
   },
   {
    "duration": 928,
    "start_time": "2024-08-23T00:25:21.891Z"
   },
   {
    "duration": 30,
    "start_time": "2024-08-23T00:25:22.822Z"
   },
   {
    "duration": 15,
    "start_time": "2024-08-23T00:25:22.855Z"
   },
   {
    "duration": 620,
    "start_time": "2024-08-23T00:25:22.873Z"
   },
   {
    "duration": 53,
    "start_time": "2024-08-23T00:25:23.495Z"
   },
   {
    "duration": 10,
    "start_time": "2024-08-23T00:25:23.551Z"
   },
   {
    "duration": 20,
    "start_time": "2024-08-23T00:25:23.563Z"
   },
   {
    "duration": 11,
    "start_time": "2024-08-23T00:25:23.587Z"
   },
   {
    "duration": 10,
    "start_time": "2024-08-23T00:25:23.633Z"
   },
   {
    "duration": 7,
    "start_time": "2024-08-23T00:25:23.647Z"
   },
   {
    "duration": 920,
    "start_time": "2024-08-23T00:25:50.520Z"
   },
   {
    "duration": 12,
    "start_time": "2024-08-23T00:28:18.325Z"
   },
   {
    "duration": 7,
    "start_time": "2024-08-23T00:30:26.534Z"
   },
   {
    "duration": 10,
    "start_time": "2024-08-23T00:37:46.217Z"
   },
   {
    "duration": 8,
    "start_time": "2024-08-23T00:37:56.582Z"
   },
   {
    "duration": 41,
    "start_time": "2024-08-23T00:38:08.743Z"
   },
   {
    "duration": 9,
    "start_time": "2024-08-23T00:54:12.349Z"
   },
   {
    "duration": 9,
    "start_time": "2024-08-23T00:54:30.874Z"
   },
   {
    "duration": 9,
    "start_time": "2024-08-23T00:56:16.177Z"
   },
   {
    "duration": 9,
    "start_time": "2024-08-23T00:56:29.793Z"
   },
   {
    "duration": 5,
    "start_time": "2024-08-23T00:56:37.230Z"
   },
   {
    "duration": 1261,
    "start_time": "2024-08-23T00:57:34.189Z"
   },
   {
    "duration": 41,
    "start_time": "2024-08-23T00:57:35.455Z"
   },
   {
    "duration": 50,
    "start_time": "2024-08-23T00:57:35.501Z"
   },
   {
    "duration": 36,
    "start_time": "2024-08-23T00:57:35.556Z"
   },
   {
    "duration": 43,
    "start_time": "2024-08-23T00:57:35.595Z"
   },
   {
    "duration": 13,
    "start_time": "2024-08-23T00:57:35.640Z"
   },
   {
    "duration": 31,
    "start_time": "2024-08-23T00:57:35.657Z"
   },
   {
    "duration": 51,
    "start_time": "2024-08-23T00:57:35.690Z"
   },
   {
    "duration": 25,
    "start_time": "2024-08-23T00:57:35.744Z"
   },
   {
    "duration": 23,
    "start_time": "2024-08-23T00:57:35.775Z"
   },
   {
    "duration": 52,
    "start_time": "2024-08-23T00:57:35.801Z"
   },
   {
    "duration": 19,
    "start_time": "2024-08-23T00:57:35.856Z"
   },
   {
    "duration": 20,
    "start_time": "2024-08-23T00:57:35.877Z"
   },
   {
    "duration": 427,
    "start_time": "2024-08-23T00:57:35.936Z"
   },
   {
    "duration": 12,
    "start_time": "2024-08-23T00:57:36.366Z"
   },
   {
    "duration": 10,
    "start_time": "2024-08-23T00:57:36.381Z"
   },
   {
    "duration": 51,
    "start_time": "2024-08-23T00:57:36.394Z"
   },
   {
    "duration": 9,
    "start_time": "2024-08-23T00:57:36.448Z"
   },
   {
    "duration": 14,
    "start_time": "2024-08-23T00:57:36.460Z"
   },
   {
    "duration": 84,
    "start_time": "2024-08-23T00:57:36.478Z"
   },
   {
    "duration": 9,
    "start_time": "2024-08-23T00:57:36.565Z"
   },
   {
    "duration": 31,
    "start_time": "2024-08-23T00:57:36.578Z"
   },
   {
    "duration": 28,
    "start_time": "2024-08-23T00:57:36.612Z"
   },
   {
    "duration": 9,
    "start_time": "2024-08-23T00:57:36.643Z"
   },
   {
    "duration": 11,
    "start_time": "2024-08-23T00:57:36.656Z"
   },
   {
    "duration": 18,
    "start_time": "2024-08-23T00:57:36.670Z"
   },
   {
    "duration": 79,
    "start_time": "2024-08-23T00:57:36.690Z"
   },
   {
    "duration": 7,
    "start_time": "2024-08-23T00:57:36.776Z"
   },
   {
    "duration": 481,
    "start_time": "2024-08-23T00:57:36.787Z"
   },
   {
    "duration": 287,
    "start_time": "2024-08-23T00:57:37.271Z"
   },
   {
    "duration": 878,
    "start_time": "2024-08-23T00:57:37.561Z"
   },
   {
    "duration": 31,
    "start_time": "2024-08-23T00:57:38.442Z"
   },
   {
    "duration": 15,
    "start_time": "2024-08-23T00:57:38.476Z"
   },
   {
    "duration": 624,
    "start_time": "2024-08-23T00:57:38.494Z"
   },
   {
    "duration": 52,
    "start_time": "2024-08-23T00:57:39.121Z"
   },
   {
    "duration": 10,
    "start_time": "2024-08-23T00:57:39.176Z"
   },
   {
    "duration": 45,
    "start_time": "2024-08-23T00:57:39.189Z"
   },
   {
    "duration": 13,
    "start_time": "2024-08-23T00:57:39.237Z"
   },
   {
    "duration": 10,
    "start_time": "2024-08-23T00:57:39.252Z"
   },
   {
    "duration": 7,
    "start_time": "2024-08-23T00:57:39.265Z"
   },
   {
    "duration": 11,
    "start_time": "2024-08-23T00:59:01.488Z"
   },
   {
    "duration": 19,
    "start_time": "2024-08-23T01:04:05.283Z"
   },
   {
    "duration": 14,
    "start_time": "2024-08-23T01:04:33.373Z"
   },
   {
    "duration": 16,
    "start_time": "2024-08-23T01:04:53.230Z"
   },
   {
    "duration": 17,
    "start_time": "2024-08-23T01:04:56.204Z"
   },
   {
    "duration": 20,
    "start_time": "2024-08-23T01:04:58.354Z"
   },
   {
    "duration": 17,
    "start_time": "2024-08-23T01:05:00.721Z"
   },
   {
    "duration": 17,
    "start_time": "2024-08-23T01:05:04.086Z"
   },
   {
    "duration": 9,
    "start_time": "2024-08-23T01:06:52.179Z"
   },
   {
    "duration": 41,
    "start_time": "2024-08-23T01:07:21.275Z"
   },
   {
    "duration": 9,
    "start_time": "2024-08-23T01:07:53.377Z"
   },
   {
    "duration": 8,
    "start_time": "2024-08-23T01:07:57.328Z"
   },
   {
    "duration": 9,
    "start_time": "2024-08-23T01:08:30.689Z"
   },
   {
    "duration": 9,
    "start_time": "2024-08-23T01:08:59.872Z"
   },
   {
    "duration": 11,
    "start_time": "2024-08-23T01:09:14.181Z"
   },
   {
    "duration": 1223,
    "start_time": "2024-08-23T01:09:27.564Z"
   },
   {
    "duration": 46,
    "start_time": "2024-08-23T01:09:28.790Z"
   },
   {
    "duration": 36,
    "start_time": "2024-08-23T01:09:28.839Z"
   },
   {
    "duration": 55,
    "start_time": "2024-08-23T01:09:28.880Z"
   },
   {
    "duration": 17,
    "start_time": "2024-08-23T01:09:28.938Z"
   },
   {
    "duration": 12,
    "start_time": "2024-08-23T01:09:28.959Z"
   },
   {
    "duration": 66,
    "start_time": "2024-08-23T01:09:28.974Z"
   },
   {
    "duration": 17,
    "start_time": "2024-08-23T01:09:29.042Z"
   },
   {
    "duration": 24,
    "start_time": "2024-08-23T01:09:29.062Z"
   },
   {
    "duration": 54,
    "start_time": "2024-08-23T01:09:29.093Z"
   },
   {
    "duration": 24,
    "start_time": "2024-08-23T01:09:29.151Z"
   },
   {
    "duration": 56,
    "start_time": "2024-08-23T01:09:29.179Z"
   },
   {
    "duration": 21,
    "start_time": "2024-08-23T01:09:29.238Z"
   },
   {
    "duration": 407,
    "start_time": "2024-08-23T01:09:29.262Z"
   },
   {
    "duration": 10,
    "start_time": "2024-08-23T01:09:29.672Z"
   },
   {
    "duration": 10,
    "start_time": "2024-08-23T01:09:29.686Z"
   },
   {
    "duration": 50,
    "start_time": "2024-08-23T01:09:29.699Z"
   },
   {
    "duration": 8,
    "start_time": "2024-08-23T01:09:29.751Z"
   },
   {
    "duration": 12,
    "start_time": "2024-08-23T01:09:29.762Z"
   },
   {
    "duration": 9,
    "start_time": "2024-08-23T01:09:29.776Z"
   },
   {
    "duration": 54,
    "start_time": "2024-08-23T01:09:29.788Z"
   },
   {
    "duration": 9,
    "start_time": "2024-08-23T01:09:29.845Z"
   },
   {
    "duration": 12,
    "start_time": "2024-08-23T01:09:29.857Z"
   },
   {
    "duration": 22,
    "start_time": "2024-08-23T01:09:29.871Z"
   },
   {
    "duration": 8,
    "start_time": "2024-08-23T01:09:29.935Z"
   },
   {
    "duration": 12,
    "start_time": "2024-08-23T01:09:29.947Z"
   },
   {
    "duration": 17,
    "start_time": "2024-08-23T01:09:29.962Z"
   },
   {
    "duration": 79,
    "start_time": "2024-08-23T01:09:29.986Z"
   },
   {
    "duration": 9,
    "start_time": "2024-08-23T01:09:30.068Z"
   },
   {
    "duration": 476,
    "start_time": "2024-08-23T01:09:30.080Z"
   },
   {
    "duration": 269,
    "start_time": "2024-08-23T01:09:30.558Z"
   },
   {
    "duration": 894,
    "start_time": "2024-08-23T01:09:30.834Z"
   },
   {
    "duration": 32,
    "start_time": "2024-08-23T01:09:31.731Z"
   },
   {
    "duration": 15,
    "start_time": "2024-08-23T01:09:31.766Z"
   },
   {
    "duration": 609,
    "start_time": "2024-08-23T01:09:31.783Z"
   },
   {
    "duration": 51,
    "start_time": "2024-08-23T01:09:32.395Z"
   },
   {
    "duration": 10,
    "start_time": "2024-08-23T01:09:32.449Z"
   },
   {
    "duration": 19,
    "start_time": "2024-08-23T01:09:32.463Z"
   },
   {
    "duration": 11,
    "start_time": "2024-08-23T01:09:32.485Z"
   },
   {
    "duration": 9,
    "start_time": "2024-08-23T01:09:32.534Z"
   },
   {
    "duration": 7,
    "start_time": "2024-08-23T01:09:32.546Z"
   },
   {
    "duration": 4945,
    "start_time": "2024-08-23T17:12:34.243Z"
   },
   {
    "duration": 52,
    "start_time": "2024-08-23T17:12:39.192Z"
   },
   {
    "duration": 42,
    "start_time": "2024-08-23T17:12:39.247Z"
   },
   {
    "duration": 35,
    "start_time": "2024-08-23T17:12:39.292Z"
   },
   {
    "duration": 43,
    "start_time": "2024-08-23T17:12:39.331Z"
   },
   {
    "duration": 12,
    "start_time": "2024-08-23T17:12:39.378Z"
   },
   {
    "duration": 29,
    "start_time": "2024-08-23T17:12:39.393Z"
   },
   {
    "duration": 49,
    "start_time": "2024-08-23T17:12:39.426Z"
   },
   {
    "duration": 29,
    "start_time": "2024-08-23T17:12:39.478Z"
   },
   {
    "duration": 55,
    "start_time": "2024-08-23T17:12:39.511Z"
   },
   {
    "duration": 23,
    "start_time": "2024-08-23T17:12:39.570Z"
   },
   {
    "duration": 18,
    "start_time": "2024-08-23T17:12:39.597Z"
   },
   {
    "duration": 50,
    "start_time": "2024-08-23T17:12:39.618Z"
   },
   {
    "duration": 344,
    "start_time": "2024-08-23T17:12:39.677Z"
   },
   {
    "duration": 12,
    "start_time": "2024-08-23T17:12:40.024Z"
   },
   {
    "duration": 33,
    "start_time": "2024-08-23T17:12:40.039Z"
   },
   {
    "duration": 22,
    "start_time": "2024-08-23T17:12:40.075Z"
   },
   {
    "duration": 8,
    "start_time": "2024-08-23T17:12:40.099Z"
   },
   {
    "duration": 12,
    "start_time": "2024-08-23T17:12:40.110Z"
   },
   {
    "duration": 49,
    "start_time": "2024-08-23T17:12:40.125Z"
   },
   {
    "duration": 11,
    "start_time": "2024-08-23T17:12:40.178Z"
   },
   {
    "duration": 11,
    "start_time": "2024-08-23T17:12:40.192Z"
   },
   {
    "duration": 12,
    "start_time": "2024-08-23T17:12:40.205Z"
   },
   {
    "duration": 66,
    "start_time": "2024-08-23T17:12:40.220Z"
   },
   {
    "duration": 8,
    "start_time": "2024-08-23T17:12:40.289Z"
   },
   {
    "duration": 13,
    "start_time": "2024-08-23T17:12:40.299Z"
   },
   {
    "duration": 59,
    "start_time": "2024-08-23T17:12:40.315Z"
   },
   {
    "duration": 38,
    "start_time": "2024-08-23T17:12:40.378Z"
   },
   {
    "duration": 8,
    "start_time": "2024-08-23T17:12:40.419Z"
   },
   {
    "duration": 476,
    "start_time": "2024-08-23T17:12:40.430Z"
   },
   {
    "duration": 293,
    "start_time": "2024-08-23T17:12:40.909Z"
   },
   {
    "duration": 947,
    "start_time": "2024-08-23T17:12:41.205Z"
   },
   {
    "duration": 41,
    "start_time": "2024-08-23T17:12:42.157Z"
   },
   {
    "duration": 14,
    "start_time": "2024-08-23T17:12:42.201Z"
   },
   {
    "duration": 618,
    "start_time": "2024-08-23T17:12:42.218Z"
   },
   {
    "duration": 55,
    "start_time": "2024-08-23T17:12:42.838Z"
   },
   {
    "duration": 10,
    "start_time": "2024-08-23T17:12:42.896Z"
   },
   {
    "duration": 17,
    "start_time": "2024-08-23T17:12:42.911Z"
   },
   {
    "duration": 44,
    "start_time": "2024-08-23T17:12:42.931Z"
   },
   {
    "duration": 10,
    "start_time": "2024-08-23T17:12:42.978Z"
   },
   {
    "duration": 7,
    "start_time": "2024-08-23T17:12:42.995Z"
   },
   {
    "duration": 6,
    "start_time": "2024-08-23T17:15:40.645Z"
   },
   {
    "duration": 42,
    "start_time": "2024-08-23T17:15:46.478Z"
   },
   {
    "duration": 17,
    "start_time": "2024-08-23T17:15:55.884Z"
   },
   {
    "duration": 22,
    "start_time": "2024-08-23T17:16:00.610Z"
   },
   {
    "duration": 228,
    "start_time": "2024-08-23T17:36:52.114Z"
   },
   {
    "duration": 218,
    "start_time": "2024-08-23T17:37:03.622Z"
   },
   {
    "duration": 446,
    "start_time": "2024-08-23T17:37:51.828Z"
   },
   {
    "duration": 422,
    "start_time": "2024-08-23T17:38:11.185Z"
   },
   {
    "duration": 428,
    "start_time": "2024-08-23T17:43:50.404Z"
   },
   {
    "duration": 432,
    "start_time": "2024-08-23T17:44:04.036Z"
   },
   {
    "duration": 504,
    "start_time": "2024-08-23T17:44:20.693Z"
   },
   {
    "duration": 1498,
    "start_time": "2024-08-23T18:05:09.968Z"
   },
   {
    "duration": 336,
    "start_time": "2024-08-23T18:05:21.730Z"
   },
   {
    "duration": 326,
    "start_time": "2024-08-23T18:05:42.583Z"
   },
   {
    "duration": 434,
    "start_time": "2024-08-23T18:06:04.428Z"
   },
   {
    "duration": 208,
    "start_time": "2024-08-23T18:12:11.936Z"
   },
   {
    "duration": 28,
    "start_time": "2024-08-23T18:12:19.927Z"
   },
   {
    "duration": 202,
    "start_time": "2024-08-23T18:12:34.028Z"
   },
   {
    "duration": 9,
    "start_time": "2024-08-23T18:13:13.453Z"
   },
   {
    "duration": 10,
    "start_time": "2024-08-23T18:13:48.923Z"
   },
   {
    "duration": 12,
    "start_time": "2024-08-23T18:14:06.937Z"
   },
   {
    "duration": 11,
    "start_time": "2024-08-23T18:14:24.288Z"
   },
   {
    "duration": 22,
    "start_time": "2024-08-23T18:14:44.463Z"
   },
   {
    "duration": 3,
    "start_time": "2024-08-23T18:15:04.418Z"
   },
   {
    "duration": 1271,
    "start_time": "2024-08-23T18:15:13.400Z"
   },
   {
    "duration": 38,
    "start_time": "2024-08-23T18:15:14.674Z"
   },
   {
    "duration": 53,
    "start_time": "2024-08-23T18:15:14.716Z"
   },
   {
    "duration": 36,
    "start_time": "2024-08-23T18:15:14.773Z"
   },
   {
    "duration": 18,
    "start_time": "2024-08-23T18:15:14.812Z"
   },
   {
    "duration": 44,
    "start_time": "2024-08-23T18:15:14.833Z"
   },
   {
    "duration": 30,
    "start_time": "2024-08-23T18:15:14.880Z"
   },
   {
    "duration": 17,
    "start_time": "2024-08-23T18:15:14.913Z"
   },
   {
    "duration": 27,
    "start_time": "2024-08-23T18:15:14.967Z"
   },
   {
    "duration": 27,
    "start_time": "2024-08-23T18:15:15.002Z"
   },
   {
    "duration": 49,
    "start_time": "2024-08-23T18:15:15.038Z"
   },
   {
    "duration": 19,
    "start_time": "2024-08-23T18:15:15.090Z"
   },
   {
    "duration": 56,
    "start_time": "2024-08-23T18:15:15.112Z"
   },
   {
    "duration": 413,
    "start_time": "2024-08-23T18:15:15.171Z"
   },
   {
    "duration": 12,
    "start_time": "2024-08-23T18:15:15.587Z"
   },
   {
    "duration": 10,
    "start_time": "2024-08-23T18:15:15.604Z"
   },
   {
    "duration": 58,
    "start_time": "2024-08-23T18:15:15.617Z"
   },
   {
    "duration": 10,
    "start_time": "2024-08-23T18:15:15.677Z"
   },
   {
    "duration": 14,
    "start_time": "2024-08-23T18:15:15.690Z"
   },
   {
    "duration": 9,
    "start_time": "2024-08-23T18:15:15.707Z"
   },
   {
    "duration": 55,
    "start_time": "2024-08-23T18:15:15.719Z"
   },
   {
    "duration": 11,
    "start_time": "2024-08-23T18:15:15.778Z"
   },
   {
    "duration": 11,
    "start_time": "2024-08-23T18:15:15.793Z"
   },
   {
    "duration": 64,
    "start_time": "2024-08-23T18:15:15.807Z"
   },
   {
    "duration": 9,
    "start_time": "2024-08-23T18:15:15.874Z"
   },
   {
    "duration": 12,
    "start_time": "2024-08-23T18:15:15.886Z"
   },
   {
    "duration": 21,
    "start_time": "2024-08-23T18:15:15.902Z"
   },
   {
    "duration": 42,
    "start_time": "2024-08-23T18:15:15.967Z"
   },
   {
    "duration": 9,
    "start_time": "2024-08-23T18:15:16.012Z"
   },
   {
    "duration": 503,
    "start_time": "2024-08-23T18:15:16.024Z"
   },
   {
    "duration": 279,
    "start_time": "2024-08-23T18:15:16.530Z"
   },
   {
    "duration": 932,
    "start_time": "2024-08-23T18:15:16.812Z"
   },
   {
    "duration": 36,
    "start_time": "2024-08-23T18:15:17.748Z"
   },
   {
    "duration": 15,
    "start_time": "2024-08-23T18:15:17.787Z"
   },
   {
    "duration": 645,
    "start_time": "2024-08-23T18:15:17.808Z"
   },
   {
    "duration": 50,
    "start_time": "2024-08-23T18:15:18.456Z"
   },
   {
    "duration": 11,
    "start_time": "2024-08-23T18:15:18.509Z"
   },
   {
    "duration": 77,
    "start_time": "2024-08-23T18:15:18.524Z"
   },
   {
    "duration": 464,
    "start_time": "2024-08-23T18:15:18.604Z"
   },
   {
    "duration": 4,
    "start_time": "2024-08-23T18:15:19.072Z"
   },
   {
    "duration": 10,
    "start_time": "2024-08-23T18:15:19.079Z"
   },
   {
    "duration": 10,
    "start_time": "2024-08-23T18:15:19.092Z"
   },
   {
    "duration": 8,
    "start_time": "2024-08-23T18:17:24.115Z"
   },
   {
    "duration": 5,
    "start_time": "2024-08-23T18:17:40.731Z"
   },
   {
    "duration": 4,
    "start_time": "2024-08-23T18:19:34.469Z"
   },
   {
    "duration": 5,
    "start_time": "2024-08-23T18:19:49.857Z"
   },
   {
    "duration": 6,
    "start_time": "2024-08-23T18:20:40.130Z"
   },
   {
    "duration": 477,
    "start_time": "2024-08-23T18:20:43.855Z"
   },
   {
    "duration": 7,
    "start_time": "2024-08-23T18:20:51.321Z"
   },
   {
    "duration": 1294,
    "start_time": "2024-08-23T18:23:54.910Z"
   },
   {
    "duration": 39,
    "start_time": "2024-08-23T18:23:56.208Z"
   },
   {
    "duration": 52,
    "start_time": "2024-08-23T18:23:56.250Z"
   },
   {
    "duration": 37,
    "start_time": "2024-08-23T18:23:56.307Z"
   },
   {
    "duration": 20,
    "start_time": "2024-08-23T18:23:56.368Z"
   },
   {
    "duration": 13,
    "start_time": "2024-08-23T18:23:56.391Z"
   },
   {
    "duration": 65,
    "start_time": "2024-08-23T18:23:56.407Z"
   },
   {
    "duration": 17,
    "start_time": "2024-08-23T18:23:56.475Z"
   },
   {
    "duration": 25,
    "start_time": "2024-08-23T18:23:56.495Z"
   },
   {
    "duration": 57,
    "start_time": "2024-08-23T18:23:56.526Z"
   },
   {
    "duration": 24,
    "start_time": "2024-08-23T18:23:56.587Z"
   },
   {
    "duration": 18,
    "start_time": "2024-08-23T18:23:56.614Z"
   },
   {
    "duration": 21,
    "start_time": "2024-08-23T18:23:56.668Z"
   },
   {
    "duration": 416,
    "start_time": "2024-08-23T18:23:56.693Z"
   },
   {
    "duration": 11,
    "start_time": "2024-08-23T18:23:57.112Z"
   },
   {
    "duration": 9,
    "start_time": "2024-08-23T18:23:57.126Z"
   },
   {
    "duration": 50,
    "start_time": "2024-08-23T18:23:57.138Z"
   },
   {
    "duration": 8,
    "start_time": "2024-08-23T18:23:57.190Z"
   },
   {
    "duration": 11,
    "start_time": "2024-08-23T18:23:57.201Z"
   },
   {
    "duration": 9,
    "start_time": "2024-08-23T18:23:57.215Z"
   },
   {
    "duration": 52,
    "start_time": "2024-08-23T18:23:57.226Z"
   },
   {
    "duration": 12,
    "start_time": "2024-08-23T18:23:57.280Z"
   },
   {
    "duration": 12,
    "start_time": "2024-08-23T18:23:57.295Z"
   },
   {
    "duration": 67,
    "start_time": "2024-08-23T18:23:57.310Z"
   },
   {
    "duration": 11,
    "start_time": "2024-08-23T18:23:57.380Z"
   },
   {
    "duration": 14,
    "start_time": "2024-08-23T18:23:57.394Z"
   },
   {
    "duration": 20,
    "start_time": "2024-08-23T18:23:57.412Z"
   },
   {
    "duration": 39,
    "start_time": "2024-08-23T18:23:57.474Z"
   },
   {
    "duration": 8,
    "start_time": "2024-08-23T18:23:57.516Z"
   },
   {
    "duration": 508,
    "start_time": "2024-08-23T18:23:57.527Z"
   },
   {
    "duration": 288,
    "start_time": "2024-08-23T18:23:58.038Z"
   },
   {
    "duration": 900,
    "start_time": "2024-08-23T18:23:58.328Z"
   },
   {
    "duration": 33,
    "start_time": "2024-08-23T18:23:59.232Z"
   },
   {
    "duration": 16,
    "start_time": "2024-08-23T18:23:59.269Z"
   },
   {
    "duration": 620,
    "start_time": "2024-08-23T18:23:59.288Z"
   },
   {
    "duration": 40,
    "start_time": "2024-08-23T18:23:59.911Z"
   },
   {
    "duration": 10,
    "start_time": "2024-08-23T18:23:59.969Z"
   },
   {
    "duration": 38,
    "start_time": "2024-08-23T18:23:59.982Z"
   },
   {
    "duration": 489,
    "start_time": "2024-08-23T18:24:00.023Z"
   },
   {
    "duration": 7,
    "start_time": "2024-08-23T18:26:18.902Z"
   },
   {
    "duration": 17,
    "start_time": "2024-08-23T18:26:54.135Z"
   },
   {
    "duration": 4,
    "start_time": "2024-08-23T18:29:16.430Z"
   },
   {
    "duration": 7,
    "start_time": "2024-08-23T18:29:22.469Z"
   },
   {
    "duration": 8,
    "start_time": "2024-08-23T18:30:48.990Z"
   },
   {
    "duration": 7,
    "start_time": "2024-08-23T18:31:14.201Z"
   },
   {
    "duration": 6,
    "start_time": "2024-08-23T18:31:28.968Z"
   },
   {
    "duration": 6,
    "start_time": "2024-08-23T18:31:49.528Z"
   },
   {
    "duration": 6,
    "start_time": "2024-08-23T18:32:17.738Z"
   },
   {
    "duration": 6,
    "start_time": "2024-08-23T18:45:59.207Z"
   },
   {
    "duration": 6,
    "start_time": "2024-08-23T18:46:03.885Z"
   },
   {
    "duration": 39,
    "start_time": "2024-08-23T18:46:10.563Z"
   },
   {
    "duration": 17,
    "start_time": "2024-08-23T18:47:08.099Z"
   },
   {
    "duration": 40,
    "start_time": "2024-08-23T18:50:32.367Z"
   },
   {
    "duration": 17,
    "start_time": "2024-08-23T18:50:44.328Z"
   },
   {
    "duration": 43,
    "start_time": "2024-08-23T18:56:03.311Z"
   },
   {
    "duration": 15,
    "start_time": "2024-08-23T19:06:50.562Z"
   },
   {
    "duration": 12,
    "start_time": "2024-08-23T19:07:04.022Z"
   },
   {
    "duration": 13,
    "start_time": "2024-08-23T19:07:11.402Z"
   },
   {
    "duration": 9,
    "start_time": "2024-08-23T19:07:20.263Z"
   },
   {
    "duration": 10,
    "start_time": "2024-08-23T19:07:31.342Z"
   },
   {
    "duration": 434,
    "start_time": "2024-08-23T19:23:10.151Z"
   },
   {
    "duration": 309,
    "start_time": "2024-08-23T19:24:18.793Z"
   },
   {
    "duration": 204,
    "start_time": "2024-08-23T19:24:51.828Z"
   },
   {
    "duration": 199,
    "start_time": "2024-08-23T19:25:03.314Z"
   },
   {
    "duration": 183,
    "start_time": "2024-08-23T19:25:39.245Z"
   },
   {
    "duration": 680,
    "start_time": "2024-08-23T19:26:03.249Z"
   },
   {
    "duration": 590,
    "start_time": "2024-08-23T19:26:26.529Z"
   },
   {
    "duration": 184,
    "start_time": "2024-08-23T19:26:39.603Z"
   },
   {
    "duration": 193,
    "start_time": "2024-08-23T19:27:02.815Z"
   },
   {
    "duration": 169,
    "start_time": "2024-08-23T19:27:35.308Z"
   },
   {
    "duration": 187,
    "start_time": "2024-08-23T19:27:57.059Z"
   },
   {
    "duration": 189,
    "start_time": "2024-08-23T19:28:28.999Z"
   },
   {
    "duration": 198,
    "start_time": "2024-08-23T19:29:21.277Z"
   },
   {
    "duration": 195,
    "start_time": "2024-08-23T19:29:30.440Z"
   },
   {
    "duration": 15,
    "start_time": "2024-08-23T19:31:36.439Z"
   },
   {
    "duration": 193,
    "start_time": "2024-08-23T19:46:40.784Z"
   },
   {
    "duration": 80,
    "start_time": "2024-08-23T20:05:56.477Z"
   },
   {
    "duration": 270,
    "start_time": "2024-08-23T20:06:08.283Z"
   },
   {
    "duration": 79,
    "start_time": "2024-08-23T20:06:16.285Z"
   },
   {
    "duration": 47,
    "start_time": "2024-08-23T20:06:26.483Z"
   },
   {
    "duration": 27,
    "start_time": "2024-08-23T20:06:36.327Z"
   },
   {
    "duration": 75,
    "start_time": "2024-08-23T20:07:31.599Z"
   },
   {
    "duration": 286,
    "start_time": "2024-08-23T20:07:53.381Z"
   },
   {
    "duration": 284,
    "start_time": "2024-08-23T20:08:02.343Z"
   },
   {
    "duration": 10,
    "start_time": "2024-08-23T20:08:13.418Z"
   },
   {
    "duration": 184,
    "start_time": "2024-08-23T20:08:16.268Z"
   },
   {
    "duration": 224,
    "start_time": "2024-08-23T20:08:32.245Z"
   },
   {
    "duration": 251,
    "start_time": "2024-08-23T20:08:48.620Z"
   },
   {
    "duration": 226,
    "start_time": "2024-08-23T20:08:54.085Z"
   },
   {
    "duration": 232,
    "start_time": "2024-08-23T20:09:01.478Z"
   },
   {
    "duration": 236,
    "start_time": "2024-08-23T20:09:07.394Z"
   },
   {
    "duration": 227,
    "start_time": "2024-08-23T20:09:34.091Z"
   },
   {
    "duration": 351,
    "start_time": "2024-08-23T20:09:50.980Z"
   },
   {
    "duration": 251,
    "start_time": "2024-08-23T20:10:22.722Z"
   },
   {
    "duration": 241,
    "start_time": "2024-08-23T20:10:39.302Z"
   },
   {
    "duration": 274,
    "start_time": "2024-08-23T20:10:46.339Z"
   },
   {
    "duration": 24,
    "start_time": "2024-08-23T20:28:13.449Z"
   },
   {
    "duration": 195,
    "start_time": "2024-08-23T20:28:52.529Z"
   },
   {
    "duration": 201,
    "start_time": "2024-08-23T20:29:16.815Z"
   },
   {
    "duration": 189,
    "start_time": "2024-08-23T20:29:22.926Z"
   },
   {
    "duration": 213,
    "start_time": "2024-08-23T20:29:37.857Z"
   },
   {
    "duration": 256,
    "start_time": "2024-08-23T20:29:47.936Z"
   },
   {
    "duration": 286,
    "start_time": "2024-08-23T20:31:18.125Z"
   },
   {
    "duration": 265,
    "start_time": "2024-08-23T20:32:17.910Z"
   },
   {
    "duration": 284,
    "start_time": "2024-08-23T20:32:26.695Z"
   },
   {
    "duration": 283,
    "start_time": "2024-08-23T20:32:32.177Z"
   },
   {
    "duration": 291,
    "start_time": "2024-08-23T20:32:48.780Z"
   },
   {
    "duration": 263,
    "start_time": "2024-08-23T20:33:24.116Z"
   },
   {
    "duration": 239,
    "start_time": "2024-08-23T20:34:04.215Z"
   },
   {
    "duration": 243,
    "start_time": "2024-08-23T20:34:38.778Z"
   },
   {
    "duration": 411,
    "start_time": "2024-08-23T20:35:07.029Z"
   },
   {
    "duration": 546,
    "start_time": "2024-08-23T20:35:17.173Z"
   },
   {
    "duration": 445,
    "start_time": "2024-08-23T20:35:32.491Z"
   },
   {
    "duration": 366,
    "start_time": "2024-08-23T20:35:44.502Z"
   },
   {
    "duration": 366,
    "start_time": "2024-08-23T20:36:18.316Z"
   },
   {
    "duration": 1335,
    "start_time": "2024-08-23T20:37:38.736Z"
   },
   {
    "duration": 455,
    "start_time": "2024-08-23T20:37:54.525Z"
   },
   {
    "duration": 446,
    "start_time": "2024-08-23T20:38:09.588Z"
   },
   {
    "duration": 362,
    "start_time": "2024-08-23T20:38:59.422Z"
   },
   {
    "duration": 352,
    "start_time": "2024-08-23T20:39:13.059Z"
   },
   {
    "duration": 369,
    "start_time": "2024-08-23T20:39:36.974Z"
   },
   {
    "duration": 424,
    "start_time": "2024-08-23T20:39:52.227Z"
   },
   {
    "duration": 314,
    "start_time": "2024-08-23T20:39:59.314Z"
   },
   {
    "duration": 340,
    "start_time": "2024-08-23T20:43:09.302Z"
   },
   {
    "duration": 341,
    "start_time": "2024-08-23T20:43:37.037Z"
   },
   {
    "duration": 286,
    "start_time": "2024-08-23T20:44:00.120Z"
   },
   {
    "duration": 7,
    "start_time": "2024-08-23T20:44:29.846Z"
   },
   {
    "duration": 7,
    "start_time": "2024-08-23T20:44:34.890Z"
   },
   {
    "duration": 311,
    "start_time": "2024-08-23T20:44:48.959Z"
   },
   {
    "duration": 7,
    "start_time": "2024-08-23T20:45:16.006Z"
   },
   {
    "duration": 431,
    "start_time": "2024-08-23T20:45:27.617Z"
   },
   {
    "duration": 32,
    "start_time": "2024-08-23T20:45:39.578Z"
   },
   {
    "duration": 215,
    "start_time": "2024-08-23T20:45:50.990Z"
   },
   {
    "duration": 193,
    "start_time": "2024-08-23T20:46:52.621Z"
   },
   {
    "duration": 219,
    "start_time": "2024-08-23T20:47:31.738Z"
   },
   {
    "duration": 270,
    "start_time": "2024-08-23T20:47:50.882Z"
   },
   {
    "duration": 62,
    "start_time": "2024-08-23T20:50:57.188Z"
   },
   {
    "duration": 270,
    "start_time": "2024-08-23T20:51:24.745Z"
   },
   {
    "duration": 5,
    "start_time": "2024-08-23T21:03:12.862Z"
   },
   {
    "duration": 6,
    "start_time": "2024-08-23T21:03:30.636Z"
   },
   {
    "duration": 6,
    "start_time": "2024-08-23T21:04:40.355Z"
   },
   {
    "duration": 6,
    "start_time": "2024-08-23T21:05:46.792Z"
   },
   {
    "duration": 6,
    "start_time": "2024-08-23T21:07:12.104Z"
   },
   {
    "duration": 12,
    "start_time": "2024-08-23T21:08:59.277Z"
   },
   {
    "duration": 7,
    "start_time": "2024-08-23T21:09:29.146Z"
   },
   {
    "duration": 6,
    "start_time": "2024-08-23T21:09:39.411Z"
   },
   {
    "duration": 12,
    "start_time": "2024-08-23T21:10:36.042Z"
   },
   {
    "duration": 10,
    "start_time": "2024-08-23T21:10:42.872Z"
   },
   {
    "duration": 10,
    "start_time": "2024-08-23T21:11:19.416Z"
   },
   {
    "duration": 10,
    "start_time": "2024-08-23T21:11:49.295Z"
   },
   {
    "duration": 11,
    "start_time": "2024-08-23T21:12:22.419Z"
   },
   {
    "duration": 11,
    "start_time": "2024-08-23T21:12:36.062Z"
   },
   {
    "duration": 14,
    "start_time": "2024-08-23T21:12:47.108Z"
   },
   {
    "duration": 10,
    "start_time": "2024-08-23T21:12:50.013Z"
   },
   {
    "duration": 11,
    "start_time": "2024-08-23T21:12:56.979Z"
   },
   {
    "duration": 11,
    "start_time": "2024-08-23T21:26:36.370Z"
   },
   {
    "duration": 1360,
    "start_time": "2024-08-23T21:33:07.755Z"
   },
   {
    "duration": 49,
    "start_time": "2024-08-23T21:33:09.119Z"
   },
   {
    "duration": 37,
    "start_time": "2024-08-23T21:33:09.171Z"
   },
   {
    "duration": 62,
    "start_time": "2024-08-23T21:33:09.212Z"
   },
   {
    "duration": 19,
    "start_time": "2024-08-23T21:33:09.277Z"
   },
   {
    "duration": 12,
    "start_time": "2024-08-23T21:33:09.299Z"
   },
   {
    "duration": 61,
    "start_time": "2024-08-23T21:33:09.314Z"
   },
   {
    "duration": 17,
    "start_time": "2024-08-23T21:33:09.378Z"
   },
   {
    "duration": 29,
    "start_time": "2024-08-23T21:33:09.398Z"
   },
   {
    "duration": 25,
    "start_time": "2024-08-23T21:33:09.467Z"
   },
   {
    "duration": 23,
    "start_time": "2024-08-23T21:33:09.495Z"
   },
   {
    "duration": 48,
    "start_time": "2024-08-23T21:33:09.521Z"
   },
   {
    "duration": 20,
    "start_time": "2024-08-23T21:33:09.572Z"
   },
   {
    "duration": 432,
    "start_time": "2024-08-23T21:33:09.596Z"
   },
   {
    "duration": 13,
    "start_time": "2024-08-23T21:33:10.031Z"
   },
   {
    "duration": 27,
    "start_time": "2024-08-23T21:33:10.048Z"
   },
   {
    "duration": 21,
    "start_time": "2024-08-23T21:33:10.078Z"
   },
   {
    "duration": 8,
    "start_time": "2024-08-23T21:33:10.102Z"
   },
   {
    "duration": 55,
    "start_time": "2024-08-23T21:33:10.113Z"
   },
   {
    "duration": 10,
    "start_time": "2024-08-23T21:33:10.170Z"
   },
   {
    "duration": 11,
    "start_time": "2024-08-23T21:33:10.183Z"
   },
   {
    "duration": 11,
    "start_time": "2024-08-23T21:33:10.197Z"
   },
   {
    "duration": 57,
    "start_time": "2024-08-23T21:33:10.211Z"
   },
   {
    "duration": 22,
    "start_time": "2024-08-23T21:33:10.271Z"
   },
   {
    "duration": 9,
    "start_time": "2024-08-23T21:33:10.295Z"
   },
   {
    "duration": 12,
    "start_time": "2024-08-23T21:33:10.307Z"
   },
   {
    "duration": 60,
    "start_time": "2024-08-23T21:33:10.322Z"
   },
   {
    "duration": 37,
    "start_time": "2024-08-23T21:33:10.390Z"
   },
   {
    "duration": 8,
    "start_time": "2024-08-23T21:33:10.430Z"
   },
   {
    "duration": 459,
    "start_time": "2024-08-23T21:33:10.469Z"
   },
   {
    "duration": 273,
    "start_time": "2024-08-23T21:33:10.931Z"
   },
   {
    "duration": 917,
    "start_time": "2024-08-23T21:33:11.207Z"
   },
   {
    "duration": 38,
    "start_time": "2024-08-23T21:33:12.127Z"
   },
   {
    "duration": 17,
    "start_time": "2024-08-23T21:33:12.168Z"
   },
   {
    "duration": 8,
    "start_time": "2024-08-23T21:33:12.189Z"
   },
   {
    "duration": 624,
    "start_time": "2024-08-23T21:33:12.201Z"
   },
   {
    "duration": 57,
    "start_time": "2024-08-23T21:33:12.828Z"
   },
   {
    "duration": 224,
    "start_time": "2024-08-23T21:33:12.888Z"
   },
   {
    "duration": 12,
    "start_time": "2024-08-23T21:33:13.115Z"
   },
   {
    "duration": 64,
    "start_time": "2024-08-23T21:33:13.130Z"
   },
   {
    "duration": 449,
    "start_time": "2024-08-23T21:33:13.198Z"
   },
   {
    "duration": 26,
    "start_time": "2024-08-23T21:33:13.650Z"
   },
   {
    "duration": 7,
    "start_time": "2024-08-23T21:33:13.679Z"
   },
   {
    "duration": 40,
    "start_time": "2024-08-23T21:33:13.689Z"
   },
   {
    "duration": 51,
    "start_time": "2024-08-23T21:33:13.732Z"
   },
   {
    "duration": 137,
    "start_time": "2024-08-23T21:33:13.785Z"
   },
   {
    "duration": 18,
    "start_time": "2024-08-23T21:33:13.924Z"
   },
   {
    "duration": 31,
    "start_time": "2024-08-23T21:33:13.945Z"
   },
   {
    "duration": 18,
    "start_time": "2024-08-23T21:33:13.979Z"
   },
   {
    "duration": 292,
    "start_time": "2024-08-23T21:33:14.001Z"
   },
   {
    "duration": 287,
    "start_time": "2024-08-23T21:33:14.296Z"
   },
   {
    "duration": 12,
    "start_time": "2024-08-23T21:33:14.586Z"
   },
   {
    "duration": 11,
    "start_time": "2024-08-23T21:33:14.602Z"
   },
   {
    "duration": 11,
    "start_time": "2024-08-23T21:33:14.616Z"
   },
   {
    "duration": 10,
    "start_time": "2024-08-23T21:33:14.668Z"
   },
   {
    "duration": 16,
    "start_time": "2024-08-23T21:35:29.672Z"
   },
   {
    "duration": 14,
    "start_time": "2024-08-23T21:35:59.970Z"
   },
   {
    "duration": 14,
    "start_time": "2024-08-23T21:36:04.907Z"
   },
   {
    "duration": 9,
    "start_time": "2024-08-23T21:36:39.304Z"
   },
   {
    "duration": 10,
    "start_time": "2024-08-23T21:40:13.200Z"
   },
   {
    "duration": 12,
    "start_time": "2024-08-23T21:40:32.474Z"
   },
   {
    "duration": 10,
    "start_time": "2024-08-23T21:41:23.715Z"
   },
   {
    "duration": 11,
    "start_time": "2024-08-23T21:41:30.321Z"
   },
   {
    "duration": 11,
    "start_time": "2024-08-23T21:47:27.571Z"
   },
   {
    "duration": 10,
    "start_time": "2024-08-23T21:48:43.878Z"
   },
   {
    "duration": 9,
    "start_time": "2024-08-23T21:48:50.897Z"
   },
   {
    "duration": 10,
    "start_time": "2024-08-23T21:50:42.026Z"
   },
   {
    "duration": 10,
    "start_time": "2024-08-23T21:54:13.049Z"
   },
   {
    "duration": 3,
    "start_time": "2024-08-23T22:01:25.481Z"
   },
   {
    "duration": 4837,
    "start_time": "2024-08-26T12:39:49.531Z"
   },
   {
    "duration": 68,
    "start_time": "2024-08-26T12:39:54.372Z"
   },
   {
    "duration": 37,
    "start_time": "2024-08-26T12:39:54.442Z"
   },
   {
    "duration": 48,
    "start_time": "2024-08-26T12:39:54.483Z"
   },
   {
    "duration": 18,
    "start_time": "2024-08-26T12:39:54.534Z"
   },
   {
    "duration": 12,
    "start_time": "2024-08-26T12:39:54.555Z"
   },
   {
    "duration": 59,
    "start_time": "2024-08-26T12:39:54.570Z"
   },
   {
    "duration": 16,
    "start_time": "2024-08-26T12:39:54.631Z"
   },
   {
    "duration": 53,
    "start_time": "2024-08-26T12:39:54.650Z"
   },
   {
    "duration": 23,
    "start_time": "2024-08-26T12:39:54.709Z"
   },
   {
    "duration": 23,
    "start_time": "2024-08-26T12:39:54.735Z"
   },
   {
    "duration": 54,
    "start_time": "2024-08-26T12:39:54.762Z"
   },
   {
    "duration": 20,
    "start_time": "2024-08-26T12:39:54.819Z"
   },
   {
    "duration": 373,
    "start_time": "2024-08-26T12:39:54.842Z"
   },
   {
    "duration": 16,
    "start_time": "2024-08-26T12:39:55.219Z"
   },
   {
    "duration": 10,
    "start_time": "2024-08-26T12:39:55.238Z"
   },
   {
    "duration": 54,
    "start_time": "2024-08-26T12:39:55.251Z"
   },
   {
    "duration": 9,
    "start_time": "2024-08-26T12:39:55.308Z"
   },
   {
    "duration": 13,
    "start_time": "2024-08-26T12:39:55.320Z"
   },
   {
    "duration": 10,
    "start_time": "2024-08-26T12:39:55.336Z"
   },
   {
    "duration": 56,
    "start_time": "2024-08-26T12:39:55.349Z"
   },
   {
    "duration": 9,
    "start_time": "2024-08-26T12:39:55.409Z"
   },
   {
    "duration": 11,
    "start_time": "2024-08-26T12:39:55.422Z"
   },
   {
    "duration": 23,
    "start_time": "2024-08-26T12:39:55.436Z"
   },
   {
    "duration": 9,
    "start_time": "2024-08-26T12:39:55.503Z"
   },
   {
    "duration": 11,
    "start_time": "2024-08-26T12:39:55.515Z"
   },
   {
    "duration": 18,
    "start_time": "2024-08-26T12:39:55.529Z"
   },
   {
    "duration": 82,
    "start_time": "2024-08-26T12:39:55.556Z"
   },
   {
    "duration": 9,
    "start_time": "2024-08-26T12:39:55.641Z"
   },
   {
    "duration": 569,
    "start_time": "2024-08-26T12:39:55.653Z"
   },
   {
    "duration": 291,
    "start_time": "2024-08-26T12:39:56.225Z"
   },
   {
    "duration": 903,
    "start_time": "2024-08-26T12:39:56.519Z"
   },
   {
    "duration": 31,
    "start_time": "2024-08-26T12:39:57.425Z"
   },
   {
    "duration": 16,
    "start_time": "2024-08-26T12:39:57.459Z"
   },
   {
    "duration": 23,
    "start_time": "2024-08-26T12:39:57.478Z"
   },
   {
    "duration": 593,
    "start_time": "2024-08-26T12:39:57.504Z"
   },
   {
    "duration": 40,
    "start_time": "2024-08-26T12:39:58.102Z"
   },
   {
    "duration": 238,
    "start_time": "2024-08-26T12:39:58.145Z"
   },
   {
    "duration": 19,
    "start_time": "2024-08-26T12:39:58.387Z"
   },
   {
    "duration": 38,
    "start_time": "2024-08-26T12:39:58.409Z"
   },
   {
    "duration": 458,
    "start_time": "2024-08-26T12:39:58.450Z"
   },
   {
    "duration": 17,
    "start_time": "2024-08-26T12:39:58.911Z"
   },
   {
    "duration": 7,
    "start_time": "2024-08-26T12:39:58.931Z"
   },
   {
    "duration": 76,
    "start_time": "2024-08-26T12:39:58.942Z"
   },
   {
    "duration": 17,
    "start_time": "2024-08-26T12:39:59.022Z"
   },
   {
    "duration": 59,
    "start_time": "2024-08-26T12:39:59.045Z"
   },
   {
    "duration": 17,
    "start_time": "2024-08-26T12:39:59.107Z"
   },
   {
    "duration": 13,
    "start_time": "2024-08-26T12:39:59.127Z"
   },
   {
    "duration": 15,
    "start_time": "2024-08-26T12:39:59.143Z"
   },
   {
    "duration": 268,
    "start_time": "2024-08-26T12:39:59.201Z"
   },
   {
    "duration": 283,
    "start_time": "2024-08-26T12:39:59.473Z"
   },
   {
    "duration": 11,
    "start_time": "2024-08-26T12:39:59.759Z"
   },
   {
    "duration": 32,
    "start_time": "2024-08-26T12:39:59.773Z"
   },
   {
    "duration": 10,
    "start_time": "2024-08-26T12:39:59.808Z"
   },
   {
    "duration": 10,
    "start_time": "2024-08-26T12:39:59.821Z"
   },
   {
    "duration": 11,
    "start_time": "2024-08-26T12:39:59.834Z"
   },
   {
    "duration": 58,
    "start_time": "2024-08-26T12:39:59.848Z"
   },
   {
    "duration": 11,
    "start_time": "2024-08-26T12:39:59.909Z"
   },
   {
    "duration": 10,
    "start_time": "2024-08-26T12:39:59.922Z"
   },
   {
    "duration": 10,
    "start_time": "2024-08-26T12:39:59.935Z"
   },
   {
    "duration": 1183,
    "start_time": "2024-08-26T12:43:34.418Z"
   },
   {
    "duration": 500,
    "start_time": "2024-08-26T12:43:39.913Z"
   },
   {
    "duration": 7,
    "start_time": "2024-08-26T12:44:18.041Z"
   },
   {
    "duration": 251,
    "start_time": "2024-08-26T12:44:29.511Z"
   },
   {
    "duration": 114,
    "start_time": "2024-08-26T12:44:32.107Z"
   },
   {
    "duration": 7,
    "start_time": "2024-08-26T12:45:07.983Z"
   },
   {
    "duration": 8,
    "start_time": "2024-08-26T12:45:27.120Z"
   },
   {
    "duration": 20,
    "start_time": "2024-08-26T12:45:34.271Z"
   },
   {
    "duration": 25,
    "start_time": "2024-08-26T12:46:24.278Z"
   },
   {
    "duration": 8,
    "start_time": "2024-08-26T12:46:37.679Z"
   },
   {
    "duration": 10,
    "start_time": "2024-08-26T12:50:49.992Z"
   },
   {
    "duration": 37,
    "start_time": "2024-08-26T12:53:56.096Z"
   },
   {
    "duration": 30,
    "start_time": "2024-08-26T12:54:00.481Z"
   },
   {
    "duration": 29,
    "start_time": "2024-08-26T12:54:26.153Z"
   },
   {
    "duration": 8,
    "start_time": "2024-08-26T12:55:19.273Z"
   },
   {
    "duration": 13,
    "start_time": "2024-08-26T12:58:36.398Z"
   },
   {
    "duration": 7,
    "start_time": "2024-08-26T12:59:19.670Z"
   },
   {
    "duration": 9,
    "start_time": "2024-08-26T12:59:23.162Z"
   },
   {
    "duration": 7,
    "start_time": "2024-08-26T12:59:29.891Z"
   },
   {
    "duration": 7,
    "start_time": "2024-08-26T13:00:03.629Z"
   },
   {
    "duration": 5,
    "start_time": "2024-08-26T13:00:50.720Z"
   },
   {
    "duration": 5,
    "start_time": "2024-08-26T13:01:53.029Z"
   },
   {
    "duration": 5,
    "start_time": "2024-08-26T13:02:09.650Z"
   },
   {
    "duration": 6,
    "start_time": "2024-08-26T13:02:35.668Z"
   },
   {
    "duration": 5,
    "start_time": "2024-08-26T13:03:45.917Z"
   },
   {
    "duration": 5,
    "start_time": "2024-08-26T13:03:51.450Z"
   },
   {
    "duration": 5,
    "start_time": "2024-08-26T13:04:44.171Z"
   },
   {
    "duration": 6,
    "start_time": "2024-08-26T13:05:05.380Z"
   },
   {
    "duration": 5,
    "start_time": "2024-08-26T13:05:15.747Z"
   },
   {
    "duration": 9,
    "start_time": "2024-08-26T13:05:33.132Z"
   },
   {
    "duration": 8,
    "start_time": "2024-08-26T13:05:43.031Z"
   },
   {
    "duration": 1258,
    "start_time": "2024-08-26T13:06:11.564Z"
   },
   {
    "duration": 38,
    "start_time": "2024-08-26T13:06:12.827Z"
   },
   {
    "duration": 54,
    "start_time": "2024-08-26T13:06:12.867Z"
   },
   {
    "duration": 35,
    "start_time": "2024-08-26T13:06:12.927Z"
   },
   {
    "duration": 40,
    "start_time": "2024-08-26T13:06:12.966Z"
   },
   {
    "duration": 13,
    "start_time": "2024-08-26T13:06:13.009Z"
   },
   {
    "duration": 30,
    "start_time": "2024-08-26T13:06:13.025Z"
   },
   {
    "duration": 51,
    "start_time": "2024-08-26T13:06:13.058Z"
   },
   {
    "duration": 26,
    "start_time": "2024-08-26T13:06:13.112Z"
   },
   {
    "duration": 22,
    "start_time": "2024-08-26T13:06:13.144Z"
   },
   {
    "duration": 52,
    "start_time": "2024-08-26T13:06:13.169Z"
   },
   {
    "duration": 20,
    "start_time": "2024-08-26T13:06:13.224Z"
   },
   {
    "duration": 54,
    "start_time": "2024-08-26T13:06:13.247Z"
   },
   {
    "duration": 389,
    "start_time": "2024-08-26T13:06:13.305Z"
   },
   {
    "duration": 13,
    "start_time": "2024-08-26T13:06:13.702Z"
   },
   {
    "duration": 11,
    "start_time": "2024-08-26T13:06:13.718Z"
   },
   {
    "duration": 20,
    "start_time": "2024-08-26T13:06:13.734Z"
   },
   {
    "duration": 47,
    "start_time": "2024-08-26T13:06:13.757Z"
   },
   {
    "duration": 13,
    "start_time": "2024-08-26T13:06:13.807Z"
   },
   {
    "duration": 12,
    "start_time": "2024-08-26T13:06:13.823Z"
   },
   {
    "duration": 18,
    "start_time": "2024-08-26T13:06:13.838Z"
   },
   {
    "duration": 52,
    "start_time": "2024-08-26T13:06:13.859Z"
   },
   {
    "duration": 13,
    "start_time": "2024-08-26T13:06:13.916Z"
   },
   {
    "duration": 25,
    "start_time": "2024-08-26T13:06:13.932Z"
   },
   {
    "duration": 9,
    "start_time": "2024-08-26T13:06:13.960Z"
   },
   {
    "duration": 13,
    "start_time": "2024-08-26T13:06:14.003Z"
   },
   {
    "duration": 22,
    "start_time": "2024-08-26T13:06:14.019Z"
   },
   {
    "duration": 81,
    "start_time": "2024-08-26T13:06:14.051Z"
   },
   {
    "duration": 8,
    "start_time": "2024-08-26T13:06:14.135Z"
   },
   {
    "duration": 476,
    "start_time": "2024-08-26T13:06:14.147Z"
   },
   {
    "duration": 266,
    "start_time": "2024-08-26T13:06:14.626Z"
   },
   {
    "duration": 899,
    "start_time": "2024-08-26T13:06:14.895Z"
   },
   {
    "duration": 32,
    "start_time": "2024-08-26T13:06:15.798Z"
   },
   {
    "duration": 17,
    "start_time": "2024-08-26T13:06:15.834Z"
   },
   {
    "duration": 7,
    "start_time": "2024-08-26T13:06:15.856Z"
   },
   {
    "duration": 667,
    "start_time": "2024-08-26T13:06:15.866Z"
   },
   {
    "duration": 38,
    "start_time": "2024-08-26T13:06:16.536Z"
   },
   {
    "duration": 225,
    "start_time": "2024-08-26T13:06:16.577Z"
   },
   {
    "duration": 11,
    "start_time": "2024-08-26T13:06:16.805Z"
   },
   {
    "duration": 40,
    "start_time": "2024-08-26T13:06:16.819Z"
   },
   {
    "duration": 472,
    "start_time": "2024-08-26T13:06:16.863Z"
   },
   {
    "duration": 17,
    "start_time": "2024-08-26T13:06:17.338Z"
   },
   {
    "duration": 8,
    "start_time": "2024-08-26T13:06:17.357Z"
   },
   {
    "duration": 68,
    "start_time": "2024-08-26T13:06:17.368Z"
   },
   {
    "duration": 18,
    "start_time": "2024-08-26T13:06:17.439Z"
   },
   {
    "duration": 146,
    "start_time": "2024-08-26T13:06:17.460Z"
   },
   {
    "duration": 18,
    "start_time": "2024-08-26T13:06:17.609Z"
   },
   {
    "duration": 11,
    "start_time": "2024-08-26T13:06:17.629Z"
   },
   {
    "duration": 15,
    "start_time": "2024-08-26T13:06:17.643Z"
   },
   {
    "duration": 288,
    "start_time": "2024-08-26T13:06:17.660Z"
   },
   {
    "duration": 298,
    "start_time": "2024-08-26T13:06:17.952Z"
   },
   {
    "duration": 11,
    "start_time": "2024-08-26T13:06:18.254Z"
   },
   {
    "duration": 11,
    "start_time": "2024-08-26T13:06:18.268Z"
   },
   {
    "duration": 10,
    "start_time": "2024-08-26T13:06:18.303Z"
   },
   {
    "duration": 11,
    "start_time": "2024-08-26T13:06:18.316Z"
   },
   {
    "duration": 12,
    "start_time": "2024-08-26T13:06:18.329Z"
   },
   {
    "duration": 57,
    "start_time": "2024-08-26T13:06:18.344Z"
   },
   {
    "duration": 11,
    "start_time": "2024-08-26T13:06:18.404Z"
   },
   {
    "duration": 11,
    "start_time": "2024-08-26T13:06:18.418Z"
   },
   {
    "duration": 10,
    "start_time": "2024-08-26T13:06:18.432Z"
   },
   {
    "duration": 8,
    "start_time": "2024-08-26T13:06:18.445Z"
   },
   {
    "duration": 8,
    "start_time": "2024-08-26T13:06:18.501Z"
   },
   {
    "duration": 5,
    "start_time": "2024-08-26T13:06:18.513Z"
   },
   {
    "duration": 0,
    "start_time": "2024-08-26T13:06:18.521Z"
   },
   {
    "duration": 8,
    "start_time": "2024-08-26T13:06:39.252Z"
   },
   {
    "duration": 5,
    "start_time": "2024-08-26T13:10:39.529Z"
   },
   {
    "duration": 1395,
    "start_time": "2024-08-26T13:10:53.131Z"
   },
   {
    "duration": 38,
    "start_time": "2024-08-26T13:10:54.531Z"
   },
   {
    "duration": 57,
    "start_time": "2024-08-26T13:10:54.571Z"
   },
   {
    "duration": 35,
    "start_time": "2024-08-26T13:10:54.631Z"
   },
   {
    "duration": 39,
    "start_time": "2024-08-26T13:10:54.670Z"
   },
   {
    "duration": 12,
    "start_time": "2024-08-26T13:10:54.712Z"
   },
   {
    "duration": 29,
    "start_time": "2024-08-26T13:10:54.727Z"
   },
   {
    "duration": 47,
    "start_time": "2024-08-26T13:10:54.759Z"
   },
   {
    "duration": 26,
    "start_time": "2024-08-26T13:10:54.810Z"
   },
   {
    "duration": 26,
    "start_time": "2024-08-26T13:10:54.838Z"
   },
   {
    "duration": 60,
    "start_time": "2024-08-26T13:10:54.866Z"
   },
   {
    "duration": 20,
    "start_time": "2024-08-26T13:10:54.931Z"
   },
   {
    "duration": 20,
    "start_time": "2024-08-26T13:10:54.954Z"
   },
   {
    "duration": 400,
    "start_time": "2024-08-26T13:10:55.005Z"
   },
   {
    "duration": 12,
    "start_time": "2024-08-26T13:10:55.408Z"
   },
   {
    "duration": 10,
    "start_time": "2024-08-26T13:10:55.424Z"
   },
   {
    "duration": 21,
    "start_time": "2024-08-26T13:10:55.437Z"
   },
   {
    "duration": 7,
    "start_time": "2024-08-26T13:10:55.501Z"
   },
   {
    "duration": 13,
    "start_time": "2024-08-26T13:10:55.511Z"
   },
   {
    "duration": 11,
    "start_time": "2024-08-26T13:10:55.526Z"
   },
   {
    "duration": 11,
    "start_time": "2024-08-26T13:10:55.540Z"
   },
   {
    "duration": 54,
    "start_time": "2024-08-26T13:10:55.554Z"
   },
   {
    "duration": 12,
    "start_time": "2024-08-26T13:10:55.610Z"
   },
   {
    "duration": 22,
    "start_time": "2024-08-26T13:10:55.624Z"
   },
   {
    "duration": 9,
    "start_time": "2024-08-26T13:10:55.649Z"
   },
   {
    "duration": 13,
    "start_time": "2024-08-26T13:10:55.702Z"
   },
   {
    "duration": 21,
    "start_time": "2024-08-26T13:10:55.718Z"
   },
   {
    "duration": 70,
    "start_time": "2024-08-26T13:10:55.744Z"
   },
   {
    "duration": 8,
    "start_time": "2024-08-26T13:10:55.817Z"
   },
   {
    "duration": 502,
    "start_time": "2024-08-26T13:10:55.829Z"
   },
   {
    "duration": 271,
    "start_time": "2024-08-26T13:10:56.334Z"
   },
   {
    "duration": 890,
    "start_time": "2024-08-26T13:10:56.608Z"
   },
   {
    "duration": 30,
    "start_time": "2024-08-26T13:10:57.502Z"
   },
   {
    "duration": 15,
    "start_time": "2024-08-26T13:10:57.535Z"
   },
   {
    "duration": 7,
    "start_time": "2024-08-26T13:10:57.553Z"
   },
   {
    "duration": 643,
    "start_time": "2024-08-26T13:10:57.563Z"
   },
   {
    "duration": 43,
    "start_time": "2024-08-26T13:10:58.211Z"
   },
   {
    "duration": 215,
    "start_time": "2024-08-26T13:10:58.257Z"
   },
   {
    "duration": 11,
    "start_time": "2024-08-26T13:10:58.475Z"
   },
   {
    "duration": 40,
    "start_time": "2024-08-26T13:10:58.503Z"
   },
   {
    "duration": 460,
    "start_time": "2024-08-26T13:10:58.554Z"
   },
   {
    "duration": 17,
    "start_time": "2024-08-26T13:10:59.017Z"
   },
   {
    "duration": 9,
    "start_time": "2024-08-26T13:10:59.037Z"
   },
   {
    "duration": 76,
    "start_time": "2024-08-26T13:10:59.050Z"
   },
   {
    "duration": 18,
    "start_time": "2024-08-26T13:10:59.129Z"
   },
   {
    "duration": 150,
    "start_time": "2024-08-26T13:10:59.150Z"
   },
   {
    "duration": 19,
    "start_time": "2024-08-26T13:10:59.303Z"
   },
   {
    "duration": 10,
    "start_time": "2024-08-26T13:10:59.325Z"
   },
   {
    "duration": 15,
    "start_time": "2024-08-26T13:10:59.338Z"
   },
   {
    "duration": 289,
    "start_time": "2024-08-26T13:10:59.356Z"
   },
   {
    "duration": 281,
    "start_time": "2024-08-26T13:10:59.648Z"
   },
   {
    "duration": 11,
    "start_time": "2024-08-26T13:10:59.932Z"
   },
   {
    "duration": 10,
    "start_time": "2024-08-26T13:10:59.946Z"
   },
   {
    "duration": 43,
    "start_time": "2024-08-26T13:10:59.960Z"
   },
   {
    "duration": 11,
    "start_time": "2024-08-26T13:11:00.006Z"
   },
   {
    "duration": 10,
    "start_time": "2024-08-26T13:11:00.020Z"
   },
   {
    "duration": 9,
    "start_time": "2024-08-26T13:11:00.033Z"
   },
   {
    "duration": 57,
    "start_time": "2024-08-26T13:11:00.045Z"
   },
   {
    "duration": 10,
    "start_time": "2024-08-26T13:11:00.105Z"
   },
   {
    "duration": 10,
    "start_time": "2024-08-26T13:11:00.118Z"
   },
   {
    "duration": 7,
    "start_time": "2024-08-26T13:11:00.131Z"
   },
   {
    "duration": 7,
    "start_time": "2024-08-26T13:11:00.142Z"
   },
   {
    "duration": 52,
    "start_time": "2024-08-26T13:11:00.152Z"
   },
   {
    "duration": 7,
    "start_time": "2024-08-26T13:11:00.207Z"
   },
   {
    "duration": 6,
    "start_time": "2024-08-26T13:11:22.560Z"
   },
   {
    "duration": 6,
    "start_time": "2024-08-26T13:59:33.112Z"
   },
   {
    "duration": 6,
    "start_time": "2024-08-26T13:59:39.029Z"
   },
   {
    "duration": 7,
    "start_time": "2024-08-26T14:00:57.497Z"
   },
   {
    "duration": 7,
    "start_time": "2024-08-26T14:01:26.738Z"
   },
   {
    "duration": 8,
    "start_time": "2024-08-26T14:06:56.175Z"
   },
   {
    "duration": 20,
    "start_time": "2024-08-26T14:07:02.017Z"
   },
   {
    "duration": 21,
    "start_time": "2024-08-26T14:07:09.495Z"
   },
   {
    "duration": 9,
    "start_time": "2024-08-26T14:07:32.882Z"
   },
   {
    "duration": 5,
    "start_time": "2024-08-26T14:08:20.346Z"
   },
   {
    "duration": 5,
    "start_time": "2024-08-26T14:09:10.497Z"
   },
   {
    "duration": 7,
    "start_time": "2024-08-26T14:11:43.588Z"
   },
   {
    "duration": 7,
    "start_time": "2024-08-26T14:31:04.418Z"
   },
   {
    "duration": 7,
    "start_time": "2024-08-26T14:32:03.415Z"
   },
   {
    "duration": 6,
    "start_time": "2024-08-26T14:46:13.815Z"
   },
   {
    "duration": 1061,
    "start_time": "2024-08-26T14:47:50.869Z"
   },
   {
    "duration": 5,
    "start_time": "2024-08-26T14:49:00.653Z"
   },
   {
    "duration": 7,
    "start_time": "2024-08-26T14:49:12.110Z"
   },
   {
    "duration": 27,
    "start_time": "2024-08-26T14:49:34.065Z"
   },
   {
    "duration": 6,
    "start_time": "2024-08-26T14:49:40.666Z"
   },
   {
    "duration": 6,
    "start_time": "2024-08-26T14:50:12.569Z"
   },
   {
    "duration": 7,
    "start_time": "2024-08-26T14:51:21.043Z"
   },
   {
    "duration": 7,
    "start_time": "2024-08-26T14:52:02.393Z"
   },
   {
    "duration": 7,
    "start_time": "2024-08-26T14:52:12.043Z"
   },
   {
    "duration": 7,
    "start_time": "2024-08-26T14:52:51.312Z"
   },
   {
    "duration": 8,
    "start_time": "2024-08-26T14:53:12.307Z"
   },
   {
    "duration": 7,
    "start_time": "2024-08-26T14:55:15.254Z"
   },
   {
    "duration": 7,
    "start_time": "2024-08-26T14:55:17.097Z"
   },
   {
    "duration": 7,
    "start_time": "2024-08-26T14:55:19.732Z"
   },
   {
    "duration": 5103,
    "start_time": "2024-08-26T15:24:00.500Z"
   },
   {
    "duration": 60,
    "start_time": "2024-08-26T15:24:05.608Z"
   },
   {
    "duration": 39,
    "start_time": "2024-08-26T15:24:05.678Z"
   },
   {
    "duration": 50,
    "start_time": "2024-08-26T15:24:05.725Z"
   },
   {
    "duration": 19,
    "start_time": "2024-08-26T15:24:05.779Z"
   },
   {
    "duration": 35,
    "start_time": "2024-08-26T15:24:05.801Z"
   },
   {
    "duration": 33,
    "start_time": "2024-08-26T15:24:05.839Z"
   },
   {
    "duration": 45,
    "start_time": "2024-08-26T15:24:05.878Z"
   },
   {
    "duration": 31,
    "start_time": "2024-08-26T15:24:05.927Z"
   },
   {
    "duration": 28,
    "start_time": "2024-08-26T15:24:05.964Z"
   },
   {
    "duration": 48,
    "start_time": "2024-08-26T15:24:05.995Z"
   },
   {
    "duration": 22,
    "start_time": "2024-08-26T15:24:06.047Z"
   },
   {
    "duration": 54,
    "start_time": "2024-08-26T15:24:06.072Z"
   },
   {
    "duration": 394,
    "start_time": "2024-08-26T15:24:06.129Z"
   },
   {
    "duration": 13,
    "start_time": "2024-08-26T15:24:06.526Z"
   },
   {
    "duration": 13,
    "start_time": "2024-08-26T15:24:06.542Z"
   },
   {
    "duration": 27,
    "start_time": "2024-08-26T15:24:06.558Z"
   },
   {
    "duration": 12,
    "start_time": "2024-08-26T15:24:06.625Z"
   },
   {
    "duration": 12,
    "start_time": "2024-08-26T15:24:06.643Z"
   },
   {
    "duration": 11,
    "start_time": "2024-08-26T15:24:06.658Z"
   },
   {
    "duration": 50,
    "start_time": "2024-08-26T15:24:06.672Z"
   },
   {
    "duration": 11,
    "start_time": "2024-08-26T15:24:06.726Z"
   },
   {
    "duration": 18,
    "start_time": "2024-08-26T15:24:06.740Z"
   },
   {
    "duration": 23,
    "start_time": "2024-08-26T15:24:06.761Z"
   },
   {
    "duration": 43,
    "start_time": "2024-08-26T15:24:06.787Z"
   },
   {
    "duration": 13,
    "start_time": "2024-08-26T15:24:06.833Z"
   },
   {
    "duration": 28,
    "start_time": "2024-08-26T15:24:06.849Z"
   },
   {
    "duration": 75,
    "start_time": "2024-08-26T15:24:06.887Z"
   },
   {
    "duration": 8,
    "start_time": "2024-08-26T15:24:06.965Z"
   },
   {
    "duration": 510,
    "start_time": "2024-08-26T15:24:06.977Z"
   },
   {
    "duration": 359,
    "start_time": "2024-08-26T15:24:07.490Z"
   },
   {
    "duration": 920,
    "start_time": "2024-08-26T15:24:07.852Z"
   },
   {
    "duration": 33,
    "start_time": "2024-08-26T15:24:08.774Z"
   },
   {
    "duration": 16,
    "start_time": "2024-08-26T15:24:08.811Z"
   },
   {
    "duration": 10,
    "start_time": "2024-08-26T15:24:08.830Z"
   },
   {
    "duration": 8,
    "start_time": "2024-08-26T15:24:08.843Z"
   },
   {
    "duration": 640,
    "start_time": "2024-08-26T15:24:08.854Z"
   },
   {
    "duration": 61,
    "start_time": "2024-08-26T15:24:09.496Z"
   },
   {
    "duration": 240,
    "start_time": "2024-08-26T15:24:09.562Z"
   },
   {
    "duration": 21,
    "start_time": "2024-08-26T15:24:09.806Z"
   },
   {
    "duration": 55,
    "start_time": "2024-08-26T15:24:09.831Z"
   },
   {
    "duration": 489,
    "start_time": "2024-08-26T15:24:09.890Z"
   },
   {
    "duration": 18,
    "start_time": "2024-08-26T15:24:10.382Z"
   },
   {
    "duration": 8,
    "start_time": "2024-08-26T15:24:10.422Z"
   },
   {
    "duration": 45,
    "start_time": "2024-08-26T15:24:10.433Z"
   },
   {
    "duration": 57,
    "start_time": "2024-08-26T15:24:10.481Z"
   },
   {
    "duration": 40,
    "start_time": "2024-08-26T15:24:10.541Z"
   },
   {
    "duration": 43,
    "start_time": "2024-08-26T15:24:10.584Z"
   },
   {
    "duration": 20,
    "start_time": "2024-08-26T15:24:10.632Z"
   },
   {
    "duration": 17,
    "start_time": "2024-08-26T15:24:10.655Z"
   },
   {
    "duration": 281,
    "start_time": "2024-08-26T15:24:10.675Z"
   },
   {
    "duration": 311,
    "start_time": "2024-08-26T15:24:10.959Z"
   },
   {
    "duration": 13,
    "start_time": "2024-08-26T15:24:11.273Z"
   },
   {
    "duration": 33,
    "start_time": "2024-08-26T15:24:11.290Z"
   },
   {
    "duration": 11,
    "start_time": "2024-08-26T15:24:11.326Z"
   },
   {
    "duration": 11,
    "start_time": "2024-08-26T15:24:11.340Z"
   },
   {
    "duration": 13,
    "start_time": "2024-08-26T15:24:11.355Z"
   },
   {
    "duration": 52,
    "start_time": "2024-08-26T15:24:11.372Z"
   },
   {
    "duration": 12,
    "start_time": "2024-08-26T15:24:11.428Z"
   },
   {
    "duration": 14,
    "start_time": "2024-08-26T15:24:11.443Z"
   },
   {
    "duration": 11,
    "start_time": "2024-08-26T15:24:11.460Z"
   },
   {
    "duration": 51,
    "start_time": "2024-08-26T15:24:11.475Z"
   },
   {
    "duration": 9,
    "start_time": "2024-08-26T15:24:11.530Z"
   },
   {
    "duration": 8,
    "start_time": "2024-08-26T15:24:11.543Z"
   },
   {
    "duration": 10,
    "start_time": "2024-08-26T15:24:11.554Z"
   },
   {
    "duration": 10,
    "start_time": "2024-08-26T15:24:11.566Z"
   },
   {
    "duration": 8,
    "start_time": "2024-08-26T15:24:11.623Z"
   },
   {
    "duration": 13,
    "start_time": "2024-08-26T15:24:11.634Z"
   },
   {
    "duration": 13,
    "start_time": "2024-08-26T15:24:11.650Z"
   },
   {
    "duration": 2442,
    "start_time": "2024-08-28T13:19:40.186Z"
   },
   {
    "duration": 45,
    "start_time": "2024-08-28T13:19:42.630Z"
   },
   {
    "duration": 20,
    "start_time": "2024-08-28T13:19:42.678Z"
   },
   {
    "duration": 20,
    "start_time": "2024-08-28T13:19:42.700Z"
   },
   {
    "duration": 9,
    "start_time": "2024-08-28T13:19:42.721Z"
   },
   {
    "duration": 8,
    "start_time": "2024-08-28T13:19:42.732Z"
   },
   {
    "duration": 15,
    "start_time": "2024-08-28T13:19:42.741Z"
   },
   {
    "duration": 9,
    "start_time": "2024-08-28T13:19:42.757Z"
   },
   {
    "duration": 13,
    "start_time": "2024-08-28T13:19:42.767Z"
   },
   {
    "duration": 44,
    "start_time": "2024-08-28T13:19:42.785Z"
   },
   {
    "duration": 12,
    "start_time": "2024-08-28T13:19:42.830Z"
   },
   {
    "duration": 11,
    "start_time": "2024-08-28T13:19:42.843Z"
   },
   {
    "duration": 10,
    "start_time": "2024-08-28T13:19:42.855Z"
   },
   {
    "duration": 191,
    "start_time": "2024-08-28T13:19:42.867Z"
   },
   {
    "duration": 6,
    "start_time": "2024-08-28T13:19:43.060Z"
   },
   {
    "duration": 5,
    "start_time": "2024-08-28T13:19:43.068Z"
   },
   {
    "duration": 11,
    "start_time": "2024-08-28T13:19:43.075Z"
   },
   {
    "duration": 4,
    "start_time": "2024-08-28T13:19:43.088Z"
   },
   {
    "duration": 32,
    "start_time": "2024-08-28T13:19:43.094Z"
   },
   {
    "duration": 5,
    "start_time": "2024-08-28T13:19:43.129Z"
   },
   {
    "duration": 7,
    "start_time": "2024-08-28T13:19:43.135Z"
   },
   {
    "duration": 6,
    "start_time": "2024-08-28T13:19:43.144Z"
   },
   {
    "duration": 12,
    "start_time": "2024-08-28T13:19:43.152Z"
   },
   {
    "duration": 12,
    "start_time": "2024-08-28T13:19:43.166Z"
   },
   {
    "duration": 4,
    "start_time": "2024-08-28T13:19:43.179Z"
   },
   {
    "duration": 40,
    "start_time": "2024-08-28T13:19:43.184Z"
   },
   {
    "duration": 9,
    "start_time": "2024-08-28T13:19:43.227Z"
   },
   {
    "duration": 21,
    "start_time": "2024-08-28T13:19:43.241Z"
   },
   {
    "duration": 4,
    "start_time": "2024-08-28T13:19:43.264Z"
   },
   {
    "duration": 295,
    "start_time": "2024-08-28T13:19:43.270Z"
   },
   {
    "duration": 142,
    "start_time": "2024-08-28T13:19:43.567Z"
   },
   {
    "duration": 457,
    "start_time": "2024-08-28T13:19:43.711Z"
   },
   {
    "duration": 17,
    "start_time": "2024-08-28T13:19:44.170Z"
   },
   {
    "duration": 8,
    "start_time": "2024-08-28T13:19:44.189Z"
   },
   {
    "duration": 3,
    "start_time": "2024-08-28T13:19:44.199Z"
   },
   {
    "duration": 5,
    "start_time": "2024-08-28T13:19:44.203Z"
   },
   {
    "duration": 319,
    "start_time": "2024-08-28T13:19:44.209Z"
   },
   {
    "duration": 23,
    "start_time": "2024-08-28T13:19:44.529Z"
   },
   {
    "duration": 119,
    "start_time": "2024-08-28T13:19:44.553Z"
   },
   {
    "duration": 5,
    "start_time": "2024-08-28T13:19:44.674Z"
   },
   {
    "duration": 21,
    "start_time": "2024-08-28T13:19:44.681Z"
   },
   {
    "duration": 246,
    "start_time": "2024-08-28T13:19:44.703Z"
   },
   {
    "duration": 9,
    "start_time": "2024-08-28T13:19:44.951Z"
   },
   {
    "duration": 4,
    "start_time": "2024-08-28T13:19:44.962Z"
   },
   {
    "duration": 21,
    "start_time": "2024-08-28T13:19:44.967Z"
   },
   {
    "duration": 36,
    "start_time": "2024-08-28T13:19:44.989Z"
   },
   {
    "duration": 21,
    "start_time": "2024-08-28T13:19:45.026Z"
   },
   {
    "duration": 10,
    "start_time": "2024-08-28T13:19:45.048Z"
   },
   {
    "duration": 5,
    "start_time": "2024-08-28T13:19:45.060Z"
   },
   {
    "duration": 8,
    "start_time": "2024-08-28T13:19:45.066Z"
   },
   {
    "duration": 155,
    "start_time": "2024-08-28T13:19:45.075Z"
   },
   {
    "duration": 154,
    "start_time": "2024-08-28T13:19:45.232Z"
   },
   {
    "duration": 6,
    "start_time": "2024-08-28T13:19:45.388Z"
   },
   {
    "duration": 6,
    "start_time": "2024-08-28T13:19:45.396Z"
   },
   {
    "duration": 23,
    "start_time": "2024-08-28T13:19:45.404Z"
   },
   {
    "duration": 8,
    "start_time": "2024-08-28T13:19:45.429Z"
   },
   {
    "duration": 6,
    "start_time": "2024-08-28T13:19:45.438Z"
   },
   {
    "duration": 5,
    "start_time": "2024-08-28T13:19:45.446Z"
   },
   {
    "duration": 5,
    "start_time": "2024-08-28T13:19:45.453Z"
   },
   {
    "duration": 6,
    "start_time": "2024-08-28T13:19:45.460Z"
   },
   {
    "duration": 6,
    "start_time": "2024-08-28T13:19:45.468Z"
   },
   {
    "duration": 5,
    "start_time": "2024-08-28T13:19:45.475Z"
   },
   {
    "duration": 61,
    "start_time": "2024-08-28T13:19:45.525Z"
   },
   {
    "duration": 4,
    "start_time": "2024-08-28T13:19:45.588Z"
   },
   {
    "duration": 4,
    "start_time": "2024-08-28T13:19:45.593Z"
   },
   {
    "duration": 6,
    "start_time": "2024-08-28T13:19:45.599Z"
   },
   {
    "duration": 3,
    "start_time": "2024-08-28T13:19:45.624Z"
   },
   {
    "duration": 5,
    "start_time": "2024-08-28T13:19:45.629Z"
   },
   {
    "duration": 6,
    "start_time": "2024-08-28T13:19:45.636Z"
   },
   {
    "duration": 4,
    "start_time": "2024-08-28T13:20:09.176Z"
   },
   {
    "duration": 4,
    "start_time": "2024-08-28T13:20:22.734Z"
   },
   {
    "duration": 5,
    "start_time": "2024-08-28T13:20:50.334Z"
   },
   {
    "duration": 786,
    "start_time": "2024-08-28T13:22:42.674Z"
   },
   {
    "duration": 23,
    "start_time": "2024-08-28T13:22:43.462Z"
   },
   {
    "duration": 20,
    "start_time": "2024-08-28T13:22:43.487Z"
   },
   {
    "duration": 33,
    "start_time": "2024-08-28T13:22:43.509Z"
   },
   {
    "duration": 9,
    "start_time": "2024-08-28T13:22:43.543Z"
   },
   {
    "duration": 7,
    "start_time": "2024-08-28T13:22:43.554Z"
   },
   {
    "duration": 15,
    "start_time": "2024-08-28T13:22:43.562Z"
   },
   {
    "duration": 10,
    "start_time": "2024-08-28T13:22:43.578Z"
   },
   {
    "duration": 41,
    "start_time": "2024-08-28T13:22:43.590Z"
   },
   {
    "duration": 13,
    "start_time": "2024-08-28T13:22:43.635Z"
   },
   {
    "duration": 11,
    "start_time": "2024-08-28T13:22:43.649Z"
   },
   {
    "duration": 11,
    "start_time": "2024-08-28T13:22:43.662Z"
   },
   {
    "duration": 10,
    "start_time": "2024-08-28T13:22:43.674Z"
   },
   {
    "duration": 239,
    "start_time": "2024-08-28T13:22:43.686Z"
   },
   {
    "duration": 6,
    "start_time": "2024-08-28T13:22:43.927Z"
   },
   {
    "duration": 4,
    "start_time": "2024-08-28T13:22:43.936Z"
   },
   {
    "duration": 12,
    "start_time": "2024-08-28T13:22:43.942Z"
   },
   {
    "duration": 3,
    "start_time": "2024-08-28T13:22:43.955Z"
   },
   {
    "duration": 7,
    "start_time": "2024-08-28T13:22:43.960Z"
   },
   {
    "duration": 2,
    "start_time": "2024-08-28T13:22:43.968Z"
   },
   {
    "duration": 7,
    "start_time": "2024-08-28T13:22:43.972Z"
   },
   {
    "duration": 47,
    "start_time": "2024-08-28T13:22:43.980Z"
   },
   {
    "duration": 6,
    "start_time": "2024-08-28T13:22:44.028Z"
   },
   {
    "duration": 12,
    "start_time": "2024-08-28T13:22:44.037Z"
   },
   {
    "duration": 5,
    "start_time": "2024-08-28T13:22:44.050Z"
   },
   {
    "duration": 7,
    "start_time": "2024-08-28T13:22:44.056Z"
   },
   {
    "duration": 10,
    "start_time": "2024-08-28T13:22:44.064Z"
   },
   {
    "duration": 58,
    "start_time": "2024-08-28T13:22:44.079Z"
   },
   {
    "duration": 5,
    "start_time": "2024-08-28T13:22:44.138Z"
   },
   {
    "duration": 247,
    "start_time": "2024-08-28T13:22:44.144Z"
   },
   {
    "duration": 143,
    "start_time": "2024-08-28T13:22:44.394Z"
   },
   {
    "duration": 450,
    "start_time": "2024-08-28T13:22:44.539Z"
   },
   {
    "duration": 16,
    "start_time": "2024-08-28T13:22:44.991Z"
   },
   {
    "duration": 10,
    "start_time": "2024-08-28T13:22:45.009Z"
   },
   {
    "duration": 5,
    "start_time": "2024-08-28T13:22:45.020Z"
   },
   {
    "duration": 4,
    "start_time": "2024-08-28T13:22:45.027Z"
   },
   {
    "duration": 312,
    "start_time": "2024-08-28T13:22:45.033Z"
   },
   {
    "duration": 22,
    "start_time": "2024-08-28T13:22:45.347Z"
   },
   {
    "duration": 118,
    "start_time": "2024-08-28T13:22:45.371Z"
   },
   {
    "duration": 7,
    "start_time": "2024-08-28T13:22:45.490Z"
   },
   {
    "duration": 28,
    "start_time": "2024-08-28T13:22:45.499Z"
   },
   {
    "duration": 231,
    "start_time": "2024-08-28T13:22:45.529Z"
   },
   {
    "duration": 10,
    "start_time": "2024-08-28T13:22:45.761Z"
   },
   {
    "duration": 3,
    "start_time": "2024-08-28T13:22:45.773Z"
   },
   {
    "duration": 23,
    "start_time": "2024-08-28T13:22:45.778Z"
   },
   {
    "duration": 26,
    "start_time": "2024-08-28T13:22:45.802Z"
   },
   {
    "duration": 74,
    "start_time": "2024-08-28T13:22:45.829Z"
   },
   {
    "duration": 22,
    "start_time": "2024-08-28T13:22:45.905Z"
   },
   {
    "duration": 6,
    "start_time": "2024-08-28T13:22:45.928Z"
   },
   {
    "duration": 7,
    "start_time": "2024-08-28T13:22:45.936Z"
   },
   {
    "duration": 147,
    "start_time": "2024-08-28T13:22:45.945Z"
   },
   {
    "duration": 148,
    "start_time": "2024-08-28T13:22:46.093Z"
   },
   {
    "duration": 6,
    "start_time": "2024-08-28T13:22:46.243Z"
   },
   {
    "duration": 6,
    "start_time": "2024-08-28T13:22:46.250Z"
   },
   {
    "duration": 6,
    "start_time": "2024-08-28T13:22:46.257Z"
   },
   {
    "duration": 6,
    "start_time": "2024-08-28T13:22:46.264Z"
   },
   {
    "duration": 5,
    "start_time": "2024-08-28T13:22:46.271Z"
   },
   {
    "duration": 6,
    "start_time": "2024-08-28T13:22:46.278Z"
   },
   {
    "duration": 6,
    "start_time": "2024-08-28T13:22:46.324Z"
   },
   {
    "duration": 5,
    "start_time": "2024-08-28T13:22:46.332Z"
   },
   {
    "duration": 6,
    "start_time": "2024-08-28T13:22:46.338Z"
   },
   {
    "duration": 5,
    "start_time": "2024-08-28T13:22:46.345Z"
   },
   {
    "duration": 5,
    "start_time": "2024-08-28T13:22:46.351Z"
   },
   {
    "duration": 4,
    "start_time": "2024-08-28T13:22:46.357Z"
   },
   {
    "duration": 4,
    "start_time": "2024-08-28T13:22:46.363Z"
   },
   {
    "duration": 5,
    "start_time": "2024-08-28T13:22:46.369Z"
   },
   {
    "duration": 49,
    "start_time": "2024-08-28T13:22:46.376Z"
   },
   {
    "duration": 3,
    "start_time": "2024-08-28T13:22:46.427Z"
   },
   {
    "duration": 4,
    "start_time": "2024-08-28T13:22:46.432Z"
   },
   {
    "duration": 4,
    "start_time": "2024-08-28T13:24:57.769Z"
   },
   {
    "duration": 790,
    "start_time": "2024-08-28T13:25:57.866Z"
   },
   {
    "duration": 23,
    "start_time": "2024-08-28T13:25:58.658Z"
   },
   {
    "duration": 20,
    "start_time": "2024-08-28T13:25:58.682Z"
   },
   {
    "duration": 32,
    "start_time": "2024-08-28T13:25:58.704Z"
   },
   {
    "duration": 10,
    "start_time": "2024-08-28T13:25:58.737Z"
   },
   {
    "duration": 7,
    "start_time": "2024-08-28T13:25:58.748Z"
   },
   {
    "duration": 15,
    "start_time": "2024-08-28T13:25:58.756Z"
   },
   {
    "duration": 10,
    "start_time": "2024-08-28T13:25:58.772Z"
   },
   {
    "duration": 42,
    "start_time": "2024-08-28T13:25:58.783Z"
   },
   {
    "duration": 11,
    "start_time": "2024-08-28T13:25:58.828Z"
   },
   {
    "duration": 11,
    "start_time": "2024-08-28T13:25:58.841Z"
   },
   {
    "duration": 11,
    "start_time": "2024-08-28T13:25:58.854Z"
   },
   {
    "duration": 10,
    "start_time": "2024-08-28T13:25:58.867Z"
   },
   {
    "duration": 235,
    "start_time": "2024-08-28T13:25:58.878Z"
   },
   {
    "duration": 13,
    "start_time": "2024-08-28T13:25:59.116Z"
   },
   {
    "duration": 5,
    "start_time": "2024-08-28T13:25:59.130Z"
   },
   {
    "duration": 11,
    "start_time": "2024-08-28T13:25:59.137Z"
   },
   {
    "duration": 3,
    "start_time": "2024-08-28T13:25:59.150Z"
   },
   {
    "duration": 6,
    "start_time": "2024-08-28T13:25:59.155Z"
   },
   {
    "duration": 5,
    "start_time": "2024-08-28T13:25:59.164Z"
   },
   {
    "duration": 6,
    "start_time": "2024-08-28T13:25:59.170Z"
   },
   {
    "duration": 5,
    "start_time": "2024-08-28T13:25:59.178Z"
   },
   {
    "duration": 6,
    "start_time": "2024-08-28T13:25:59.225Z"
   },
   {
    "duration": 12,
    "start_time": "2024-08-28T13:25:59.232Z"
   },
   {
    "duration": 5,
    "start_time": "2024-08-28T13:25:59.245Z"
   },
   {
    "duration": 6,
    "start_time": "2024-08-28T13:25:59.252Z"
   },
   {
    "duration": 10,
    "start_time": "2024-08-28T13:25:59.260Z"
   },
   {
    "duration": 53,
    "start_time": "2024-08-28T13:25:59.275Z"
   },
   {
    "duration": 6,
    "start_time": "2024-08-28T13:25:59.329Z"
   },
   {
    "duration": 236,
    "start_time": "2024-08-28T13:25:59.337Z"
   },
   {
    "duration": 146,
    "start_time": "2024-08-28T13:25:59.575Z"
   },
   {
    "duration": 449,
    "start_time": "2024-08-28T13:25:59.724Z"
   },
   {
    "duration": 18,
    "start_time": "2024-08-28T13:26:00.174Z"
   },
   {
    "duration": 8,
    "start_time": "2024-08-28T13:26:00.193Z"
   },
   {
    "duration": 4,
    "start_time": "2024-08-28T13:26:00.202Z"
   },
   {
    "duration": 3,
    "start_time": "2024-08-28T13:26:00.208Z"
   },
   {
    "duration": 315,
    "start_time": "2024-08-28T13:26:00.213Z"
   },
   {
    "duration": 22,
    "start_time": "2024-08-28T13:26:00.530Z"
   },
   {
    "duration": 118,
    "start_time": "2024-08-28T13:26:00.554Z"
   },
   {
    "duration": 6,
    "start_time": "2024-08-28T13:26:00.673Z"
   },
   {
    "duration": 20,
    "start_time": "2024-08-28T13:26:00.681Z"
   },
   {
    "duration": 250,
    "start_time": "2024-08-28T13:26:00.702Z"
   },
   {
    "duration": 10,
    "start_time": "2024-08-28T13:26:00.953Z"
   },
   {
    "duration": 5,
    "start_time": "2024-08-28T13:26:00.964Z"
   },
   {
    "duration": 20,
    "start_time": "2024-08-28T13:26:00.970Z"
   },
   {
    "duration": 34,
    "start_time": "2024-08-28T13:26:00.991Z"
   },
   {
    "duration": 74,
    "start_time": "2024-08-28T13:26:01.027Z"
   },
   {
    "duration": 25,
    "start_time": "2024-08-28T13:26:01.104Z"
   },
   {
    "duration": 6,
    "start_time": "2024-08-28T13:26:01.131Z"
   },
   {
    "duration": 8,
    "start_time": "2024-08-28T13:26:01.139Z"
   },
   {
    "duration": 150,
    "start_time": "2024-08-28T13:26:01.148Z"
   },
   {
    "duration": 151,
    "start_time": "2024-08-28T13:26:01.300Z"
   },
   {
    "duration": 7,
    "start_time": "2024-08-28T13:26:01.453Z"
   },
   {
    "duration": 6,
    "start_time": "2024-08-28T13:26:01.461Z"
   },
   {
    "duration": 5,
    "start_time": "2024-08-28T13:26:01.468Z"
   },
   {
    "duration": 6,
    "start_time": "2024-08-28T13:26:01.474Z"
   },
   {
    "duration": 6,
    "start_time": "2024-08-28T13:26:01.481Z"
   },
   {
    "duration": 40,
    "start_time": "2024-08-28T13:26:01.488Z"
   },
   {
    "duration": 5,
    "start_time": "2024-08-28T13:26:01.530Z"
   },
   {
    "duration": 6,
    "start_time": "2024-08-28T13:26:01.537Z"
   },
   {
    "duration": 5,
    "start_time": "2024-08-28T13:26:01.544Z"
   },
   {
    "duration": 4,
    "start_time": "2024-08-28T13:26:01.551Z"
   },
   {
    "duration": 4,
    "start_time": "2024-08-28T13:26:01.556Z"
   },
   {
    "duration": 4,
    "start_time": "2024-08-28T13:26:01.562Z"
   },
   {
    "duration": 5,
    "start_time": "2024-08-28T13:26:01.567Z"
   },
   {
    "duration": 50,
    "start_time": "2024-08-28T13:26:01.574Z"
   },
   {
    "duration": 4,
    "start_time": "2024-08-28T13:26:01.625Z"
   },
   {
    "duration": 4,
    "start_time": "2024-08-28T13:26:01.631Z"
   },
   {
    "duration": 5,
    "start_time": "2024-08-28T13:26:01.636Z"
   },
   {
    "duration": 2664,
    "start_time": "2024-08-28T16:32:07.435Z"
   },
   {
    "duration": 39,
    "start_time": "2024-08-28T16:32:10.102Z"
   },
   {
    "duration": 22,
    "start_time": "2024-08-28T16:32:10.143Z"
   },
   {
    "duration": 21,
    "start_time": "2024-08-28T16:32:10.167Z"
   },
   {
    "duration": 23,
    "start_time": "2024-08-28T16:32:10.192Z"
   },
   {
    "duration": 7,
    "start_time": "2024-08-28T16:32:10.217Z"
   },
   {
    "duration": 26,
    "start_time": "2024-08-28T16:32:10.226Z"
   },
   {
    "duration": 11,
    "start_time": "2024-08-28T16:32:10.254Z"
   },
   {
    "duration": 45,
    "start_time": "2024-08-28T16:32:10.267Z"
   },
   {
    "duration": 15,
    "start_time": "2024-08-28T16:32:10.314Z"
   },
   {
    "duration": 13,
    "start_time": "2024-08-28T16:32:10.330Z"
   },
   {
    "duration": 13,
    "start_time": "2024-08-28T16:32:10.345Z"
   },
   {
    "duration": 12,
    "start_time": "2024-08-28T16:32:10.360Z"
   },
   {
    "duration": 213,
    "start_time": "2024-08-28T16:32:10.377Z"
   },
   {
    "duration": 8,
    "start_time": "2024-08-28T16:32:10.592Z"
   },
   {
    "duration": 12,
    "start_time": "2024-08-28T16:32:10.613Z"
   },
   {
    "duration": 14,
    "start_time": "2024-08-28T16:32:10.627Z"
   },
   {
    "duration": 5,
    "start_time": "2024-08-28T16:32:10.643Z"
   },
   {
    "duration": 7,
    "start_time": "2024-08-28T16:32:10.650Z"
   },
   {
    "duration": 6,
    "start_time": "2024-08-28T16:32:10.659Z"
   },
   {
    "duration": 8,
    "start_time": "2024-08-28T16:32:10.667Z"
   },
   {
    "duration": 39,
    "start_time": "2024-08-28T16:32:10.677Z"
   },
   {
    "duration": 8,
    "start_time": "2024-08-28T16:32:10.718Z"
   },
   {
    "duration": 14,
    "start_time": "2024-08-28T16:32:10.728Z"
   },
   {
    "duration": 5,
    "start_time": "2024-08-28T16:32:10.743Z"
   },
   {
    "duration": 6,
    "start_time": "2024-08-28T16:32:10.750Z"
   },
   {
    "duration": 11,
    "start_time": "2024-08-28T16:32:10.758Z"
   },
   {
    "duration": 64,
    "start_time": "2024-08-28T16:32:10.770Z"
   },
   {
    "duration": 6,
    "start_time": "2024-08-28T16:32:10.836Z"
   },
   {
    "duration": 268,
    "start_time": "2024-08-28T16:32:10.844Z"
   },
   {
    "duration": 206,
    "start_time": "2024-08-28T16:32:11.114Z"
   },
   {
    "duration": 482,
    "start_time": "2024-08-28T16:32:11.323Z"
   },
   {
    "duration": 26,
    "start_time": "2024-08-28T16:32:11.808Z"
   },
   {
    "duration": 16,
    "start_time": "2024-08-28T16:32:11.836Z"
   },
   {
    "duration": 15,
    "start_time": "2024-08-28T16:32:11.857Z"
   },
   {
    "duration": 6,
    "start_time": "2024-08-28T16:32:11.874Z"
   },
   {
    "duration": 350,
    "start_time": "2024-08-28T16:32:11.882Z"
   },
   {
    "duration": 36,
    "start_time": "2024-08-28T16:32:12.234Z"
   },
   {
    "duration": 131,
    "start_time": "2024-08-28T16:32:12.272Z"
   },
   {
    "duration": 8,
    "start_time": "2024-08-28T16:32:12.412Z"
   },
   {
    "duration": 24,
    "start_time": "2024-08-28T16:32:12.426Z"
   },
   {
    "duration": 272,
    "start_time": "2024-08-28T16:32:12.452Z"
   },
   {
    "duration": 11,
    "start_time": "2024-08-28T16:32:12.727Z"
   },
   {
    "duration": 6,
    "start_time": "2024-08-28T16:32:12.740Z"
   },
   {
    "duration": 23,
    "start_time": "2024-08-28T16:32:12.748Z"
   },
   {
    "duration": 44,
    "start_time": "2024-08-28T16:32:12.773Z"
   },
   {
    "duration": 34,
    "start_time": "2024-08-28T16:32:12.819Z"
   },
   {
    "duration": 13,
    "start_time": "2024-08-28T16:32:12.855Z"
   },
   {
    "duration": 7,
    "start_time": "2024-08-28T16:32:12.870Z"
   },
   {
    "duration": 35,
    "start_time": "2024-08-28T16:32:12.879Z"
   },
   {
    "duration": 151,
    "start_time": "2024-08-28T16:32:12.916Z"
   },
   {
    "duration": 163,
    "start_time": "2024-08-28T16:32:13.070Z"
   },
   {
    "duration": 7,
    "start_time": "2024-08-28T16:32:13.235Z"
   },
   {
    "duration": 6,
    "start_time": "2024-08-28T16:32:13.244Z"
   },
   {
    "duration": 7,
    "start_time": "2024-08-28T16:32:13.253Z"
   },
   {
    "duration": 7,
    "start_time": "2024-08-28T16:32:13.262Z"
   },
   {
    "duration": 7,
    "start_time": "2024-08-28T16:32:13.271Z"
   },
   {
    "duration": 37,
    "start_time": "2024-08-28T16:32:13.279Z"
   },
   {
    "duration": 7,
    "start_time": "2024-08-28T16:32:13.318Z"
   },
   {
    "duration": 6,
    "start_time": "2024-08-28T16:32:13.327Z"
   },
   {
    "duration": 8,
    "start_time": "2024-08-28T16:32:13.335Z"
   },
   {
    "duration": 5,
    "start_time": "2024-08-28T16:32:13.345Z"
   },
   {
    "duration": 4,
    "start_time": "2024-08-28T16:32:13.352Z"
   },
   {
    "duration": 4,
    "start_time": "2024-08-28T16:32:13.358Z"
   },
   {
    "duration": 4,
    "start_time": "2024-08-28T16:32:13.413Z"
   },
   {
    "duration": 6,
    "start_time": "2024-08-28T16:32:13.419Z"
   },
   {
    "duration": 4,
    "start_time": "2024-08-28T16:32:13.427Z"
   },
   {
    "duration": 6,
    "start_time": "2024-08-28T16:32:13.433Z"
   },
   {
    "duration": 6,
    "start_time": "2024-08-28T16:32:13.440Z"
   }
  ],
  "kernelspec": {
   "display_name": "Python 3 (ipykernel)",
   "language": "python",
   "name": "python3"
  },
  "language_info": {
   "codemirror_mode": {
    "name": "ipython",
    "version": 3
   },
   "file_extension": ".py",
   "mimetype": "text/x-python",
   "name": "python",
   "nbconvert_exporter": "python",
   "pygments_lexer": "ipython3",
   "version": "3.13.2"
  },
  "toc": {
   "base_numbering": 1,
   "nav_menu": {},
   "number_sections": true,
   "sideBar": true,
   "skip_h1_title": true,
   "title_cell": "Tabla de Contenido",
   "title_sidebar": "Tabla de Contenido",
   "toc_cell": true,
   "toc_position": {
    "height": "calc(100% - 180px)",
    "left": "10px",
    "top": "150px",
    "width": "194.797px"
   },
   "toc_section_display": true,
   "toc_window_display": true
  }
 },
 "nbformat": 4,
 "nbformat_minor": 2
}
